{
 "cells": [
  {
   "cell_type": "code",
   "execution_count": 3,
   "id": "908bd376",
   "metadata": {},
   "outputs": [
    {
     "name": "stdout",
     "output_type": "stream",
     "text": [
      "안녕하세요....\n",
      "연습입니다.\n"
     ]
    }
   ],
   "source": [
    "### with 블럭과 인코딩 방식\n",
    "# \n",
    "# (형식)\n",
    "# with open(file,mode,encoding) as 참조변수: \n",
    "# pass # 참조 변수를 참조하여 작업 내용 지정\n",
    "\n",
    "try: \n",
    "    with open('data/test_text.txt','r',encoding='utf8')as f:\n",
    "        rbuf = f.read()\n",
    "        print(rbuf) \n",
    "    with open('data/test_text.txt','w',encoding='utf8')as f:\n",
    "        f.write(\"안녕하세요....\")\n",
    "        f.write(\"\\n연습입니다.\")\n",
    "        \n",
    "except Exception as e:\n",
    "    print(\"에러 발생 :\",e)"
   ]
  },
  {
   "cell_type": "code",
   "execution_count": 26,
   "id": "ac547e0c",
   "metadata": {},
   "outputs": [
    {
     "name": "stdout",
     "output_type": "stream",
     "text": [
      "['test2']\n",
      "/Users/yunbeen/Desktop/ybfolder/빅데이터:자바 자료/python /pythonproject/Day15/data/test\n",
      "['test2']\n",
      "['test2']\n",
      "/Users/yunbeen/Desktop/ybfolder/빅데이터:자바 자료/python /pythonproject/Day15/data/test\n",
      "/Users/yunbeen/Desktop/ybfolder/빅데이터:자바 자료/python /pythonproject/Day15/data\n"
     ]
    }
   ],
   "source": [
    "### 파일 시스템....\n",
    "## OS내에서 사용하는 정보를 얻거나 동작을 하는 함수들 \n",
    "## 사용하는 모듈 : os모듈\n",
    "# \n",
    "# [파일 및 디렉토리 관련 함수]\n",
    "# os.getcwd() : 현재 작업 디렉터리 위치를 반환 /Users/yunbeen/Desktop/ybfolder/빅데이터:자바 자료/python /pythonproject/Day15\n",
    "# os.chdir(path) : 현재 작업 디렉터리 위치를 변경 \n",
    "# os.listdir(path) : 경로의 해당하는 파일 디렉터리 목록 보여주기 ['.DS_Store', 'Day9.py', '__pycache__', 'calc.py', 'testpack', 'data']\n",
    "# os.remove(path) : 해당 파일을 삭제\n",
    "# os.rmdir(path) : 해당 디렉토리를 삭제(해당 디렉터리가 비어 있어야함 \n",
    "# os.makedirs(path) : 여러개의 디렉터리를 순차적으로 생성. 디렉터리가 존재하는 경우에는 예외처리됨\n",
    "# os.removedirs(path) : 여러개의 디렉터리를 순차적으로 삭제\n",
    "# os.rename(src,dst) : 파일이나 디렉터리의 이름(src)을 dst로 변경\n",
    "\n",
    "import os\n",
    "try:\n",
    "    # 현재 작업 위치 \n",
    "    os.getcwd() \n",
    "\n",
    "    # 작업 디렉터리 변경\n",
    "    #os.chdir('data')\n",
    "\n",
    "    # 현재 작업 디렉터리 목록 -> 리스트로 반환\n",
    "    os.listdir('./')\n",
    "\n",
    "    # 디렉터리 생성 : 'test'생성 \n",
    "    #os.mkdir('test') \n",
    "    lst = os.listdir('./')\n",
    "    print(lst)\n",
    "    \n",
    "    # 디렉토리 이동 : test\n",
    "    #os.chdir('test')\n",
    "    print(os.getcwd())\n",
    "    \n",
    "    # 여러 디렉토리 생성 : test2,test3\n",
    "    #os.makedirs('test2/test3')\n",
    "    print(os.listdir('./'))\n",
    "    \n",
    "    \n",
    "    #os.chdir('test2')\n",
    "    print(os.listdir('./')) \n",
    "    \n",
    "    \n",
    "    # 디렉토리 삭제\n",
    "    # os.chdir('../')\n",
    "    print(os.getcwd())\n",
    "    # os.rmdir('test2/test3') # Directory not empty: 'test2'\n",
    "    # print(os.listdir('test2')) # []\n",
    "    \n",
    "    ## 여러개의 디렉터리를 삭제 : test,test2 \n",
    "    os.getcwd()\n",
    "    \n",
    "    os.chdir('/Users/yunbeen/Desktop/ybfolder/빅데이터:자바 자료/python /pythonproject/Day15/data')\n",
    "    print(os.getcwd()) \n",
    "    os.removedirs('test/test2')\n",
    "    \n",
    "except Exception as e:\n",
    "    print(\"에러 발생:\",e)\n"
   ]
  },
  {
   "cell_type": "code",
   "execution_count": 9,
   "id": "f40a2b07",
   "metadata": {},
   "outputs": [],
   "source": [
    "import os\n",
    "# os.getcwd('../')\n",
    "# os.chdir('data')\n",
    "#os.listdir('data') \n",
    "#os.remove('data/test_text.1.txt')\n"
   ]
  },
  {
   "cell_type": "code",
   "execution_count": 38,
   "id": "ff350941",
   "metadata": {},
   "outputs": [
    {
     "data": {
      "text/plain": [
       "'/Users/yunbeen/Desktop/ybfolder/빅데이터:자바 자료/python /test/test.txt'"
      ]
     },
     "execution_count": 38,
     "metadata": {},
     "output_type": "execute_result"
    }
   ],
   "source": [
    "## 경로 관련 함수 \n",
    "# os.path.abspath(path) : 현재 경로를 기준으로 절대경로를 반환\n",
    "# os.path.dirname(path) : 현재 경로를 기준으로 파일 또는 디렉터리 경로를 알려줌\n",
    "# os.path.getsize(path) : 현재 경로의 파일에 대한 크기\n",
    "# os.path.exists(path) : 현재 경로가 존재하면 True, 존재하지 않으면 False를 반환\n",
    "# os.path.isfile(path) : 현재 경로가 파일이면 True, 파일이 아니면 False를 반환 \n",
    "# os.path.isdir(path) : 현재 경로가 디렉터리이면 True, 아니면 False를 반환 \n",
    "# os.path.split(path) : 현재 경로를 디렉터리와 파일로 분리하여 튜플로 반환\n",
    "# os.path.join(path1[,path2[,.....]]) : 경로와 경로를 하나로 연결\n",
    "\n",
    "import os.path\n",
    "\n",
    "# 현재 경로 확인\n",
    "os.chdir('/Users/yunbeen/Desktop/ybfolder/빅데이터:자바 자료/python /pythonproject/Day15') \n",
    "os.getcwd() \n",
    "\n",
    "# 파일이나 디렉토리 절대 경로\n",
    "os.path.abspath('data/test_text.txt')\n",
    "\n",
    "# 파일이나 디렉토리 이름 확인\n",
    "os.path.dirname('data/test_text.txt') # data\n",
    "\n",
    "# 파일이나 디렉토리 존재 확인\n",
    "os.path.exists('/Users/yunbeen/Desktop/ybfolder/빅데이터:자바 자료/python /pythonproject/Day3')\n",
    "os.path.exists('../Day13')\n",
    "os.path.exists('../Day14/Day14.ipynb')\n",
    "\n",
    "# 파일 디렉토리 유무 확인\n",
    "os.path.isfile('../Day14')  \n",
    "os.path.isdir('../Day14')  \n",
    "\n",
    "# 경로 정보의 디렉토리와 파일을 분리\n",
    "os.path.split('/Users/yunbeen/Desktop/ybfolder/빅데이터:자바 자료/python /pythonproject/Day3/Day3.py') \n",
    "\n",
    "# 경로 정보를 통한 디렉토리와 파일 결합(맥북은 /로 나오지만 윈도우는 \\\\로 인식한다.ex)c://test\\\\test.txt )\n",
    "os.path.join('/Users/yunbeen/Desktop/ybfolder/빅데이터:자바 자료/python /test','test.txt') \n",
    "# '/Users/yunbeen/Desktop/ybfolder/빅데이터:자바 자료/python /test/test.txt'\n",
    "\n",
    "\n"
   ]
  },
  {
   "cell_type": "code",
   "execution_count": 50,
   "id": "548036cc",
   "metadata": {},
   "outputs": [
    {
     "name": "stdout",
     "output_type": "stream",
     "text": [
      "/Users/yunbeen/Desktop/ybfolder/빅데이터:자바 자료/python /pythonproject/Day15\n",
      "['first', 'second']\n",
      "first_txt 파일 길이 : 10\n",
      "second_txt 파일 길이 : 10\n",
      "tot_texts 길이 : 20\n",
      "[\"maroon thinks that roger's wife , jessica's , possible unfaithfulness to him might be the cause of distraction and tells eddie to get some photos of her in the act before it costs him any more money in reshoots . \\nvaliant takes some photos of jessica playing , `patty cake' with marvin acme ( stubby kaye ) , the owner of toontown ( where all of the cartoon characters live ) and takes them to maroon . \\nupon seeing them , roger is emotionally destroyed and soon after acme is found dead and roger rabbit is the prime suspect . \\nthe rest of the movie follows valiant and roger as they run around town ( and eventually toontown ) trying to clear roger's good name . \\nalong the way they meet judge doom ( christopher lloyd ) a judge-jury-and executioner type who's out to get roger and has discovered the one and only way to kill a `toon . ' \\n`who framed roger rabbit' won 4 academy awards including a special achievement award for richard williams for animation direction and creation of the cartoon characters ( williams and his teams went through the film frame by frame and hand drew the cartoon characters in ) . \\ndirector robert zemekis must be given an equal amount of praise for overseeing the entire production , which included hundreds of animators . \\nalso bob hoskins' performance should be credited. \", \"vail himself is a former prosecutor , and quit because of tensions between himself and the district attorney , played very well by john mahoney ( frasier's father on the tv series ) . \\nthere is an underlying theme of dichotomy in the movie : people have public faces , and private faces . \\nwe see this in the murdered archbishop, in the accused , and , most strongly , defense attorney martin vail . \\nrichard gere does a fairly good job. \\nat first , he appears to be a money- and attention-grabbing lawyer, with no consideration of the truth . \\nbut we see another side, as he becomes a seeker of justice, and comes to believe in his client. \\nalfre woodard , as the judge, is capable, though somewhat wasted in a standard role. \\nlaura linney also does journeyman work ; nothing spectacular, but acceptable. \", \"to me , any movie with russian-sounding accents for bad guys , jamaican accents for good guys , and middle eastern-sounding accents for seedy gamblers accents can be expected to be more tongue in cheek than profound . \\nvisually , star wars : episode i --the phantom menace ( 1999 ) is a kid show where parents can take their young ones to marvel at child-friendly cgi characters and wondrous backdrops even if the character dialogue ( mostly geopolitics ) is beyond the level of children . \\nit is left to parents to patiently explain the conversation : droid origins , family lineage , the definitions of terms like blockade , appeasement , federation , alliance , symbiosis , satellite-controlled robots et cetera . \\nat least this much is clear : there's plenty of eye candy , and in the last few minutes it's good guys and joe camel lookalikes versus a caped , horned red devil character and his mechanical hordes . \\nweaknesses : weaknesses lie in the writing and in the performance . \\nat first it seems like the film is to be an invasion story , but then phantom takes an hour-long detour to cover one chariot race before returning to the invasion theme . \\nthis dilutes the central story . \\nadditionally , smaller scenes seem written self consciously , as if they were added more to fill us in on extraneous background information for other movies rather than form an integral part of the present movie . \\nveteran actors liam neeson and ewan mcgregor noticeably outperform the other acting leads .\", \"writer oliver stone and director brian de palma make an explosive combination here . \\nstone's script offers solid storytelling and some fine character development . \\nmontana is fascinating ; uneducated but calculating , a straight shooter who speaks from the heart ; an ambitious , violent man yet one with a conscience . \\na man fiercely protective of his beautiful 20 year old sister , not wanting her to be sucked into the glitzy , dangerous world which he inhabits . \\npacino is dynamite , taking to the role with a brooding , bristling energy which in his more recent films has often degenerated into just simple overracting . \\npfeiffer also registers strongly as the gangstar mole with no inner life . \\nonly once does tony express real affection for her and his desire to have children , and even then you sense all he really wants is a regular screw and a beautiful object to show off to his friends , and she's happy to oblige . \\nthis isn't as meaty a role for pfieffer as sharon stone's was in casino , but its an effective one nonetheless and she aquits herself well . \\nas director , de palma sets up a number of dramatic scenes with his typical stylistic brauva . \\nthe escalating tension he creates in various mob situations - a drug deal gone wrong , an assination attempt - is often thrilling , and in this respect he is every bit the equal of scorese and coppola . \\nwhere he differs from , say , coppola's godfather trilogy is in his overall treatment . \\ncoppola gives his crime sagas an operatic sweep , whereas in scarface de palma opts for a grittier feel . \\nand it perfectly suits the material. \", 'the acting and direction is top-notch -- never sappy , always touching . \\na friend of mine once reported that he avoided it because \" i was afraid it would just be really politically correct , and tick me off . \" \\nall i could do was tell him to go in unbiased , and enjoy. \\nit is one of the few movies that has completely reduced me to tears. \\nbut certain memories should not often be rereleased -- in the last few shots , you have to cry. ', 'john believes that his mother is somehow connected to his failed relationships with women , either because of his flawed self-esteem caused by his need for validation , or perhaps because he tends to unconsciously seek out women who remind him of his mother in an oedipal manner . \\nhe comes to the conclusion that since his problems are rooted in his boyhood home , he should move back in with his mother for a while just to see what kinds of feelings come out , and by that be able to sort out why his life is the way it is . \\n \" a great experiment \" , he calls it . \\nbrooks\\' own brand of humor really shines in this film , especially in the interaction john has with his mother . \\nthere\\'s a scene where john has just arrived at his mother\\'s house , and after having driven from los angeles to sausalito , and having explained to his mother about the \" great experiment \" , beatrice asks , \" now explain to me again why you don\\'t want to stay at a hotel . \" \\nshe still doesn\\'t get it , and it is absolutely hilarious . \\nin the same scene , we get little glances at the life his mother leads when she tries to feed him food that is no longer fresh . \\nshe apparently buys in great quantities and refrigerates it until the lettuce is wilted and the sherbet is iced over . \\nwhen john points out the ice on the sherbet , beatrice tells him not to worry about the protective glaze . ', 'who cowrote the script with emmanuelle bernheim , marcia romano , and marina de van , has turned in a more mature work than his previous , creepy \" see the sea . \" \\nwhile he cleverly never lets us see jean enter the water that fateful day , leaving a number of possibilities - accident ? , suicide ? , escape ? \\n- open , he definitely tips his hand towards a certain outcome . \\ncinematography by antoine hiberli and jeanne lapoirie glides around marie or captures rampling\\'s exotic face in mood divining closeup . \\nin an inventive fantasy scene , marie imagines jean\\'s hands massaging her feet while in a state of auto-arousal . \\nhis two hands become four , then more combined with her own , becoming almost a one person orgy and recalling roman polanski\\'s \" repulsion . \" \\noriginal music by philippe rombi quietly adds to the overall melancholy. ', 'it shouldn\\'t have surprised me , then , that kundun , a film about a mystical religion , actually turned out to be quite straightforward . \\nthe movie follows the life of the 14th dalai lama , the spiritual and political leader of tibet . \\nthe movie\\'s title is another name for the dalai lama which means \" ocean of wisdom . \" \\nhis story is told in strict chronological order and there are only a few cinematic visions to embellish the literal story . \\n ( one of which makes an interesting statement : pay attention to the film\\'s opening shot and watch where it is repeated . ) \\nwe first glimpse the dalai lama when he is two years old. \\nhis curiosity and self-assuredness capture the attention of a monk wandering in search of the new lama . \\na test is arranged to see if this boy really is the reincarnation of the 13 dalai lamas who have gone before . \\nseveral items belonging to the previous dalai lama are laid before the boy alongside some other items . \\nthe child is asked if he recognizes any of the items as his own.', 'kiki comes to realize not only the beauty of her surroundings , but the innate beauty inside her . \\nseeing kiki regain faith in herself is marvelous , and the principal device used to do it is so sublime that i don\\'t even want to hint at it . \\nthe ending of the movie has a subtle charm combined with a sense of awe and , ironically , the most disney-esque moment i\\'ve ever seen ; if you don\\'t hold your breath in wonder you might want to get medical attention . \\nthe movie steers free of many of the disney conventions : there is no violence , however cartoonish , no song-and-dance number , and kiki\\'s pet cat jiji is more a friend than a comedic sidekick , although jiji is given many funny lines and scenes . \\nhowever , i would be surprised if disney doesn\\'t give jiji more jokes , or at least the voice of some comedian . \\nrefreshingly enough , the moral lesson of the movie is not self-contradicted , a habit disney movies have gotten into . \\n \" beauty and the beast \" \\'s beautiful belle , for instance , learned that beauty was derived from a person\\'s inside , and was then rewarded by having the beast turn into a handsome prince in snazzy clothing . \\nkiki , on the other hand , learns to separate her wardrobe from her self-image , and nothing more is made of her early desires for better clothing than illustrating her increased maturity at the end of the film . \\nanother difference with disney movies is in the style of animation for \" kiki\\'s delivery service \" : not as colorful and dynamic as disney animation can be , but with a greater attention to realism and detail , it fits the movie to a t . this is particularly true with scenes of kiki\\'s flights . \\nthe extreme realism of the birds in flight near kiki is magnificent to behold , and helps these scenes capture the wonder of flight better than any other film i\\'ve ever seen . \\ni\\'m not sure when or how this movie will be released in the united states. ', \"we see matthew broderick , a man torn to a primal state ; he's been unfaithful to his wife , lied to and manipulated his students , and by the same token they've demeaned his masculinity , his self-respect , his desperate attempt at changing the world . \\nand yet , he equates the cause of his pain , his torment , with tracy flick ( reese witherspoon ) . \\nno matter how many students have come and gone , and disappointed him as an educator , she's the real threat . \\nabout to give in , and divulge that she's won by only a lone vote , broderick's mccalister turns in defeat , sees tracy's euphoric celebration in the outside corridor and says , 'no' . \\nthe fact that he simultaneously lusts after her ideologically further illustrates that freudian foundation of entitlement which all men , no matter how obscure , have in their relationships ; a traditional expectation of success , to usurp and surpass women as a proverbial industry . \\nshe can't go higher than him . \\nhe won't allow it. \", 'the background music keeps you in a state of urgency , and even suspense , for the first few conversations . \\nit\\'s only after repeated failures to pay any of this off that you lose all hope. \\nand with speeches like , \" i am thinking of something , but i can only think of that something when i am thinking of something else , \" how can you expect to hold anyone\\'s interest ? \\nto godard\\'s credit , he certainly knows how to frame a scene . \\nthe black and white footage used for the first half of the film is starkly beautiful. \\nwatching edgar read while walking along a train track on a mountain makes you wish you had something to ponder along with him . \\nand if this film had anything poignant to say , you would have , which makes you all the angrier at the numerous missed opportunities . \\nthe environments , be it city or country , are impeccably captured in crisp detail , but the script never complements them . \\nunfortunately , godard also manages to pillage his photographic eye by randomly cutting to black numerous times within any given scene . \\nsometimes these breaks are used for chapter headings , but these are even more cryptic than the spoken words . \\nthe second half is composed of nauseating hyper-color that often blurs the image. \\nyou suddenly feel like a doomed character straight out of scanners. ', 'it is obvious that columbus didn\\'t take them very seriously . \\nwhen you think about it , this film is not really meditating on the question \" when is a robot no longer a machine , but a human being ? \" , but tells a story about racial discrimination and lack of understanding . \\nandrew is so complex and emotional from the very beginning that the audience immediately accepts him as a human being , and only the society has troubles with it . \\nin other words , it is as far from reality as from the academy awards . \\nfurther more , there are other annoying problems . \\nto this day no serious filmmaker has dared to speculate about the future in more than 50 years from now . \\nthis has not been done for obvious reasons , because the filmmakers are well aware of the fact that they lack the knowledge and imagination to perform such a difficult task . \\ncolumbus is the first to have crossed that line . \\nthe result is , as you might imagine , primitive , unrealistic and incredibly disappointing effort . \\nthe world is simply frozen in time . \\nneither the society , fashion , culture or values have changed over 200 years . \\nmom is still working at the kitchen , doing the dishes . \\nwhen you think back to the late 17th century and then compare it to the world we live in today , you\\'ll see a slightly bigger difference . \\ni am not saying that everything should change . \\nit is unlikely that the human rights will change , but it\\'s even more unlikely that there will not be any progress in science , technology and fashion . \\ni suppose it\\'s possible to watch this as a some sort of bizarre fairytale , but it\\'s really hard . \\nrobin williams is hidden behind c and speaking in a robotic way . \\nas always he does a decent job , as does sam neill . \\nbut it doesn\\'t really matter. ', 'we, the audience , have been tipped off , given that the film begins by showing us eric ( trevor morgan , \" the patriot \" ) , a young boy , and ben ( mark harelik , \" election \" ) going for a paragliding adventure off that same island that goes awry ( and looks like cheesy rear projection ) . \\ngrant\\'s established back home with a new right hand man , billy brennan ( alessandro nivola , \" love\\'s labour\\'s lost \" ) on site at a dig in montana sorely lacking funds . \\nhe also pays a visit to old flame dr . ellie sattler ( laura dern , \" jurassic park \" ) , now married to another with a young son who calls grant \\'the dinosaur man\\' apparently for the sole purpose of dredging her up again for the film\\'s poorly imagined finale . \\ngrant takes billy along on the kirbys trip , which is really an illegal gambit to save their son , that young paraglider . \\nthe couple aren\\'t millionaires , making grant\\'s check bogus , and they\\'re separated as well ( eric was with amanda\\'s new boyfriend , not that that makes much sense ) , meaning we\\'re in for some gooey family dynamics while waiting for the dino dining . \\nthe kirbys hired hands ( and obvious bait ) are a threesome led by mr . udesky ( michael jeter , \" the gift \" ) . \\n ( didn\\'t anyone consider that casting michael jeter and william h . macy together and not having them be related was a little odd ? ) \\nas directed by joe johnston ( \" october sky , \" \" jumanji \" ) ( spielberg only produced this one ) from a risible script by peter buchman and the \" election \" team of alexander payne & jim taylor , \" jurassic park iii \" is nothing more than a quickie monster flick with a couple of new dinos ( a spinosauraus , which goes head to head with the t-rex , and pteranodons ) . \\nthe plot , as it were , is a series of coincidences combined with extreme leaps of faith and a trifecta of stupid cell phone tricks . \\nthe effects are no longer new , and , as shot by television cinematographer shelly johnson , rather murky looking at times . \\nfilm editing by robert dalva ( \" october sky \" ) was presumably done by machete , to keep this down to a 90 minute run time . \\ni know of no other reason to explain the ridiculous ending which features the survivors confronting a pack of raptors , then being saved by the most ludicrous of logic jumps within a few minutes . \\n\\'original\\' music by don davis just repeats john williams\\' original themes. ', 'while director steve miner has several horror films on his resume ( including two installments of \" friday the 13th \" and \" halloween h20 \" ) , screenwriter david kelley ( best known as the creator of tv series like \" ally mcbeal \" and \" chicago hope \" ) doesn\\'t seem to have the stomach for a chomp \\'em up flick . \\nthe body count is surprisingly low and doesn\\'t include any of the major characters , and most annoyingly kelly and hector insist that they capture the crocodile alive rather than killing it . \\n ( \" lake placid \" manages to have it both ways-i\\'ll let you discover how for yourself ) . \\nthe croc itself is mostly computer-generated , of course . \\nlike the snake in \" anaconda , \" the thirty-foot monster crocodile doesn\\'t seem real ; it moves too quickly and in ways that seem unnatural . \\n \" lake placid \" also offers little explanation for why a giant crocodile is in maine . \\nthere is a lot of semi-mystical mumbo jumbo about how \" we really don\\'t know much about crocodiles . \" \\nthey would have been better off going with something like the urban myth about alligators in the sewers . \\na movie like this doesn\\'t have to offer much of an explanation ( radioactive mutant ? \\ncreature from outer space ? ) , but it does have to give the audience something to hang their disbelief on . \\npullman and fonda seem to be plodding through the movie on auto-pilot . \\nmost of the time , they\\'re probably thinking about killing their agents or wondering if making this movie marks the end of their careers . \\nplatt and white , on the other hand , seem to be giving their best efforts , and they manage to squeeze a few chuckles out of this sorry script . \\n', 'either way , we get to see a lot of bottoms because the two beautiful women in the crew are both conveniently wearing hot pants during the scenes where the camera shoots upwards while they climb up ladders and -- in the ballroom scene -- christmas trees . \\nthus begins an hour or more of hushed trips down long corridors , through burning rooms , etc . while the ship slowly fills with water behind them . \\nit\\'s a race against the clock which is only mildly interesting . \\nthe poseidon adventure works more as a bad movie to laugh at , with all the melodrama that comes in-between the non-thrilling action scenes . \\nthe one note in borgnine\\'s one-note performance is to be a cranky old man that argues with hackman every step of the way while buttons and the hippie fall in love ( although since there isn\\'t a sex scene , we never find out if his buttons really are red ) and albertson and winters wonder if they\\'ll live to see their grandson\\'s birth . \\nshelley winters provides the most hilarious scene in the movie in a scene toward the end , where water has flooded the next two rooms of the ship and hackman is preparing to dive under with a rope for the rest of them to pull along . \\nwinters , who has been the whiny fat woman throughout the movie ( stevens even not-so- affectionately calls her \" fatass \" in one scene ) , finally finds her purpose . \\n \" i was the underwater swimming champ of new york three years running when i was seventeen , \" she brags , and before hackman can even ask her how she could be seventeen for three years , she\\'s swimming through the water , her skirt billowing up around her hips , showing off her cellulite ( or do you call it shellulite ? ) \\nridden thighs. ', 'state of the art effects fly at a mad pace in this $90 million dollar movie and yet director david kelogg never sets up a convincing atmosphere . \\nhad they replaced all the fancy gizmos with dollar bills they would have wound up with the same effect . \\nwhat we see on the screen is like the raw ingredients of a meal : all of the expensive f/x amounts to nothing . \\npart of the charm of the tv series was its sly irreverence which has gone down the toilet in the condescending movie . \\ncan kids really admire a hero so goody-two-shoes that he screams \" hey ! \\nyou ran a stop sign ! \" \\nwhile hanging off the back bumper of a quickly moving vehicle ? \\ni think that today\\'s children will respond better to somebody dashing , someone ultra-cool . \\nthey ( probably ) receive enough preaching from their parents and its an insult to their intelligence to assume that they want to go to an action movie to see a father figure kick butt . \\nin addition to the more complex complaints above , there\\'s also the simple stuff : inspector gadget is boring , formulaic and achingly implausible . \\nthere\\'s no feeling that the director really cares about his story : more than any other film i\\'ve seen this year , this one really feels like it was made on an assembly line . \\nthere\\'s a popular commercial ( for sprite , but that\\'s irrelevant ) running in movie theaters before features that spoofs the way major studios deal with projects . \\nit consists of studio suits discussing a fictitious ( thank god ) movie called \" death slug \". \\n', \"four of the biggest directors in hollywood : quentin tarantino , robert rodriguez , alexander rockwell , and alison anders were all directing one big film with a big and popular cast . \\ni guess it was all just too much because this turned out to be the biggest flop of the year and it could of been great . \\nthe plot : it's new years eve and it's a bellboy's first day on the job . \\nhe encounters many mysterious and kinky hotel guests as he tries to handle all his own problems . \\ntarantino told his directors this plot , and each of them wrote a script . \\nit turned out each of them had written a dark comedy . \\nanders wrote and directed the tale about a coven of witches ( madonna , valeria golino , alicia witt , and ione skye ) , which was the worst one out of all of them . \\nthe second room ( jennifer beals ) was better , but lacking in plot . \\nthis room was about a man who accuses every man of sleeping with his wife . \\nthe third room ( antonio banderas ) was the best roomm , about two rambunctous kids that trash a hotel suite . \\nthe final one ( tarantino , willis ) was about a movie star wanting the bellboy to chop off someone's finger . \\nthe movie was just plain trash. \", 'just that the comic setups are obvious and the payoffs nearly all fall flat . \\nthe four leads are nearly all playing the same character . \\nonly williams stands out ( while still performing on the level of his humor-free comedy rocket man ) , but that is because he\\'s imprisoned throughout most of the film , giving a much needed change of pace ( but mostly swapping one set of obvious gags for another ) . \\nto help out , the film is packed full of cameos . \\nsteven wright , tommy chong , janeane garofalo , willie nelson , snoop doggy dogg , and jon stewart all make appearances at one point or another . \\nnone of them work , beyond the simple \" hey , that\\'s _____ \" level . \\nin fact the funniest work in the film comes from chappelle . \\nnot as his bland pothead lead , but in his second role , as a pot-obsessed rapper , sir smokealot . \\ngranted , it\\'s pretty much a one-joke role , and there aren\\'t a ton of laughs . . . \\n', \"the sequence was there for a purpose : to evoke a strong emotional response from the viewer . \\ni'm usually a sucker for such scenes and yet this time , i was just sitting there , my emotions untouched . \\nthis remains true through all of the movie which remains emotionally barren . \\nwe never develop connections to the characters ; never given a reason to care . \\nthis ludicrously long epic was directed by andy tennant , whose last film was ever after , one of my favorites of 1998 . \\ni do not doubt tennant's ability to put together a decent movie , but anna and the king , aside from being psychologically inept is also technologically deficient . \\nthe sets and scenery are gorgeous , but the camerawork does nothing to convey its grandeur . \\neven terrence malick managed to do more with flora and fauna in his otherwise abysmal the thin red line than tennant can muster from $75 million worth of props and a shoot in malaysia . \\nwe feel like the camera is restricted to its immediate point of view ; there are no wide tracking shots or sweeping zooms to fill us with larger-than-life awe . \\ni liked both foster and yun-fat , who give entertaining if not terribly involving performances in the two lead roles . \\nfoster's generally stoic persona serves her well here , as she is playing a reserved , formal and rather underdeveloped character . \\nyun-fat is especially effective , perfectly conveying the king of siam's sangfroid permeated with violent outbursts . \\nwhat does anna and the king in is its inability to involve the viewer in its characters and situations . \\nthe cast is great , the director is talented , and the budget is lavish , but this ill-advised remake of the classic rogers and hammerstein movie is unable to utilize any of those things to form a compelling whole . \\nthis is an emotionless costume epic . \\n\", 'cohen had personal interest in the updated version of hammer , but heffron has none . \\nhe shot the movie quickly and clumsily , and although some scenes ring true , most of them are flat , trite , and invariably dull . \\nthe movie features numerous car chases , shoot-outs , and stunts , but heffron\\'s background in television is the dominant tone ; despite the graphic violence and full-frontal nudity , \" i , the jury , \" takes on the air of a made-for-tv quickie , with no real punch or depth . \\nbut the problems in \" i , the jury \" run deeper than the technical . \\nthe central fault in this updating is mike hammer , whose character was lost in the shuffle while updating from the fifties to the eighties . \\nbecause spillane wrote all his hammer mysteries in the first person , hammer\\'s character is central to the tale because all the events are filtered through his persona . \\nwe never really get that impression in the movie -- there is no first-person voice-over narration and some scenes don\\'t have hammer in them at all . \\nconsequently , a great deal of the texture of spillane\\'s storytelling is lost . \\nthe period updating turns out to be a detrimentally bad idea because much of hammer\\'s moral code is thrown to the wind . \\ndespite his characterization as a hard-nosed , violent , misogynistic killer , hammer always stuck fervently to his own moral code . \\nthe title itself , \" i , the jury , \" refers to his anti-establishment notion of being his own law . \\nunlike private eyes who seek out the bad guys and then turn them over the police , hammer both pursues the criminal and exacts the punishment . \\nin this way , he can be seen as \" above the law , \" but he still adheres strictly to her own personal code of conduct , his own morality . \\nthe movie forgoes that aspect of his character , and hammer comes off not only as amoral in society\\'s terms , but in any terms , especially his own . \\nif anything , hammer always had his professionalism , but the movie does away with that in the first three minutes by showing him rolling in the sack with the wife of a client who had paid him to find out if that wife was being unfaithful . \\nmaybe the scene was intended for laughs , but it only cheapens hammer\\'s character and is , by all accounts , a lousy way to start the movie . \\nthe blame for hammer\\'s character can\\'t be laid on assante\\'s shoulders , because despite some unnecessary marlon brandon-like mumbling , he delivers a fine performance . \\nspillane never once described hammer\\'s physical attributes in any of the dozen books in which he appeared , so any actor could conceivably portray him . \\nof course , because of the lack of written description , those who have read spillane\\'s books will have a strong personal notion of what hammer looks like , and therefore almost any screen incarnation will somehow fall short of expectations ( spillane , who played the character himself in 1963\\'s \" the girl hunters , \" is generally considered the best of the film hammers ) . \\nthe rest of actors are most un-noteworthy. ']\n",
      "pickle save!!!!!\n",
      "피클에서 tot_texts 읽어오기!!! [\"maroon thinks that roger's wife , jessica's , possible unfaithfulness to him might be the cause of distraction and tells eddie to get some photos of her in the act before it costs him any more money in reshoots . \\nvaliant takes some photos of jessica playing , `patty cake' with marvin acme ( stubby kaye ) , the owner of toontown ( where all of the cartoon characters live ) and takes them to maroon . \\nupon seeing them , roger is emotionally destroyed and soon after acme is found dead and roger rabbit is the prime suspect . \\nthe rest of the movie follows valiant and roger as they run around town ( and eventually toontown ) trying to clear roger's good name . \\nalong the way they meet judge doom ( christopher lloyd ) a judge-jury-and executioner type who's out to get roger and has discovered the one and only way to kill a `toon . ' \\n`who framed roger rabbit' won 4 academy awards including a special achievement award for richard williams for animation direction and creation of the cartoon characters ( williams and his teams went through the film frame by frame and hand drew the cartoon characters in ) . \\ndirector robert zemekis must be given an equal amount of praise for overseeing the entire production , which included hundreds of animators . \\nalso bob hoskins' performance should be credited. \", \"vail himself is a former prosecutor , and quit because of tensions between himself and the district attorney , played very well by john mahoney ( frasier's father on the tv series ) . \\nthere is an underlying theme of dichotomy in the movie : people have public faces , and private faces . \\nwe see this in the murdered archbishop, in the accused , and , most strongly , defense attorney martin vail . \\nrichard gere does a fairly good job. \\nat first , he appears to be a money- and attention-grabbing lawyer, with no consideration of the truth . \\nbut we see another side, as he becomes a seeker of justice, and comes to believe in his client. \\nalfre woodard , as the judge, is capable, though somewhat wasted in a standard role. \\nlaura linney also does journeyman work ; nothing spectacular, but acceptable. \", \"to me , any movie with russian-sounding accents for bad guys , jamaican accents for good guys , and middle eastern-sounding accents for seedy gamblers accents can be expected to be more tongue in cheek than profound . \\nvisually , star wars : episode i --the phantom menace ( 1999 ) is a kid show where parents can take their young ones to marvel at child-friendly cgi characters and wondrous backdrops even if the character dialogue ( mostly geopolitics ) is beyond the level of children . \\nit is left to parents to patiently explain the conversation : droid origins , family lineage , the definitions of terms like blockade , appeasement , federation , alliance , symbiosis , satellite-controlled robots et cetera . \\nat least this much is clear : there's plenty of eye candy , and in the last few minutes it's good guys and joe camel lookalikes versus a caped , horned red devil character and his mechanical hordes . \\nweaknesses : weaknesses lie in the writing and in the performance . \\nat first it seems like the film is to be an invasion story , but then phantom takes an hour-long detour to cover one chariot race before returning to the invasion theme . \\nthis dilutes the central story . \\nadditionally , smaller scenes seem written self consciously , as if they were added more to fill us in on extraneous background information for other movies rather than form an integral part of the present movie . \\nveteran actors liam neeson and ewan mcgregor noticeably outperform the other acting leads .\", \"writer oliver stone and director brian de palma make an explosive combination here . \\nstone's script offers solid storytelling and some fine character development . \\nmontana is fascinating ; uneducated but calculating , a straight shooter who speaks from the heart ; an ambitious , violent man yet one with a conscience . \\na man fiercely protective of his beautiful 20 year old sister , not wanting her to be sucked into the glitzy , dangerous world which he inhabits . \\npacino is dynamite , taking to the role with a brooding , bristling energy which in his more recent films has often degenerated into just simple overracting . \\npfeiffer also registers strongly as the gangstar mole with no inner life . \\nonly once does tony express real affection for her and his desire to have children , and even then you sense all he really wants is a regular screw and a beautiful object to show off to his friends , and she's happy to oblige . \\nthis isn't as meaty a role for pfieffer as sharon stone's was in casino , but its an effective one nonetheless and she aquits herself well . \\nas director , de palma sets up a number of dramatic scenes with his typical stylistic brauva . \\nthe escalating tension he creates in various mob situations - a drug deal gone wrong , an assination attempt - is often thrilling , and in this respect he is every bit the equal of scorese and coppola . \\nwhere he differs from , say , coppola's godfather trilogy is in his overall treatment . \\ncoppola gives his crime sagas an operatic sweep , whereas in scarface de palma opts for a grittier feel . \\nand it perfectly suits the material. \", 'the acting and direction is top-notch -- never sappy , always touching . \\na friend of mine once reported that he avoided it because \" i was afraid it would just be really politically correct , and tick me off . \" \\nall i could do was tell him to go in unbiased , and enjoy. \\nit is one of the few movies that has completely reduced me to tears. \\nbut certain memories should not often be rereleased -- in the last few shots , you have to cry. ', 'john believes that his mother is somehow connected to his failed relationships with women , either because of his flawed self-esteem caused by his need for validation , or perhaps because he tends to unconsciously seek out women who remind him of his mother in an oedipal manner . \\nhe comes to the conclusion that since his problems are rooted in his boyhood home , he should move back in with his mother for a while just to see what kinds of feelings come out , and by that be able to sort out why his life is the way it is . \\n \" a great experiment \" , he calls it . \\nbrooks\\' own brand of humor really shines in this film , especially in the interaction john has with his mother . \\nthere\\'s a scene where john has just arrived at his mother\\'s house , and after having driven from los angeles to sausalito , and having explained to his mother about the \" great experiment \" , beatrice asks , \" now explain to me again why you don\\'t want to stay at a hotel . \" \\nshe still doesn\\'t get it , and it is absolutely hilarious . \\nin the same scene , we get little glances at the life his mother leads when she tries to feed him food that is no longer fresh . \\nshe apparently buys in great quantities and refrigerates it until the lettuce is wilted and the sherbet is iced over . \\nwhen john points out the ice on the sherbet , beatrice tells him not to worry about the protective glaze . ', 'who cowrote the script with emmanuelle bernheim , marcia romano , and marina de van , has turned in a more mature work than his previous , creepy \" see the sea . \" \\nwhile he cleverly never lets us see jean enter the water that fateful day , leaving a number of possibilities - accident ? , suicide ? , escape ? \\n- open , he definitely tips his hand towards a certain outcome . \\ncinematography by antoine hiberli and jeanne lapoirie glides around marie or captures rampling\\'s exotic face in mood divining closeup . \\nin an inventive fantasy scene , marie imagines jean\\'s hands massaging her feet while in a state of auto-arousal . \\nhis two hands become four , then more combined with her own , becoming almost a one person orgy and recalling roman polanski\\'s \" repulsion . \" \\noriginal music by philippe rombi quietly adds to the overall melancholy. ', 'it shouldn\\'t have surprised me , then , that kundun , a film about a mystical religion , actually turned out to be quite straightforward . \\nthe movie follows the life of the 14th dalai lama , the spiritual and political leader of tibet . \\nthe movie\\'s title is another name for the dalai lama which means \" ocean of wisdom . \" \\nhis story is told in strict chronological order and there are only a few cinematic visions to embellish the literal story . \\n ( one of which makes an interesting statement : pay attention to the film\\'s opening shot and watch where it is repeated . ) \\nwe first glimpse the dalai lama when he is two years old. \\nhis curiosity and self-assuredness capture the attention of a monk wandering in search of the new lama . \\na test is arranged to see if this boy really is the reincarnation of the 13 dalai lamas who have gone before . \\nseveral items belonging to the previous dalai lama are laid before the boy alongside some other items . \\nthe child is asked if he recognizes any of the items as his own.', 'kiki comes to realize not only the beauty of her surroundings , but the innate beauty inside her . \\nseeing kiki regain faith in herself is marvelous , and the principal device used to do it is so sublime that i don\\'t even want to hint at it . \\nthe ending of the movie has a subtle charm combined with a sense of awe and , ironically , the most disney-esque moment i\\'ve ever seen ; if you don\\'t hold your breath in wonder you might want to get medical attention . \\nthe movie steers free of many of the disney conventions : there is no violence , however cartoonish , no song-and-dance number , and kiki\\'s pet cat jiji is more a friend than a comedic sidekick , although jiji is given many funny lines and scenes . \\nhowever , i would be surprised if disney doesn\\'t give jiji more jokes , or at least the voice of some comedian . \\nrefreshingly enough , the moral lesson of the movie is not self-contradicted , a habit disney movies have gotten into . \\n \" beauty and the beast \" \\'s beautiful belle , for instance , learned that beauty was derived from a person\\'s inside , and was then rewarded by having the beast turn into a handsome prince in snazzy clothing . \\nkiki , on the other hand , learns to separate her wardrobe from her self-image , and nothing more is made of her early desires for better clothing than illustrating her increased maturity at the end of the film . \\nanother difference with disney movies is in the style of animation for \" kiki\\'s delivery service \" : not as colorful and dynamic as disney animation can be , but with a greater attention to realism and detail , it fits the movie to a t . this is particularly true with scenes of kiki\\'s flights . \\nthe extreme realism of the birds in flight near kiki is magnificent to behold , and helps these scenes capture the wonder of flight better than any other film i\\'ve ever seen . \\ni\\'m not sure when or how this movie will be released in the united states. ', \"we see matthew broderick , a man torn to a primal state ; he's been unfaithful to his wife , lied to and manipulated his students , and by the same token they've demeaned his masculinity , his self-respect , his desperate attempt at changing the world . \\nand yet , he equates the cause of his pain , his torment , with tracy flick ( reese witherspoon ) . \\nno matter how many students have come and gone , and disappointed him as an educator , she's the real threat . \\nabout to give in , and divulge that she's won by only a lone vote , broderick's mccalister turns in defeat , sees tracy's euphoric celebration in the outside corridor and says , 'no' . \\nthe fact that he simultaneously lusts after her ideologically further illustrates that freudian foundation of entitlement which all men , no matter how obscure , have in their relationships ; a traditional expectation of success , to usurp and surpass women as a proverbial industry . \\nshe can't go higher than him . \\nhe won't allow it. \", 'the background music keeps you in a state of urgency , and even suspense , for the first few conversations . \\nit\\'s only after repeated failures to pay any of this off that you lose all hope. \\nand with speeches like , \" i am thinking of something , but i can only think of that something when i am thinking of something else , \" how can you expect to hold anyone\\'s interest ? \\nto godard\\'s credit , he certainly knows how to frame a scene . \\nthe black and white footage used for the first half of the film is starkly beautiful. \\nwatching edgar read while walking along a train track on a mountain makes you wish you had something to ponder along with him . \\nand if this film had anything poignant to say , you would have , which makes you all the angrier at the numerous missed opportunities . \\nthe environments , be it city or country , are impeccably captured in crisp detail , but the script never complements them . \\nunfortunately , godard also manages to pillage his photographic eye by randomly cutting to black numerous times within any given scene . \\nsometimes these breaks are used for chapter headings , but these are even more cryptic than the spoken words . \\nthe second half is composed of nauseating hyper-color that often blurs the image. \\nyou suddenly feel like a doomed character straight out of scanners. ', 'it is obvious that columbus didn\\'t take them very seriously . \\nwhen you think about it , this film is not really meditating on the question \" when is a robot no longer a machine , but a human being ? \" , but tells a story about racial discrimination and lack of understanding . \\nandrew is so complex and emotional from the very beginning that the audience immediately accepts him as a human being , and only the society has troubles with it . \\nin other words , it is as far from reality as from the academy awards . \\nfurther more , there are other annoying problems . \\nto this day no serious filmmaker has dared to speculate about the future in more than 50 years from now . \\nthis has not been done for obvious reasons , because the filmmakers are well aware of the fact that they lack the knowledge and imagination to perform such a difficult task . \\ncolumbus is the first to have crossed that line . \\nthe result is , as you might imagine , primitive , unrealistic and incredibly disappointing effort . \\nthe world is simply frozen in time . \\nneither the society , fashion , culture or values have changed over 200 years . \\nmom is still working at the kitchen , doing the dishes . \\nwhen you think back to the late 17th century and then compare it to the world we live in today , you\\'ll see a slightly bigger difference . \\ni am not saying that everything should change . \\nit is unlikely that the human rights will change , but it\\'s even more unlikely that there will not be any progress in science , technology and fashion . \\ni suppose it\\'s possible to watch this as a some sort of bizarre fairytale , but it\\'s really hard . \\nrobin williams is hidden behind c and speaking in a robotic way . \\nas always he does a decent job , as does sam neill . \\nbut it doesn\\'t really matter. ', 'we, the audience , have been tipped off , given that the film begins by showing us eric ( trevor morgan , \" the patriot \" ) , a young boy , and ben ( mark harelik , \" election \" ) going for a paragliding adventure off that same island that goes awry ( and looks like cheesy rear projection ) . \\ngrant\\'s established back home with a new right hand man , billy brennan ( alessandro nivola , \" love\\'s labour\\'s lost \" ) on site at a dig in montana sorely lacking funds . \\nhe also pays a visit to old flame dr . ellie sattler ( laura dern , \" jurassic park \" ) , now married to another with a young son who calls grant \\'the dinosaur man\\' apparently for the sole purpose of dredging her up again for the film\\'s poorly imagined finale . \\ngrant takes billy along on the kirbys trip , which is really an illegal gambit to save their son , that young paraglider . \\nthe couple aren\\'t millionaires , making grant\\'s check bogus , and they\\'re separated as well ( eric was with amanda\\'s new boyfriend , not that that makes much sense ) , meaning we\\'re in for some gooey family dynamics while waiting for the dino dining . \\nthe kirbys hired hands ( and obvious bait ) are a threesome led by mr . udesky ( michael jeter , \" the gift \" ) . \\n ( didn\\'t anyone consider that casting michael jeter and william h . macy together and not having them be related was a little odd ? ) \\nas directed by joe johnston ( \" october sky , \" \" jumanji \" ) ( spielberg only produced this one ) from a risible script by peter buchman and the \" election \" team of alexander payne & jim taylor , \" jurassic park iii \" is nothing more than a quickie monster flick with a couple of new dinos ( a spinosauraus , which goes head to head with the t-rex , and pteranodons ) . \\nthe plot , as it were , is a series of coincidences combined with extreme leaps of faith and a trifecta of stupid cell phone tricks . \\nthe effects are no longer new , and , as shot by television cinematographer shelly johnson , rather murky looking at times . \\nfilm editing by robert dalva ( \" october sky \" ) was presumably done by machete , to keep this down to a 90 minute run time . \\ni know of no other reason to explain the ridiculous ending which features the survivors confronting a pack of raptors , then being saved by the most ludicrous of logic jumps within a few minutes . \\n\\'original\\' music by don davis just repeats john williams\\' original themes. ', 'while director steve miner has several horror films on his resume ( including two installments of \" friday the 13th \" and \" halloween h20 \" ) , screenwriter david kelley ( best known as the creator of tv series like \" ally mcbeal \" and \" chicago hope \" ) doesn\\'t seem to have the stomach for a chomp \\'em up flick . \\nthe body count is surprisingly low and doesn\\'t include any of the major characters , and most annoyingly kelly and hector insist that they capture the crocodile alive rather than killing it . \\n ( \" lake placid \" manages to have it both ways-i\\'ll let you discover how for yourself ) . \\nthe croc itself is mostly computer-generated , of course . \\nlike the snake in \" anaconda , \" the thirty-foot monster crocodile doesn\\'t seem real ; it moves too quickly and in ways that seem unnatural . \\n \" lake placid \" also offers little explanation for why a giant crocodile is in maine . \\nthere is a lot of semi-mystical mumbo jumbo about how \" we really don\\'t know much about crocodiles . \" \\nthey would have been better off going with something like the urban myth about alligators in the sewers . \\na movie like this doesn\\'t have to offer much of an explanation ( radioactive mutant ? \\ncreature from outer space ? ) , but it does have to give the audience something to hang their disbelief on . \\npullman and fonda seem to be plodding through the movie on auto-pilot . \\nmost of the time , they\\'re probably thinking about killing their agents or wondering if making this movie marks the end of their careers . \\nplatt and white , on the other hand , seem to be giving their best efforts , and they manage to squeeze a few chuckles out of this sorry script . \\n', 'either way , we get to see a lot of bottoms because the two beautiful women in the crew are both conveniently wearing hot pants during the scenes where the camera shoots upwards while they climb up ladders and -- in the ballroom scene -- christmas trees . \\nthus begins an hour or more of hushed trips down long corridors , through burning rooms , etc . while the ship slowly fills with water behind them . \\nit\\'s a race against the clock which is only mildly interesting . \\nthe poseidon adventure works more as a bad movie to laugh at , with all the melodrama that comes in-between the non-thrilling action scenes . \\nthe one note in borgnine\\'s one-note performance is to be a cranky old man that argues with hackman every step of the way while buttons and the hippie fall in love ( although since there isn\\'t a sex scene , we never find out if his buttons really are red ) and albertson and winters wonder if they\\'ll live to see their grandson\\'s birth . \\nshelley winters provides the most hilarious scene in the movie in a scene toward the end , where water has flooded the next two rooms of the ship and hackman is preparing to dive under with a rope for the rest of them to pull along . \\nwinters , who has been the whiny fat woman throughout the movie ( stevens even not-so- affectionately calls her \" fatass \" in one scene ) , finally finds her purpose . \\n \" i was the underwater swimming champ of new york three years running when i was seventeen , \" she brags , and before hackman can even ask her how she could be seventeen for three years , she\\'s swimming through the water , her skirt billowing up around her hips , showing off her cellulite ( or do you call it shellulite ? ) \\nridden thighs. ', 'state of the art effects fly at a mad pace in this $90 million dollar movie and yet director david kelogg never sets up a convincing atmosphere . \\nhad they replaced all the fancy gizmos with dollar bills they would have wound up with the same effect . \\nwhat we see on the screen is like the raw ingredients of a meal : all of the expensive f/x amounts to nothing . \\npart of the charm of the tv series was its sly irreverence which has gone down the toilet in the condescending movie . \\ncan kids really admire a hero so goody-two-shoes that he screams \" hey ! \\nyou ran a stop sign ! \" \\nwhile hanging off the back bumper of a quickly moving vehicle ? \\ni think that today\\'s children will respond better to somebody dashing , someone ultra-cool . \\nthey ( probably ) receive enough preaching from their parents and its an insult to their intelligence to assume that they want to go to an action movie to see a father figure kick butt . \\nin addition to the more complex complaints above , there\\'s also the simple stuff : inspector gadget is boring , formulaic and achingly implausible . \\nthere\\'s no feeling that the director really cares about his story : more than any other film i\\'ve seen this year , this one really feels like it was made on an assembly line . \\nthere\\'s a popular commercial ( for sprite , but that\\'s irrelevant ) running in movie theaters before features that spoofs the way major studios deal with projects . \\nit consists of studio suits discussing a fictitious ( thank god ) movie called \" death slug \". \\n', \"four of the biggest directors in hollywood : quentin tarantino , robert rodriguez , alexander rockwell , and alison anders were all directing one big film with a big and popular cast . \\ni guess it was all just too much because this turned out to be the biggest flop of the year and it could of been great . \\nthe plot : it's new years eve and it's a bellboy's first day on the job . \\nhe encounters many mysterious and kinky hotel guests as he tries to handle all his own problems . \\ntarantino told his directors this plot , and each of them wrote a script . \\nit turned out each of them had written a dark comedy . \\nanders wrote and directed the tale about a coven of witches ( madonna , valeria golino , alicia witt , and ione skye ) , which was the worst one out of all of them . \\nthe second room ( jennifer beals ) was better , but lacking in plot . \\nthis room was about a man who accuses every man of sleeping with his wife . \\nthe third room ( antonio banderas ) was the best roomm , about two rambunctous kids that trash a hotel suite . \\nthe final one ( tarantino , willis ) was about a movie star wanting the bellboy to chop off someone's finger . \\nthe movie was just plain trash. \", 'just that the comic setups are obvious and the payoffs nearly all fall flat . \\nthe four leads are nearly all playing the same character . \\nonly williams stands out ( while still performing on the level of his humor-free comedy rocket man ) , but that is because he\\'s imprisoned throughout most of the film , giving a much needed change of pace ( but mostly swapping one set of obvious gags for another ) . \\nto help out , the film is packed full of cameos . \\nsteven wright , tommy chong , janeane garofalo , willie nelson , snoop doggy dogg , and jon stewart all make appearances at one point or another . \\nnone of them work , beyond the simple \" hey , that\\'s _____ \" level . \\nin fact the funniest work in the film comes from chappelle . \\nnot as his bland pothead lead , but in his second role , as a pot-obsessed rapper , sir smokealot . \\ngranted , it\\'s pretty much a one-joke role , and there aren\\'t a ton of laughs . . . \\n', \"the sequence was there for a purpose : to evoke a strong emotional response from the viewer . \\ni'm usually a sucker for such scenes and yet this time , i was just sitting there , my emotions untouched . \\nthis remains true through all of the movie which remains emotionally barren . \\nwe never develop connections to the characters ; never given a reason to care . \\nthis ludicrously long epic was directed by andy tennant , whose last film was ever after , one of my favorites of 1998 . \\ni do not doubt tennant's ability to put together a decent movie , but anna and the king , aside from being psychologically inept is also technologically deficient . \\nthe sets and scenery are gorgeous , but the camerawork does nothing to convey its grandeur . \\neven terrence malick managed to do more with flora and fauna in his otherwise abysmal the thin red line than tennant can muster from $75 million worth of props and a shoot in malaysia . \\nwe feel like the camera is restricted to its immediate point of view ; there are no wide tracking shots or sweeping zooms to fill us with larger-than-life awe . \\ni liked both foster and yun-fat , who give entertaining if not terribly involving performances in the two lead roles . \\nfoster's generally stoic persona serves her well here , as she is playing a reserved , formal and rather underdeveloped character . \\nyun-fat is especially effective , perfectly conveying the king of siam's sangfroid permeated with violent outbursts . \\nwhat does anna and the king in is its inability to involve the viewer in its characters and situations . \\nthe cast is great , the director is talented , and the budget is lavish , but this ill-advised remake of the classic rogers and hammerstein movie is unable to utilize any of those things to form a compelling whole . \\nthis is an emotionless costume epic . \\n\", 'cohen had personal interest in the updated version of hammer , but heffron has none . \\nhe shot the movie quickly and clumsily , and although some scenes ring true , most of them are flat , trite , and invariably dull . \\nthe movie features numerous car chases , shoot-outs , and stunts , but heffron\\'s background in television is the dominant tone ; despite the graphic violence and full-frontal nudity , \" i , the jury , \" takes on the air of a made-for-tv quickie , with no real punch or depth . \\nbut the problems in \" i , the jury \" run deeper than the technical . \\nthe central fault in this updating is mike hammer , whose character was lost in the shuffle while updating from the fifties to the eighties . \\nbecause spillane wrote all his hammer mysteries in the first person , hammer\\'s character is central to the tale because all the events are filtered through his persona . \\nwe never really get that impression in the movie -- there is no first-person voice-over narration and some scenes don\\'t have hammer in them at all . \\nconsequently , a great deal of the texture of spillane\\'s storytelling is lost . \\nthe period updating turns out to be a detrimentally bad idea because much of hammer\\'s moral code is thrown to the wind . \\ndespite his characterization as a hard-nosed , violent , misogynistic killer , hammer always stuck fervently to his own moral code . \\nthe title itself , \" i , the jury , \" refers to his anti-establishment notion of being his own law . \\nunlike private eyes who seek out the bad guys and then turn them over the police , hammer both pursues the criminal and exacts the punishment . \\nin this way , he can be seen as \" above the law , \" but he still adheres strictly to her own personal code of conduct , his own morality . \\nthe movie forgoes that aspect of his character , and hammer comes off not only as amoral in society\\'s terms , but in any terms , especially his own . \\nif anything , hammer always had his professionalism , but the movie does away with that in the first three minutes by showing him rolling in the sack with the wife of a client who had paid him to find out if that wife was being unfaithful . \\nmaybe the scene was intended for laughs , but it only cheapens hammer\\'s character and is , by all accounts , a lousy way to start the movie . \\nthe blame for hammer\\'s character can\\'t be laid on assante\\'s shoulders , because despite some unnecessary marlon brandon-like mumbling , he delivers a fine performance . \\nspillane never once described hammer\\'s physical attributes in any of the dozen books in which he appeared , so any actor could conceivably portray him . \\nof course , because of the lack of written description , those who have read spillane\\'s books will have a strong personal notion of what hammer looks like , and therefore almost any screen incarnation will somehow fall short of expectations ( spillane , who played the character himself in 1963\\'s \" the girl hunters , \" is generally considered the best of the film hammers ) . \\nthe rest of actors are most un-noteworthy. ']\n"
     ]
    }
   ],
   "source": [
    "# 특정 디렉터리 내에 있는 텍스트 자료 수집\n",
    "import os\n",
    "\n",
    "# 1.텍스트 디렉터리 경로 지정\n",
    "print(os.getcwd()) # 현재 기본 경로 확인\n",
    "txt_data = 'data/txt_data/'\n",
    "\n",
    "# 2. 텍스트 디렉터리 목록 반환\n",
    "sub_dir = os.listdir(txt_data) # first,second\n",
    "print(sub_dir) \n",
    "\n",
    "# 3. 각 디렉터리의 텍스트 자료 수집 함수 \n",
    "def textPro(sub_dir): # first,second\n",
    "    first_txt = [] # first 디렉터리 텍스트 저장\n",
    "    second_txt = [] # second 디렉터리 텍스트 저장\n",
    "    \n",
    "    # 디렉터리 구성\n",
    "    for sdir in sub_dir: \n",
    "        dirname = txt_data + sdir # 디렉터리 구성\n",
    "        file_list = os.listdir(dirname)\n",
    "        \n",
    "        # v파일 구성\n",
    "        for fname in file_list:\n",
    "            file_path = dirname + '/' + fname\n",
    "            \n",
    "            # 파일 선택 \n",
    "            if os.path.isfile(file_path): \n",
    "                try:\n",
    "                    #텍스트 자료 수집 \n",
    "                    file = open(file_path,'r')\n",
    "                    if sdir == 'first':\n",
    "                        first_txt.append(file.read())\n",
    "                    else: \n",
    "                        second_txt.append(file.read())\n",
    "                except Exception as e: \n",
    "                    print(\"예외 발생 :\",e) \n",
    "                finally:\n",
    "                    file.close()\n",
    "    return first_txt,second_txt\n",
    "\n",
    "first_txt, second_txt = textPro(sub_dir) \n",
    "\n",
    "# 수집한 자료 확인 \n",
    "print('first_txt 파일 길이 :', len(first_txt))\n",
    "print('second_txt 파일 길이 :', len(second_txt))\n",
    "\n",
    "# 수집한 자료의 결합\n",
    "tot_texts = first_txt + second_txt\n",
    "print(\"tot_texts 길이 :\",len(tot_texts)) \n",
    "\n",
    "# 전체 텍스트 내용 \n",
    "print(tot_texts)\n",
    "\n",
    "\n",
    "\n",
    "# 피클에 저장하여 가져오기 \n",
    "\n",
    "import pickle\n",
    "\n",
    "with open('data/tot_texts.pck','wb')as file:\n",
    "    pickle.dump(tot_texts,file)\n",
    "print(\"pickle save!!!!!\")\n",
    "\n",
    "with open('data/tot_texts.pck','rb')as file:\n",
    "    tot_texts = pickle.load(file)\n",
    "print(\"피클에서 tot_texts 읽어오기!!!\",tot_texts)\n"
   ]
  },
  {
   "cell_type": "code",
   "execution_count": null,
   "id": "8bc728ab",
   "metadata": {},
   "outputs": [],
   "source": [
    "## 이미지 파일 이동 \n",
    "# data/images -> data/images2\n",
    "# [절차]\n",
    "# 1. os.path.exists를 사용하여 디렉터리 유무를 확인\n",
    "# 2. glob(path/*.png) : # png파일 검색\n",
    "# 3. png 이미지 복사는 이진 파일 읽기\n",
    "# 4. png 이미지 파일 쓰기는 이진 파일 쓰기\n",
    "# 5. "
   ]
  },
  {
   "cell_type": "code",
   "execution_count": 88,
   "id": "3e4e8f1d",
   "metadata": {},
   "outputs": [
    {
     "name": "stdout",
     "output_type": "stream",
     "text": [
      "['data/images/101.png', 'data/images/102.png', 'data/images/103.png', 'data/images/104.png', 'data/images/105.png']\n"
     ]
    }
   ],
   "source": [
    "from glob import glob\n",
    "fimg = glob('data/images/'+'*.png') # 'data/images/*.png\n",
    "print(fimg) \n",
    "\n"
   ]
  },
  {
   "cell_type": "code",
   "execution_count": 98,
   "id": "ecec92be",
   "metadata": {},
   "outputs": [
    {
     "name": "stdout",
     "output_type": "stream",
     "text": [
      "/Users/yunbeen/Desktop/ybfolder/빅데이터:자바 자료/python /pythonproject/Day15\n",
      "해당 디렉토리가 존재합니다.\n",
      "/data/image 디랙터리가 존재합니다.\n",
      "png files : ['101.png', '102.png', '103.png', '104.png', '105.png']\n"
     ]
    }
   ],
   "source": [
    "import os.path\n",
    "from glob import glob\n",
    "\n",
    "# 이미지 파일 경로\n",
    "print(os.getcwd())\n",
    "img_path = 'data/images/'\n",
    "if (os.path.exists('data/images2')):\n",
    "    print(\"해당 디렉토리가 존재합니다.\")\n",
    "else: \n",
    "    os.mkdir('data/images2')\n",
    "    print(\"디렉터리를 생성합니다.\")\n",
    "img_path2 = 'data/images2/'\n",
    "\n",
    "# 디렉터리가 존재하면 image 파일 작업 진행\n",
    "if os.path.exists(img_path):\n",
    "    print(\"/data/image 디랙터리가 존재합니다.\")\n",
    "    \n",
    "    # 이미지 파일 작업\n",
    "    images = [] \n",
    "    for pic_path in glob(img_path+'*.png'): \n",
    "        # 경로 + 파일명 분리\n",
    "        img_path = os.path.split(pic_path)\n",
    "        images.append(img_path[1]) # 1번 인덱스에 있는 파일 저장   \n",
    "        \n",
    "        # 이진 파일 읽기\n",
    "        with open(pic_path,'rb')as rf:\n",
    "            obuf = rf.read() # 파일에서 읽어 들인 데이터가 저장\n",
    "        \n",
    "        # 이진 파일 쓰기\n",
    "        with open(img_path2+img_path[1],'wb') as wf:\n",
    "            wf.write(obuf)\n",
    "else:\n",
    "    print(\"해당 디렉토리가 존재하지 않습니다.\")\n",
    "print(\"png files :\",images)  \n",
    "        \n",
    "            "
   ]
  },
  {
   "cell_type": "code",
   "execution_count": 110,
   "id": "8d4c0f36",
   "metadata": {},
   "outputs": [
    {
     "name": "stdout",
     "output_type": "stream",
     "text": [
      "Collecting pandas\n",
      "  Downloading pandas-1.4.2-cp310-cp310-macosx_11_0_arm64.whl (10.1 MB)\n",
      "\u001b[2K     \u001b[90m━━━━━━━━━━━━━━━━━━━━━━━━━━━━━━━━━━━━━━━━\u001b[0m \u001b[32m10.1/10.1 MB\u001b[0m \u001b[31m6.2 MB/s\u001b[0m eta \u001b[36m0:00:00\u001b[0m00:01\u001b[0m0:01\u001b[0m\n",
      "\u001b[?25hRequirement already satisfied: numpy>=1.21.0 in /Library/Frameworks/Python.framework/Versions/3.10/lib/python3.10/site-packages (from pandas) (1.22.3)\n",
      "Requirement already satisfied: pytz>=2020.1 in /Library/Frameworks/Python.framework/Versions/3.10/lib/python3.10/site-packages (from pandas) (2022.1)\n",
      "Requirement already satisfied: python-dateutil>=2.8.1 in /Library/Frameworks/Python.framework/Versions/3.10/lib/python3.10/site-packages (from pandas) (2.8.2)\n",
      "Requirement already satisfied: six>=1.5 in /Library/Frameworks/Python.framework/Versions/3.10/lib/python3.10/site-packages (from python-dateutil>=2.8.1->pandas) (1.16.0)\n",
      "Installing collected packages: pandas\n",
      "Successfully installed pandas-1.4.2\n",
      "Note: you may need to restart the kernel to use updated packages.\n"
     ]
    }
   ],
   "source": [
    "\n",
    "pip install pandas "
   ]
  },
  {
   "cell_type": "code",
   "execution_count": 137,
   "id": "09241d74",
   "metadata": {},
   "outputs": [
    {
     "name": "stdout",
     "output_type": "stream",
     "text": [
      "<class 'pandas.core.frame.DataFrame'>\n",
      "RangeIndex: 15 entries, 0 to 14\n",
      "Data columns (total 5 columns):\n",
      " #   Column  Non-Null Count  Dtype\n",
      "---  ------  --------------  -----\n",
      " 0   no      15 non-null     int64\n",
      " 1   kor     15 non-null     int64\n",
      " 2   eng     15 non-null     int64\n",
      " 3   mat     15 non-null     int64\n",
      " 4   dept    15 non-null     int64\n",
      "dtypes: int64(5)\n",
      "memory usage: 728.0 bytes\n",
      "None\n",
      "    no  kor  eng  mat  dept\n",
      "0  101   88   85   86   101\n",
      "1  102   70   90   92   101\n",
      "2  103   90   45   55   101\n",
      "3  104   55   52   74   102\n",
      "4  105   65   85   96   102\n",
      "max kor : 95\n",
      "max eng : 90\n",
      "max mat : 96\n",
      "========================================\n",
      "min kor : 40\n",
      "min eng : 45\n",
      "min mat : 41\n",
      "========================================\n",
      "avg kor : 71.40\n",
      "avg eng : 67.93\n",
      "avg mat : 71.33\n",
      "국어 평균 점수 :  71.4\n",
      "영어 평균 점수 :  67.93\n",
      "수학 평균 점수 :  71.33\n",
      "{101: 5, 102: 5, 103: 5}\n"
     ]
    }
   ],
   "source": [
    "### 특수한 파일 처리\n",
    "# CSV(Comma Separate Value) : 열(row) 단위 자료를 처리할수 있는 대표적인 파일로\n",
    "# CSV,Excel - > Cell단위로 자료를 저장하여 처리하는 파일 \n",
    "\n",
    "# pandas 패키지 import \n",
    "import pandas as pd\n",
    "import os\n",
    "\n",
    "os.getcwd() \n",
    "\n",
    "score = pd.read_csv('data/score.csv')\n",
    "print(score.info()) # 파일 정보\n",
    "print(score.head()) # 컬럼명 포함 앞 5개 행\n",
    "\n",
    "# 컬럼추출 \n",
    "kor = score.kor # 객체.컬럼명\n",
    "eng = score['eng'] # 객체['컬럼명']\n",
    "mat = score['mat']\n",
    "dept = score['dept']\n",
    "type(kor) # pandas.core.series.Series # column을 series라고 한다(리스트와 특징이 비슷하다.) \n",
    "\n",
    "# 각 과목의 최고점 알아오기....\n",
    "print('max kor :',max(kor)) \n",
    "print('max eng :',max(eng))\n",
    "print('max mat :',max(mat))\n",
    "print(\"=\"*40)\n",
    "\n",
    "# 각 과목의 최저점 알아오기....\n",
    "print('min kor :',min(kor)) \n",
    "print('min eng :',min(eng))\n",
    "print('min mat :',min(mat)) \n",
    "print(\"=\"*40)\n",
    "\n",
    "# 각 과목의 평균 알아오기....\n",
    "import numpy\n",
    "avg_kor = numpy.mean(score.kor)\n",
    "avg_eng = numpy.mean(score.eng)\n",
    "avg_mat = numpy.mean(score.mat)\n",
    "print('avg kor : {:.2f}'.format(avg_kor)) \n",
    "print('avg eng : {:.2f}'.format(avg_eng))\n",
    "print('avg mat : {:.2f}'.format(avg_mat)) \n",
    "\n",
    "from statistics import mean\n",
    "print(\"국어 평균 점수 : \", round(mean(kor),2))\n",
    "print(\"영어 평균 점수 : \", round(mean(eng),2))\n",
    "print(\"수학 평균 점수 : \", round(mean(mat),2))\n",
    "\n",
    "# dept 빈도수\n",
    "dept_count = {} \n",
    "\n",
    "for key in dept:\n",
    "    dept_count[key] = dept_count.get(key,0)+1  \n",
    "print(dept_count) "
   ]
  },
  {
   "cell_type": "code",
   "execution_count": null,
   "id": "9bf3ea0b",
   "metadata": {},
   "outputs": [],
   "source": [
    "pip install openpyxl # 파일을 읽어들이기 위해서 사용할 모듈"
   ]
  },
  {
   "cell_type": "code",
   "execution_count": 154,
   "id": "1c1269a0",
   "metadata": {
    "scrolled": true
   },
   "outputs": [
    {
     "name": "stdout",
     "output_type": "stream",
     "text": [
      "<class 'pandas.io.excel._base.ExcelFile'>\n",
      "<class 'pandas.core.frame.DataFrame'>\n",
      "RangeIndex: 247 entries, 0 to 246\n",
      "Data columns (total 6 columns):\n",
      " #   Column  Non-Null Count  Dtype         \n",
      "---  ------  --------------  -----         \n",
      " 0   Date    247 non-null    datetime64[ns]\n",
      " 1   Open    247 non-null    int64         \n",
      " 2   High    247 non-null    int64         \n",
      " 3   Low     247 non-null    int64         \n",
      " 4   Close   247 non-null    int64         \n",
      " 5   Volume  247 non-null    int64         \n",
      "dtypes: datetime64[ns](1), int64(5)\n",
      "memory usage: 11.7 KB\n",
      "None\n",
      "1307947.3684210526\n",
      "1280919.028340081\n",
      "최고 평균 : 1307947.37\n",
      "최저 평균 : 1280919.03\n"
     ]
    }
   ],
   "source": [
    "## Excel 파일 읽기 \n",
    "\n",
    "sam = pd.ExcelFile('data/sam_kospi.xlsx') \n",
    "print(type(sam))\n",
    "\n",
    "## excel 파일 파싱\n",
    "kospi = sam.parse(\"sam_kospi\")\n",
    "print(kospi.info()) \n",
    "\n",
    "#최고(high), 최저값(low)평균을 출력\n",
    "high = kospi['High']\n",
    "low = kospi['Low'] \n",
    "\n",
    "from statistics import mean\n",
    "print(\"최고 평균 :\", round(mean(high),2))\n",
    "print(\"최저 평균 :\", round(mean(low),2))\n",
    "# print(\"최고 평균 :\",high.mean())\n",
    "# print(\"최저 평균 :\",low.mean()) \n",
    "\n"
   ]
  },
  {
   "cell_type": "code",
   "execution_count": 155,
   "id": "f2019d0f",
   "metadata": {},
   "outputs": [],
   "source": [
    "## JSON 파일\n",
    "# JSON(JavaScript Object Notation) 은 네트워크 표준으로 사용되고 있는 파일 양식\n",
    "# 파일 양식(XML....) \n",
    "# JSON파일의 특징은 \"키-값\"쌍으로 자료를 표현\n",
    "# 표현은 자바스크립트 구문형식을 따르지만, 프로그램 언어나 플랫폼에 독립적으로 동작할 수 있음\n",
    "# 파이썬은 json파일을 처리할수 있는 모듈을 기본적으로 제공하고 있음\n",
    "# 인코딩 - 파이썬 객체(list,dict)를 -> JSON 문자열 변환\n",
    "# 디코딩 - JSON문자열(\"키-값\")을 -> 파이썬 객체(dict,list)로 변환\n",
    "\n",
    "# 인코딩 : json.dumps(객체) -> JSON문자열 변경\n",
    "# 디코딩 : json.loads(json문자열) -> 파이썬 객체\n"
   ]
  },
  {
   "cell_type": "code",
   "execution_count": 165,
   "id": "b3ae477a",
   "metadata": {},
   "outputs": [
    {
     "name": "stdout",
     "output_type": "stream",
     "text": [
      "{'id': 1234, 'name': '홍길동'}\n",
      "홍길동\n",
      "<class 'str'>\n",
      "{\"id\": 1234, \"name\": \"홍길동\"}\n",
      "<class 'dict'>\n",
      "{'id': 1234, 'name': '홍길동'}\n",
      "홍길동\n"
     ]
    }
   ],
   "source": [
    "import json\n",
    "\n",
    "# json인코딩\n",
    "user = {'id':1234,'name':'홍길동'} # 파이썬 딕셔너리\n",
    "print(user)\n",
    "print(user['name']) # 홍길동\n",
    "\n",
    "jsonString = json.dumps(user,ensure_ascii=False) \n",
    "# ensure_ascii의 False는 아스키코드를 사용하지 않음을 의미한다. \n",
    "print(type(jsonString))  # <class 'str'> 문자열이기 때문에 딕셔너리가 아니다. json은 ''와 \"\"를 가린다. json은\"\"가 키값이 된다.\n",
    "print(jsonString) # {\"id\": 1234, \"name\": \"홍길동\"}\n",
    "#print(jsonString['name']) # error 이유 : 딕셔너리가 아니기 때문에 ['name']인덱스를 사용할수 없다.\n",
    "\n",
    "# 디코딩 \n",
    "pyObj = json.loads(jsonString)\n",
    "print(type(pyObj))\n",
    "print(pyObj)\n",
    "print(pyObj['name'])"
   ]
  },
  {
   "cell_type": "code",
   "execution_count": null,
   "id": "02ee8eb0",
   "metadata": {},
   "outputs": [],
   "source": []
  }
 ],
 "metadata": {
  "kernelspec": {
   "display_name": "Python 3 (ipykernel)",
   "language": "python",
   "name": "python3"
  },
  "language_info": {
   "codemirror_mode": {
    "name": "ipython",
    "version": 3
   },
   "file_extension": ".py",
   "mimetype": "text/x-python",
   "name": "python",
   "nbconvert_exporter": "python",
   "pygments_lexer": "ipython3",
   "version": "3.10.3"
  }
 },
 "nbformat": 4,
 "nbformat_minor": 5
}
