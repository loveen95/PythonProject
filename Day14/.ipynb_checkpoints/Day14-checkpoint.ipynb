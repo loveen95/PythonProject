{
 "cells": [
  {
   "cell_type": "code",
   "execution_count": 5,
   "id": "bae0f786",
   "metadata": {},
   "outputs": [
    {
     "name": "stdout",
     "output_type": "stream",
     "text": [
      "['http://www.naver.com', 'http://www.daum.net', 'http://www.yahoo.com', 'www.hongildong.com']\n",
      "['http://www.naver.com', 'http://www.daum.net', 'http://www.yahoo.com']\n"
     ]
    }
   ],
   "source": [
    "### 텍스트 처리\n",
    "# 비정형 자료를 수집한 경우 올바르지 않은 문장이 포함이 될수 있다. \n",
    "# 이러한 경우 올바른 문장만 선택하는 텍스트 전처리 과정\n",
    "\n",
    "# 예) 도메인 주소의 http://으로 시작되지 않는 주소를 비정상 자료로 가정하여 수집된 자료 제외하는 예시\n",
    "\n",
    "# 텍스트 자료\n",
    "multi_line = \"\"\"http://www.naver.com\n",
    "http://www.daum.net\n",
    "http://www.yahoo.com\n",
    "www.hongildong.com\"\"\"\n",
    "\n",
    "import re\n",
    "from re import split, compile, match \n",
    "\n",
    "# 구분자를 사용한 문자열 분리(split()) \n",
    "web_site = split('\\n',multi_line) # split(pattern,string)반환값 - list\n",
    "print(web_site) \n",
    "\n",
    "# 패턴 객체 만들기!! \n",
    "pat = compile(\"http[s]?://\") # 있으면 정상, 없으면 비정상 데이터 # pat 객체 생성\n",
    "\n",
    "bool(None) \n",
    "\n",
    "sel_site = [site for site in web_site if match(pat,site)] # 내포 \n",
    "'''\n",
    "sel_site = []\n",
    "for site in web_site:\n",
    "    if match(pat,site):\n",
    "        sel_site.append(site)\n",
    "'''\n",
    "print(sel_site) "
   ]
  },
  {
   "cell_type": "code",
   "execution_count": 29,
   "id": "b2182e06",
   "metadata": {},
   "outputs": [
    {
     "name": "stdout",
     "output_type": "stream",
     "text": [
      "['우리나라   대한민국, 우리나라%$ 만세', '비아그&라 500gram 정력 최고!', '나는 대한민국 사람', '보험료 15000원에 평생 보장 마감 임박', '나는 홍길동']\n",
      "['우리나라   대한민국, 우리나라%$ 만세', '비아그&라 gram 정력 최고!', '나는 대한민국 사람', '보험료 원에 평생 보장 마감 임박', '나는 홍길동']\n",
      "['우리나라   대한민국 우리나라%$ 만세', '비아그&라 gram 정력 최고', '나는 대한민국 사람', '보험료 원에 평생 보장 마감 임박', '나는 홍길동']\n",
      "['우리나라   대한민국 우리나라 만세', '비아그라 gram 정력 최고', '나는 대한민국 사람', '보험료 원에 평생 보장 마감 임박', '나는 홍길동']\n",
      "['우리나라   대한민국 우리나라 만세', '비아그라  정력 최고', '나는 대한민국 사람', '보험료 원에 평생 보장 마감 임박', '나는 홍길동']\n",
      "['우리나라 대한민국 우리나라 만세', '비아그라 정력 최고', '나는 대한민국 사람', '보험료 원에 평생 보장 마감 임박', '나는 홍길동']\n"
     ]
    }
   ],
   "source": [
    "## 자연어 전처리\n",
    "# 문장에서 명사만 추출하여 단어 출현 빈도수를 분석하기 위해서는 문서의 포함된 문장부호나 특수문자, 숫자등을 제거해야한다.\n",
    "# 요구하는 내용에 따라 불필요한 내용들을 제거하는 과정을 의미한다.\n",
    "# \n",
    "from re import findall, sub\n",
    "import re \n",
    "\n",
    "# 예제 텍스트 \n",
    "texts = ['우리나라   대한민국, 우리나라%$ 만세','비아그&라 500GRAM 정력 최고!',\n",
    "         '나는 대한민국 사람','보험료 15000원에 평생 보장 마감 임박', '나는 홍길동']\n",
    "\n",
    "## 1단계 - 소문자 변경 \n",
    "texts_re1 = [t.lower() for t in texts]\n",
    "print(texts_re1)\n",
    "'''\n",
    "['우리나라   대한민국, 우리나라%$ 만세',\n",
    " '비아그&라 500gram 정력 최고!',\n",
    " '나는 대한민국 사람',\n",
    " '보험료 15000원에 평생 보장 마감 임박',\n",
    " '나는 홍길동']\n",
    "'''\n",
    "\n",
    "# 2단계 - 숫자 제거 \n",
    "text_re2 = [sub('[0-9]','',text) for text in texts_re1]\n",
    "print(text_re2) \n",
    "'''\n",
    "['우리나라   대한민국, 우리나라%$ 만세', '비아그&라 gram 정력 최고!',\n",
    "'나는 대한민국 사람', '보험료 원에 평생 보장 마감 임박', '나는 홍길동']\n",
    "'''\n",
    "\n",
    "# 3단계 - 문장 부호 제거\n",
    "text_re3 = [sub('[,./!?:;]','',text)for text in text_re2]\n",
    "print(text_re3)\n",
    "\n",
    "'''\n",
    "['우리나라   대한민국 우리나라%$ 만세', '비아그&라 gram 정력 최고',\n",
    "'나는 대한민국 사람', '보험료 원에 평생 보장 마감 임박', '나는 홍길동']\n",
    "'''\n",
    "\n",
    "# 4단계 - 특수 문자 제거 \n",
    "special_str = [sub('[@#$%^&*()+=~]','',text)for text in text_re3]\n",
    "print(special_str)\n",
    "'''\n",
    "['우리나라   대한민국 우리나라 만세', '비아그라 gram 정력 최고', \n",
    "'나는 대한민국 사람', '보험료 원에 평생 보장 마감 임박', '나는 홍길동']\n",
    "'''\n",
    "\n",
    "# 5 단계 - 영문자 제거\n",
    "texts_re5 = [''.join(findall('[^a-z]',text))for text in special_str]\n",
    "print(texts_re5)\n",
    "'''\n",
    "['우리나라   대한민국 우리나라 만세', '비아그라  정력 최고', \n",
    "'나는 대한민국 사람', '보험료 원에 평생 보장 마감 임박', '나는 홍길동']\n",
    "'''\n",
    "\n",
    "# 6단계 - 공백 제거\n",
    "texts_re6 = [' '.join(text.split())for text in texts_re5]\n",
    "print(texts_re6) \n",
    "'''\n",
    "['우리나라 대한민국 우리나라 만세', '비아그라 정력 최고', \n",
    "'나는 대한민국 사람', '보험료 원에 평생 보장 마감 임박', '나는 홍길동']\n",
    "'''\n"
   ]
  },
  {
   "cell_type": "code",
   "execution_count": 43,
   "id": "50ab1873",
   "metadata": {},
   "outputs": [
    {
     "name": "stdout",
     "output_type": "stream",
     "text": [
      "['우리나라 대한민국 우리나라 만세', '비아그라 정력 최고', '나는 대한민국 사람', '보험료 원에 평생 보장 마감 임박', '나는 홍길동']\n"
     ]
    }
   ],
   "source": [
    "### 전처리 과정을 함수로.....\n",
    "\n",
    "### 함수명 : clean_text(text)\n",
    "import re\n",
    "from re import findall, sub \n",
    "texts = ['우리나라   대한민국, 우리나라%$ 만세','비아그&라 500GRAM 정력 최고!',\n",
    "         '나는 대한민국 사람','보험료 15000원에 평생 보장 마감 임박', '나는 홍길동']\n",
    "def clean_text(text):\n",
    "\n",
    "    # 1단계 - 소문자 변경 \n",
    "    texts_re = text.lower()\n",
    "\n",
    "    # 2단계 - 숫자 제거 \n",
    "    texts_re2 = sub('[0-9]','',texts_re)\n",
    " \n",
    "    # 3단계 - 문장 부호 제거\n",
    "    texts_re3 = sub('[,./!?:;]','',texts_re2)\n",
    "\n",
    "    # 4단계 - 특수 문자 제거 \n",
    "    texts_re4 = sub('[@#$%^&*()+=~]','',texts_re3)\n",
    "\n",
    "    # 5 단계 - 영문자 제거\n",
    "    texts_re5 = ''.join(findall('[^a-z]',texts_re4))\n",
    "\n",
    "    # 6단계 - 공백 제거\n",
    "    texts_re6 = ' '.join(texts_re5.split())\n",
    "\n",
    "    return texts_re6 \n",
    "\n",
    "text_result = [clean_text(t)for t in texts]\n",
    "print(text_result) \n",
    "'''\n",
    "['우리나라 대한민국 우리나라 만세', '비아그라 정력 최고', \n",
    "'나는 대한민국 사람', '보험료 원에 평생 보장 마감 임박', '나는 홍길동']\n",
    "'''"
   ]
  },
  {
   "cell_type": "code",
   "execution_count": 200,
   "id": "fb3fea88",
   "metadata": {},
   "outputs": [
    {
     "name": "stdout",
     "output_type": "stream",
     "text": [
      "[]\n",
      "['you2@naver.com']\n",
      "['12kang@hanmail.net']\n",
      "['kimjs@gmail.com']\n",
      "[]\n"
     ]
    }
   ],
   "source": [
    "email = '''hong@12.com\n",
    "you2@naver.com\n",
    "12kang@hanmail.net\n",
    "kimjs@gmail.com\n",
    "'''\n",
    "\n",
    "from re import findall, match\n",
    "\n",
    "for e in email.split(sep='\\n'):\n",
    "    e = findall('^[a-z|0-9]{4,}@[a-z]{3,}.[a-z]{3}',e)        \n",
    "    print(e)"
   ]
  },
  {
   "cell_type": "code",
   "execution_count": 89,
   "id": "ed27b835",
   "metadata": {},
   "outputs": [
    {
     "name": "stdout",
     "output_type": "stream",
     "text": [
      "['홍길동', '이순신', '유관순']\n"
     ]
    }
   ],
   "source": [
    "\n",
    "from re import findall\n",
    "emp = [\"2014홍길동220\", \"2002이순신300\", \"2010유관순260\"]\n",
    "\n",
    "def name_pro(emp): \n",
    "    num = sub('[0-9]','',emp)\n",
    "    return num\n",
    "names = [name_pro(e)for e in emp]\n",
    "print(\"names =\",names)\n"
   ]
  },
  {
   "cell_type": "code",
   "execution_count": 228,
   "id": "6610535a",
   "metadata": {},
   "outputs": [
    {
     "name": "stdout",
     "output_type": "stream",
     "text": [
      "전체 사원의 급여 평균 : <function pay_pro at 0x10721d900>\n"
     ]
    }
   ],
   "source": [
    "\n",
    "from re import findall\n",
    "from statistics import mean\n",
    "\n",
    "emp = [\"2014홍길동220\",'2002이순신300','2010유관순260']\n",
    "\n",
    "result = 0\n",
    "def pay_pro(emp): \n",
    "    from statistics import mean\n",
    "    clean = findall(emp[7:],emp)\n",
    "    result = statistics.mean(clean)\n",
    "    return result \n",
    "\n",
    "pays_mean = pay_pro\n",
    "print(\"전체 사원의 급여 평균 :\", pays_mean)\n"
   ]
  },
  {
   "cell_type": "code",
   "execution_count": null,
   "id": "db53a857",
   "metadata": {},
   "outputs": [],
   "source": [
    "from re import findall\n",
    "from statistics import mean \n",
    "emp = [\"2014홍길동220\", \"2002이순신300\", \"2010유관순260\"]\n",
    "\n",
    "def pay_pro(x): \n",
    "    \n",
    "    "
   ]
  },
  {
   "cell_type": "code",
   "execution_count": 133,
   "id": "46f90eea",
   "metadata": {},
   "outputs": [
    {
     "name": "stdout",
     "output_type": "stream",
     "text": [
      "['afabasabag', 'abtta a', 'uysfsfaaa']\n"
     ]
    }
   ],
   "source": [
    "from re import findall,sub\n",
    "texts = ['AFAB54747,asabag?', 'abTTa $$;a12:2424', 'uysfsfaA,A124&***$?']\n",
    "\n",
    "def clean_text(text):\n",
    " \n",
    "    texts_re = text.lower()\n",
    "\n",
    "    texts_re2 = sub('[0-9]','',texts_re)\n",
    "\n",
    "    texts_re3 = sub('[,./!?:;]','',texts_re2)\n",
    " \n",
    "    texts_re4 = sub('[@#$%^&*()+=~]','',texts_re3)\n",
    "\n",
    "    texts_re6 = ' '.join(texts_re4.split())\n",
    "\n",
    "    return texts_re6 \n",
    "\n",
    "text_result = [clean_text(t)for t in texts]\n",
    "print(text_result) \n"
   ]
  },
  {
   "cell_type": "code",
   "execution_count": null,
   "id": "dc4e8199",
   "metadata": {},
   "outputs": [],
   "source": []
  },
  {
   "cell_type": "code",
   "execution_count": null,
   "id": "8cd2594d",
   "metadata": {},
   "outputs": [],
   "source": []
  },
  {
   "cell_type": "code",
   "execution_count": null,
   "id": "04ef9253",
   "metadata": {},
   "outputs": [],
   "source": []
  },
  {
   "cell_type": "code",
   "execution_count": null,
   "id": "d2efd941",
   "metadata": {},
   "outputs": [],
   "source": []
  },
  {
   "cell_type": "code",
   "execution_count": null,
   "id": "1aecb48e",
   "metadata": {},
   "outputs": [],
   "source": []
  }
 ],
 "metadata": {
  "kernelspec": {
   "display_name": "Python 3 (ipykernel)",
   "language": "python",
   "name": "python3"
  },
  "language_info": {
   "codemirror_mode": {
    "name": "ipython",
    "version": 3
   },
   "file_extension": ".py",
   "mimetype": "text/x-python",
   "name": "python",
   "nbconvert_exporter": "python",
   "pygments_lexer": "ipython3",
   "version": "3.10.3"
  }
 },
 "nbformat": 4,
 "nbformat_minor": 5
}
