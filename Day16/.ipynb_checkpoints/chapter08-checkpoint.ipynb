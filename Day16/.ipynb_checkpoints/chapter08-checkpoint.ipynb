{
 "cells": [
  {
   "cell_type": "code",
   "execution_count": 12,
   "id": "d053cb20",
   "metadata": {},
   "outputs": [
    {
     "name": "stdout",
     "output_type": "stream",
     "text": [
      "문단 길이 : 6\n",
      "단어 길이 : 22\n"
     ]
    }
   ],
   "source": [
    "file = open('data/ftest.txt',mode ='r')\n",
    "\n",
    "lines = file.readlines()\n",
    "docs = []\n",
    "words = [] \n",
    "\n",
    "for doc in lines: \n",
    "    docs.append(doc.strip())\n",
    "    for word in doc.split():\n",
    "        words.append(word)\n",
    "print(\"문단 길이 :\", len(docs)) \n",
    "print(\"단어 길이 :\",len(words))\n",
    " \n"
   ]
  },
  {
   "cell_type": "code",
   "execution_count": 22,
   "id": "ca6fc0cc",
   "metadata": {
    "scrolled": true
   },
   "outputs": [
    {
     "name": "stdout",
     "output_type": "stream",
     "text": [
      "<class 'pandas.core.frame.DataFrame'>\n",
      "RangeIndex: 5 entries, 0 to 4\n",
      "Data columns (total 3 columns):\n",
      " #   Column  Non-Null Count  Dtype \n",
      "---  ------  --------------  ----- \n",
      " 0   No      5 non-null      int64 \n",
      " 1   Name    5 non-null      object\n",
      " 2   Pay     5 non-null      int64 \n",
      "dtypes: int64(2), object(1)\n",
      "memory usage: 248.0+ bytes\n",
      "None\n",
      "관측지 길이 : 5\n",
      "전체 평균 급여 : 370\n",
      "최저급여 :150, 이름 :홍길동\n",
      "최고급여 :500, 이름 :강감찬\n"
     ]
    }
   ],
   "source": [
    "import pandas as pd\n",
    "\n",
    "emp = pd.read_csv('data/emp.csv',encoding='utf-8')\n",
    "print(emp.info())\n",
    "pay = emp.Pay\n",
    "from statistics import mean\n",
    "print(\"관측지 길이 :\",len(emp))\n",
    "print(\"전체 평균 급여 :\",mean(pay))\n",
    "max_py = max(pay)\n",
    "min_py = min(pay)\n",
    "name = emp.Name\n",
    "for id in range(len(pay)):\n",
    "    if pay[id] == min_py:\n",
    "        print(\"최저급여 :{}, 이름 :{}\".format(min_py,name[id]))\n",
    "    if pay[id] == max_py:\n",
    "        print(\"최고급여 :{}, 이름 :{}\".format(max_py,name[id]))\n",
    "\n"
   ]
  },
  {
   "cell_type": "code",
   "execution_count": null,
   "id": "dd223606",
   "metadata": {},
   "outputs": [],
   "source": []
  },
  {
   "cell_type": "code",
   "execution_count": null,
   "id": "07bc68eb",
   "metadata": {},
   "outputs": [],
   "source": []
  }
 ],
 "metadata": {
  "kernelspec": {
   "display_name": "Python 3 (ipykernel)",
   "language": "python",
   "name": "python3"
  },
  "language_info": {
   "codemirror_mode": {
    "name": "ipython",
    "version": 3
   },
   "file_extension": ".py",
   "mimetype": "text/x-python",
   "name": "python",
   "nbconvert_exporter": "python",
   "pygments_lexer": "ipython3",
   "version": "3.10.3"
  }
 },
 "nbformat": 4,
 "nbformat_minor": 5
}
