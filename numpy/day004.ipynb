{
 "cells": [
  {
   "cell_type": "code",
   "execution_count": 2,
   "metadata": {},
   "outputs": [
    {
     "name": "stdout",
     "output_type": "stream",
     "text": [
      "[1 2 3]\n"
     ]
    },
    {
     "data": {
      "text/plain": [
       "[1, 2, 3]"
      ]
     },
     "execution_count": 2,
     "metadata": {},
     "output_type": "execute_result"
    }
   ],
   "source": [
    "### Numpy \n",
    "# 고성능 수치 계산을 위해서 제작된 파이썬 라이브러리\n",
    "# 머신러닝 또는 딥러닝 알고리즘은 기본적으로 다차원 배열에 대한 계산으로 볼수 있음\n",
    "# 또는 대량 데이터를 다룰 때에 빠른 계산 능력이 요구되어 사용되는 라이브러리 \n",
    "\n",
    "# 생성된 Numpy확인 - Numpy의 핵심 객체(Ndarray) \n",
    "\n",
    "import numpy as np\n",
    "\n",
    "temp = np.array([1,2,3])\n",
    "print(temp)\n",
    "\n",
    "# 토튜리얼 : https://numpy.org/doc/stable/user/quickstart.html   \n"
   ]
  },
  {
   "cell_type": "code",
   "execution_count": 6,
   "metadata": {},
   "outputs": [
    {
     "name": "stdout",
     "output_type": "stream",
     "text": [
      "[1 2 3]\n",
      "(3,)\n",
      "[1 1 2 2 3 4]\n",
      "(6,)\n",
      "int64\n"
     ]
    }
   ],
   "source": [
    "# Numpy 기본 문법\n",
    "data1 = [1,2,3]\n",
    "data1  \n",
    "\n",
    "data2 = [1,1,2,2,3,4]  \n",
    "\n",
    "# np.array으로 배열로 변환하기 (파이썬은 array가 있다.하지만 list를 많이씀)\n",
    "my_array = np.array(data1)     \n",
    "print(my_array)  # [1 2 3]     \",\"없이 배열로 나온다.  \n",
    "print(my_array.shape) # (3,)   갯수\n",
    "\n",
    "my_array2 = np.array(data2)\n",
    "print(my_array2)  # [1 1 2 2 3 4]\n",
    "print(my_array2.shape) # (6,)\n",
    "\n",
    "# shape는 크키를 확인하는 함수이다. len과 비슷함\n",
    "\n",
    "## 리스트 선언 없이 바로 np.array로 사용\n",
    "my_array3 = np.array([3,4,5,12])\n",
    "print(my_array3.dtype)  # dtype은 데이터 사이즈를 알려준다. \n",
    "\n",
    "# data Types 참조 : https://numpy.org/devdocs/user/basic.types.html\n",
    "#  \n"
   ]
  },
  {
   "cell_type": "code",
   "execution_count": 9,
   "metadata": {},
   "outputs": [
    {
     "data": {
      "text/plain": [
       "(4, 3)"
      ]
     },
     "execution_count": 9,
     "metadata": {},
     "output_type": "execute_result"
    }
   ],
   "source": [
    "### 2차원 배열\n",
    "my_array4 = np.array([[2,4,6],[8,10,12],[14,18,16],[20,22,24]])\n",
    "my_array4 \n",
    "my_array4.shape # (4, 3) 4개의 다차원 배열과 길이 3개의 배열\n",
    "\n"
   ]
  },
  {
   "cell_type": "code",
   "execution_count": 14,
   "metadata": {},
   "outputs": [
    {
     "data": {
      "text/plain": [
       "array([[[ 2,  4],\n",
       "        [ 6,  5]],\n",
       "\n",
       "       [[ 8, 10],\n",
       "        [20, 22]]])"
      ]
     },
     "execution_count": 14,
     "metadata": {},
     "output_type": "execute_result"
    }
   ],
   "source": [
    "### 3차 배열\n",
    "my_array5 = np.array([[[2,4],[6,5]],[[8,10],[20,22]]])\n",
    "my_array5 "
   ]
  },
  {
   "cell_type": "code",
   "execution_count": 20,
   "metadata": {},
   "outputs": [
    {
     "name": "stdout",
     "output_type": "stream",
     "text": [
      "[0 1 2 3 4]\n",
      "[1 4 7]\n"
     ]
    },
    {
     "data": {
      "text/plain": [
       "dtype('int64')"
      ]
     },
     "execution_count": 20,
     "metadata": {},
     "output_type": "execute_result"
    }
   ],
   "source": [
    "### numpy배열생성 및 둘러보기 \n",
    "# Arrange : 기본 함수 중에 Range함수와 조금 유사하며, 더욱 쉽게 배열을 만들게함. \n",
    "arrange_array = np.arange(5)\n",
    "print(arrange_array)\n",
    "\n",
    "arrange_array2 = np.arange(1,9,3) # 1~9까지 [1,2,3,4,5,6,7,8]을 3을 더한값[1,4,7] \n",
    "print(arrange_array2) \n",
    "arrange_array2.dtype # dtype('int64')         "
   ]
  },
  {
   "cell_type": "code",
   "execution_count": 24,
   "metadata": {},
   "outputs": [
    {
     "name": "stdout",
     "output_type": "stream",
     "text": [
      "[[0. 0.]\n",
      " [0. 0.]\n",
      " [0. 0.]]\n",
      "Data Type is float64\n",
      "Data Shape is (3, 2)\n"
     ]
    }
   ],
   "source": [
    "### Zeros, Ones \n",
    "# 할당하는 사이즈 배열에 0이나1을 더욱 쉽게 입력하는 함수 \n",
    "zeros_arr = np.zeros((3,2))\n",
    "print(zeros_arr)\n",
    "print(\"Data Type is\",zeros_arr.dtype) # Data Type is float64\n",
    "print(\"Data Shape is\",zeros_arr.shape) # Data Shape is (3, 2)"
   ]
  },
  {
   "cell_type": "code",
   "execution_count": 25,
   "metadata": {},
   "outputs": [
    {
     "name": "stdout",
     "output_type": "stream",
     "text": [
      "[[1 1]\n",
      " [1 1]\n",
      " [1 1]]\n",
      "Data Type is int32\n",
      "Data Shape is (3, 2)\n"
     ]
    }
   ],
   "source": [
    "ones_arr = np.ones((3,2),dtype=\"int32\")\n",
    "print(ones_arr)\n",
    "print(\"Data Type is\",ones_arr.dtype) # Data Type is float64\n",
    "print(\"Data Shape is\",ones_arr.shape) # Data Shape is (3, 2)"
   ]
  },
  {
   "cell_type": "code",
   "execution_count": 45,
   "metadata": {},
   "outputs": [
    {
     "name": "stdout",
     "output_type": "stream",
     "text": [
      "[[1 1]\n",
      " [1 1]\n",
      " [1 1]]\n",
      "Data Shape is (3, 2)\n",
      "[[1 1]\n",
      " [1 1]\n",
      " [1 1]]\n"
     ]
    }
   ],
   "source": [
    "## Reshape\n",
    "\n",
    "after_reshape = ones_arr.reshape(3,2)\n",
    "print(after_reshape) \n",
    "print(\"Data Shape is\",after_reshape.shape)\n",
    "\n",
    "## 항상 변경이 가능하지는 않다. 조건은 size가 동일해야한다. \n",
    "# ones_arr를 다른 사이즈로 변경해보세요. \n",
    "# after_reshape1=ones_arr.reshape(2,3,2)\n",
    "# print(after_reshape1)  \n",
    "\n",
    "# after_reshape2 = ones_arr.reshape(3,2,2)\n",
    "# print(after_reshape2)\n",
    "\n",
    "# after_reshape3 = ones_arr.reshape(2,2,3)\n",
    "# print(after_reshape3)\n",
    "\n",
    "### -1의 의미는? 차원을 자동으로 계산한다는 의미이다. \n",
    "after_reshape4 = ones_arr.reshape(3,-1)\n",
    "print(after_reshape4)"
   ]
  },
  {
   "cell_type": "code",
   "execution_count": 50,
   "metadata": {},
   "outputs": [
    {
     "name": "stdout",
     "output_type": "stream",
     "text": [
      "[0 1 2 3]\n",
      "my_array의 1번째 요소, 즉 0번인 것은 : 0\n",
      "my_array[0:3] : [0 1 2]\n",
      "my_array[0:] : [0 1 2 3]\n",
      "my_array[:2] : [0 1]\n",
      "my_array[:] : [0 1 2 3]\n",
      "my_array[0:-1] : [0 1 2]\n"
     ]
    }
   ],
   "source": [
    "### Numpy인덱싱과 슬라이싱\n",
    "my_array = np.arange(0,4)\n",
    "print(my_array)\n",
    "print(\"my_array의 1번째 요소, 즉 0번인 것은 :\",my_array[0]) # my_array의 1번째 요소, 즉 0번인 것은 : 0\n",
    "print(\"my_array[0:3] :\",my_array[0:3]) # my_array[0:3] : [0 1 2]\n",
    "print(\"my_array[0:] :\",my_array[0:]) # my_array[0:] : [0 1 2 3]\n",
    "print(\"my_array[:2] :\",my_array[:2]) # my_array[:2] : [0 1]\n",
    "print(\"my_array[:] :\",my_array[:]) # my_array[:] : [0 1 2 3]\n",
    "print(\"my_array[0:-1] :\",my_array[0:-1]) # my_array[0:-1] : [0 1 2]"
   ]
  },
  {
   "cell_type": "code",
   "execution_count": 54,
   "metadata": {},
   "outputs": [
    {
     "name": "stdout",
     "output_type": "stream",
     "text": [
      "[[ 2  4  6  8 10 12 14 16 18]\n",
      " [ 3  6  9 12 15 18 21 24 27]\n",
      " [ 4  8 12 16 20 24 28 32 36]\n",
      " [ 5 10 15 20 25 30 35 40 45]]\n",
      "(4, 9)\n",
      "[[2 4]\n",
      " [3 6]]\n",
      "[[ 3  6  9 12 15 18 21 24 27]\n",
      " [ 4  8 12 16 20 24 28 32 36]]\n"
     ]
    }
   ],
   "source": [
    "my_array2 = np.array(\n",
    "    [[2,4,6,8,10,12,14,16,18],\n",
    "     [3,6,9,12,15,18,21,24,27],\n",
    "     [4,8,12,16,20,24,28,32,36],\n",
    "     [5,10,15,20,25,30,35,40,45]\n",
    "    ])\n",
    "print(my_array2)\n",
    "print(my_array2.shape) # (4, 9) \n",
    "print(my_array2[0:2,0:2]) \n",
    "print(my_array2[1:3,:]) "
   ]
  },
  {
   "cell_type": "code",
   "execution_count": 56,
   "metadata": {},
   "outputs": [
    {
     "name": "stdout",
     "output_type": "stream",
     "text": [
      "Height Matrix : [174 165 182 180 168]\n",
      "np.sort() Matrix : [165 168 174 180 182]\n",
      "np.sort()[::1] : [182 180 174 168 165]\n"
     ]
    }
   ],
   "source": [
    "### Numpy 정렬 : sort(), argsort()\n",
    "\n",
    "# np.sort() : 원본에 변화를 주지 않고, 복사본을 전달함           \n",
    "height_arr = np.array([174,165,182,180,168])\n",
    "sorted_height_arr = np.sort(height_arr) \n",
    "print(\"Height Matrix :\",height_arr )\n",
    "print(\"np.sort() Matrix :\", sorted_height_arr)   # 오름차순\n",
    "\n",
    "# 내림차순 정렬\n",
    "desc_sorted_height_arr = np.sort(height_arr)[::-1]  ## [::-1]끝에서부터 하나씩 줄여가겠단 의미 \n",
    "print(\"np.sort()[::1] :\",desc_sorted_height_arr) \n"
   ]
  },
  {
   "cell_type": "code",
   "execution_count": 59,
   "metadata": {},
   "outputs": [
    {
     "name": "stdout",
     "output_type": "stream",
     "text": [
      "original data : [10  5 15 30]\n",
      "argsort() : [1 0 2 3]\n",
      "Ascending : [ 5 10 15 30]\n"
     ]
    }
   ],
   "source": [
    "###argsort()\n",
    "# numpy.argsort() 함수는 지정된 축을 따라 데이터 인덱스의 배열을 반환하도록 지정된 종류의 정렬을 사용해 입력 배열에서 간접 정렬을 수행함.\n",
    "\n",
    "fives = np.array([10,5,15,30])\n",
    "fives_order = fives.argsort() \n",
    "print(\"original data :\", fives) \n",
    "print(\"argsort() :\", fives_order) # argsort() : [1 0 2 3] 오름차순 인덱싱 값을 반환\n",
    "print(\"Ascending :\", fives[fives_order]) # Ascending : [ 5 10 15 30]\n",
    "\n",
    "# 넘파이 튜토리알 : https://numpy.org/learn/\n",
    "# numpy Broadcasting: https://numpy.org/doc/stable/user/basics.broadcasting.html \n",
    "\n",
    "# 숙제 같은 크기의 두 배열에 대한 연산과 서로 크기가 다른 두 배열의 연산을 공부하세요.\n"
   ]
  },
  {
   "cell_type": "code",
   "execution_count": null,
   "metadata": {},
   "outputs": [],
   "source": []
  }
 ],
 "metadata": {
  "interpreter": {
   "hash": "aee8b7b246df8f9039afb4144a1f6fd8d2ca17a180786b69acc140d282b71a49"
  },
  "kernelspec": {
   "display_name": "Python 3.10.3 64-bit",
   "language": "python",
   "name": "python3"
  },
  "language_info": {
   "codemirror_mode": {
    "name": "ipython",
    "version": 3
   },
   "file_extension": ".py",
   "mimetype": "text/x-python",
   "name": "python",
   "nbconvert_exporter": "python",
   "pygments_lexer": "ipython3",
   "version": "3.10.3"
  },
  "orig_nbformat": 4
 },
 "nbformat": 4,
 "nbformat_minor": 2
}
