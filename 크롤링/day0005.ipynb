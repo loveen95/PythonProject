{
 "cells": [
  {
   "cell_type": "code",
   "execution_count": null,
   "metadata": {},
   "outputs": [],
   "source": [
    "### Melon 차트 크롤링 (selenium만 사용)\n",
    "url = 'http://www.melon.com/chart/index.htm'\n",
    "driver.get(url)          \n",
    "                                \n",
    "songs = driver.find_elements(\"css selector\",'tr')[1:]     # 멜론 사이트 개편으로 코드 수정(updated 2020.07.13)\n",
    "for song in songs:                                        \n",
    "    title = song.find_elements(\"css selector\",'div.ellipsis.rank01 > span > a')[0].text\n",
    "    singer = song.find_elements(\"css selector\",'div.ellipsis.rank02 > a')[0].text  \n",
    "    print(title, singer, sep = ' | ')\n",
    "# find_element의 메서드 {\"method\":\"css selector\",\"selector\":\"[id=\"None\"]\"}"
   ]
  },
  {
   "cell_type": "code",
   "execution_count": 1,
   "metadata": {},
   "outputs": [
    {
     "name": "stderr",
     "output_type": "stream",
     "text": [
      "C:\\Users\\hyoseon\\AppData\\Local\\Temp\\ipykernel_16876\\2551005110.py:5: DeprecationWarning: executable_path has been deprecated, please pass in a Service object\n",
      "  driver = webdriver.Chrome(\"c:\\webdriver/chromedriver.exe\")\n"
     ]
    }
   ],
   "source": [
    "### bugs 차트 크롤링하기.... \n",
    "from selenium import webdriver\n",
    "from bs4 import BeautifulSoup\n",
    "\n",
    "driver = webdriver.Chrome(\"c:\\webdriver/chromedriver.exe\")\n",
    "url = \"https://music.bugs.co.kr/chart\"\n",
    "driver.get(url)\n"
   ]
  },
  {
   "cell_type": "code",
   "execution_count": 2,
   "metadata": {},
   "outputs": [],
   "source": [
    "html = driver.page_source\n",
    "soup = BeautifulSoup(html,\"html.parser\")"
   ]
  },
  {
   "cell_type": "code",
   "execution_count": 3,
   "metadata": {},
   "outputs": [
    {
     "data": {
      "text/plain": [
       "100"
      ]
     },
     "execution_count": 3,
     "metadata": {},
     "output_type": "execute_result"
    }
   ],
   "source": [
    "## 곡정보 얻기\n",
    "songs = soup.select('table.byChart > tbody > tr')\n",
    "len(songs)"
   ]
  },
  {
   "cell_type": "code",
   "execution_count": 4,
   "metadata": {},
   "outputs": [],
   "source": [
    "## 곡정보 확인\n",
    "song = songs[0]"
   ]
  },
  {
   "cell_type": "code",
   "execution_count": 5,
   "metadata": {},
   "outputs": [
    {
     "data": {
      "text/plain": [
       "'LOVE DIVE'"
      ]
     },
     "execution_count": 5,
     "metadata": {},
     "output_type": "execute_result"
    }
   ],
   "source": [
    "## 곡 제목 찾기\n",
    "title = song.select('p.title > a')[0].text\n",
    "title"
   ]
  },
  {
   "cell_type": "code",
   "execution_count": 6,
   "metadata": {},
   "outputs": [
    {
     "data": {
      "text/plain": [
       "'IVE (아이브)'"
      ]
     },
     "execution_count": 6,
     "metadata": {},
     "output_type": "execute_result"
    }
   ],
   "source": [
    "## 가수 이름 찾기\n",
    "singer = song.select('p.artist > a')[0].text\n",
    "singer"
   ]
  },
  {
   "cell_type": "code",
   "execution_count": 7,
   "metadata": {},
   "outputs": [
    {
     "name": "stdout",
     "output_type": "stream",
     "text": [
      "LOVE DIVE|IVE (아이브)\n",
      "FEARLESS|LE SSERAFIM (르세라핌)\n",
      "TOMBOY|(여자)아이들\n",
      "팡파레|다비치\n",
      "INVU|태연 (TAEYEON)\n",
      "내 곁에|태연 (TAEYEON)\n",
      "That That (prod. & feat. SUGA of BTS)|싸이 (PSY)\n",
      "초록을거머쥔우리는|잔나비\n",
      "Weekend|태연 (TAEYEON)\n",
      "Feel My Rhythm|Red Velvet (레드벨벳)\n",
      "Seoul|볼빨간사춘기\n",
      "LOVE me|BE'O (비오)\n",
      "봄여름가을겨울 (Still Life)|BIGBANG (빅뱅)\n",
      "사랑인가 봐|멜로망스(MeloMance)\n",
      "ELEVEN|IVE (아이브)\n",
      "Celeb|싸이 (PSY)\n",
      "Can't Control Myself|태연 (TAEYEON)\n",
      "ZOOM|제시(Jessi)\n",
      "YOU AND I|WSG워너비 조별경연 (대청봉)\n",
      "감동이야 (feat. 성시경)|싸이 (PSY)\n",
      "왜 이제와서야 (Why)|황치열\n",
      "Happy Song|멜로망스(MeloMance)\n",
      "That's Hilarious|Charlie Puth(찰리 푸스)\n",
      "사계 (Four Seasons)|태연 (TAEYEON)\n",
      "GANADARA (Feat. 아이유)|박재범\n",
      "MY BAG|(여자)아이들\n",
      "나의 X에게|경서\n",
      "Sweet Dreams, My Dear (Song by. 소향)|스마일게이트알피지 & 소향\n",
      "봄 to 러브|10CM\n",
      "Sweet Dreams, My Dear (Song by. 소향) (Ver. Kor)|스마일게이트알피지 & 소향\n",
      "여름가을겨울  봄.|잔나비\n",
      "정이라고 하자 (Feat. 10CM)|BIG Naughty (서동현)\n",
      "Drive|미연 ((여자)아이들)\n",
      "Love story|볼빨간사춘기\n",
      "드라마|아이유(IU)\n",
      "Real Love|오마이걸(OH MY GIRL)\n",
      "마지막 너의 인사|헤이즈(Heize)\n",
      "SMILEY (Feat. BIBI)|YENA (최예나)\n",
      "초대|멜로망스(MeloMance)\n",
      "With you|지민\n",
      "RUN2U|STAYC(스테이씨)\n",
      "안녕이란 말|정승환\n",
      "사건의 지평선|윤하(Younha/ユンナ)\n",
      "신호등|이무진\n",
      "이제는 (feat. 화사)|싸이 (PSY)\n",
      "우리들의 블루스|임영웅\n",
      "취중고백|김민석 (멜로망스)\n",
      "너를 생각해|주시크 (Joosiq)\n",
      "Celebrity|아이유(IU)\n",
      "듣고 싶을까|MSG워너비(M.O.M)\n",
      "라일락|아이유(IU)\n",
      "O.O|NMIXX\n",
      "Blueming|아이유(IU)\n",
      "Step Back|GOT the beat\n",
      "둘이서 떠나요|다비치\n",
      "다정히 내 이름을 부르면|경서예지\n",
      "strawberry moon|아이유(IU)\n",
      "미친 것처럼|V.O.S.\n",
      "슬픔이여안녕|잔나비\n",
      "모래성|다비치\n",
      "STAY|The Kid LAROI\n",
      "As It Was|Harry Styles(해리 스타일스)\n",
      "All 4 Nothing (I'm So In Love)|Lauv(라우브)\n",
      "Next Level|aespa\n",
      "Light Switch|Charlie Puth(찰리 푸스)\n",
      "밤이 깊었네 (feat. 헤이즈)|싸이 (PSY)\n",
      "회전목마 (Feat. Zion.T, 원슈타인) (Prod. Slom)|sokodomo\n",
      "유난히 지치는 그런 날이 있잖아|다비치\n",
      "사랑은 늘 도망가|임영웅\n",
      "내 손을 잡아|아이유(IU)\n",
      "썸 2 (Feat. 정용화)|소유 (SOYOU)\n",
      "Dynamite|방탄소년단\n",
      "레이디버드|잔나비\n",
      "Off My Face|Justin Bieber(저스틴 비버)\n",
      "존재만으로|원슈타인\n",
      "탐이 나 (Tell me now)|퀸이 나 (브레이브걸스 & 이달의 소녀)\n",
      "Dreams Come True|aespa\n",
      "2step (feat. Lil Baby)|Ed Sheeran(에드 시런)\n",
      "Stronger (What Doesn't Kill You)|Kelly Clarkson(켈리 클락슨)\n",
      "Here We Are|김필(Kim Feel)\n",
      "Butter|방탄소년단\n",
      "어제처럼|폴킴(Paul Kim)\n",
      "DM|프로미스나인\n",
      "너의 모든 순간|성시경\n",
      "스물다섯, 스물하나|자우림(Jaurim)\n",
      "Permission to Dance|방탄소년단\n",
      "BOP BOP!|VIVIZ (비비지)\n",
      "에잇(Prod.&Feat. SUGA of BTS)|아이유(IU)\n",
      "Candy Sugar Pop|아스트로(ASTRO)\n",
      "Starlight|태일 (TAEIL)\n",
      "나의 봄은|이수현\n",
      "겨울잠|아이유(IU)\n",
      "모든 날, 모든 순간 (Every day, Every Moment)|폴킴(Paul Kim)\n",
      "Bad Habits|Ed Sheeran(에드 시런)\n",
      "서랍|10CM\n",
      "Star|STAYC(스테이씨)\n",
      "Whisky on the Rock|김연지\n",
      "Dolphin|오마이걸(OH MY GIRL)\n",
      "어푸 (Ah puh)|아이유(IU)\n",
      "기억해 줘요|다비치\n"
     ]
    }
   ],
   "source": [
    "songs = soup.select('table.byChart > tbody > tr')\n",
    "for song in songs:\n",
    "    title = song.select('p.title > a')[0].text\n",
    "    singer = song.select('p.artist > a')[0].text\n",
    "    print(title, singer, sep=\"|\")"
   ]
  },
  {
   "cell_type": "code",
   "execution_count": 8,
   "metadata": {},
   "outputs": [],
   "source": [
    "### 반복문을 사용하여 song_data를 저장\n",
    "song_data = []\n",
    "rank = 1\n",
    "songs = soup.select('table.byChart > tbody > tr')\n",
    "for song in songs:\n",
    "    title = song.select('p.title > a')[0].text\n",
    "    singer = song.select('p.artist > a')[0].text\n",
    "    song_data.append(['Bugs',rank,title,singer])\n",
    "    rank = rank + 1\n"
   ]
  },
  {
   "cell_type": "code",
   "execution_count": 9,
   "metadata": {},
   "outputs": [
    {
     "name": "stdout",
     "output_type": "stream",
     "text": [
      "<class 'pandas.core.frame.DataFrame'>\n",
      "RangeIndex: 100 entries, 0 to 99\n",
      "Data columns (total 4 columns):\n",
      " #   Column  Non-Null Count  Dtype \n",
      "---  ------  --------------  ----- \n",
      " 0   서비스     100 non-null    object\n",
      " 1   순위      100 non-null    int64 \n",
      " 2   타이틀     100 non-null    object\n",
      " 3   가수      100 non-null    object\n",
      "dtypes: int64(1), object(3)\n",
      "memory usage: 3.2+ KB\n"
     ]
    },
    {
     "data": {
      "text/html": [
       "<div>\n",
       "<style scoped>\n",
       "    .dataframe tbody tr th:only-of-type {\n",
       "        vertical-align: middle;\n",
       "    }\n",
       "\n",
       "    .dataframe tbody tr th {\n",
       "        vertical-align: top;\n",
       "    }\n",
       "\n",
       "    .dataframe thead th {\n",
       "        text-align: right;\n",
       "    }\n",
       "</style>\n",
       "<table border=\"1\" class=\"dataframe\">\n",
       "  <thead>\n",
       "    <tr style=\"text-align: right;\">\n",
       "      <th></th>\n",
       "      <th>서비스</th>\n",
       "      <th>순위</th>\n",
       "      <th>타이틀</th>\n",
       "      <th>가수</th>\n",
       "    </tr>\n",
       "  </thead>\n",
       "  <tbody>\n",
       "    <tr>\n",
       "      <th>0</th>\n",
       "      <td>Bugs</td>\n",
       "      <td>1</td>\n",
       "      <td>LOVE DIVE</td>\n",
       "      <td>IVE (아이브)</td>\n",
       "    </tr>\n",
       "    <tr>\n",
       "      <th>1</th>\n",
       "      <td>Bugs</td>\n",
       "      <td>2</td>\n",
       "      <td>FEARLESS</td>\n",
       "      <td>LE SSERAFIM (르세라핌)</td>\n",
       "    </tr>\n",
       "    <tr>\n",
       "      <th>2</th>\n",
       "      <td>Bugs</td>\n",
       "      <td>3</td>\n",
       "      <td>TOMBOY</td>\n",
       "      <td>(여자)아이들</td>\n",
       "    </tr>\n",
       "    <tr>\n",
       "      <th>3</th>\n",
       "      <td>Bugs</td>\n",
       "      <td>4</td>\n",
       "      <td>팡파레</td>\n",
       "      <td>다비치</td>\n",
       "    </tr>\n",
       "    <tr>\n",
       "      <th>4</th>\n",
       "      <td>Bugs</td>\n",
       "      <td>5</td>\n",
       "      <td>INVU</td>\n",
       "      <td>태연 (TAEYEON)</td>\n",
       "    </tr>\n",
       "  </tbody>\n",
       "</table>\n",
       "</div>"
      ],
      "text/plain": [
       "    서비스  순위        타이틀                  가수\n",
       "0  Bugs   1  LOVE DIVE           IVE (아이브)\n",
       "1  Bugs   2   FEARLESS  LE SSERAFIM (르세라핌)\n",
       "2  Bugs   3     TOMBOY             (여자)아이들\n",
       "3  Bugs   4        팡파레                 다비치\n",
       "4  Bugs   5       INVU        태연 (TAEYEON)"
      ]
     },
     "execution_count": 9,
     "metadata": {},
     "output_type": "execute_result"
    }
   ],
   "source": [
    "import pandas as pd\n",
    "columns = ['서비스','순위','타이틀','가수']\n",
    "pd_df = pd.DataFrame(song_data,columns=columns)\n",
    "pd_df.info()\n",
    "pd_df.head()"
   ]
  },
  {
   "cell_type": "code",
   "execution_count": 10,
   "metadata": {},
   "outputs": [],
   "source": [
    "## 크롤링 결과를 엑셀로 저장\n",
    "pd_df.to_excel(\"data/bugs.xlsx\", index=False)"
   ]
  },
  {
   "cell_type": "code",
   "execution_count": null,
   "metadata": {},
   "outputs": [],
   "source": [
    "### 지니 차트 알아오기... \n",
    "from selenium import webdriver\n",
    "from bs4 import BeautifulSoup\n",
    "\n",
    "driver = webdriver.Chrome(\"c:\\webdriver\\chromedriver.exe\")\n",
    "url = \"https://www.genie.co.kr/chart/top200\"\n",
    "driver.get(url)\n",
    "\n",
    "html = driver.page_source\n",
    "soup = BeautifulSoup(html,\"html.parser\")\n",
    "soup"
   ]
  },
  {
   "cell_type": "code",
   "execution_count": null,
   "metadata": {},
   "outputs": [],
   "source": [
    "### 곡 정보 찾기\n",
    "songs = soup.select(\"table > tbody > tr\")\n",
    "len(songs)\n",
    "songs[0]"
   ]
  },
  {
   "cell_type": "code",
   "execution_count": 13,
   "metadata": {},
   "outputs": [
    {
     "data": {
      "text/plain": [
       "1"
      ]
     },
     "execution_count": 13,
     "metadata": {},
     "output_type": "execute_result"
    }
   ],
   "source": [
    "song = songs[0]\n",
    "title = song.select(\"a.title\")\n",
    "len(title)"
   ]
  },
  {
   "cell_type": "code",
   "execution_count": 14,
   "metadata": {},
   "outputs": [
    {
     "data": {
      "text/plain": [
       "'That That (Prod. & Feat. SUGA of BTS)'"
      ]
     },
     "execution_count": 14,
     "metadata": {},
     "output_type": "execute_result"
    }
   ],
   "source": [
    "title = song.select(\"a.title\")[0].text.strip()\n",
    "title"
   ]
  },
  {
   "cell_type": "code",
   "execution_count": 15,
   "metadata": {},
   "outputs": [
    {
     "data": {
      "text/plain": [
       "'싸이 (Psy)'"
      ]
     },
     "execution_count": 15,
     "metadata": {},
     "output_type": "execute_result"
    }
   ],
   "source": [
    "singer = song.select(\"a.artist\")[0].text\n",
    "singer"
   ]
  },
  {
   "cell_type": "code",
   "execution_count": null,
   "metadata": {},
   "outputs": [],
   "source": [
    "songs = soup.select(\"table > tbody > tr\")\n",
    "for song in songs:\n",
    "    title = song.select(\"a.title\")[0].text.strip()\n",
    "    title = title.replace(\"19금\",\"\").strip()\n",
    "    singer = song.select(\"a.artist\")[0].text\n",
    "    print(title, singer, sep=\"|\")"
   ]
  },
  {
   "cell_type": "code",
   "execution_count": 17,
   "metadata": {},
   "outputs": [],
   "source": [
    "song_data = []\n",
    "rank = 1\n",
    "songs = soup.select(\"table > tbody > tr\")\n",
    "for song in songs:\n",
    "    title = song.select(\"a.title\")[0].text.strip()\n",
    "    title = title.replace(\"19금\",\"\").strip()\n",
    "    singer = song.select(\"a.artist\")[0].text\n",
    "    song_data.append(['Genie',rank,title,singer])\n",
    "    rank = rank + 1"
   ]
  },
  {
   "cell_type": "code",
   "execution_count": 18,
   "metadata": {},
   "outputs": [],
   "source": [
    "import pandas as pd\n",
    "columns = ['서비스','순위','타이틀','가수']\n",
    "pd_df = pd.DataFrame(song_data,columns=columns)\n",
    "pd_df.to_excel(\"data/genie.xlsx\",index=False)"
   ]
  },
  {
   "cell_type": "code",
   "execution_count": 19,
   "metadata": {},
   "outputs": [
    {
     "name": "stderr",
     "output_type": "stream",
     "text": [
      "C:\\Users\\hyoseon\\AppData\\Local\\Temp\\ipykernel_16876\\4102602683.py:7: FutureWarning: The frame.append method is deprecated and will be removed from pandas in a future version. Use pandas.concat instead.\n",
      "  appended_data = appended_data.append(pd_df)\n",
      "C:\\Users\\hyoseon\\AppData\\Local\\Temp\\ipykernel_16876\\4102602683.py:7: FutureWarning: The frame.append method is deprecated and will be removed from pandas in a future version. Use pandas.concat instead.\n",
      "  appended_data = appended_data.append(pd_df)\n",
      "C:\\Users\\hyoseon\\AppData\\Local\\Temp\\ipykernel_16876\\4102602683.py:7: FutureWarning: The frame.append method is deprecated and will be removed from pandas in a future version. Use pandas.concat instead.\n",
      "  appended_data = appended_data.append(pd_df)\n"
     ]
    }
   ],
   "source": [
    "#### Excel_Merge\n",
    "excel_names = [\"data/bugs.xlsx\",\"data/genie.xlsx\",\"data/melon.xlsx\"]\n",
    "\n",
    "appended_data = pd.DataFrame()\n",
    "for name in excel_names:\n",
    "    pd_df = pd.read_excel(name)\n",
    "    appended_data = appended_data.append(pd_df)"
   ]
  },
  {
   "cell_type": "code",
   "execution_count": 20,
   "metadata": {},
   "outputs": [
    {
     "name": "stdout",
     "output_type": "stream",
     "text": [
      "<class 'pandas.core.frame.DataFrame'>\n",
      "Int64Index: 250 entries, 0 to 99\n",
      "Data columns (total 4 columns):\n",
      " #   Column  Non-Null Count  Dtype \n",
      "---  ------  --------------  ----- \n",
      " 0   서비스     250 non-null    object\n",
      " 1   순위      250 non-null    int64 \n",
      " 2   타이틀     250 non-null    object\n",
      " 3   가수      250 non-null    object\n",
      "dtypes: int64(1), object(3)\n",
      "memory usage: 9.8+ KB\n"
     ]
    }
   ],
   "source": [
    "appended_data.info()"
   ]
  },
  {
   "cell_type": "code",
   "execution_count": 21,
   "metadata": {},
   "outputs": [],
   "source": [
    "### excel저장\n",
    "appended_data.to_excel(\"data/total.xlsx\",\"가요순위\",index=False)"
   ]
  },
  {
   "cell_type": "code",
   "execution_count": 22,
   "metadata": {},
   "outputs": [],
   "source": [
    "### 유튜브 랭킹 데이터 수집\n",
    "from selenium import webdriver\n",
    "from bs4 import BeautifulSoup\n",
    "import time\n",
    "import pandas as pd"
   ]
  },
  {
   "cell_type": "code",
   "execution_count": 23,
   "metadata": {},
   "outputs": [
    {
     "name": "stderr",
     "output_type": "stream",
     "text": [
      "C:\\Users\\hyoseon\\AppData\\Local\\Temp\\ipykernel_16876\\2211776188.py:1: DeprecationWarning: executable_path has been deprecated, please pass in a Service object\n",
      "  driver = webdriver.Chrome(\"c:\\webdriver\\chromedriver.exe\")\n"
     ]
    }
   ],
   "source": [
    "driver = webdriver.Chrome(\"c:\\webdriver\\chromedriver.exe\")\n",
    "url = \"https://youtube-rank.com/board/bbs/board.php?bo_table=youtube\"\n",
    "driver.get(url)"
   ]
  },
  {
   "cell_type": "code",
   "execution_count": 24,
   "metadata": {},
   "outputs": [],
   "source": [
    "html = driver.page_source\n",
    "soup = BeautifulSoup(html, \"html.parser\")"
   ]
  },
  {
   "cell_type": "code",
   "execution_count": 25,
   "metadata": {},
   "outputs": [
    {
     "data": {
      "text/plain": [
       "100"
      ]
     },
     "execution_count": 25,
     "metadata": {},
     "output_type": "execute_result"
    }
   ],
   "source": [
    "channel_list = soup.select(\"form > table > tbody > tr\")\n",
    "len(channel_list)"
   ]
  },
  {
   "cell_type": "code",
   "execution_count": 26,
   "metadata": {},
   "outputs": [],
   "source": [
    "channel = channel_list[0]"
   ]
  },
  {
   "cell_type": "code",
   "execution_count": 27,
   "metadata": {},
   "outputs": [
    {
     "data": {
      "text/plain": [
       "'[음악/댄스/가수]'"
      ]
     },
     "execution_count": 27,
     "metadata": {},
     "output_type": "execute_result"
    }
   ],
   "source": [
    "# 카테고리\n",
    "category = channel.select(\"p.category\")[0].text.strip()\n",
    "# len(category)\n",
    "category"
   ]
  },
  {
   "cell_type": "code",
   "execution_count": 28,
   "metadata": {},
   "outputs": [
    {
     "data": {
      "text/plain": [
       "'BLACKPINK'"
      ]
     },
     "execution_count": 28,
     "metadata": {},
     "output_type": "execute_result"
    }
   ],
   "source": [
    "# 채널 타이틀\n",
    "title = channel.select(\"h1 > a\")[0].text.strip()\n",
    "len(title)\n",
    "title"
   ]
  },
  {
   "cell_type": "code",
   "execution_count": 29,
   "metadata": {},
   "outputs": [],
   "source": [
    "# 구독자 수 , view 수, 동영상 수 추출\n",
    "subscriber = channel.select(\".subscriber_cnt\")[0].text\n",
    "view = channel.select(\".view_cnt\")[0].text\n",
    "video = channel.select(\".video_cnt\")[0].text"
   ]
  },
  {
   "cell_type": "code",
   "execution_count": null,
   "metadata": {},
   "outputs": [],
   "source": [
    "### 데이터 추출\n",
    "channel_list = soup.select(\"form > table > tbody > tr\")\n",
    "for channel in channel_list:\n",
    "    title = channel.select(\"h1 > a\")[0].text.strip()\n",
    "    category = channel.select(\"p.category\")[0].text.strip()\n",
    "    subscriber = channel.select(\".subscriber_cnt\")[0].text\n",
    "    view = channel.select(\".view_cnt\")[0].text\n",
    "    video = channel.select(\".video_cnt\")[0].text\n",
    "    print(title, category, subscriber, view, video)"
   ]
  },
  {
   "cell_type": "code",
   "execution_count": 31,
   "metadata": {},
   "outputs": [
    {
     "name": "stdout",
     "output_type": "stream",
     "text": [
      "https://youtube-rank.com/board/bbs/board.php?bo_table=youtube&page=1\n"
     ]
    }
   ],
   "source": [
    "### 페이지별로 100개씩 노출하고 있음.... \n",
    "page = 1\n",
    "url = f\"https://youtube-rank.com/board/bbs/board.php?bo_table=youtube&page={page}\"\n",
    "print(url)"
   ]
  },
  {
   "cell_type": "code",
   "execution_count": 32,
   "metadata": {},
   "outputs": [],
   "source": [
    "### 유튜브 랭킹 화면의 여러 페이지 크롤링\n",
    "result = []\n",
    "for page in range(1,11):\n",
    "    url = f\"https://youtube-rank.com/board/bbs/board.php?bo_table=youtube&page={page}\"\n",
    "    driver.get(url)\n",
    "    time.sleep(4)\n",
    "    html = driver.page_source\n",
    "    soup = BeautifulSoup(html, \"html.parser\")\n",
    "    channel_list = soup.select(\"form > table > tbody > tr\")\n",
    "    for channel in channel_list:\n",
    "        title = channel.select(\"h1 > a\")[0].text.strip()\n",
    "        category = channel.select(\"p.category\")[0].text.strip()\n",
    "        subscriber = channel.select(\".subscriber_cnt\")[0].text\n",
    "        view = channel.select(\".view_cnt\")[0].text\n",
    "        video = channel.select(\".video_cnt\")[0].text\n",
    "        data = [title, category, subscriber, view, video]\n",
    "        result.append(data)"
   ]
  },
  {
   "cell_type": "code",
   "execution_count": 33,
   "metadata": {},
   "outputs": [
    {
     "data": {
      "text/html": [
       "<div>\n",
       "<style scoped>\n",
       "    .dataframe tbody tr th:only-of-type {\n",
       "        vertical-align: middle;\n",
       "    }\n",
       "\n",
       "    .dataframe tbody tr th {\n",
       "        vertical-align: top;\n",
       "    }\n",
       "\n",
       "    .dataframe thead th {\n",
       "        text-align: right;\n",
       "    }\n",
       "</style>\n",
       "<table border=\"1\" class=\"dataframe\">\n",
       "  <thead>\n",
       "    <tr style=\"text-align: right;\">\n",
       "      <th></th>\n",
       "      <th>title</th>\n",
       "      <th>category</th>\n",
       "      <th>subscriber</th>\n",
       "      <th>view</th>\n",
       "      <th>video</th>\n",
       "    </tr>\n",
       "  </thead>\n",
       "  <tbody>\n",
       "    <tr>\n",
       "      <th>0</th>\n",
       "      <td>BLACKPINK</td>\n",
       "      <td>[음악/댄스/가수]</td>\n",
       "      <td>7420만</td>\n",
       "      <td>236억7615만</td>\n",
       "      <td>394개</td>\n",
       "    </tr>\n",
       "    <tr>\n",
       "      <th>1</th>\n",
       "      <td>BANGTANTV</td>\n",
       "      <td>[음악/댄스/가수]</td>\n",
       "      <td>6630만</td>\n",
       "      <td>161억5062만</td>\n",
       "      <td>1,694개</td>\n",
       "    </tr>\n",
       "    <tr>\n",
       "      <th>2</th>\n",
       "      <td>HYBE LABELS</td>\n",
       "      <td>[음악/댄스/가수]</td>\n",
       "      <td>6550만</td>\n",
       "      <td>226억3812만</td>\n",
       "      <td>866개</td>\n",
       "    </tr>\n",
       "    <tr>\n",
       "      <th>3</th>\n",
       "      <td>SMTOWN</td>\n",
       "      <td>[음악/댄스/가수]</td>\n",
       "      <td>3030만</td>\n",
       "      <td>244억9471만</td>\n",
       "      <td>3,904개</td>\n",
       "    </tr>\n",
       "    <tr>\n",
       "      <th>4</th>\n",
       "      <td>Boram Tube Vlog [보람튜브 브이로그]</td>\n",
       "      <td>[키즈/어린이]</td>\n",
       "      <td>2650만</td>\n",
       "      <td>110억5288만</td>\n",
       "      <td>223개</td>\n",
       "    </tr>\n",
       "  </tbody>\n",
       "</table>\n",
       "</div>"
      ],
      "text/plain": [
       "                         title    category subscriber       view   video\n",
       "0                    BLACKPINK  [음악/댄스/가수]      7420만  236억7615만    394개\n",
       "1                    BANGTANTV  [음악/댄스/가수]      6630만  161억5062만  1,694개\n",
       "2                  HYBE LABELS  [음악/댄스/가수]      6550만  226억3812만    866개\n",
       "3                       SMTOWN  [음악/댄스/가수]      3030만  244억9471만  3,904개\n",
       "4  Boram Tube Vlog [보람튜브 브이로그]    [키즈/어린이]      2650만  110억5288만    223개"
      ]
     },
     "execution_count": 33,
     "metadata": {},
     "output_type": "execute_result"
    }
   ],
   "source": [
    "df = pd.DataFrame(result)\n",
    "df.columns = ['title','category','subscriber','view','video']\n",
    "df.to_excel(\"data/youtube_rank.xlsx\",index=False)\n",
    "df.head()"
   ]
  },
  {
   "cell_type": "code",
   "execution_count": 34,
   "metadata": {},
   "outputs": [],
   "source": [
    "#### youtube 랭크 정보 시각화 \n",
    "import matplotlib.pyplot as plt\n",
    "from matplotlib import font_manager, rc\n",
    "## 각각의 플렛폼에 따른 폰트 설정을 위해서 \n",
    "import platform   ## 플랫폼관련 라이브러리\n",
    "if platform.system() == 'Windows':\n",
    "    path = \"c:\\Windows/Fonts/malgun.ttf\"\n",
    "    font_name = font_manager.FontProperties(fname=path).get_name()\n",
    "    rc('font',family= font_name)\n",
    "elif platform.system() == 'Darwin':\n",
    "    rc('font',family='AppleGothic')\n",
    "else:\n",
    "    print('check your OS system')"
   ]
  },
  {
   "cell_type": "code",
   "execution_count": 35,
   "metadata": {},
   "outputs": [],
   "source": [
    "### 엑셀로 저장된 파일을 불러오기\n",
    "df = pd.read_excel(\"data/youtube_rank.xlsx\")"
   ]
  },
  {
   "cell_type": "code",
   "execution_count": 36,
   "metadata": {},
   "outputs": [
    {
     "name": "stdout",
     "output_type": "stream",
     "text": [
      "<class 'pandas.core.frame.DataFrame'>\n",
      "RangeIndex: 1000 entries, 0 to 999\n",
      "Data columns (total 5 columns):\n",
      " #   Column      Non-Null Count  Dtype \n",
      "---  ------      --------------  ----- \n",
      " 0   title       1000 non-null   object\n",
      " 1   category    1000 non-null   object\n",
      " 2   subscriber  1000 non-null   object\n",
      " 3   view        1000 non-null   object\n",
      " 4   video       1000 non-null   object\n",
      "dtypes: object(5)\n",
      "memory usage: 39.2+ KB\n"
     ]
    }
   ],
   "source": [
    "df.head()\n",
    "df.info()"
   ]
  },
  {
   "cell_type": "code",
   "execution_count": 37,
   "metadata": {},
   "outputs": [
    {
     "name": "stdout",
     "output_type": "stream",
     "text": [
      "<class 'pandas.core.frame.DataFrame'>\n",
      "RangeIndex: 1000 entries, 0 to 999\n",
      "Data columns (total 6 columns):\n",
      " #   Column              Non-Null Count  Dtype \n",
      "---  ------              --------------  ----- \n",
      " 0   title               1000 non-null   object\n",
      " 1   category            1000 non-null   object\n",
      " 2   subscriber          1000 non-null   object\n",
      " 3   view                1000 non-null   object\n",
      " 4   video               1000 non-null   object\n",
      " 5   replace_subscriber  1000 non-null   object\n",
      "dtypes: object(6)\n",
      "memory usage: 47.0+ KB\n"
     ]
    }
   ],
   "source": [
    "df['subscriber'][0:10]\n",
    "df['subscriber'].str.replace('만', '0000')[0:10]\n",
    "df['replace_subscriber'] = df['subscriber'].str.replace('만', '0000')\n",
    "df.info()"
   ]
  },
  {
   "cell_type": "code",
   "execution_count": 38,
   "metadata": {},
   "outputs": [
    {
     "name": "stdout",
     "output_type": "stream",
     "text": [
      "<class 'pandas.core.frame.DataFrame'>\n",
      "RangeIndex: 1000 entries, 0 to 999\n",
      "Data columns (total 6 columns):\n",
      " #   Column              Non-Null Count  Dtype \n",
      "---  ------              --------------  ----- \n",
      " 0   title               1000 non-null   object\n",
      " 1   category            1000 non-null   object\n",
      " 2   subscriber          1000 non-null   object\n",
      " 3   view                1000 non-null   object\n",
      " 4   video               1000 non-null   object\n",
      " 5   replace_subscriber  1000 non-null   int64 \n",
      "dtypes: int64(1), object(5)\n",
      "memory usage: 47.0+ KB\n"
     ]
    }
   ],
   "source": [
    "df['replace_subscriber']= df['replace_subscriber'].astype('int64')\n",
    "df.info()"
   ]
  },
  {
   "cell_type": "code",
   "execution_count": 39,
   "metadata": {},
   "outputs": [
    {
     "data": {
      "text/html": [
       "<div>\n",
       "<style scoped>\n",
       "    .dataframe tbody tr th:only-of-type {\n",
       "        vertical-align: middle;\n",
       "    }\n",
       "\n",
       "    .dataframe tbody tr th {\n",
       "        vertical-align: top;\n",
       "    }\n",
       "\n",
       "    .dataframe thead tr th {\n",
       "        text-align: left;\n",
       "    }\n",
       "\n",
       "    .dataframe thead tr:last-of-type th {\n",
       "        text-align: right;\n",
       "    }\n",
       "</style>\n",
       "<table border=\"1\" class=\"dataframe\">\n",
       "  <thead>\n",
       "    <tr>\n",
       "      <th></th>\n",
       "      <th>sum</th>\n",
       "      <th>count</th>\n",
       "    </tr>\n",
       "    <tr>\n",
       "      <th></th>\n",
       "      <th>replace_subscriber</th>\n",
       "      <th>replace_subscriber</th>\n",
       "    </tr>\n",
       "    <tr>\n",
       "      <th>category</th>\n",
       "      <th></th>\n",
       "      <th></th>\n",
       "    </tr>\n",
       "  </thead>\n",
       "  <tbody>\n",
       "    <tr>\n",
       "      <th>[BJ/인물/연예인]</th>\n",
       "      <td>93960000</td>\n",
       "      <td>62</td>\n",
       "    </tr>\n",
       "    <tr>\n",
       "      <th>[IT/기술/컴퓨터]</th>\n",
       "      <td>9000000</td>\n",
       "      <td>8</td>\n",
       "    </tr>\n",
       "    <tr>\n",
       "      <th>[TV/방송]</th>\n",
       "      <td>252950000</td>\n",
       "      <td>139</td>\n",
       "    </tr>\n",
       "    <tr>\n",
       "      <th>[게임]</th>\n",
       "      <td>71630000</td>\n",
       "      <td>67</td>\n",
       "    </tr>\n",
       "    <tr>\n",
       "      <th>[교육/강의]</th>\n",
       "      <td>25890000</td>\n",
       "      <td>21</td>\n",
       "    </tr>\n",
       "  </tbody>\n",
       "</table>\n",
       "</div>"
      ],
      "text/plain": [
       "                           sum              count\n",
       "            replace_subscriber replace_subscriber\n",
       "category                                         \n",
       "[BJ/인물/연예인]           93960000                 62\n",
       "[IT/기술/컴퓨터]            9000000                  8\n",
       "[TV/방송]              252950000                139\n",
       "[게임]                  71630000                 67\n",
       "[교육/강의]               25890000                 21"
      ]
     },
     "execution_count": 39,
     "metadata": {},
     "output_type": "execute_result"
    }
   ],
   "source": [
    "### 카테고리별 구독자 수, 채널 수 피봇 테이블 생성\n",
    "pivot_df = df.pivot_table(index = 'category', values='replace_subscriber', \\\n",
    "    aggfunc=[\"sum\",\"count\"])\n",
    "pivot_df.head()"
   ]
  },
  {
   "cell_type": "code",
   "execution_count": 40,
   "metadata": {},
   "outputs": [
    {
     "name": "stdout",
     "output_type": "stream",
     "text": [
      "<class 'pandas.core.frame.DataFrame'>\n",
      "Index: 21 entries, [BJ/인물/연예인] to [회사/오피셜]\n",
      "Data columns (total 2 columns):\n",
      " #   Column          Non-Null Count  Dtype\n",
      "---  ------          --------------  -----\n",
      " 0   subscriber_sum  21 non-null     int64\n",
      " 1   category_count  21 non-null     int64\n",
      "dtypes: int64(2)\n",
      "memory usage: 504.0+ bytes\n"
     ]
    }
   ],
   "source": [
    "## pivot_df의 데이터프레임 컬럼명 변경하기\n",
    "pivot_df.columns = ['subscriber_sum','category_count']\n",
    "pivot_df.head()\n",
    "pivot_df.info()"
   ]
  },
  {
   "cell_type": "code",
   "execution_count": 41,
   "metadata": {},
   "outputs": [
    {
     "data": {
      "text/html": [
       "<div>\n",
       "<style scoped>\n",
       "    .dataframe tbody tr th:only-of-type {\n",
       "        vertical-align: middle;\n",
       "    }\n",
       "\n",
       "    .dataframe tbody tr th {\n",
       "        vertical-align: top;\n",
       "    }\n",
       "\n",
       "    .dataframe thead th {\n",
       "        text-align: right;\n",
       "    }\n",
       "</style>\n",
       "<table border=\"1\" class=\"dataframe\">\n",
       "  <thead>\n",
       "    <tr style=\"text-align: right;\">\n",
       "      <th></th>\n",
       "      <th>category</th>\n",
       "      <th>subscriber_sum</th>\n",
       "      <th>category_count</th>\n",
       "    </tr>\n",
       "  </thead>\n",
       "  <tbody>\n",
       "    <tr>\n",
       "      <th>0</th>\n",
       "      <td>[BJ/인물/연예인]</td>\n",
       "      <td>93960000</td>\n",
       "      <td>62</td>\n",
       "    </tr>\n",
       "    <tr>\n",
       "      <th>1</th>\n",
       "      <td>[IT/기술/컴퓨터]</td>\n",
       "      <td>9000000</td>\n",
       "      <td>8</td>\n",
       "    </tr>\n",
       "    <tr>\n",
       "      <th>2</th>\n",
       "      <td>[TV/방송]</td>\n",
       "      <td>252950000</td>\n",
       "      <td>139</td>\n",
       "    </tr>\n",
       "    <tr>\n",
       "      <th>3</th>\n",
       "      <td>[게임]</td>\n",
       "      <td>71630000</td>\n",
       "      <td>67</td>\n",
       "    </tr>\n",
       "    <tr>\n",
       "      <th>4</th>\n",
       "      <td>[교육/강의]</td>\n",
       "      <td>25890000</td>\n",
       "      <td>21</td>\n",
       "    </tr>\n",
       "  </tbody>\n",
       "</table>\n",
       "</div>"
      ],
      "text/plain": [
       "      category  subscriber_sum  category_count\n",
       "0  [BJ/인물/연예인]        93960000              62\n",
       "1  [IT/기술/컴퓨터]         9000000               8\n",
       "2      [TV/방송]       252950000             139\n",
       "3         [게임]        71630000              67\n",
       "4      [교육/강의]        25890000              21"
      ]
     },
     "execution_count": 41,
     "metadata": {},
     "output_type": "execute_result"
    }
   ],
   "source": [
    "## 데이터프레임의 인덱스 초기화... \n",
    "pivot_df = pivot_df.reset_index()\n",
    "pivot_df.head()"
   ]
  },
  {
   "cell_type": "code",
   "execution_count": 42,
   "metadata": {},
   "outputs": [
    {
     "data": {
      "text/html": [
       "<div>\n",
       "<style scoped>\n",
       "    .dataframe tbody tr th:only-of-type {\n",
       "        vertical-align: middle;\n",
       "    }\n",
       "\n",
       "    .dataframe tbody tr th {\n",
       "        vertical-align: top;\n",
       "    }\n",
       "\n",
       "    .dataframe thead th {\n",
       "        text-align: right;\n",
       "    }\n",
       "</style>\n",
       "<table border=\"1\" class=\"dataframe\">\n",
       "  <thead>\n",
       "    <tr style=\"text-align: right;\">\n",
       "      <th></th>\n",
       "      <th>category</th>\n",
       "      <th>subscriber_sum</th>\n",
       "      <th>category_count</th>\n",
       "    </tr>\n",
       "  </thead>\n",
       "  <tbody>\n",
       "    <tr>\n",
       "      <th>12</th>\n",
       "      <td>[음악/댄스/가수]</td>\n",
       "      <td>753010000</td>\n",
       "      <td>168</td>\n",
       "    </tr>\n",
       "    <tr>\n",
       "      <th>17</th>\n",
       "      <td>[키즈/어린이]</td>\n",
       "      <td>273190000</td>\n",
       "      <td>88</td>\n",
       "    </tr>\n",
       "    <tr>\n",
       "      <th>2</th>\n",
       "      <td>[TV/방송]</td>\n",
       "      <td>252950000</td>\n",
       "      <td>139</td>\n",
       "    </tr>\n",
       "    <tr>\n",
       "      <th>11</th>\n",
       "      <td>[음식/요리/레시피]</td>\n",
       "      <td>198420000</td>\n",
       "      <td>81</td>\n",
       "    </tr>\n",
       "    <tr>\n",
       "      <th>7</th>\n",
       "      <td>[미분류]</td>\n",
       "      <td>159600000</td>\n",
       "      <td>148</td>\n",
       "    </tr>\n",
       "  </tbody>\n",
       "</table>\n",
       "</div>"
      ],
      "text/plain": [
       "       category  subscriber_sum  category_count\n",
       "12   [음악/댄스/가수]       753010000             168\n",
       "17     [키즈/어린이]       273190000              88\n",
       "2       [TV/방송]       252950000             139\n",
       "11  [음식/요리/레시피]       198420000              81\n",
       "7         [미분류]       159600000             148"
      ]
     },
     "execution_count": 42,
     "metadata": {},
     "output_type": "execute_result"
    }
   ],
   "source": [
    "### 데이터프레임 내림차순 정렬\n",
    "pivot_df = pivot_df.sort_values(by='subscriber_sum',ascending=False)\n",
    "pivot_df.head()"
   ]
  },
  {
   "cell_type": "code",
   "execution_count": 43,
   "metadata": {},
   "outputs": [
    {
     "data": {
      "image/png": "[encoded data removed]",
      "text/plain": [
       "<Figure size 2160x720 with 1 Axes>"
      ]
     },
     "metadata": {},
     "output_type": "display_data"
    }
   ],
   "source": [
    "## 카테고리별 구독자수 시각화\n",
    "plt.figure(figsize = (30,10))\n",
    "plt.pie(pivot_df['subscriber_sum'],\\\n",
    "    labels=pivot_df['category'],autopct='%1.1f%%')\n",
    "plt.show()"
   ]
  },
  {
   "cell_type": "code",
   "execution_count": 44,
   "metadata": {},
   "outputs": [
    {
     "data": {
      "image/png": "[encoded data removed]",
      "text/plain": [
       "<Figure size 2160x720 with 1 Axes>"
      ]
     },
     "metadata": {},
     "output_type": "display_data"
    }
   ],
   "source": [
    "pivot_df = pivot_df.sort_values(by='category_count',ascending=False)\n",
    "pivot_df.head()\n",
    "plt.figure(figsize=(30,10))\n",
    "plt.pie(pivot_df['category_count'],labels=pivot_df['category'],autopct='%1.1f%%')\n",
    "plt.show()"
   ]
  },
  {
   "cell_type": "code",
   "execution_count": null,
   "metadata": {},
   "outputs": [],
   "source": [
    "### fig 또는 figure는 전체 그래프의 크기\n",
    "## Axes : 그래프가 그려지는 Figure의 하위섹션. title, X-Label, Y-Label\n",
    "## Axis : Axes의 하위 요소로 그래프의 척도를 나타내는 숫자 선.\n",
    "##        2차원 그래프는 X와 Y Axis, 3차원은 X,Y,Z Axis를 가짐\n",
    "## Label : figure의 다양한 요소의 이름\n",
    "## Legend : Axes 안에 여러개의 그림이 있는 경우에 입력 값에 따라서 각각의 Label이 존재함\n",
    "## Title : 각 Axes에 주어진 이름. figure가 각각의 Title로 여러개의 Axes를 가짐,\n",
    "##          Figure 또한 각각의 Title을 가짐\n",
    "## Ticklabels : 각 'Axis(X,Y 또는 Z)'는 여러 개의 동일한 'Bin'으로 나눈 값의 범위\n",
    "##              'Bin'은 두 가지 레벨에서 선택\n",
    "## Spines : Figure의 가장자리를 의미함. 각각의 \"Axes\"에는 네개의 Spines가 존재함.\n",
    "##          (Top, Bottom, Left, Right)\n",
    "## Grid : 그래프의 다양한 점의 좌표를 쉽게 읽도록 영역을 Grid로 나눌 수 있음"
   ]
  },
  {
   "cell_type": "code",
   "execution_count": 7,
   "metadata": {},
   "outputs": [
    {
     "data": {
      "image/png": "[encoded data removed]",
      "text/plain": [
       "<Figure size 720x432 with 1 Axes>"
      ]
     },
     "metadata": {
      "needs_background": "light"
     },
     "output_type": "display_data"
    }
   ],
   "source": [
    "import matplotlib.pyplot as plt\n",
    "\n",
    "dates = [\n",
    "    '2021-01-01','2021-01-02','2021-01-03','2021-01-04','2021-01-05',\n",
    "    '2021-01-06','2021-01-07','2021-01-08','2021-01-09','2021-01-10']\n",
    "min_temperature = [20.7, 17.9, 18.8, 14.6, 15.8, 15.8, 17.4, 21.8, 20.0, 21.2]\n",
    "max_temperature = [34.7, 28.9, 31.8, 25.6, 28.8, 21.8, 28.4, 28.8, 32.0, 31.2]\n",
    "\n",
    "fig,axes = plt.subplots(nrows=1, ncols=1, figsize=(10,6))\n",
    "axes.plot(dates, min_temperature, label='Min Temperature')\n",
    "axes.plot(dates, max_temperature, label='Max Temperature')\n",
    "axes.legend()\n",
    "plt.show()"
   ]
  },
  {
   "cell_type": "code",
   "execution_count": 5,
   "metadata": {},
   "outputs": [
    {
     "name": "stdout",
     "output_type": "stream",
     "text": [
      "Figure(720x432)\n",
      "AxesSubplot(0.125,0.125;0.775x0.755)\n"
     ]
    }
   ],
   "source": [
    "print(fig)\n",
    "print(axes)"
   ]
  }
 ],
 "metadata": {
  "interpreter": {
   "hash": "26de051ba29f2982a8de78e945f0abaf191376122a1563185a90213a26c5da77"
  },
  "kernelspec": {
   "display_name": "Python 3.10.2 64-bit",
   "language": "python",
   "name": "python3"
  },
  "language_info": {
   "codemirror_mode": {
    "name": "ipython",
    "version": 3
   },
   "file_extension": ".py",
   "mimetype": "text/x-python",
   "name": "python",
   "nbconvert_exporter": "python",
   "pygments_lexer": "ipython3",
   "version": "3.10.3"
  },
  "orig_nbformat": 4
 },
 "nbformat": 4,
 "nbformat_minor": 2
}
