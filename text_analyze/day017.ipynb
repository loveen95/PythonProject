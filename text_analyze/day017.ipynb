{
 "cells": [
  {
   "cell_type": "code",
   "execution_count": null,
   "metadata": {},
   "outputs": [],
   "source": [
    "# https://github.com/ssut/py-hanspell/blob/master/README.md "
   ]
  },
  {
   "cell_type": "code",
   "execution_count": null,
   "metadata": {},
   "outputs": [],
   "source": [
    "%pip install aiohttp"
   ]
  },
  {
   "cell_type": "code",
   "execution_count": null,
   "metadata": {},
   "outputs": [],
   "source": [
    "%pip install py-aiohanspell"
   ]
  },
  {
   "cell_type": "code",
   "execution_count": 14,
   "metadata": {},
   "outputs": [
    {
     "name": "stdout",
     "output_type": "stream",
     "text": [
      "{'result': True, 'original': '안녕 하세요. 저는 한국인 입니다. 이문장은 한글로 작성됬습니다.', 'checked': '안녕하세요. 저는 한국인입니다. 이 문장은 한글로 작성됐습니다.', 'errors': 4, 'words': OrderedDict([('안녕하세요.', 2), ('저는', 0), ('한국인입니다.', 2), ('이', 2), ('문장은', 2), ('한글로', 0), ('작성됐습니다.', 1)]), 'time': 0.17728519439697266}\n",
      "<class 'aiohanspell.response.Checked'>\n"
     ]
    }
   ],
   "source": [
    "from aiohanspell import spell_checker \n",
    "results = await spell_checker.check(u\"안녕 하세요. 저는 한국인 입니다. 이문장은 한글로 작성됬습니다.\")\n",
    "print(results.as_dict()) \n",
    "results.checked      \n"
   ]
  },
  {
   "cell_type": "code",
   "execution_count": null,
   "metadata": {},
   "outputs": [],
   "source": [
    "### 마르코프 체인  \n",
    "## 순서 ## \n",
    "# 1. 문장을 단어로 분할(형태소 분석)합니다. \n",
    "# 2. 단어의 전후 연결을 딕셔너리에 등록합니다. \n",
    "# 3. 사전을 사용해 임의 문장을 생성합니다. \n"
   ]
  },
  {
   "cell_type": "code",
   "execution_count": 24,
   "metadata": {},
   "outputs": [
    {
     "name": "stdout",
     "output_type": "stream",
     "text": [
      "몹시 흥분한 줄 알았는데 뜻밖에 머슴살이를 부탁하는 건 아니더라만성미를 익히 알고 아가리에 밥이 그리 대단했을 것도 없지요여기서 뭘 하는 거야서희를 흔들어 보인다.\n",
      "------------------------------\n",
      "긴 그림자가 흔들렸다.\n",
      "------------------------------\n",
      "대신 김서방이 죽으믄 고만이 다 알아도 모르는 거는 나다 이 년은 만나는 쪽쪽 사내를 홀 타냈더라고 그거 다 망했다 마.\n",
      "------------------------------\n"
     ]
    }
   ],
   "source": [
    "import codecs\n",
    "from bs4 import BeautifulSoup\n",
    "from konlpy.tag import Okt \n",
    "from aiohanspell import spell_checker # 네이버 맞춤법 검사기 라이브러리\n",
    "import os, re, json, random\n",
    "\n",
    "# 마르코프 체인 딕셔너리 만들기     \n",
    "def make_dic(words):\n",
    "  tmp = [\"@\"] \n",
    "  dic = {}\n",
    "  for word in words: \n",
    "    tmp.append(word)\n",
    "    if len(tmp) < 3: continue\n",
    "    if len(tmp) > 3: tmp = tmp[1:] \n",
    "    set_word3(dic, tmp) # 딕서녀리에 데이터를 등록\n",
    "    if word == \".\": \n",
    "      tmp = [\"@\"]\n",
    "      continue \n",
    "  return dic \n",
    "\n",
    "# 딕셔너리에 데이터 등록하기 \n",
    "def set_word3(dic, s3): \n",
    "  w1, w2, w3 = s3\n",
    "  if not w1 in dic: dic[w1] = {}\n",
    "  if not w2 in dic[w1]: dic[w1][w2] = {}\n",
    "  if not w3 in dic[w1][w2]: dic[w1][w2][w3] = 0\n",
    "  dic[w1][w2][w3] += 1\n",
    "\n",
    "# 임의의 문장 생성 \n",
    "def make_sentence(dic): \n",
    "  ret = []\n",
    "  if not \"@\" in dic: return \"no dic\" # 딕셔너리가 비어있다는 뜻\n",
    "  top = dic[\"@\"]\n",
    "  w1 = word_choice(top)\n",
    "  w2 = word_choice(top[w1]) \n",
    "  ret.append(w1) \n",
    "  ret.append(w2)\n",
    "  while True:\n",
    "    w3 = word_choice(dic[w1][w2])\n",
    "    ret.append(w3)\n",
    "    if w3 == \".\": break\n",
    "    w1, w2 = w2, w3\n",
    "  ret = \"\".join(ret)\n",
    "\n",
    "  return ret ## 맞춤법 검사는 메인에서 처리 \n",
    "\n",
    "\n",
    "def word_choice(sel):\n",
    "  keys = sel.keys()\n",
    "  return random.choice(list(keys))  \n",
    "\n",
    "\n",
    "# 문장 읽어 들이기 \n",
    "toji_file = \"toji.txt\"\n",
    "dict_file = \"markov-toji.json\"\n",
    "\n",
    "if not os.path.exists(dict_file): \n",
    "#토지 텍스트 파일 읽어 들이기\n",
    "  fp = codecs.open(\"data/BEXX0003.txt\", \"r\", encoding=\"utf-16\")\n",
    "  soup = BeautifulSoup(fp, \"html.parser\")\n",
    "  body = soup.select_one(\"body > text\")\n",
    "  text = body.getText()\n",
    "  text = text.replace(\"...\", \"\") # 현재 koNLPy가 ...을 구두점으로 잡지 못하는 문제 임시 해결 \n",
    "  \n",
    "  # 형태소 분석\n",
    "  okt = Okt()\n",
    "  malist = okt.pos(text, norm=True)\n",
    "  words = []\n",
    "  for word in malist:\n",
    "    # 구두점 등은 대상에서 제외(단 마침표는 포함) \n",
    "    if not word[1] in [\"Punctuation\"]:\n",
    "      words.append(word[0]) \n",
    "    if word[0] == \".\":\n",
    "      words.append(word[0])\n",
    "  # 딕셔너리 생성 \n",
    "  dic = make_dic(words)\n",
    "  json.dump(dic, open(dict_file,\"w\", encoding=\"utf-8\")) \n",
    "else:\n",
    "  dic = json.load(open(dict_file,\"r\"))\n",
    "\n",
    "# 문장 만들기\n",
    "for i in range(3):\n",
    "  s = make_sentence(dic) \n",
    "  t = await spell_checker.check(s)\n",
    "  print(t.checked)\n",
    "  print(\"-\" *30)  \n"
   ]
  },
  {
   "cell_type": "code",
   "execution_count": 25,
   "metadata": {},
   "outputs": [],
   "source": [
    "from pprint import pprint\n",
    "import json \n",
    "dic = json.load(open(\"markov-toji.json\", \"r\")) \n"
   ]
  },
  {
   "cell_type": "code",
   "execution_count": 39,
   "metadata": {},
   "outputs": [
    {
     "name": "stdout",
     "output_type": "stream",
     "text": [
      "{'이며': {'이윽고': 1}, '마라': {'\\n': 3, '.': 3}, '은': {'마라': 2, '안': 1}, '할': {'것': 1}, '말고': {'마저': 1, '처': 1}, '들': {'을': 1}, '을': {'다': 1}, '이': {'있고': 1, '있더라고': 1, '없을': 1, '요': 1}, '말': {'게': 1}, '일세': {'.': 1}, '하실': {'것': 1}, '이고': {'송장': 1, '\\n': 1}, '이제': {'.': 1}, '이다': {'그': 1}}\n"
     ]
    }
   ],
   "source": [
    "print(dic['걱정'])"
   ]
  },
  {
   "cell_type": "code",
   "execution_count": 3,
   "metadata": {},
   "outputs": [
    {
     "name": "stderr",
     "output_type": "stream",
     "text": [
      "Using TensorFlow backend.\n"
     ]
    }
   ],
   "source": [
    "import tensorflow as tf\n",
    "import codecs\n",
    "from tensorflow import keras\n",
    "from bs4 import BeautifulSoup\n",
    "from tensorflow.keras.models import Sequential\n",
    "from tensorflow.keras.layers import Dense, Activation, Dropout \n",
    "from tensorflow.keras.layers import LSTM\n",
    "from tensorflow.keras.optimizers import RMSprop\n",
    "from keras.utils.data_utils import get_file \n",
    "import numpy as np \n",
    "import random, sys"
   ]
  },
  {
   "cell_type": "code",
   "execution_count": 4,
   "metadata": {},
   "outputs": [
    {
     "name": "stdout",
     "output_type": "stream",
     "text": [
      "코퍼스의 길이:  311682\n"
     ]
    }
   ],
   "source": [
    "fp = codecs.open(\"data/BEXX0003.txt\", \"r\", encoding=\"utf-16\") \n",
    "soup = BeautifulSoup(fp, \"html.parser\")\n",
    "body = soup.select_one(\"body\")\n",
    "text=body.getText() + \" \"\n",
    "print('코퍼스의 길이: ', len(text))  "
   ]
  },
  {
   "cell_type": "code",
   "execution_count": null,
   "metadata": {},
   "outputs": [],
   "source": [
    "\n",
    "# 문자를 하나하나 읽어 들이고 ID 붙이기\n",
    "chars = sorted(list(set(text)))\n",
    "print('사용되고 있는 문자의 수 :', len(chars)) \n",
    "char_indices = dict((c, i) for i, c in enumerate(chars)) \n",
    "indices_char = dict((i, c)for i, c in enumerate(chars))#ID–문자 \n",
    "\n",
    "# 텍스트를 maxlen개의 문자로 자르고 다음에 오는 문자 등록하기 \n",
    "maxlen = 20\n",
    "step = 3\n",
    "sentences = []\n",
    "next_chars = []\n",
    "for i in range(0, len(text) - maxlen, step):\n",
    "  sentences.append(text[i: i + maxlen]) \n",
    "  next_chars.append(text[i + maxlen])\n",
    "print('학습할 구문의 수 :', len(sentences)) \n",
    "print('텍스트를 ID 벡터로 변환합니다...')\n",
    "X = np.zeros((len(sentences), maxlen, len(chars)), dtype=np.bool)\n",
    "Y = np.zeros((len(sentences), len(chars)), dtype=np.bool)\n",
    "for i, sentence in enumerate(sentences):\n",
    "  for t, char in enumerate(sentence): \n",
    "    X[i, t, char_indices[char]] = 1\n",
    "    Y[i, char_indices[next_chars[i]]] = 1\n",
    "\n",
    "\n",
    "# 모델 구축하기(LSTM) print('모델을 구축합니다...')\n",
    "model = Sequential()\n",
    "model.add(LSTM(128, input_shape=(maxlen, len(chars)))) \n",
    "model.add(Dense(len(chars)))\n",
    "model.add(Activation('softmax')) \n",
    "optimizer = RMSprop(lr=0.01)\n",
    "model.compile(loss='categorical_crossentropy',optimizer=optimizer) \n",
    "\n",
    " # 후보를 배열에서 꺼내기\n",
    "def sample(preds, temperature=1.0):\n",
    "  preds = np.asarray(preds).astype('float64') \n",
    "  preds = np.log(preds) / temperature \n",
    "  exp_preds = np.exp(preds)\n",
    "  preds = exp_preds / np.sum(exp_preds) \n",
    "  probas = np.random.multinomial(1, preds, 1) \n",
    "  return np.argmax(probas)\n",
    "# 학습시키고 텍스트 생성하기 반복 \n",
    "for iteration in range(1, 60):  \n",
    "  print()\n",
    "  print('-' * 50)\n",
    "  print('반복 = ', iteration)\n",
    "  model.fit(X, Y, batch_size=128, nb_epoch=1) \n",
    "# 임의의 시작 텍스트 선택하기\n",
    "  start_index = random.randint(0, len(text) - maxlen - 1)\n",
    "   # 다양한 다양성의 문장 생성\n",
    "  for diversity in [0.2, 0.5, 1.0, 1.2]:\n",
    "    print()\n",
    "    print('-- 다양성 = ', diversity) \n",
    "    generated = ''\n",
    "    sentence = text[start_index: start_index + maxlen]\n",
    "    generated += sentence\n",
    "    print('- 115 = \"' + sentence + '\"') \n",
    "    sys.stdout.write(generated)\n",
    "# 시드를 기반으로 텍스트 자동 생성 \n",
    "    for i in range(400):\n",
    "      x = np.zeros((1, maxlen, len(chars))) \n",
    "      for t, char in enumerate(sentence): \n",
    "        x[0, t, char_indices[char]] = 1.\n",
    "# 다음에 올 문자를 예측하기\n",
    "      preds = model.predict(x, verbose=0)[0]\n",
    "      next_index = sample(preds, diversity)\n",
    "      next_char = indices_char[next_index] \n",
    "      # 출력하기\n",
    "      generated += next_char\n",
    "      sentence = sentence[1:] + next_char\n",
    "      sys.stdout.write(next_char)\n",
    "      sys.stdout.flush() \n",
    "      \n",
    "    print()"
   ]
  },
  {
   "cell_type": "code",
   "execution_count": 39,
   "metadata": {},
   "outputs": [
    {
     "name": "stdout",
     "output_type": "stream",
     "text": [
      "chmod: /../cgi-bin/chatbot.py: No such file or directory\n"
     ]
    }
   ],
   "source": [
    "!chmod +x cgi-bin/chatbot.py"
   ]
  },
  {
   "cell_type": "code",
   "execution_count": null,
   "metadata": {},
   "outputs": [],
   "source": [
    "import cgi\n",
    "from botengine import make_reply\n",
    "\n",
    " # 입력 양식의 글자 추출하기  \n",
    "form = cgi.FieldStorage()\n",
    "def main():\n",
    "  m = form.getvalue(\"m\", default=\"\")\n",
    "  if m == \"\" : show_form() \n",
    "  elif m == \"say\" : api_say()\n",
    "\n",
    "# 사용자의 입력에 응답하기 \n",
    "def api_say():\n",
    "  print(\"Content-Type: text/plain; charset=utf-8\") \n",
    "  print(\"\")\n",
    "  txt = form.getvalue(\"txt\", default=\"\")\n",
    "  if txt == \"\": return\n",
    "  res = make_reply(txt)\n",
    "  print(res)\n",
    "# 입력 양식 출력하기\n",
    "def show_form():\n",
    "  print(\"Content-Type: text/html; charset=utf-8\") \n",
    "  print(\"\")\n",
    "  print(\"\"\"\n",
    "<html>meta charset=\"utf-8\"><body>\n",
    "<script src=\"https://code.jquery.com/jquery-3.1.1.min.js\"></script> \n",
    "<style>\n",
    "  h1 { background-color: #ffe0e0; }\n",
    "  div { padding:10px; }\n",
    "  span { border-radius: 10px; background-color: #ff0e0; padding:8px; }\n",
    "  .bot { text-align: left; }\n",
    "  .usr { text-align: right; } \n",
    "</style>\n",
    "<h1>대화 하기</h1>\n",
    "<div id=\"chat\"></div>\n",
    "<div class='usr'><input id=\"txt\" size=\"40\">\n",
    "<button onclick=\"say()\">전송</button></div>\n",
    "<script>\n",
    "var url = \"./chatbot.py\"; \n",
    "function say() {\n",
    "  var txt = $('#txt').val();\n",
    "  $.get(url, {\"m\":\"say\",\"txt\":txt},\n",
    "  function(res) {\n",
    "  var html = <div class='usr'><span>\" + esc(txt) +\n",
    "    \"</span>: 나<div><div class='bot'> 봇: <span>\" +\n",
    "    esc(res) + \"</span></div>\"; \n",
    "    $('#chat').html($('#chat').html()+html); \n",
    "    $('#txt').val('').focus();\n",
    "  });\n",
    "}\n",
    "function esc(s) {\n",
    "  return s.replace('&', '&amp;').replace('<','&lt;')\n",
    "          .replace('>', '&gt;\"); \n",
    "}          \n",
    "</script></body></html>\n",
    "\"\"\") \n",
    "\n",
    "main()\n",
    "\n"
   ]
  },
  {
   "cell_type": "code",
   "execution_count": null,
   "metadata": {},
   "outputs": [],
   "source": [
    "import codecs\n",
    "from bs4 import BeautifulSoup\n",
    "import urllib.request\n",
    "from konlpy.tag import Okt\n",
    "import os, re, json, random\n",
    "dict_file = \"chatbot-data.json\"\n",
    "dic = {}\n",
    "okt = Okt()\n",
    "# 딕셔너리에 단어 등록하기 - (※1) \n",
    "def register_dic(words):\n",
    "  global dic\n",
    "  if len(words) == 0: return\n",
    "  tmp = [\"@\"]\n",
    "  for i in words:\n",
    "    word = i[0]\n",
    "    if word == \"\" or word == \"\\r\\n\" or word == \"\\n\": continue\n",
    "    tmp.append(word)\n",
    "    if len(tmp) <3: continue\n",
    "    if len(tmp) > 3: tmp = tmp[1:]\n",
    "    set_word3(dic, tmp)\n",
    "    if word == \".\" or word == \"?\":\n",
    "      tmp =[\"@\"] \n",
    "      continue\n",
    "    # 딕셔너리가 변경될 때마다 저장하기\n",
    "  json.dump(dic, open(dict_file,\"w\", encoding=\"utf-8\"))\n",
    "\n",
    "# 딕셔너리에 글 등록하기 \n",
    "def set_word3(dic, s3): \n",
    "  w1, w2, w3 = s3\n",
    "  if not w1 in dic: dic[w1] = {}\n",
    "  if not w2 in dic[w1]: dic[w1][w2] = {}\n",
    "  if not w3 in dic[w1][w2]: dic[w1][w2][w3] = 0\n",
    "  dic[w1][w2][w3] += 1\n",
    "\n",
    "# 문장 생성 \n",
    "def make_sentence(dic): \n",
    "  ret = []\n",
    "  if not \"@\" in dic: return \"no dic\" # 딕셔너리가 비어있다는 뜻\n",
    "  top = dic[\"@\"]\n",
    "  w1 = word_choice(top)\n",
    "  w2 = word_choice(top[w1]) \n",
    "  ret.append(w1) \n",
    "  ret.append(w2)\n",
    "  while True:\n",
    "    if w1 in dic and w2 in dic[w1]: \n",
    "      w3 = word_choice(dic[w1][w2])\n",
    "    else:\n",
    "      w3 = \"\"\n",
    "    ret.append(w3)\n",
    "    if w3 == \".\" or w3 == \"?\" or w3 == \"\": break\n",
    "    w1, w2 = w2, w3\n",
    "  ret = \"\".join(ret)\n",
    "\n",
    "  return ret \n",
    "\n",
    "def word_choice(sel):\n",
    "  keys = sel.keys()\n",
    "  return random.choice(list(keys))  \n"
   ]
  },
  {
   "cell_type": "code",
   "execution_count": null,
   "metadata": {},
   "outputs": [],
   "source": []
  }
 ],
 "metadata": {
  "interpreter": {
   "hash": "aee8b7b246df8f9039afb4144a1f6fd8d2ca17a180786b69acc140d282b71a49"
  },
  "kernelspec": {
   "display_name": "Python 3.10.3 64-bit",
   "language": "python",
   "name": "python3"
  },
  "language_info": {
   "codemirror_mode": {
    "name": "ipython",
    "version": 3
   },
   "file_extension": ".py",
   "mimetype": "text/x-python",
   "name": "python",
   "nbconvert_exporter": "python",
   "pygments_lexer": "ipython3",
   "version": "3.8.13"
  },
  "orig_nbformat": 4
 },
 "nbformat": 4,
 "nbformat_minor": 2
}
