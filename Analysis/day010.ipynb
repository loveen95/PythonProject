{
 "cells": [
  {
   "cell_type": "code",
   "execution_count": 3,
   "metadata": {},
   "outputs": [
    {
     "name": "stdout",
     "output_type": "stream",
     "text": [
      "Requirement already satisfied: scikit-learn in /Library/Frameworks/Python.framework/Versions/3.10/lib/python3.10/site-packages (1.1.1)\n",
      "Requirement already satisfied: scipy in /Library/Frameworks/Python.framework/Versions/3.10/lib/python3.10/site-packages (1.8.1)\n",
      "Requirement already satisfied: matplotlib in /Library/Frameworks/Python.framework/Versions/3.10/lib/python3.10/site-packages (3.5.2)\n",
      "Requirement already satisfied: scikit-image in /Library/Frameworks/Python.framework/Versions/3.10/lib/python3.10/site-packages (0.19.2)\n",
      "Requirement already satisfied: threadpoolctl>=2.0.0 in /Library/Frameworks/Python.framework/Versions/3.10/lib/python3.10/site-packages (from scikit-learn) (3.1.0)\n",
      "Requirement already satisfied: numpy>=1.17.3 in /Library/Frameworks/Python.framework/Versions/3.10/lib/python3.10/site-packages (from scikit-learn) (1.22.3)\n",
      "Requirement already satisfied: joblib>=1.0.0 in /Library/Frameworks/Python.framework/Versions/3.10/lib/python3.10/site-packages (from scikit-learn) (1.1.0)\n",
      "Requirement already satisfied: pillow>=6.2.0 in /Library/Frameworks/Python.framework/Versions/3.10/lib/python3.10/site-packages (from matplotlib) (9.0.1)\n",
      "Requirement already satisfied: kiwisolver>=1.0.1 in /Library/Frameworks/Python.framework/Versions/3.10/lib/python3.10/site-packages (from matplotlib) (1.4.2)\n",
      "Requirement already satisfied: python-dateutil>=2.7 in /Library/Frameworks/Python.framework/Versions/3.10/lib/python3.10/site-packages (from matplotlib) (2.8.2)\n",
      "Requirement already satisfied: cycler>=0.10 in /Library/Frameworks/Python.framework/Versions/3.10/lib/python3.10/site-packages (from matplotlib) (0.11.0)\n",
      "Requirement already satisfied: pyparsing>=2.2.1 in /Library/Frameworks/Python.framework/Versions/3.10/lib/python3.10/site-packages (from matplotlib) (3.0.7)\n",
      "Requirement already satisfied: fonttools>=4.22.0 in /Library/Frameworks/Python.framework/Versions/3.10/lib/python3.10/site-packages (from matplotlib) (4.31.2)\n",
      "Requirement already satisfied: packaging>=20.0 in /Library/Frameworks/Python.framework/Versions/3.10/lib/python3.10/site-packages (from matplotlib) (21.3)\n",
      "Requirement already satisfied: tifffile>=2019.7.26 in /Library/Frameworks/Python.framework/Versions/3.10/lib/python3.10/site-packages (from scikit-image) (2022.5.4)\n",
      "Requirement already satisfied: imageio>=2.4.1 in /Library/Frameworks/Python.framework/Versions/3.10/lib/python3.10/site-packages (from scikit-image) (2.19.2)\n",
      "Requirement already satisfied: PyWavelets>=1.1.1 in /Library/Frameworks/Python.framework/Versions/3.10/lib/python3.10/site-packages (from scikit-image) (1.3.0)\n",
      "Requirement already satisfied: networkx>=2.2 in /Library/Frameworks/Python.framework/Versions/3.10/lib/python3.10/site-packages (from scikit-image) (2.8.2)\n",
      "Requirement already satisfied: six>=1.5 in /Library/Frameworks/Python.framework/Versions/3.10/lib/python3.10/site-packages (from python-dateutil>=2.7->matplotlib) (1.16.0)\n",
      "Note: you may need to restart the kernel to use updated packages.\n"
     ]
    }
   ],
   "source": [
    "### scikit-learn 설치\n",
    "%pip install -U scikit-learn scipy matplotlib scikit-image"
   ]
  },
  {
   "cell_type": "code",
   "execution_count": 2,
   "metadata": {},
   "outputs": [
    {
     "name": "stdout",
     "output_type": "stream",
     "text": [
      "Requirement already satisfied: pip in /Library/Frameworks/Python.framework/Versions/3.10/lib/python3.10/site-packages (22.1)\n",
      "Collecting pip\n",
      "  Downloading pip-22.1.1-py3-none-any.whl (2.1 MB)\n",
      "\u001b[2K     \u001b[90m━━━━━━━━━━━━━━━━━━━━━━━━━━━━━━━━━━━━━━━━\u001b[0m \u001b[32m2.1/2.1 MB\u001b[0m \u001b[31m4.6 MB/s\u001b[0m eta \u001b[36m0:00:00\u001b[0m00:01\u001b[0m00:01\u001b[0m\n",
      "\u001b[?25hInstalling collected packages: pip\n",
      "  Attempting uninstall: pip\n",
      "    Found existing installation: pip 22.1\n",
      "    Uninstalling pip-22.1:\n",
      "      Successfully uninstalled pip-22.1\n",
      "Successfully installed pip-22.1.1\n",
      "Note: you may need to restart the kernel to use updated packages.\n"
     ]
    }
   ],
   "source": [
    "%pip install --upgrade pip"
   ]
  },
  {
   "cell_type": "code",
   "execution_count": 4,
   "metadata": {},
   "outputs": [
    {
     "name": "stdout",
     "output_type": "stream",
     "text": [
      "예측결과 :  [0 1 1 0]\n",
      "정답률 :  4 / 4 = 1.0\n"
     ]
    }
   ],
   "source": [
    "#### XOR연산을 학습하는 프로그램\n",
    "from sklearn import svm\n",
    "\n",
    "### XOR의 계산 데이터 \n",
    "xor_data = [\n",
    "    #P, Q, Reault\n",
    "    [0, 0, 0],\n",
    "    [0, 1, 1],\n",
    "    [1, 0, 1],\n",
    "    [1, 1, 0]\n",
    "]\n",
    "\n",
    "### 학습을 위해서 데이터와 레이블을 분리\n",
    "data = []\n",
    "label = []\n",
    "for row in xor_data:\n",
    "    # print(row)\n",
    "    p = row[0]\n",
    "    q = row[1]\n",
    "    re = row[2]\n",
    "    data.append([p,q])\n",
    "    label.append(re)\n",
    "  \n",
    "### 데이터 학습 시키기\n",
    "clf = svm.SVC()\n",
    "clf.fit(data,label)\n",
    "\n",
    "# data1 = [\n",
    "#     [0,1],\n",
    "#     [0,0],\n",
    "#     [1,0],\n",
    "#     [1,1]\n",
    "# ]\n",
    "### 데이터 예측하기\n",
    "pre = clf.predict(data)\n",
    "print(\"예측결과 : \", pre)\n",
    "\n",
    "### 결과 확인하기\n",
    "ok = 0; total = 0\n",
    "for idx, answer in enumerate(label):\n",
    "    p = pre[idx]\n",
    "    if p == answer: ok += 1\n",
    "    total += 1\n",
    "print(\"정답률 : \", ok, \"/\", total,\"=\",ok/total)\n",
    "\n",
    "### SVM알고리즘 장단점 \n",
    "# 장점\n",
    "# -비선형 분리 데이터를 커널트릭을 사용하여 분류 모델링 가능\n",
    "# -고차원 공간에서 원할하게 작동함\n",
    "# -텍스트 분류 및 이미지 분류에 효과적임\n",
    "# ​\n",
    "# 단점\n",
    "# -대용량 데이터셋 처리에는 많은 시간이 소요(마진 길이가 줄어들기 때문)\n",
    "# -확률 추정치를 직접적으로 반환X\n"
   ]
  },
  {
   "cell_type": "code",
   "execution_count": 5,
   "metadata": {},
   "outputs": [
    {
     "name": "stdout",
     "output_type": "stream",
     "text": [
      "정답률 =  1.0\n"
     ]
    }
   ],
   "source": [
    "#### XOR연산을 학습하는 프로그램2\n",
    "import pandas as pd\n",
    "from sklearn import svm, metrics\n",
    "\n",
    "### XOR의 계산 데이터 \n",
    "xor_input = [\n",
    "    [0, 0, 0],\n",
    "    [0, 1, 1],\n",
    "    [1, 0, 1],\n",
    "    [1, 1, 0]\n",
    "]\n",
    "\n",
    "### 입력을 학습 전용 데이터와 테스트 전용 데이터로 분류하기 \n",
    "xor_df = pd.DataFrame(xor_input)\n",
    "xor_data = xor_df.iloc[:,0:2]  # 데이터\n",
    "xor_label = xor_df.iloc[:,2]    # 레이블\n",
    "\n",
    "### 데이터 학습과 예측하기\n",
    "clf = svm.SVC()\n",
    "clf.fit(xor_data, xor_label)\n",
    "pre = clf.predict(xor_data)\n",
    "\n",
    "### 정답률 구하기\n",
    "ac_score = metrics.accuracy_score(xor_label, pre)\n",
    "print(\"정답률 = \", ac_score)"
   ]
  },
  {
   "cell_type": "code",
   "execution_count": 1,
   "metadata": {},
   "outputs": [
    {
     "name": "stdout",
     "output_type": "stream",
     "text": [
      "정답률 =  0.94\n"
     ]
    }
   ],
   "source": [
    "from sklearn import svm,metrics\n",
    "import pandas as pd\n",
    "import random, re\n",
    "\n",
    "\n",
    "### 붓꽃 데이터 읽어오기\n",
    "csv = []\n",
    "with open('data/iris.csv','r',encoding='utf-8') as fp:\n",
    "    for line in fp:\n",
    "        line = line.strip()\n",
    "        cols = line.split(',')\n",
    "        ### 문자열 데이터를 숫자로 변환\n",
    "        fn = lambda n: float(n) if re.match(r'^[0-9\\.]+$',n) else n\n",
    "        cols = list(map(fn,cols))\n",
    "        csv.append(cols)\n",
    "\n",
    "# 헤더 제거\n",
    "del csv[0]\n",
    "\n",
    "# 데이터 섞기\n",
    "random.shuffle(csv)\n",
    "\n",
    "### 학습 전용 데이터와 데스트 전용 데이터를 분할하기(2:1 비율)\n",
    "total_len = len(csv)\n",
    "train_len = int(total_len* 2/3)\n",
    "train_data = []\n",
    "train_label = []\n",
    "test_data = []\n",
    "test_label = []\n",
    "\n",
    "for i in range(total_len):\n",
    "    data = csv[i][0:4]\n",
    "    label = csv[i][4]\n",
    "    if i < train_len:\n",
    "        train_data.append(data)\n",
    "        train_label.append(label)\n",
    "    else:\n",
    "        test_data.append(data)\n",
    "        test_label.append(label)\n",
    "\n",
    "### 데이터를 학습시키고 예측하기 \n",
    "clf = svm.SVC()\n",
    "clf.fit(train_data,train_label)\n",
    "pre = clf.predict(test_data)\n",
    "\n",
    "### 정답률 구하기 \n",
    "ac_score = metrics.accuracy_score(test_label, pre)\n",
    "print(\"정답률 = \",ac_score)"
   ]
  },
  {
   "cell_type": "code",
   "execution_count": 9,
   "metadata": {},
   "outputs": [
    {
     "name": "stdout",
     "output_type": "stream",
     "text": [
      "정답률 =  0.97\n"
     ]
    }
   ],
   "source": [
    "### iris를 이용한 데이터 처리에서 분할메서드 사용\n",
    "import pandas as pd\n",
    "from sklearn import svm,metrics\n",
    "from sklearn.model_selection import train_test_split\n",
    "\n",
    "### 붓꽃 데이터 읽어 들이기(PANDAS)\n",
    "csv = pd.read_csv('data/iris.csv')\n",
    "\n",
    "### 필요한 열 추출\n",
    "csv_data = csv[['SepalLength','SepalWidth','PetalLength','PetalWidth']]\n",
    "csv_label = csv['Name']\n",
    "\n",
    "### 학습 전용 데이터와 테스트 전용 데이터로 나누기\n",
    "train_data, test_data, train_label, test_label = train_test_split(csv_data,csv_label)\n",
    "\n",
    "### 데이터 학습시키고 예측하기\n",
    "clf = svm.SVC()\n",
    "clf.fit(train_data, train_label)\n",
    "pre = clf.predict(test_data)\n",
    "\n",
    "### 정답률 구하기\n",
    "ac_score = metrics.accuracy_score(test_label, pre)\n",
    "print(\"정답률 = \",round(ac_score,2))\n"
   ]
  },
  {
   "cell_type": "code",
   "execution_count": 10,
   "metadata": {},
   "outputs": [
    {
     "name": "stdout",
     "output_type": "stream",
     "text": [
      "download: http://yann.lecun.com/exdb/mnist//train-images-idx3-ubyte.gz\n",
      "download: http://yann.lecun.com/exdb/mnist//train-labels-idx1-ubyte.gz\n",
      "download: http://yann.lecun.com/exdb/mnist//t10k-images-idx3-ubyte.gz\n",
      "download: http://yann.lecun.com/exdb/mnist//t10k-labels-idx1-ubyte.gz\n"
     ]
    }
   ],
   "source": [
    "### 이미지 내부의 문자 인식\n",
    "\n",
    "## 사이트 주소 : http://yann.lecun.com/exdb/mnist/\n",
    "## train-images-idx3-ubyte.gz\n",
    "## train-labels-idx1-ubyte.gz\n",
    "## t10k-images-idx3-ubyte.gz\n",
    "## t10k-labels-idx1-ubyte.gz\n",
    "\n",
    "import urllib.request as req\n",
    "import gzip, os, os.path\n",
    "\n",
    "savepath = \"data/mnist\"\n",
    "baseurl = \"http://yann.lecun.com/exdb/mnist/\"\n",
    "files = [\n",
    "    'train-images-idx3-ubyte.gz',\n",
    "    'train-labels-idx1-ubyte.gz',\n",
    "    't10k-images-idx3-ubyte.gz',\n",
    "    't10k-labels-idx1-ubyte.gz'\n",
    "]\n",
    "\n",
    "## 다운로드\n",
    "if not os.path.exists(savepath): os.mkdir(savepath)\n",
    "for f in files:\n",
    "    url = baseurl + \"/\" +f\n",
    "    loc = savepath + \"/\" + f\n",
    "    print(\"download:\",url)\n",
    "    if not os.path.exists(loc):\n",
    "        req.urlretrieve(url,loc)\n"
   ]
  },
  {
   "cell_type": "code",
   "execution_count": 11,
   "metadata": {},
   "outputs": [
    {
     "name": "stdout",
     "output_type": "stream",
     "text": [
      "gzip: train-images-idx3-ubyte.gz\n",
      "gzip: train-labels-idx1-ubyte.gz\n",
      "gzip: t10k-images-idx3-ubyte.gz\n",
      "gzip: t10k-labels-idx1-ubyte.gz\n",
      "ok\n"
     ]
    }
   ],
   "source": [
    "### Gzip압축 해제\n",
    "for f in files:\n",
    "    gz_file = savepath + \"/\" + f\n",
    "    raw_file = savepath + \"/\" + f.replace(\".gz\",\"\")\n",
    "    print(\"gzip:\",f)\n",
    "    with gzip.open(gz_file,\"rb\") as fp:\n",
    "        body = fp.read()\n",
    "        with open(raw_file,\"wb\") as w:\n",
    "            w.write(body)\n",
    "print(\"ok\")\n",
    "    "
   ]
  },
  {
   "cell_type": "code",
   "execution_count": 12,
   "metadata": {},
   "outputs": [],
   "source": [
    "import struct\n",
    "def to_csv(name, maxdata):\n",
    "    # 레이블 파일과 이미지 파일 열기\n",
    "    lbl_f = open(\"data/mnist/\"+name+\"-labels-idx1-ubyte\", \"rb\")\n",
    "    img_f = open(\"data/mnist/\"+name+\"-images-idx3-ubyte\", \"rb\")\n",
    "    csv_f = open(\"data/mnist/\"+name+\".csv\", \"w\", encoding=\"utf-8\")\n",
    "    # 헤더 정보 읽기 --- (※1)\n",
    "    mag, lbl_count = struct.unpack(\">II\", lbl_f.read(8))\n",
    "    mag, img_count = struct.unpack(\">II\", img_f.read(8))\n",
    "    rows, cols = struct.unpack(\">II\", img_f.read(8))\n",
    "    pixels = rows * cols\n",
    "    # 이미지 데이터를 읽고 CSV로 저장하기 --- (※2)\n",
    "    res = []\n",
    "    for idx in range(lbl_count):\n",
    "        if idx > maxdata: break\n",
    "        label = struct.unpack(\"B\", lbl_f.read(1))[0]\n",
    "        bdata = img_f.read(pixels)\n",
    "        sdata = list(map(lambda n: str(n), bdata))\n",
    "        csv_f.write(str(label)+\",\")\n",
    "        csv_f.write(\",\".join(sdata)+\"\\r\\n\")\n",
    "        # 잘 저장됐는지 이미지 파일로 저장해서 테스트하기 -- (※3)\n",
    "        if idx < 10:\n",
    "            s = \"P2 28 28 255\\n\"\n",
    "            s += \" \".join(sdata)\n",
    "            iname = \"data/mnist/{0}-{1}-{2}.pgm\".format(name,idx,label)\n",
    "            with open(iname, \"w\", encoding=\"utf-8\") as f:\n",
    "                f.write(s)\n",
    "    csv_f.close()\n",
    "    lbl_f.close()\n",
    "    img_f.close()\n",
    "# 결과를 파일로 출력하기 --- (※4)\n",
    "to_csv(\"train\", 10000)\n",
    "to_csv(\"t10k\", 500)"
   ]
  },
  {
   "cell_type": "code",
   "execution_count": 13,
   "metadata": {},
   "outputs": [
    {
     "name": "stdout",
     "output_type": "stream",
     "text": [
      "정답률 :  0.9560878243512974\n",
      "리포트 : \n",
      "              precision    recall  f1-score   support\n",
      "\n",
      "           0       0.93      0.98      0.95        42\n",
      "           1       1.00      1.00      1.00        67\n",
      "           2       0.98      0.96      0.97        55\n",
      "           3       0.93      0.91      0.92        46\n",
      "           4       0.93      0.98      0.96        55\n",
      "           5       0.92      0.94      0.93        50\n",
      "           6       0.98      0.93      0.95        43\n",
      "           7       0.94      0.96      0.95        49\n",
      "           8       0.93      0.97      0.95        40\n",
      "           9       1.00      0.91      0.95        54\n",
      "\n",
      "    accuracy                           0.96       501\n",
      "   macro avg       0.95      0.95      0.95       501\n",
      "weighted avg       0.96      0.96      0.96       501\n",
      "\n"
     ]
    }
   ],
   "source": [
    "#### 이미지 데이터 학습시키기\n",
    "# 1. CSV 파일에서 학습 데이터와 테스트 데이터를 읽기\n",
    "# 2. 학습 데이터를 사용해 이미지 픽셀을 학습\n",
    "# 3. 테스트 데이터를 활용해서 에측\n",
    "# 4. 예측 결과와 답을 비교해서 정답률을 구하기... \n",
    "\n",
    "from sklearn import model_selection, svm, metrics\n",
    "\n",
    "## CSV 파일을 읽어들여 가공하기\n",
    "def load_csv(fname):\n",
    "    labels = []\n",
    "    images = []\n",
    "    \n",
    "    with open(fname,\"r\") as f:\n",
    "        for line in f:\n",
    "            cols = line.split(\",\")\n",
    "            if len(cols) < 2: continue\n",
    "            labels.append(int(cols.pop(0)))\n",
    "            vals =list(map(lambda n: int(n)/256, cols))\n",
    "            images.append(vals)\n",
    "    return {'labels':labels,'images':images}\n",
    "\n",
    "data = load_csv(\"data/mnist/train.csv\")\n",
    "test = load_csv(\"data/mnist/t10k.csv\")\n",
    "\n",
    "### 학습\n",
    "clf = svm.SVC()\n",
    "clf.fit(data[\"images\"],data[\"labels\"])\n",
    "\n",
    "### 예측\n",
    "predict = clf.predict(test[\"images\"])\n",
    "\n",
    "### 결과 확인\n",
    "ac_score = metrics.accuracy_score(test[\"labels\"], predict)\n",
    "cl_report = metrics.classification_report(test[\"labels\"], predict)\n",
    "print(\"정답률 : \", ac_score)\n",
    "print(\"리포트 : \")\n",
    "print(cl_report)"
   ]
  },
  {
   "cell_type": "code",
   "execution_count": 15,
   "metadata": {},
   "outputs": [
    {
     "name": "stdout",
     "output_type": "stream",
     "text": [
      "정확도 :  1.0\n",
      "리포트 : \n",
      "              precision    recall  f1-score   support\n",
      "\n",
      "          en       1.00      1.00      1.00         2\n",
      "          fr       1.00      1.00      1.00         2\n",
      "          id       1.00      1.00      1.00         2\n",
      "          tl       1.00      1.00      1.00         2\n",
      "\n",
      "    accuracy                           1.00         8\n",
      "   macro avg       1.00      1.00      1.00         8\n",
      "weighted avg       1.00      1.00      1.00         8\n",
      "\n"
     ]
    }
   ],
   "source": [
    "### 외국어 판별을 위한 프로그램\n",
    "from sklearn import svm, metrics\n",
    "import glob, os.path, re, json\n",
    "\n",
    "## 텍스트를 읽어 들이고, 출현 빈도 조사\n",
    "def check_freq(fname):\n",
    "    name = os.path.basename(fname)\n",
    "    lang = re.match(r'^[a-z]{2,}', name).group()\n",
    "    with open(fname, \"r\",encoding=\"utf-8\") as f:\n",
    "        text = f.read()\n",
    "    text = text.lower()   # 소문자 변환\n",
    "    \n",
    "    ## 숫자 세기\n",
    "    cnt = [0 for n in range(0,26)]   ## 알파벳 숫자 만큼 초기값 설정\n",
    "    code_a = ord(\"a\")\n",
    "    code_z = ord(\"z\")\n",
    "    \n",
    "    ## 알파벳 출현 횟수 구하기\n",
    "    for ch in text:\n",
    "        n = ord(ch)\n",
    "        if code_a <= n <= code_z:   # a ~ z 사이에 있는 경우\n",
    "            cnt[n-code_a] += 1\n",
    "    \n",
    "    ## 정규화 작업\n",
    "    total = sum(cnt)\n",
    "    freq = list(map(lambda n: n/total, cnt))\n",
    "    return (freq, lang)\n",
    "\n",
    "def load_files(path):\n",
    "    freqs = []\n",
    "    labels = []\n",
    "    file_list = glob.glob(path)\n",
    "    for fname in file_list:\n",
    "        r = check_freq(fname)\n",
    "        freqs.append(r[0])\n",
    "        labels.append(r[1])\n",
    "    return {'freqs':freqs,'labels':labels}\n",
    "\n",
    "data = load_files(\"data/lang/lang/train/*.txt\")\n",
    "test = load_files(\"data/lang/lang/test/*.txt\")\n",
    "\n",
    "### 이후 대비해서 JSON으로 결과를 저장\n",
    "with open(\"data/lang/lang/freq.json\",\"w\",encoding=\"utf8\") as fp:\n",
    "    json.dump([data,test],fp)\n",
    "\n",
    "### 학습하기 \n",
    "clf = svm.SVC()\n",
    "clf.fit(data['freqs'],data['labels'])\n",
    "\n",
    "### 예측하기\n",
    "predict = clf.predict(test[\"freqs\"])\n",
    "\n",
    "### 결과 테스트하기\n",
    "ac_score = metrics.accuracy_score(test[\"labels\"], predict)\n",
    "cl_report = metrics.classification_report(test[\"labels\"], predict)\n",
    "print(\"정확도 : \", ac_score)\n",
    "print(\"리포트 : \")\n",
    "print(cl_report) \n"
   ]
  },
  {
   "cell_type": "code",
   "execution_count": 16,
   "metadata": {},
   "outputs": [
    {
     "data": {
      "image/png": "[encoded data removed]",
      "text/plain": [
       "<Figure size 432x288 with 4 Axes>"
      ]
     },
     "metadata": {
      "needs_background": "light"
     },
     "output_type": "display_data"
    }
   ],
   "source": [
    "import matplotlib.pyplot as plt\n",
    "import pandas as pd\n",
    "import json\n",
    "\n",
    "## 알파벳 출현 빈도 데이터 읽어오기\n",
    "with open(\"data/lang/lang/freq.json\",\"r\",encoding=\"utf-8\") as fp:\n",
    "    freq = json.load(fp)\n",
    "\n",
    "## 각 언어마다 계산\n",
    "lang_dic = {}\n",
    "for i, lbl in enumerate(freq[0][\"labels\"]):\n",
    "    fq = freq[0][\"freqs\"][i]\n",
    "    if not (lbl in lang_dic):\n",
    "        lang_dic[lbl] = fq\n",
    "        continue\n",
    "    for idx, v in enumerate(fq):\n",
    "        lang_dic[lbl][idx] = (lang_dic[lbl][idx] + v ) / 2\n",
    "\n",
    "## pandas의 DF처리\n",
    "asclist = [[chr(n) for n in range(97,97+26)]]\n",
    "df = pd.DataFrame(lang_dic,index=asclist)\n",
    "\n",
    "### 그래프 그리기\n",
    "plt.style.use('ggplot')\n",
    "df.plot(kind=\"line\",subplots=True,ylim=(0,0.15))\n",
    "plt.savefig(\"data/lang/lang/lang-plot.png\")\n",
    "plt.show()"
   ]
  },
  {
   "cell_type": "code",
   "execution_count": 24,
   "metadata": {},
   "outputs": [
    {
     "name": "stdout",
     "output_type": "stream",
     "text": [
      "ok\n"
     ]
    }
   ],
   "source": [
    "### 학습한 매개변수를 저장하는 프로그램\n",
    "from sklearn import svm\n",
    "import joblib\n",
    "import json\n",
    "\n",
    "with open(\"data/lang/lang/freq.json\",\"r\",encoding=\"utf-8\") as fp:\n",
    "    d = json.load(fp)\n",
    "    data = d[0]\n",
    "\n",
    "## 데이터 학습\n",
    "clf = svm.SVC()\n",
    "clf.fit(data[\"freqs\"],data[\"labels\"])\n",
    "\n",
    "## 학습 데이터 저장\n",
    "joblib.dump(clf,\"data/lang/freq.pkl\")\n",
    "print(\"ok\")\n"
   ]
  },
  {
   "cell_type": "code",
   "execution_count": 35,
   "metadata": {},
   "outputs": [
    {
     "ename": "FileNotFoundError",
     "evalue": "[Errno 2] No such file or directory: 'freq.pkl'",
     "output_type": "error",
     "traceback": [
      "\u001b[0;31m---------------------------------------------------------------------------\u001b[0m",
      "\u001b[0;31mFileNotFoundError\u001b[0m                         Traceback (most recent call last)",
      "\u001b[1;32m/Users/yunbeen/Desktop/ybfolder/bigdata/python /pythonproject/Analysis/day010.ipynb Cell 14'\u001b[0m in \u001b[0;36m<cell line: 6>\u001b[0;34m()\u001b[0m\n\u001b[1;32m      <a href='vscode-notebook-cell:/Users/yunbeen/Desktop/ybfolder/bigdata/python%20/pythonproject/Analysis/day010.ipynb#ch0000015?line=3'>4</a>\u001b[0m \u001b[39m# 학습 데이터 읽어 들이기\u001b[39;00m\n\u001b[1;32m      <a href='vscode-notebook-cell:/Users/yunbeen/Desktop/ybfolder/bigdata/python%20/pythonproject/Analysis/day010.ipynb#ch0000015?line=4'>5</a>\u001b[0m pklfile \u001b[39m=\u001b[39m \u001b[39m\"\u001b[39m\u001b[39mfreq.pkl\u001b[39m\u001b[39m\"\u001b[39m\n\u001b[0;32m----> <a href='vscode-notebook-cell:/Users/yunbeen/Desktop/ybfolder/bigdata/python%20/pythonproject/Analysis/day010.ipynb#ch0000015?line=5'>6</a>\u001b[0m clf \u001b[39m=\u001b[39m joblib\u001b[39m.\u001b[39;49mload(pklfile)\n\u001b[1;32m      <a href='vscode-notebook-cell:/Users/yunbeen/Desktop/ybfolder/bigdata/python%20/pythonproject/Analysis/day010.ipynb#ch0000015?line=6'>7</a>\u001b[0m \u001b[39m# 텍스트 입력 양식 출력하기\u001b[39;00m\n\u001b[1;32m      <a href='vscode-notebook-cell:/Users/yunbeen/Desktop/ybfolder/bigdata/python%20/pythonproject/Analysis/day010.ipynb#ch0000015?line=7'>8</a>\u001b[0m \u001b[39mdef\u001b[39;00m \u001b[39mshow_form\u001b[39m(text, msg\u001b[39m=\u001b[39m\u001b[39m\"\u001b[39m\u001b[39m\"\u001b[39m):\n",
      "File \u001b[0;32m/Library/Frameworks/Python.framework/Versions/3.10/lib/python3.10/site-packages/joblib/numpy_pickle.py:579\u001b[0m, in \u001b[0;36mload\u001b[0;34m(filename, mmap_mode)\u001b[0m\n\u001b[1;32m    <a href='file:///Library/Frameworks/Python.framework/Versions/3.10/lib/python3.10/site-packages/joblib/numpy_pickle.py?line=576'>577</a>\u001b[0m         obj \u001b[39m=\u001b[39m _unpickle(fobj)\n\u001b[1;32m    <a href='file:///Library/Frameworks/Python.framework/Versions/3.10/lib/python3.10/site-packages/joblib/numpy_pickle.py?line=577'>578</a>\u001b[0m \u001b[39melse\u001b[39;00m:\n\u001b[0;32m--> <a href='file:///Library/Frameworks/Python.framework/Versions/3.10/lib/python3.10/site-packages/joblib/numpy_pickle.py?line=578'>579</a>\u001b[0m     \u001b[39mwith\u001b[39;00m \u001b[39mopen\u001b[39;49m(filename, \u001b[39m'\u001b[39;49m\u001b[39mrb\u001b[39;49m\u001b[39m'\u001b[39;49m) \u001b[39mas\u001b[39;00m f:\n\u001b[1;32m    <a href='file:///Library/Frameworks/Python.framework/Versions/3.10/lib/python3.10/site-packages/joblib/numpy_pickle.py?line=579'>580</a>\u001b[0m         \u001b[39mwith\u001b[39;00m _read_fileobject(f, filename, mmap_mode) \u001b[39mas\u001b[39;00m fobj:\n\u001b[1;32m    <a href='file:///Library/Frameworks/Python.framework/Versions/3.10/lib/python3.10/site-packages/joblib/numpy_pickle.py?line=580'>581</a>\u001b[0m             \u001b[39mif\u001b[39;00m \u001b[39misinstance\u001b[39m(fobj, \u001b[39mstr\u001b[39m):\n\u001b[1;32m    <a href='file:///Library/Frameworks/Python.framework/Versions/3.10/lib/python3.10/site-packages/joblib/numpy_pickle.py?line=581'>582</a>\u001b[0m                 \u001b[39m# if the returned file object is a string, this means we\u001b[39;00m\n\u001b[1;32m    <a href='file:///Library/Frameworks/Python.framework/Versions/3.10/lib/python3.10/site-packages/joblib/numpy_pickle.py?line=582'>583</a>\u001b[0m                 \u001b[39m# try to load a pickle file generated with an version of\u001b[39;00m\n\u001b[1;32m    <a href='file:///Library/Frameworks/Python.framework/Versions/3.10/lib/python3.10/site-packages/joblib/numpy_pickle.py?line=583'>584</a>\u001b[0m                 \u001b[39m# Joblib so we load it with joblib compatibility function.\u001b[39;00m\n",
      "\u001b[0;31mFileNotFoundError\u001b[0m: [Errno 2] No such file or directory: 'freq.pkl'"
     ]
    }
   ],
   "source": [
    "#!/usr/bin/env python3\n",
    "import cgi, os.path\n",
    "import joblib\n",
    "# 학습 데이터 읽어 들이기\n",
    "pklfile = \"freq.pkl\"\n",
    "clf = joblib.load(pklfile)\n",
    "# 텍스트 입력 양식 출력하기\n",
    "def show_form(text, msg=\"\"):\n",
    "    print(\"Content-Type: text/html; charset=utf-8\")\n",
    "    print(\"\")\n",
    "    print(\"\"\"\n",
    "        <html><body><form>\n",
    "        <textarea name=\"text\" rows=\"8\" cols=\"40\">{0}</textarea>\n",
    "        <p><input type=\"submit\" value=\"판정\"></p>\n",
    "        <p>{1}</p>\n",
    "        </form></body></html>\n",
    "    \"\"\".format(cgi.escape(text), msg))\n",
    "# 판정하기\n",
    "def detect_lang(text):\n",
    "    # 알파벳 출현 빈도 구하기\n",
    "    text = text.lower() \n",
    "    code_a, code_z = (ord(\"a\"), ord(\"z\"))\n",
    "    cnt = [0 for i in range(26)]\n",
    "    for ch in text:\n",
    "        n = ord(ch) - code_a\n",
    "        if 0 <= n < 26: cnt[n] += 1\n",
    "    total = sum(cnt)\n",
    "    if total == 0: return \"입력이 없습니다\"\n",
    "    freq = list(map(lambda n: n/total, cnt))\n",
    "    # 언어 예측하기\n",
    "    res = clf.predict([freq])\n",
    "    # 언어 코드를 한국어로 변환하기\n",
    "    lang_dic = {\"en\":\"영어\",\"fr\":\"프랑스어\",\n",
    "        \"id\":\"인도네시아어\", \"tl\":\"타갈로그어\"}\n",
    "    return lang_dic[res[0]]\n",
    "# 입력 양식의 값 읽어 들이기\n",
    "form = cgi.FieldStorage()\n",
    "text = form.getvalue(\"text\", default=\"\")\n",
    "msg = \"\"\n",
    "if text != \"\":\n",
    "    lang = detect_lang(text)\n",
    "    msg = \"판정 결과:\" + lang\n",
    "# 입력 양식 출력\n",
    "show_form(text, msg)"
   ]
  },
  {
   "cell_type": "code",
   "execution_count": 36,
   "metadata": {},
   "outputs": [
    {
     "name": "stdout",
     "output_type": "stream",
     "text": [
      "ok, {'thin': 6405, 'normal': 5971, 'fat': 7624}\n"
     ]
    }
   ],
   "source": [
    "#### BMI만들기 \n",
    "import random\n",
    "# BMI를 계산해서 레이블을 리턴하는 함수\n",
    "def calc_bmi(h, w):\n",
    "    bmi = w / (h/100) ** 2\n",
    "    if bmi < 18.5: return \"thin\"\n",
    "    if bmi < 25: return \"normal\"\n",
    "    return \"fat\"\n",
    "# 출력 파일 준비하기\n",
    "fp = open(\"bmi.csv\",\"w\",encoding=\"utf-8\")\n",
    "fp.write(\"height,weight,label\\r\\n\")\n",
    "# 무작위로 데이터 생성하기\n",
    "cnt = {\"thin\":0, \"normal\":0, \"fat\":0}\n",
    "for i in range(20000):\n",
    "    h = random.randint(120,200)\n",
    "    w = random.randint(35, 80)\n",
    "    label = calc_bmi(h, w)\n",
    "    cnt[label] += 1\n",
    "    fp.write(\"{0},{1},{2}\\r\\n\".format(h, w, label))\n",
    "fp.close()\n",
    "print(\"ok,\", cnt)"
   ]
  },
  {
   "cell_type": "code",
   "execution_count": 37,
   "metadata": {},
   "outputs": [
    {
     "name": "stdout",
     "output_type": "stream",
     "text": [
      "정답률 = 0.9986\n",
      "리포트 =\n",
      "               precision    recall  f1-score   support\n",
      "\n",
      "         fat       1.00      1.00      1.00      1850\n",
      "      normal       1.00      1.00      1.00      1495\n",
      "        thin       1.00      1.00      1.00      1655\n",
      "\n",
      "    accuracy                           1.00      5000\n",
      "   macro avg       1.00      1.00      1.00      5000\n",
      "weighted avg       1.00      1.00      1.00      5000\n",
      "\n"
     ]
    }
   ],
   "source": [
    "from sklearn import svm, metrics\n",
    "from sklearn.model_selection import train_test_split\n",
    "import matplotlib.pyplot as plt\n",
    "import pandas as pd\n",
    "\n",
    "# 키와 몸무게 데이터 읽어 들이기 --- (※1)\n",
    "tbl = pd.read_csv(\"bmi.csv\")\n",
    "# 칼럼(열)을 자르고 정규화하기 --- (※2)\n",
    "label = tbl[\"label\"]\n",
    "w = tbl[\"weight\"] / 100 # 최대 100kg라고 가정\n",
    "h = tbl[\"height\"] / 200 # 최대 200cm라고 가정\n",
    "wh = pd.concat([w, h], axis=1)\n",
    "# 학습 전용 데이터와 테스트 전용 데이터로 나누기 --- (※3)\n",
    "data_train, data_test, label_train, label_test = \\\n",
    "    train_test_split(wh, label)\n",
    "# 데이터 학습하기 --- (※4)\n",
    "clf = svm.SVC()\n",
    "clf.fit(data_train, label_train)\n",
    "# 데이터 예측하기 --- (※5)\n",
    "predict = clf.predict(data_test)\n",
    "# 결과 테스트하기 --- (※6)\n",
    "ac_score = metrics.accuracy_score(label_test, predict)\n",
    "cl_report = metrics.classification_report(label_test, predict)\n",
    "print(\"정답률 =\", ac_score)\n",
    "print(\"리포트 =\\n\", cl_report)"
   ]
  },
  {
   "cell_type": "code",
   "execution_count": 38,
   "metadata": {},
   "outputs": [
    {
     "data": {
      "image/png": "[encoded data removed]",
      "text/plain": [
       "<Figure size 432x288 with 1 Axes>"
      ]
     },
     "metadata": {
      "needs_background": "light"
     },
     "output_type": "display_data"
    }
   ],
   "source": [
    "import matplotlib.pyplot as plt\n",
    "import pandas as pd\n",
    "# Pandas로 CSV 파일 읽어 들이기\n",
    "tbl = pd.read_csv(\"bmi.csv\", index_col=2)\n",
    "# 그래프 그리기 시작\n",
    "fig = plt.figure()\n",
    "ax = fig.add_subplot(1, 1, 1)\n",
    "# 서브 플롯 전용 - 지정한 레이블을 임의의 색으로 칠하기\n",
    "def scatter(lbl, color):\n",
    "    b = tbl.loc[lbl]\n",
    "    ax.scatter(b[\"weight\"],b[\"height\"], c=color, label=lbl)\n",
    "scatter(\"fat\",    \"red\")\n",
    "scatter(\"normal\", \"yellow\")\n",
    "scatter(\"thin\",   \"purple\")\n",
    "ax.legend() \n",
    "plt.savefig(\"bmi-test.png\")\n",
    "plt.show()"
   ]
  },
  {
   "cell_type": "code",
   "execution_count": null,
   "metadata": {},
   "outputs": [],
   "source": []
  },
  {
   "cell_type": "code",
   "execution_count": null,
   "metadata": {},
   "outputs": [],
   "source": []
  },
  {
   "cell_type": "code",
   "execution_count": null,
   "metadata": {},
   "outputs": [],
   "source": []
  }
 ],
 "metadata": {
  "interpreter": {
   "hash": "26de051ba29f2982a8de78e945f0abaf191376122a1563185a90213a26c5da77"
  },
  "kernelspec": {
   "display_name": "Python 3.10.2 64-bit",
   "language": "python",
   "name": "python3"
  },
  "language_info": {
   "codemirror_mode": {
    "name": "ipython",
    "version": 3
   },
   "file_extension": ".py",
   "mimetype": "text/x-python",
   "name": "python",
   "nbconvert_exporter": "python",
   "pygments_lexer": "ipython3",
   "version": "3.10.3"
  },
  "orig_nbformat": 4
 },
 "nbformat": 4,
 "nbformat_minor": 2
}
