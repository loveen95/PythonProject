{
 "cells": [
  {
   "cell_type": "code",
   "execution_count": 2,
   "metadata": {},
   "outputs": [],
   "source": [
    "### Topic Modeling\n",
    "# Topic은 주제를 말합니다. 토픽 모델링은 기계 학습 및 자연어 처리분야에서 토픽은 문서 집합의 추상적인\n",
    "# 주제를 발견하기 위해서 사용하는 통계적 모델 중 하나로, 본문에 숨겨진 의미 구조를 발견하기 위해 사용\n",
    "# 되어지는 텍스트 마이닝 기법. \n",
    "\n",
    "## 1) 잠재 의미 분석(Latent Semantic Anaylysis, LSA)\n",
    "\n",
    "# BoW에 기반한 DTM이나 TF-IDF는 기본적으로 단어의 빈도 수를 이용한 수치화 방법이기 때문에 단어의 의미를\n",
    "# 고려하지 못한다는 단점이 있었습니다. (이를 토픽 모델링 관점에서는 단어의 토픽을 고려하지 못한다고도 \n",
    "# 합니다.) 이를 위한 대안으로 DTM의 잠재된(Latent) 의미를 이끌어내는 방법으로 \n",
    "# 잠재 의미 분석(Latent Semantic Analysis, LSA)이라는 방법이 있습니다. \n",
    "# 잠재 의미 분석(Latent Semantic Indexing, LSI)이라고 부르기도 합니다. 이하 LSA라고 명명하겠습니다.\n",
    "\n",
    "# 이 방법을 이해하기 위해서는 선형대수학의 특이값 분해(Singular Value Decomposition, SVD)를 이해할 \n",
    "# 필요가 있습니다. 이하 이를 SVD라고 명명하겠습니다. 이 실습에서는 SVD를 수행하는 구체적인 선형대수학에 \n",
    "# 대해서는 설명하지 않고, SVD가 갖고있는 의미를 이해하는 것에 초점을 맞춥니다.\n",
    "\n",
    "#### 1. 특이값 분해(Singular Value Decomposition, SVD)  : https://wikidocs.net/24949"
   ]
  },
  {
   "cell_type": "code",
   "execution_count": 23,
   "metadata": {},
   "outputs": [
    {
     "name": "stdout",
     "output_type": "stream",
     "text": [
      "DTM의 크기 :  (4, 9)\n",
      "행렬 U :\n",
      "[[-0.24  0.75  0.   -0.62]\n",
      " [-0.51  0.44 -0.    0.74]\n",
      " [-0.83 -0.49 -0.   -0.27]\n",
      " [-0.   -0.    1.    0.  ]]\n",
      "행렬 U의 크기(shape) : (4, 4)\n"
     ]
    }
   ],
   "source": [
    "import numpy as np\n",
    "A = np.array([[0,0,0,1,0,1,1,0,0],[0,0,0,1,1,0,1,0,0],[0,1,1,0,2,0,0,0,0],[1,0,0,0,0,0,0,1,1]])\n",
    "print(\"DTM의 크기 : \", np.shape(A))\n",
    "\n",
    "#Full SVD\n",
    "U, s, VT = np.linalg.svd(A, full_matrices = True)\n",
    "print('행렬 U :')\n",
    "print(U.round(2))\n",
    "print('행렬 U의 크기(shape) :',np.shape(U))"
   ]
  },
  {
   "cell_type": "code",
   "execution_count": 5,
   "metadata": {},
   "outputs": [
    {
     "name": "stdout",
     "output_type": "stream",
     "text": [
      "특이값 벡터 :\n",
      "[2.69 2.05 1.73 0.77]\n",
      "특이값 벡터의 크기(shape) : (4,)\n"
     ]
    }
   ],
   "source": [
    "print('특이값 벡터 :')\n",
    "print(s.round(2))\n",
    "print('특이값 벡터의 크기(shape) :',np.shape(s))"
   ]
  },
  {
   "cell_type": "code",
   "execution_count": 12,
   "metadata": {},
   "outputs": [
    {
     "name": "stdout",
     "output_type": "stream",
     "text": [
      "대각 행렬 S :\n",
      "[[2.69 0.   0.   0.   0.   0.   0.   0.   0.  ]\n",
      " [0.   2.05 0.   0.   0.   0.   0.   0.   0.  ]\n",
      " [0.   0.   1.73 0.   0.   0.   0.   0.   0.  ]\n",
      " [0.   0.   0.   0.77 0.   0.   0.   0.   0.  ]]\n",
      "대각 행렬의 크기(shape) :\n",
      "(4, 9)\n"
     ]
    }
   ],
   "source": [
    "### Numpy의 linalg.svd()는 특이값 분해의 결과로 대각 행렬이 아니라 특이값 리스트를 반환\n",
    "### 때문에 수식을 대각행렬로 바꾸어 주어야 한다. 특이값을 s에 저장하고 대각 행렬의 크기를 생성한 후\n",
    "### 그 행렬에 특이값을 삽입\n",
    "\n",
    "## 대각 행렬의 크기 4x9의 임의의 행렬 생성\n",
    "S = np.zeros((4,9))\n",
    "\n",
    "## 특이값을 대각행렬에 삽입\n",
    "S[:4, :4] = np.diag(s)\n",
    "\n",
    "print('대각 행렬 S :')\n",
    "print(S.round(2))\n",
    "\n",
    "print('대각 행렬의 크기(shape) :')\n",
    "print(np.shape(S))"
   ]
  },
  {
   "cell_type": "code",
   "execution_count": 14,
   "metadata": {},
   "outputs": [
    {
     "name": "stdout",
     "output_type": "stream",
     "text": [
      "직교행렬 VT :\n",
      "[[-0.   -0.31 -0.31 -0.28 -0.8  -0.09 -0.28 -0.   -0.  ]\n",
      " [ 0.   -0.24 -0.24  0.58 -0.26  0.37  0.58 -0.   -0.  ]\n",
      " [ 0.58 -0.    0.    0.   -0.    0.   -0.    0.58  0.58]\n",
      " [ 0.   -0.35 -0.35  0.16  0.25 -0.8   0.16 -0.   -0.  ]\n",
      " [-0.   -0.78 -0.01 -0.2   0.4   0.4  -0.2   0.    0.  ]\n",
      " [-0.29  0.31 -0.78 -0.24  0.23  0.23  0.01  0.14  0.14]\n",
      " [-0.29 -0.1   0.26 -0.59 -0.08 -0.08  0.66  0.14  0.14]\n",
      " [-0.5  -0.06  0.15  0.24 -0.05 -0.05 -0.19  0.75 -0.25]\n",
      " [-0.5  -0.06  0.15  0.24 -0.05 -0.05 -0.19 -0.25  0.75]]\n",
      "직교 행렬 VT의 크기(shape) : \n",
      "(9, 9)\n"
     ]
    }
   ],
   "source": [
    "print(\"직교행렬 VT :\")\n",
    "print(VT.round(2))\n",
    "print(\"직교 행렬 VT의 크기(shape) : \")\n",
    "print(np.shape(VT))"
   ]
  },
  {
   "cell_type": "code",
   "execution_count": 15,
   "metadata": {},
   "outputs": [
    {
     "data": {
      "text/plain": [
       "True"
      ]
     },
     "execution_count": 15,
     "metadata": {},
     "output_type": "execute_result"
    }
   ],
   "source": [
    "### UxSxVT가 기존 행렬 A와 같은지 확인\n",
    "## Numpy의 allclose()는 2개의 행렬이 동일하면 True을 반환\n",
    "np.allclose(A, np.dot(np.dot(U,S),VT).round(2))"
   ]
  },
  {
   "cell_type": "code",
   "execution_count": 25,
   "metadata": {},
   "outputs": [
    {
     "name": "stdout",
     "output_type": "stream",
     "text": [
      "대각 행렬 S : \n",
      "[[2.69 0.  ]\n",
      " [0.   2.05]]\n"
     ]
    }
   ],
   "source": [
    "#### 절단된 SVD(Truncated SVD)\n",
    "\n",
    "## 특이값 상위 2개만 보존\n",
    "S = S[:2,:2]\n",
    "\n",
    "print(\"대각 행렬 S : \")\n",
    "print(S.round(2))"
   ]
  },
  {
   "cell_type": "code",
   "execution_count": 24,
   "metadata": {},
   "outputs": [
    {
     "name": "stdout",
     "output_type": "stream",
     "text": [
      "행렬 U : \n",
      "[[-0.24  0.75]\n",
      " [-0.51  0.44]\n",
      " [-0.83 -0.49]\n",
      " [-0.   -0.  ]]\n"
     ]
    }
   ],
   "source": [
    "## 직교 행렬 U에 대해서도 2개의 열만 남기고 제거\n",
    "U = U[:,:2]\n",
    "print(\"행렬 U : \")\n",
    "print(U.round(2))"
   ]
  },
  {
   "cell_type": "code",
   "execution_count": 26,
   "metadata": {},
   "outputs": [
    {
     "name": "stdout",
     "output_type": "stream",
     "text": [
      "직교행렬 VT : \n",
      "[[-0.   -0.31 -0.31 -0.28 -0.8  -0.09 -0.28 -0.   -0.  ]\n",
      " [ 0.   -0.24 -0.24  0.58 -0.26  0.37  0.58 -0.   -0.  ]]\n"
     ]
    }
   ],
   "source": [
    "## 전치행렬인 VT 2의 행만 남기고 제거\n",
    "VT = VT[:2,:]\n",
    "print(\"직교행렬 VT : \")\n",
    "print(VT.round(2))"
   ]
  },
  {
   "cell_type": "code",
   "execution_count": 27,
   "metadata": {},
   "outputs": [
    {
     "name": "stdout",
     "output_type": "stream",
     "text": [
      "[[0 0 0 1 0 1 1 0 0]\n",
      " [0 0 0 1 1 0 1 0 0]\n",
      " [0 1 1 0 2 0 0 0 0]\n",
      " [1 0 0 0 0 0 0 1 1]]\n",
      "[[ 0.   -0.17 -0.17  1.08  0.12  0.62  1.08 -0.   -0.  ]\n",
      " [ 0.    0.2   0.2   0.91  0.86  0.45  0.91  0.    0.  ]\n",
      " [ 0.    0.93  0.93  0.03  2.05 -0.17  0.03  0.    0.  ]\n",
      " [ 0.    0.    0.    0.    0.    0.    0.    0.    0.  ]]\n"
     ]
    }
   ],
   "source": [
    "A_prime = np.dot(np.dot(U,S), VT)\n",
    "print(A)\n",
    "print(A_prime.round(2))"
   ]
  },
  {
   "cell_type": "code",
   "execution_count": 1,
   "metadata": {},
   "outputs": [
    {
     "name": "stdout",
     "output_type": "stream",
     "text": [
      "Collecting nltk\n",
      "  Downloading nltk-3.7-py3-none-any.whl (1.5 MB)\n",
      "\u001b[2K     \u001b[90m━━━━━━━━━━━━━━━━━━━━━━━━━━━━━━━━━━━━━━━━\u001b[0m \u001b[32m1.5/1.5 MB\u001b[0m \u001b[31m3.1 MB/s\u001b[0m eta \u001b[36m0:00:00\u001b[0m00:01\u001b[0m00:01\u001b[0m\n",
      "\u001b[?25hRequirement already satisfied: tqdm in /Library/Frameworks/Python.framework/Versions/3.10/lib/python3.10/site-packages (from nltk) (4.64.0)\n",
      "Collecting regex>=2021.8.3\n",
      "  Downloading regex-2022.4.24-cp310-cp310-macosx_11_0_arm64.whl (281 kB)\n",
      "\u001b[2K     \u001b[90m━━━━━━━━━━━━━━━━━━━━━━━━━━━━━━━━━━━━━━━\u001b[0m \u001b[32m281.8/281.8 kB\u001b[0m \u001b[31m4.0 MB/s\u001b[0m eta \u001b[36m0:00:00\u001b[0ma \u001b[36m0:00:01\u001b[0m\n",
      "\u001b[?25hCollecting click\n",
      "  Downloading click-8.1.3-py3-none-any.whl (96 kB)\n",
      "\u001b[2K     \u001b[90m━━━━━━━━━━━━━━━━━━━━━━━━━━━━━━━━━━━━━━━━\u001b[0m \u001b[32m96.6/96.6 kB\u001b[0m \u001b[31m2.3 MB/s\u001b[0m eta \u001b[36m0:00:00\u001b[0ma \u001b[36m0:00:01\u001b[0m\n",
      "\u001b[?25hRequirement already satisfied: joblib in /Library/Frameworks/Python.framework/Versions/3.10/lib/python3.10/site-packages (from nltk) (1.1.0)\n",
      "Installing collected packages: regex, click, nltk\n",
      "Successfully installed click-8.1.3 nltk-3.7 regex-2022.4.24\n",
      "Note: you may need to restart the kernel to use updated packages.\n"
     ]
    }
   ],
   "source": [
    "%pip install nltk"
   ]
  },
  {
   "cell_type": "code",
   "execution_count": 1,
   "metadata": {},
   "outputs": [],
   "source": [
    "### 실습 (LSA)\n",
    "## 데이터 : 사이킷런에서 Twenty Newsgroups이라고 불리는 20개의 다른 주제를 가진 뉴스그룹 \n",
    "# 데이터를 제공\n",
    "\n",
    "import pandas as pd\n",
    "from sklearn.datasets import fetch_20newsgroups\n",
    "import nltk\n",
    "from nltk.corpus import stopwords\n",
    "from sklearn.feature_extraction.text import TfidfVectorizer\n",
    "from sklearn.decomposition import TruncatedSVD"
   ]
  },
  {
   "cell_type": "code",
   "execution_count": 2,
   "metadata": {},
   "outputs": [
    {
     "name": "stdout",
     "output_type": "stream",
     "text": [
      "샘플의 숫 :  11314\n"
     ]
    }
   ],
   "source": [
    "### dataset\n",
    "dataset = fetch_20newsgroups(shuffle=True, random_state=1, remove=(\"headers\",\"footers\",\"quotes\"))\n",
    "documents = dataset.data\n",
    "print(\"샘플의 숫 : \", len(documents))"
   ]
  },
  {
   "cell_type": "code",
   "execution_count": 3,
   "metadata": {},
   "outputs": [
    {
     "data": {
      "text/plain": [
       "\"\\n\\n\\n\\n\\n\\n\\nYeah, do you expect people to read the FAQ, etc. and actually accept hard\\natheism?  No, you need a little leap of faith, Jimmy.  Your logic runs out\\nof steam!\\n\\n\\n\\n\\n\\n\\n\\nJim,\\n\\nSorry I can't pity you, Jim.  And I'm sorry that you have these feelings of\\ndenial about the faith you need to get by.  Oh well, just pretend that it will\\nall end happily ever after anyway.  Maybe if you start a new newsgroup,\\nalt.atheist.hard, you won't be bummin' so much?\\n\\n\\n\\n\\n\\n\\nBye-Bye, Big Jim.  Don't forget your Flintstone's Chewables!  :) \\n--\\nBake Timmons, III\""
      ]
     },
     "execution_count": 3,
     "metadata": {},
     "output_type": "execute_result"
    }
   ],
   "source": [
    "documents[1]"
   ]
  },
  {
   "cell_type": "code",
   "execution_count": 4,
   "metadata": {},
   "outputs": [
    {
     "name": "stdout",
     "output_type": "stream",
     "text": [
      "['alt.atheism', 'comp.graphics', 'comp.os.ms-windows.misc', 'comp.sys.ibm.pc.hardware', 'comp.sys.mac.hardware', 'comp.windows.x', 'misc.forsale', 'rec.autos', 'rec.motorcycles', 'rec.sport.baseball', 'rec.sport.hockey', 'sci.crypt', 'sci.electronics', 'sci.med', 'sci.space', 'soc.religion.christian', 'talk.politics.guns', 'talk.politics.mideast', 'talk.politics.misc', 'talk.religion.misc']\n"
     ]
    },
    {
     "data": {
      "text/plain": [
       "17"
      ]
     },
     "execution_count": 4,
     "metadata": {},
     "output_type": "execute_result"
    }
   ],
   "source": [
    "print(dataset.target_names)\n",
    "dataset.target[0]"
   ]
  },
  {
   "cell_type": "code",
   "execution_count": 5,
   "metadata": {},
   "outputs": [
    {
     "name": "stderr",
     "output_type": "stream",
     "text": [
      "/var/folders/bh/fc9kz9jd629610b3rs258vlw0000gn/T/ipykernel_62158/1326237134.py:5: FutureWarning: The default value of regex will change from True to False in a future version.\n",
      "  news_df['clean_doc'] = news_df['document'].str.replace(\"[^a-zA-Z]\",\" \")  # 영문자아닌 것을 \" \"\n"
     ]
    },
    {
     "data": {
      "text/plain": [
       "0    well sure about story seem biased what disagre...\n",
       "1    yeah expect people read actually accept hard a...\n",
       "2    although realize that principle your strongest...\n",
       "3    notwithstanding legitimate fuss about this pro...\n",
       "4    well will have change scoring playoff pool unf...\n",
       "Name: clean_doc, dtype: object"
      ]
     },
     "execution_count": 5,
     "metadata": {},
     "output_type": "execute_result"
    }
   ],
   "source": [
    "### 텍스트 전처리\n",
    "news_df = pd.DataFrame({'document':documents})\n",
    "# print(news_df.head(2))\n",
    "## 특수 문자 제거\n",
    "news_df['clean_doc'] = news_df['document'].str.replace(\"[^a-zA-Z]\",\" \")  # 영문자아닌 것을 \" \"\n",
    "\n",
    "## 길이가 3이하인 단어는 제거 (길이가 짧은 단어 제거)\n",
    "news_df['clean_doc'] = news_df['clean_doc'].apply(lambda x: \" \".join([w for w in x.split() if len(w)>3]))\n",
    "## 전체 단어에 대한 소문자 변환\n",
    "news_df['clean_doc'] = news_df['clean_doc'].apply(lambda x: x.lower())\n",
    "news_df['clean_doc'].head()"
   ]
  },
  {
   "cell_type": "code",
   "execution_count": 6,
   "metadata": {},
   "outputs": [
    {
     "name": "stderr",
     "output_type": "stream",
     "text": [
      "[nltk_data] Downloading package stopwords to\n",
      "[nltk_data]     /Users/yunbeen/nltk_data...\n",
      "[nltk_data]   Unzipping corpora/stopwords.zip.\n"
     ]
    },
    {
     "data": {
      "text/plain": [
       "True"
      ]
     },
     "execution_count": 6,
     "metadata": {},
     "output_type": "execute_result"
    }
   ],
   "source": [
    "nltk.download('stopwords')"
   ]
  },
  {
   "cell_type": "code",
   "execution_count": 12,
   "metadata": {},
   "outputs": [
    {
     "name": "stdout",
     "output_type": "stream",
     "text": [
      "85\n",
      "61\n"
     ]
    }
   ],
   "source": [
    "### NLTK를 사용하여 불용어 제거\n",
    "stop_words = stopwords.words('english')\n",
    "tokenized_doc = news_df['clean_doc'].apply(lambda x:x.split())\n",
    "print(len(tokenized_doc[0]))\n",
    "tokenized_doc = tokenized_doc.apply(lambda x:[item for item in x if item not in stop_words])\n",
    "print(len(tokenized_doc[0]))"
   ]
  },
  {
   "cell_type": "code",
   "execution_count": 27,
   "metadata": {},
   "outputs": [
    {
     "name": "stdout",
     "output_type": "stream",
     "text": [
      "['yeah', 'expect', 'people', 'read', 'actually', 'accept', 'hard', 'atheism', 'need', 'little', 'leap', 'faith', 'jimmy', 'logic', 'runs', 'steam', 'sorry', 'pity', 'sorry', 'feelings', 'denial', 'faith', 'need', 'well', 'pretend', 'happily', 'ever', 'anyway', 'maybe', 'start', 'newsgroup', 'atheist', 'hard', 'bummin', 'much', 'forget', 'flintstone', 'chewables', 'bake', 'timmons']\n"
     ]
    }
   ],
   "source": [
    "print(tokenized_doc[1])"
   ]
  },
  {
   "cell_type": "code",
   "execution_count": 28,
   "metadata": {},
   "outputs": [],
   "source": [
    "### TF-IDF 행렬 만들기\n",
    "# 역토큰화\n",
    "detokenized_doc = []\n",
    "for i in range(len(news_df)):\n",
    "    t = ' '.join(tokenized_doc[i])\n",
    "    detokenized_doc.append(t)\n",
    "\n",
    "news_df['clean_doc'] = detokenized_doc"
   ]
  },
  {
   "cell_type": "code",
   "execution_count": 29,
   "metadata": {},
   "outputs": [
    {
     "data": {
      "text/plain": [
       "'yeah expect people read actually accept hard atheism need little leap faith jimmy logic runs steam sorry pity sorry feelings denial faith need well pretend happily ever anyway maybe start newsgroup atheist hard bummin much forget flintstone chewables bake timmons'"
      ]
     },
     "execution_count": 29,
     "metadata": {},
     "output_type": "execute_result"
    }
   ],
   "source": [
    "news_df['clean_doc'][1]"
   ]
  },
  {
   "cell_type": "code",
   "execution_count": 30,
   "metadata": {},
   "outputs": [
    {
     "name": "stdout",
     "output_type": "stream",
     "text": [
      "TF-IDF 행렬의 크기 :  (11314, 1000)\n"
     ]
    }
   ],
   "source": [
    "vectorizer = TfidfVectorizer(stop_words='english', max_features=1000, max_df=0.5, smooth_idf=True)\n",
    "## max_df : 0.0 ~ 1.0 사이의 값을 쓰고, 최대 문서에 걸친 포함된 단어까지 단어 꾸러미에 담아 사용할지 결정\n",
    "X = vectorizer.fit_transform(news_df['clean_doc'])\n",
    "\n",
    "### TF-IDF 행렬의 크기 확인\n",
    "print(\"TF-IDF 행렬의 크기 : \", X.shape)"
   ]
  },
  {
   "cell_type": "code",
   "execution_count": 31,
   "metadata": {},
   "outputs": [
    {
     "data": {
      "text/plain": [
       "20"
      ]
     },
     "execution_count": 31,
     "metadata": {},
     "output_type": "execute_result"
    }
   ],
   "source": [
    "### 토픽 모델링(Topic 모델링)\n",
    "svd_model = TruncatedSVD(n_components=20, algorithm='randomized',n_iter=100, random_state=122)\n",
    "svd_model.fit(X)\n",
    "len(svd_model.components_)"
   ]
  },
  {
   "cell_type": "code",
   "execution_count": 34,
   "metadata": {},
   "outputs": [
    {
     "data": {
      "text/plain": [
       "(20, 1000)"
      ]
     },
     "execution_count": 34,
     "metadata": {},
     "output_type": "execute_result"
    }
   ],
   "source": [
    "import numpy as np\n",
    "np.shape(svd_model.components_)"
   ]
  },
  {
   "cell_type": "code",
   "execution_count": 35,
   "metadata": {},
   "outputs": [
    {
     "name": "stdout",
     "output_type": "stream",
     "text": [
      "Topic 1: [('like', 0.21386), ('know', 0.20046), ('people', 0.19293), ('think', 0.17805), ('good', 0.15128)]\n",
      "Topic 2: [('thanks', 0.32888), ('windows', 0.29088), ('card', 0.18069), ('drive', 0.17455), ('mail', 0.15111)]\n",
      "Topic 3: [('game', 0.37064), ('team', 0.32443), ('year', 0.28154), ('games', 0.2537), ('season', 0.18419)]\n",
      "Topic 4: [('drive', 0.53324), ('scsi', 0.20165), ('hard', 0.15628), ('disk', 0.15578), ('card', 0.13994)]\n",
      "Topic 5: [('windows', 0.40399), ('file', 0.25436), ('window', 0.18044), ('files', 0.16078), ('program', 0.13894)]\n",
      "Topic 6: [('chip', 0.16114), ('government', 0.16009), ('mail', 0.15625), ('space', 0.1507), ('information', 0.13562)]\n",
      "Topic 7: [('like', 0.67086), ('bike', 0.14236), ('chip', 0.11169), ('know', 0.11139), ('sounds', 0.10371)]\n",
      "Topic 8: [('card', 0.46633), ('video', 0.22137), ('sale', 0.21266), ('monitor', 0.15463), ('offer', 0.14643)]\n",
      "Topic 9: [('know', 0.46047), ('card', 0.33605), ('chip', 0.17558), ('government', 0.1522), ('video', 0.14356)]\n",
      "Topic 10: [('good', 0.42756), ('know', 0.23039), ('time', 0.1882), ('bike', 0.11406), ('jesus', 0.09027)]\n",
      "Topic 11: [('think', 0.78469), ('chip', 0.10899), ('good', 0.10635), ('thanks', 0.09123), ('clipper', 0.07946)]\n",
      "Topic 12: [('thanks', 0.36824), ('good', 0.22729), ('right', 0.21559), ('bike', 0.21037), ('problem', 0.20894)]\n",
      "Topic 13: [('good', 0.36212), ('people', 0.33985), ('windows', 0.28385), ('know', 0.26232), ('file', 0.18422)]\n",
      "Topic 14: [('space', 0.39946), ('think', 0.23258), ('know', 0.18074), ('nasa', 0.15174), ('problem', 0.12957)]\n",
      "Topic 15: [('space', 0.31613), ('good', 0.3094), ('card', 0.22603), ('people', 0.17476), ('time', 0.14496)]\n",
      "Topic 16: [('people', 0.48156), ('problem', 0.19961), ('window', 0.15281), ('time', 0.14664), ('game', 0.12871)]\n",
      "Topic 17: [('time', 0.34465), ('bike', 0.27303), ('right', 0.25557), ('windows', 0.1997), ('file', 0.19118)]\n",
      "Topic 18: [('time', 0.5973), ('problem', 0.15504), ('file', 0.14956), ('think', 0.12847), ('israel', 0.10903)]\n",
      "Topic 19: [('file', 0.44163), ('need', 0.26633), ('card', 0.18388), ('files', 0.17453), ('right', 0.15448)]\n",
      "Topic 20: [('problem', 0.33006), ('file', 0.27651), ('thanks', 0.23578), ('used', 0.19206), ('space', 0.13185)]\n"
     ]
    },
    {
     "name": "stderr",
     "output_type": "stream",
     "text": [
      "/Library/Frameworks/Python.framework/Versions/3.10/lib/python3.10/site-packages/sklearn/utils/deprecation.py:87: FutureWarning: Function get_feature_names is deprecated; get_feature_names is deprecated in 1.0 and will be removed in 1.2. Please use get_feature_names_out instead.\n",
      "  warnings.warn(msg, category=FutureWarning)\n"
     ]
    }
   ],
   "source": [
    "terms = vectorizer.get_feature_names()\n",
    "\n",
    "def get_topics(components, feature_names, n=5):\n",
    "    for idx, topic in enumerate(components):\n",
    "        print(\"Topic %d:\" % (idx+1), [(feature_names[i], topic[i].round(5)) for i in topic.argsort()[:-n - 1:-1]])\n",
    "\n",
    "get_topics(svd_model.components_, terms)\n"
   ]
  },
  {
   "cell_type": "code",
   "execution_count": 81,
   "metadata": {},
   "outputs": [],
   "source": [
    "### 2) 잠재 디리클레 할당(Latent Dirichlet Allocation, LDA)\n",
    "# 토픽 모델링의 대표적인 알고리즘. \n",
    "# LDA는 문서들은 토픽들이 혼합되어 구성되어 있으며, 토픽들은 확률 분포에 기반하여 단어들 생성한다고 가정\n",
    "# 데이터가 주어지면, LDA는 문서가 생성되는 과정을 역추적합니다. \n",
    "# 참고 링크 : https://lettier.com/projects/lda-topic-modeling/\n"
   ]
  },
  {
   "cell_type": "code",
   "execution_count": 36,
   "metadata": {},
   "outputs": [
    {
     "data": {
      "text/plain": [
       "0    [well, sure, story, seem, biased, disagree, st...\n",
       "1    [yeah, expect, people, read, actually, accept,...\n",
       "2    [although, realize, principle, strongest, poin...\n",
       "3    [notwithstanding, legitimate, fuss, proposal, ...\n",
       "4    [well, change, scoring, playoff, pool, unfortu...\n",
       "Name: clean_doc, dtype: object"
      ]
     },
     "execution_count": 36,
     "metadata": {},
     "output_type": "execute_result"
    }
   ],
   "source": [
    "### 개요\n",
    "# LDA을 일종의 블랙박스로 보고, LDA에 문저 집합을 입력하면, 어떤 결과를 보여주는 보면.... \n",
    "#\n",
    "## 실습 : 전처리 과정은 LSA와 동일... \n",
    "tokenized_doc[:5]"
   ]
  },
  {
   "cell_type": "code",
   "execution_count": 37,
   "metadata": {},
   "outputs": [
    {
     "name": "stdout",
     "output_type": "stream",
     "text": [
      "Collecting gensim\n",
      "  Downloading gensim-4.2.0-cp310-cp310-macosx_10_9_universal2.whl (24.4 MB)\n",
      "\u001b[2K     \u001b[90m━━━━━━━━━━━━━━━━━━━━━━━━━━━━━━━━━━━━━━━━\u001b[0m \u001b[32m24.4/24.4 MB\u001b[0m \u001b[31m6.0 MB/s\u001b[0m eta \u001b[36m0:00:00\u001b[0m00:01\u001b[0m00:01\u001b[0m\n",
      "\u001b[?25hRequirement already satisfied: numpy>=1.17.0 in /Library/Frameworks/Python.framework/Versions/3.10/lib/python3.10/site-packages (from gensim) (1.22.3)\n",
      "Requirement already satisfied: scipy>=0.18.1 in /Library/Frameworks/Python.framework/Versions/3.10/lib/python3.10/site-packages (from gensim) (1.8.1)\n",
      "Collecting smart-open>=1.8.1\n",
      "  Downloading smart_open-6.0.0-py3-none-any.whl (58 kB)\n",
      "\u001b[2K     \u001b[90m━━━━━━━━━━━━━━━━━━━━━━━━━━━━━━━━━━━━━━━━\u001b[0m \u001b[32m58.4/58.4 kB\u001b[0m \u001b[31m2.3 MB/s\u001b[0m eta \u001b[36m0:00:00\u001b[0m\n",
      "\u001b[?25hInstalling collected packages: smart-open, gensim\n",
      "Successfully installed gensim-4.2.0 smart-open-6.0.0\n",
      "Note: you may need to restart the kernel to use updated packages.\n"
     ]
    }
   ],
   "source": [
    "### gensim을 사용.... \n",
    "%pip install gensim"
   ]
  },
  {
   "cell_type": "code",
   "execution_count": 38,
   "metadata": {},
   "outputs": [
    {
     "name": "stdout",
     "output_type": "stream",
     "text": [
      "11314\n"
     ]
    }
   ],
   "source": [
    "from gensim import corpora\n",
    "dictionary = corpora.Dictionary(tokenized_doc)\n",
    "corpus = [dictionary.doc2bow(text) for text in tokenized_doc]\n",
    "print(len(corpus))"
   ]
  },
  {
   "cell_type": "code",
   "execution_count": 50,
   "metadata": {},
   "outputs": [
    {
     "data": {
      "text/plain": [
       "'unis'"
      ]
     },
     "execution_count": 50,
     "metadata": {},
     "output_type": "execute_result"
    }
   ],
   "source": [
    "dictionary[64280]"
   ]
  },
  {
   "cell_type": "code",
   "execution_count": 51,
   "metadata": {},
   "outputs": [
    {
     "data": {
      "text/plain": [
       "64281"
      ]
     },
     "execution_count": 51,
     "metadata": {},
     "output_type": "execute_result"
    }
   ],
   "source": [
    "len(dictionary)"
   ]
  },
  {
   "cell_type": "code",
   "execution_count": 52,
   "metadata": {},
   "outputs": [
    {
     "name": "stdout",
     "output_type": "stream",
     "text": [
      "(0, '0.017*\"would\" + 0.014*\"like\" + 0.009*\"know\" + 0.009*\"good\"')\n",
      "(1, '0.017*\"mail\" + 0.017*\"information\" + 0.012*\"send\" + 0.012*\"list\"')\n",
      "(2, '0.010*\"rate\" + 0.009*\"nuclear\" + 0.006*\"england\" + 0.005*\"higher\"')\n",
      "(3, '0.010*\"people\" + 0.010*\"would\" + 0.008*\"think\" + 0.007*\"believe\"')\n",
      "(4, '0.018*\"file\" + 0.011*\"windows\" + 0.011*\"program\" + 0.010*\"window\"')\n",
      "(5, '0.012*\"cross\" + 0.009*\"doug\" + 0.008*\"mormon\" + 0.006*\"obfuscate\"')\n",
      "(6, '0.010*\"forsale\" + 0.008*\"deck\" + 0.008*\"glutamate\" + 0.007*\"cage\"')\n",
      "(7, '0.024*\"president\" + 0.011*\"going\" + 0.011*\"think\" + 0.010*\"jobs\"')\n",
      "(8, '0.011*\"cover\" + 0.009*\"smith\" + 0.007*\"copies\" + 0.007*\"stealth\"')\n",
      "(9, '0.023*\"drive\" + 0.017*\"card\" + 0.013*\"scsi\" + 0.013*\"thanks\"')\n",
      "(10, '0.026*\"armenian\" + 0.025*\"turkish\" + 0.019*\"armenians\" + 0.016*\"turkey\"')\n",
      "(11, '0.018*\"encryption\" + 0.016*\"chip\" + 0.014*\"keys\" + 0.013*\"clipper\"')\n",
      "(12, '0.019*\"health\" + 0.016*\"university\" + 0.015*\"medical\" + 0.012*\"research\"')\n",
      "(13, '0.021*\"space\" + 0.012*\"output\" + 0.012*\"entry\" + 0.008*\"program\"')\n",
      "(14, '0.021*\"game\" + 0.019*\"team\" + 0.016*\"year\" + 0.013*\"games\"')\n",
      "(15, '0.014*\"said\" + 0.011*\"people\" + 0.009*\"jesus\" + 0.006*\"children\"')\n",
      "(16, '0.018*\"sale\" + 0.016*\"offer\" + 0.016*\"shipping\" + 0.014*\"price\"')\n",
      "(17, '0.030*\"period\" + 0.017*\"play\" + 0.017*\"power\" + 0.011*\"scorer\"')\n",
      "(18, '0.009*\"picture\" + 0.008*\"kent\" + 0.008*\"tony\" + 0.008*\"john\"')\n",
      "(19, '0.012*\"people\" + 0.009*\"government\" + 0.007*\"would\" + 0.007*\"state\"')\n"
     ]
    }
   ],
   "source": [
    "### LDA 모델 훈련시키기\n",
    "import gensim\n",
    "NUM_TOPICS = 20 \n",
    "ldamodel = gensim.models.ldamodel.LdaModel(corpus, num_topics=NUM_TOPICS, id2word=dictionary, \\\n",
    "    passes=15 )\n",
    "topics = ldamodel.print_topics(num_words=4)\n",
    "for topic in topics:\n",
    "    print(topic)"
   ]
  },
  {
   "cell_type": "code",
   "execution_count": 53,
   "metadata": {},
   "outputs": [
    {
     "name": "stdout",
     "output_type": "stream",
     "text": [
      "Collecting pyLDAvis\n",
      "  Downloading pyLDAvis-3.3.1.tar.gz (1.7 MB)\n",
      "\u001b[2K     \u001b[90m━━━━━━━━━━━━━━━━━━━━━━━━━━━━━━━━━━━━━━━━\u001b[0m \u001b[32m1.7/1.7 MB\u001b[0m \u001b[31m3.5 MB/s\u001b[0m eta \u001b[36m0:00:00\u001b[0m00:01\u001b[0m00:01\u001b[0m\n",
      "\u001b[?25h  Installing build dependencies ... \u001b[?25ldone\n",
      "\u001b[?25h  Getting requirements to build wheel ... \u001b[?25ldone\n",
      "\u001b[?25h  Installing backend dependencies ... \u001b[?25ldone\n",
      "\u001b[?25h  Preparing metadata (pyproject.toml) ... \u001b[?25ldone\n",
      "\u001b[?25hRequirement already satisfied: setuptools in /Library/Frameworks/Python.framework/Versions/3.10/lib/python3.10/site-packages (from pyLDAvis) (58.1.0)\n",
      "Requirement already satisfied: pandas>=1.2.0 in /Library/Frameworks/Python.framework/Versions/3.10/lib/python3.10/site-packages (from pyLDAvis) (1.4.2)\n",
      "Collecting funcy\n",
      "  Downloading funcy-1.17-py2.py3-none-any.whl (33 kB)\n",
      "Requirement already satisfied: gensim in /Library/Frameworks/Python.framework/Versions/3.10/lib/python3.10/site-packages (from pyLDAvis) (4.2.0)\n",
      "Collecting numexpr\n",
      "  Downloading numexpr-2.8.1.tar.gz (94 kB)\n",
      "\u001b[2K     \u001b[90m━━━━━━━━━━━━━━━━━━━━━━━━━━━━━━━━━━━━━━━━\u001b[0m \u001b[32m94.8/94.8 kB\u001b[0m \u001b[31m2.8 MB/s\u001b[0m eta \u001b[36m0:00:00\u001b[0m\n",
      "\u001b[?25h  Installing build dependencies ... \u001b[?25ldone\n",
      "\u001b[?25h  Getting requirements to build wheel ... \u001b[?25ldone\n",
      "\u001b[?25h  Preparing metadata (pyproject.toml) ... \u001b[?25ldone\n",
      "\u001b[?25hRequirement already satisfied: scikit-learn in /Library/Frameworks/Python.framework/Versions/3.10/lib/python3.10/site-packages (from pyLDAvis) (1.1.1)\n",
      "Requirement already satisfied: jinja2 in /Library/Frameworks/Python.framework/Versions/3.10/lib/python3.10/site-packages (from pyLDAvis) (3.1.1)\n",
      "Collecting future\n",
      "  Downloading future-0.18.2.tar.gz (829 kB)\n",
      "\u001b[2K     \u001b[90m━━━━━━━━━━━━━━━━━━━━━━━━━━━━━━━━━━━━━━━\u001b[0m \u001b[32m829.2/829.2 kB\u001b[0m \u001b[31m6.7 MB/s\u001b[0m eta \u001b[36m0:00:00\u001b[0m00:01\u001b[0m00:01\u001b[0m\n",
      "\u001b[?25h  Preparing metadata (setup.py) ... \u001b[?25ldone\n",
      "\u001b[?25hCollecting sklearn\n",
      "  Downloading sklearn-0.0.tar.gz (1.1 kB)\n",
      "  Preparing metadata (setup.py) ... \u001b[?25ldone\n",
      "\u001b[?25hRequirement already satisfied: scipy in /Library/Frameworks/Python.framework/Versions/3.10/lib/python3.10/site-packages (from pyLDAvis) (1.8.1)\n",
      "Requirement already satisfied: joblib in /Library/Frameworks/Python.framework/Versions/3.10/lib/python3.10/site-packages (from pyLDAvis) (1.1.0)\n",
      "Requirement already satisfied: numpy>=1.20.0 in /Library/Frameworks/Python.framework/Versions/3.10/lib/python3.10/site-packages (from pyLDAvis) (1.22.3)\n",
      "Requirement already satisfied: python-dateutil>=2.8.1 in /Library/Frameworks/Python.framework/Versions/3.10/lib/python3.10/site-packages (from pandas>=1.2.0->pyLDAvis) (2.8.2)\n",
      "Requirement already satisfied: pytz>=2020.1 in /Library/Frameworks/Python.framework/Versions/3.10/lib/python3.10/site-packages (from pandas>=1.2.0->pyLDAvis) (2022.1)\n",
      "Requirement already satisfied: smart-open>=1.8.1 in /Library/Frameworks/Python.framework/Versions/3.10/lib/python3.10/site-packages (from gensim->pyLDAvis) (6.0.0)\n",
      "Requirement already satisfied: MarkupSafe>=2.0 in /Library/Frameworks/Python.framework/Versions/3.10/lib/python3.10/site-packages (from jinja2->pyLDAvis) (2.1.1)\n",
      "Requirement already satisfied: packaging in /Library/Frameworks/Python.framework/Versions/3.10/lib/python3.10/site-packages (from numexpr->pyLDAvis) (21.3)\n",
      "Requirement already satisfied: threadpoolctl>=2.0.0 in /Library/Frameworks/Python.framework/Versions/3.10/lib/python3.10/site-packages (from scikit-learn->pyLDAvis) (3.1.0)\n",
      "Requirement already satisfied: six>=1.5 in /Library/Frameworks/Python.framework/Versions/3.10/lib/python3.10/site-packages (from python-dateutil>=2.8.1->pandas>=1.2.0->pyLDAvis) (1.16.0)\n",
      "Requirement already satisfied: pyparsing!=3.0.5,>=2.0.2 in /Library/Frameworks/Python.framework/Versions/3.10/lib/python3.10/site-packages (from packaging->numexpr->pyLDAvis) (3.0.7)\n",
      "Using legacy 'setup.py install' for future, since package 'wheel' is not installed.\n",
      "Using legacy 'setup.py install' for sklearn, since package 'wheel' is not installed.\n",
      "Building wheels for collected packages: pyLDAvis, numexpr\n",
      "  Building wheel for pyLDAvis (pyproject.toml) ... \u001b[?25ldone\n",
      "\u001b[?25h  Created wheel for pyLDAvis: filename=pyLDAvis-3.3.1-py2.py3-none-any.whl size=136882 sha256=6b7da64dce4884af99a8a6846be9b26c951092cea10678299edad3f631301ae9\n",
      "  Stored in directory: /Users/yunbeen/Library/Caches/pip/wheels/e9/95/74/4766157910829d2fbc6b913850a62cfd15da77a199302cdf9c\n",
      "  Building wheel for numexpr (pyproject.toml) ... \u001b[?25ldone\n",
      "\u001b[?25h  Created wheel for numexpr: filename=numexpr-2.8.1-cp310-cp310-macosx_10_9_universal2.whl size=146156 sha256=3655e8fd29068e36f9f2f97a5efac1f974683a946ff69f40dcd16cddd715cdf8\n",
      "  Stored in directory: /Users/yunbeen/Library/Caches/pip/wheels/d5/9e/b5/da74c758bfc5d2137b06817f56dec9a7bc7a74ea9087b78b43\n",
      "Successfully built pyLDAvis numexpr\n",
      "Installing collected packages: funcy, future, numexpr, sklearn, pyLDAvis\n",
      "  Running setup.py install for future ... \u001b[?25ldone\n",
      "\u001b[?25h  Running setup.py install for sklearn ... \u001b[?25ldone\n",
      "\u001b[?25hSuccessfully installed funcy-1.17 future-0.18.2 numexpr-2.8.1 pyLDAvis-3.3.1 sklearn-0.0\n",
      "Note: you may need to restart the kernel to use updated packages.\n"
     ]
    }
   ],
   "source": [
    "### LDA 시각화 하기(pyLDAvis)\n",
    "%pip install pyLDAvis"
   ]
  },
  {
   "cell_type": "code",
   "execution_count": 54,
   "metadata": {},
   "outputs": [
    {
     "name": "stderr",
     "output_type": "stream",
     "text": [
      "/Library/Frameworks/Python.framework/Versions/3.10/lib/python3.10/site-packages/pyLDAvis/_prepare.py:247: FutureWarning: In a future version of pandas all arguments of DataFrame.drop except for the argument 'labels' will be keyword-only.\n",
      "  by='saliency', ascending=False).head(R).drop('saliency', 1)\n",
      "/Library/Frameworks/Python.framework/Versions/3.10/lib/python3.10/site-packages/past/builtins/misc.py:45: DeprecationWarning: the imp module is deprecated in favour of importlib and slated for removal in Python 3.12; see the module's documentation for alternative uses\n",
      "  from imp import reload\n",
      "/Library/Frameworks/Python.framework/Versions/3.10/lib/python3.10/site-packages/past/builtins/misc.py:45: DeprecationWarning: the imp module is deprecated in favour of importlib and slated for removal in Python 3.12; see the module's documentation for alternative uses\n",
      "  from imp import reload\n",
      "/Library/Frameworks/Python.framework/Versions/3.10/lib/python3.10/site-packages/past/builtins/misc.py:45: DeprecationWarning: the imp module is deprecated in favour of importlib and slated for removal in Python 3.12; see the module's documentation for alternative uses\n",
      "  from imp import reload\n",
      "/Library/Frameworks/Python.framework/Versions/3.10/lib/python3.10/site-packages/past/builtins/misc.py:45: DeprecationWarning: the imp module is deprecated in favour of importlib and slated for removal in Python 3.12; see the module's documentation for alternative uses\n",
      "  from imp import reload\n",
      "/Library/Frameworks/Python.framework/Versions/3.10/lib/python3.10/site-packages/past/builtins/misc.py:45: DeprecationWarning: the imp module is deprecated in favour of importlib and slated for removal in Python 3.12; see the module's documentation for alternative uses\n",
      "  from imp import reload\n",
      "/Library/Frameworks/Python.framework/Versions/3.10/lib/python3.10/site-packages/past/builtins/misc.py:45: DeprecationWarning: the imp module is deprecated in favour of importlib and slated for removal in Python 3.12; see the module's documentation for alternative uses\n",
      "  from imp import reload\n",
      "/Library/Frameworks/Python.framework/Versions/3.10/lib/python3.10/site-packages/past/builtins/misc.py:45: DeprecationWarning: the imp module is deprecated in favour of importlib and slated for removal in Python 3.12; see the module's documentation for alternative uses\n",
      "  from imp import reload\n",
      "/Library/Frameworks/Python.framework/Versions/3.10/lib/python3.10/site-packages/past/builtins/misc.py:45: DeprecationWarning: the imp module is deprecated in favour of importlib and slated for removal in Python 3.12; see the module's documentation for alternative uses\n",
      "  from imp import reload\n"
     ]
    },
    {
     "data": {
      "text/html": [
       "\n",
       "<link rel=\"stylesheet\" type=\"text/css\" href=\"https://cdn.jsdelivr.net/gh/bmabey/pyLDAvis@3.3.1/pyLDAvis/js/ldavis.v1.0.0.css\">\n",
       "\n",
       "\n",
       "<div id=\"ldavis_el62158109783188647690075339\"></div>\n",
       "<script type=\"text/javascript\">\n",
       "\n",
       "var ldavis_el62158109783188647690075339_data = {\"mdsDat\": {\"x\": [-0.2737020520937364, -0.25719247656125516, -0.1759701485351118, -0.21437608141158668, -0.14676184654620034, -0.09444798402518964, -0.08292286634875855, -0.15528517504967318, -0.0247166798994701, -0.07662082272037476, -0.025164093421391212, 0.07719655519319199, 0.11906897385684653, 0.06152606063857453, 0.17293040271579826, 0.21242778539680912, 0.2117019291150675, 0.19994488812019864, 0.2297745779549888, 0.24258905362127356], \"y\": [0.09140364970573221, 0.08545078508324264, 0.10959721800691467, -0.17901171979293243, 0.21797229813698527, -0.11533028263551134, -0.19245512651119132, -0.14281717492809057, 0.1753105003874833, -0.11130029024187346, 0.10827134125973671, -0.020154823470829985, 0.05618237545748415, -0.14775561840685758, 0.005557272500264055, 0.011460246914956694, 0.053276501885487985, 7.570741094293166e-06, -0.003976657952228823, -0.0016880661398665788], \"topics\": [1, 2, 3, 4, 5, 6, 7, 8, 9, 10, 11, 12, 13, 14, 15, 16, 17, 18, 19, 20], \"cluster\": [1, 1, 1, 1, 1, 1, 1, 1, 1, 1, 1, 1, 1, 1, 1, 1, 1, 1, 1, 1], \"Freq\": [20.92318481666775, 14.151107777013125, 10.58347820568382, 8.72318908220259, 7.173668268600449, 6.5514676580437445, 6.220520988627498, 4.8410073386283035, 4.245312238017507, 3.113985957907191, 2.430953173463243, 1.9995320880454188, 1.959496459851063, 1.7702430014058794, 1.3976745800256871, 1.0588278935972322, 0.9976310814271835, 0.8730778743554778, 0.691576712309246, 0.29406480412759844]}, \"tinfo\": {\"Term\": [\"space\", \"think\", \"people\", \"drive\", \"know\", \"file\", \"said\", \"game\", \"power\", \"mail\", \"program\", \"government\", \"going\", \"good\", \"windows\", \"system\", \"team\", \"year\", \"information\", \"used\", \"armenian\", \"card\", \"please\", \"would\", \"president\", \"thanks\", \"anyone\", \"available\", \"output\", \"period\", \"bike\", \"cars\", \"billion\", \"riding\", \"motorcycle\", \"bikes\", \"rear\", \"honda\", \"helmet\", \"wheel\", \"tires\", \"autos\", \"circuits\", \"pitcher\", \"gear\", \"symbol\", \"cool\", \"motorcycles\", \"outlets\", \"hitter\", \"truck\", \"tire\", \"harder\", \"exhaust\", \"crack\", \"toyota\", \"pounds\", \"brake\", \"steering\", \"screw\", \"wiring\", \"ride\", \"spend\", \"lock\", \"engine\", \"afford\", \"neutral\", \"heat\", \"miles\", \"folks\", \"getting\", \"cheaper\", \"money\", \"pretty\", \"guess\", \"really\", \"front\", \"much\", \"back\", \"like\", \"good\", \"probably\", \"enough\", \"little\", \"thing\", \"around\", \"would\", \"better\", \"maybe\", \"couple\", \"could\", \"time\", \"going\", \"want\", \"think\", \"sure\", \"know\", \"anyway\", \"well\", \"take\", \"still\", \"something\", \"make\", \"right\", \"even\", \"might\", \"anyone\", \"also\", \"work\", \"need\", \"people\", \"christianity\", \"belief\", \"beliefs\", \"atheism\", \"atheists\", \"morality\", \"religions\", \"biblical\", \"islam\", \"candida\", \"diet\", \"symptoms\", \"conclusions\", \"homosexuality\", \"gods\", \"believing\", \"syndrome\", \"bible\", \"rational\", \"beings\", \"teachings\", \"fallacy\", \"conclude\", \"allah\", \"revelation\", \"financial\", \"blind\", \"genetic\", \"illness\", \"arrogant\", \"christians\", \"atheist\", \"truth\", \"humans\", \"faith\", \"objective\", \"religion\", \"christian\", \"argument\", \"evidence\", \"meaning\", \"moral\", \"absolute\", \"exist\", \"existence\", \"nature\", \"religious\", \"context\", \"believe\", \"claim\", \"life\", \"therefore\", \"true\", \"human\", \"people\", \"think\", \"question\", \"many\", \"must\", \"point\", \"reason\", \"would\", \"word\", \"fact\", \"even\", \"mean\", \"world\", \"things\", \"cannot\", \"know\", \"different\", \"read\", \"well\", \"also\", \"like\", \"make\", \"find\", \"good\", \"however\", \"something\", \"time\", \"much\", \"israel\", \"israeli\", \"arab\", \"firearms\", \"amendment\", \"constitution\", \"tobacco\", \"militia\", \"politics\", \"palestinian\", \"arabs\", \"batf\", \"crimes\", \"hitler\", \"firearm\", \"lebanon\", \"assault\", \"citizen\", \"palestinians\", \"israelis\", \"propaganda\", \"weaver\", \"lebanese\", \"murder\", \"gaza\", \"civilian\", \"constitutional\", \"syria\", \"lawyer\", \"criticism\", \"countries\", \"civil\", \"weapons\", \"crime\", \"guns\", \"rights\", \"military\", \"armed\", \"political\", \"criminal\", \"laws\", \"police\", \"federal\", \"property\", \"state\", \"government\", \"country\", \"court\", \"arms\", \"states\", \"members\", \"citizens\", \"freedom\", \"people\", \"american\", \"control\", \"united\", \"right\", \"anti\", \"would\", \"public\", \"case\", \"society\", \"jews\", \"many\", \"well\", \"motif\", \"widget\", \"jpeg\", \"contrib\", \"xterm\", \"postscript\", \"client\", \"font\", \"fonts\", \"uuencode\", \"xlib\", \"widgets\", \"clients\", \"routines\", \"toolkit\", \"shareware\", \"pixel\", \"platforms\", \"menu\", \"display\", \"openwindows\", \"sunos\", \"xview\", \"demo\", \"sparc\", \"pixmap\", \"tiff\", \"workstation\", \"msdos\", \"eisa\", \"converter\", \"window\", \"entries\", \"image\", \"files\", \"default\", \"version\", \"characters\", \"file\", \"application\", \"server\", \"export\", \"windows\", \"format\", \"color\", \"resource\", \"screen\", \"code\", \"program\", \"software\", \"graphics\", \"unix\", \"programs\", \"directory\", \"available\", \"using\", \"user\", \"text\", \"interface\", \"package\", \"based\", \"also\", \"source\", \"running\", \"data\", \"like\", \"used\", \"help\", \"need\", \"greek\", \"father\", \"holy\", \"matthew\", \"apartment\", \"azerbaijan\", \"judas\", \"azerbaijani\", \"sumgait\", \"karina\", \"daughter\", \"greece\", \"karabakh\", \"burned\", \"pope\", \"azeri\", \"mamma\", \"baku\", \"azerbaijanis\", \"testament\", \"cyprus\", \"azeris\", \"sabbath\", \"easter\", \"ministry\", \"greeks\", \"married\", \"luke\", \"messiah\", \"husband\", \"alive\", \"woman\", \"lord\", \"church\", \"christ\", \"jesus\", \"dead\", \"children\", \"women\", \"soldiers\", \"said\", \"went\", \"wife\", \"killed\", \"catholic\", \"came\", \"died\", \"says\", \"started\", \"told\", \"people\", \"took\", \"later\", \"death\", \"armenians\", \"come\", \"three\", \"know\", \"time\", \"first\", \"could\", \"name\", \"even\", \"would\", \"left\", \"called\", \"space\", \"printf\", \"launch\", \"char\", \"null\", \"satellite\", \"contest\", \"shuttle\", \"orbit\", \"lunar\", \"filename\", \"moon\", \"radar\", \"solar\", \"satellites\", \"spacecraft\", \"exit\", \"launched\", \"compass\", \"prog\", \"mars\", \"sleeve\", \"missions\", \"detector\", \"probe\", \"planetary\", \"telescope\", \"radius\", \"argv\", \"propulsion\", \"entry\", \"guidelines\", \"colormap\", \"output\", \"mission\", \"flight\", \"stream\", \"remark\", \"nasa\", \"build\", \"rules\", \"section\", \"earth\", \"bytes\", \"program\", \"line\", \"return\", \"check\", \"data\", \"info\", \"size\", \"year\", \"open\", \"file\", \"name\", \"number\", \"must\", \"first\", \"current\", \"proceedings\", \"indiana\", \"anon\", \"terminals\", \"listserv\", \"compuserve\", \"password\", \"vitamin\", \"digest\", \"reilly\", \"siggraph\", \"toolkits\", \"intake\", \"sender\", \"consortium\", \"gerard\", \"authentication\", \"ncsa\", \"mailing\", \"alias\", \"abort\", \"mailbox\", \"yale\", \"automated\", \"discharge\", \"rayshade\", \"mitre\", \"rand\", \"computational\", \"sysadmin\", \"internet\", \"anonymous\", \"bitnet\", \"addresses\", \"usenet\", \"newsgroups\", \"gsfc\", \"mail\", \"requests\", \"send\", \"archive\", \"cryptographic\", \"address\", \"contact\", \"list\", \"information\", \"request\", \"email\", \"users\", \"sites\", \"site\", \"electronic\", \"network\", \"news\", \"computer\", \"posting\", \"available\", \"newsgroup\", \"service\", \"comp\", \"group\", \"please\", \"message\", \"posted\", \"university\", \"systems\", \"name\", \"also\", \"data\", \"system\", \"info\", \"phone\", \"software\", \"post\", \"part\", \"scsi\", \"drives\", \"drive\", \"motherboard\", \"bios\", \"simms\", \"adapter\", \"vesa\", \"adaptec\", \"nubus\", \"quadra\", \"connector\", \"macs\", \"diamond\", \"slots\", \"vram\", \"clone\", \"jumper\", \"centris\", \"ethernet\", \"pins\", \"config\", \"megs\", \"jumpers\", \"simm\", \"sync\", \"cmos\", \"aged\", \"controller\", \"card\", \"floppy\", \"monitor\", \"boot\", \"modem\", \"video\", \"disk\", \"cards\", \"upgrade\", \"apple\", \"cable\", \"port\", \"driver\", \"board\", \"memory\", \"drivers\", \"thanks\", \"advance\", \"hard\", \"mode\", \"mouse\", \"system\", \"anyone\", \"speed\", \"please\", \"hardware\", \"problem\", \"windows\", \"know\", \"computer\", \"need\", \"would\", \"work\", \"season\", \"game\", \"players\", \"hockey\", \"teams\", \"baseball\", \"montreal\", \"fans\", \"stats\", \"pitching\", \"playoffs\", \"scored\", \"quebec\", \"braves\", \"islanders\", \"pens\", \"espn\", \"playoff\", \"coach\", \"wins\", \"league\", \"winner\", \"francis\", \"phillies\", \"traded\", \"mets\", \"defenseman\", \"finals\", \"jagr\", \"clemens\", \"team\", \"devils\", \"games\", \"morris\", \"leafs\", \"player\", \"winning\", \"played\", \"minnesota\", \"score\", \"detroit\", \"play\", \"toronto\", \"year\", \"division\", \"chicago\", \"pittsburgh\", \"boston\", \"last\", \"runs\", \"playing\", \"lost\", \"points\", \"series\", \"first\", \"best\", \"good\", \"pick\", \"home\", \"better\", \"second\", \"encryption\", \"clipper\", \"ripem\", \"escrow\", \"cryptography\", \"encrypted\", \"crypto\", \"wiretap\", \"phones\", \"cipher\", \"ncsl\", \"cellular\", \"plaintext\", \"yankees\", \"decrypt\", \"denning\", \"ieee\", \"telecommunications\", \"astros\", \"encrypt\", \"hellman\", \"escrowed\", \"skipjack\", \"prisoners\", \"losses\", \"amongst\", \"speeding\", \"cpsr\", \"classified\", \"czech\", \"secure\", \"nist\", \"keys\", \"algorithm\", \"privacy\", \"infrastructure\", \"chip\", \"scheme\", \"security\", \"agencies\", \"enforcement\", \"secret\", \"technology\", \"communications\", \"random\", \"chips\", \"public\", \"government\", \"phone\", \"system\", \"private\", \"data\", \"number\", \"bits\", \"used\", \"strong\", \"access\", \"information\", \"message\", \"myers\", \"investment\", \"rockefeller\", \"senator\", \"republicans\", \"deficit\", \"stimulus\", \"laughter\", \"torque\", \"dole\", \"smoked\", \"fleet\", \"jobs\", \"meets\", \"couples\", \"volvo\", \"carbs\", \"chrysler\", \"yeltsin\", \"forty\", \"rushdie\", \"smokers\", \"albicans\", \"sanctions\", \"screws\", \"iraqi\", \"flood\", \"alice\", \"applause\", \"prey\", \"president\", \"diagnosed\", \"briefing\", \"reform\", \"secretary\", \"budget\", \"bush\", \"economy\", \"russia\", \"clinton\", \"administration\", \"funding\", \"russian\", \"senate\", \"yesterday\", \"summer\", \"george\", \"congress\", \"taxes\", \"package\", \"meeting\", \"going\", \"education\", \"working\", \"house\", \"options\", \"white\", \"think\", \"said\", \"press\", \"today\", \"know\", \"work\", \"program\", \"people\", \"groups\", \"important\", \"american\", \"continue\", \"something\", \"made\", \"patients\", \"cancer\", \"smokeless\", \"skepticism\", \"intellect\", \"shameful\", \"cadre\", \"chastity\", \"hicnet\", \"infections\", \"infection\", \"maine\", \"clinical\", \"infectious\", \"lyme\", \"physician\", \"bethesda\", \"seminar\", \"bronx\", \"hussein\", \"eggs\", \"manhattan\", \"dose\", \"specialist\", \"medical\", \"sank\", \"passover\", \"clubs\", \"lipman\", \"infected\", \"pitt\", \"aids\", \"diseases\", \"medicine\", \"health\", \"gordon\", \"newsletter\", \"centers\", \"disease\", \"professor\", \"surrender\", \"patient\", \"dept\", \"treatment\", \"university\", \"banks\", \"research\", \"center\", \"drug\", \"april\", \"among\", \"insurance\", \"study\", \"washington\", \"page\", \"studies\", \"soon\", \"national\", \"doctor\", \"college\", \"school\", \"department\", \"years\", \"turkish\", \"turkey\", \"turks\", \"henrik\", \"nazis\", \"argic\", \"ottoman\", \"serdar\", \"kurds\", \"istanbul\", \"ships\", \"homeland\", \"cryptology\", \"ciphertext\", \"sdpa\", \"cryptanalysis\", \"fascist\", \"ankara\", \"massacres\", \"refugees\", \"males\", \"asala\", \"sword\", \"cryptosystem\", \"ingr\", \"vpic\", \"kurdish\", \"decryption\", \"cryptosystems\", \"province\", \"genocide\", \"muslim\", \"german\", \"republic\", \"armenia\", \"germany\", \"armenian\", \"nazi\", \"armenians\", \"eastern\", \"france\", \"crypt\", \"jews\", \"europe\", \"russian\", \"history\", \"soviet\", \"jewish\", \"villages\", \"million\", \"army\", \"population\", \"muslims\", \"world\", \"attack\", \"april\", \"circuit\", \"voltage\", \"sony\", \"turbo\", \"stereo\", \"borland\", \"icon\", \"shipping\", \"bandwidth\", \"sale\", \"mono\", \"pointer\", \"floppies\", \"patent\", \"packaging\", \"upgraded\", \"init\", \"watts\", \"expo\", \"icons\", \"amplifier\", \"amps\", \"truetype\", \"editing\", \"macro\", \"shack\", \"debugger\", \"accessories\", \"volts\", \"execution\", \"printing\", \"manuals\", \"offer\", \"panel\", \"printer\", \"audio\", \"condition\", \"channel\", \"tapes\", \"asking\", \"battery\", \"excellent\", \"price\", \"sell\", \"items\", \"speakers\", \"selling\", \"sound\", \"original\", \"input\", \"model\", \"best\", \"interested\", \"used\", \"ground\", \"manual\", \"includes\", \"included\", \"email\", \"please\", \"power\", \"good\", \"handguns\", \"homicide\", \"offset\", \"homicides\", \"kong\", \"runner\", \"publisher\", \"toxic\", \"royal\", \"babies\", \"hypothesis\", \"hammer\", \"cobra\", \"headache\", \"anecdotal\", \"bullpen\", \"seizures\", \"consumption\", \"uranium\", \"queen\", \"smiley\", \"royals\", \"rifles\", \"whites\", \"servant\", \"savior\", \"insisting\", \"erase\", \"dryden\", \"turner\", \"lethal\", \"murders\", \"nuclear\", \"england\", \"confidence\", \"seattle\", \"reserve\", \"rate\", \"naval\", \"trigger\", \"rates\", \"vancouver\", \"cycles\", \"knife\", \"south\", \"higher\", \"handgun\", \"balls\", \"cities\", \"contacts\", \"study\", \"safety\", \"percent\", \"high\", \"april\", \"white\", \"secret\", \"likely\", \"black\", \"fair\", \"kent\", \"prophecy\", \"liar\", \"hawks\", \"milwaukee\", \"decenso\", \"dallas\", \"arena\", \"tyre\", \"stewart\", \"rochester\", \"bolt\", \"indians\", \"civic\", \"corn\", \"promo\", \"nords\", \"isles\", \"bears\", \"cape\", \"canadiens\", \"nerve\", \"moncton\", \"marijuana\", \"wealth\", \"seal\", \"providence\", \"springfield\", \"diarrhea\", \"echl\", \"tony\", \"commentary\", \"picture\", \"answering\", \"baltimore\", \"john\", \"city\", \"cheers\", \"gary\", \"canadian\", \"lines\", \"patrick\", \"scorer\", \"cubs\", \"sharks\", \"recchi\", \"soderstrom\", \"suck\", \"expos\", \"amour\", \"unassisted\", \"brind\", \"roberts\", \"dineen\", \"courtnall\", \"shanahan\", \"sandstrom\", \"roenick\", \"juneau\", \"galley\", \"suter\", \"sutter\", \"theist\", \"nylander\", \"poulin\", \"mogilny\", \"andersson\", \"macinnis\", \"champs\", \"gangs\", \"hawgood\", \"coffey\", \"stevens\", \"hull\", \"puck\", \"label\", \"period\", \"sabres\", \"slave\", \"hartford\", \"murphy\", \"flyers\", \"shots\", \"calgary\", \"goal\", \"play\", \"saves\", \"lindros\", \"philadelphia\", \"power\", \"scoring\", \"jersey\", \"brown\", \"goals\", \"third\", \"second\", \"pittsburgh\", \"shot\", \"first\", \"louis\", \"flames\", \"alan\", \"horse\", \"hulk\", \"neck\", \"darren\", \"wolverine\", \"comics\", \"yassin\", \"fleury\", \"carson\", \"soundblaster\", \"mullen\", \"comic\", \"dealership\", \"mint\", \"hemisphere\", \"oates\", \"ncsu\", \"archer\", \"midi\", \"conductor\", \"rebuilt\", \"udel\", \"batman\", \"loser\", \"repairs\", \"punisher\", \"emulator\", \"sentra\", \"redraw\", \"stealth\", \"ghost\", \"legend\", \"cassels\", \"lemieux\", \"smith\", \"cover\", \"copies\", \"miller\", \"appears\", \"annual\", \"rider\", \"green\", \"amazing\", \"issue\", \"mike\", \"copy\", \"gold\", \"silver\", \"mormon\", \"obfuscate\", \"mormons\", \"laptop\", \"mild\", \"weiss\", \"toshiba\", \"copper\", \"lucifer\", \"pocket\", \"symmetric\", \"handheld\", \"rebound\", \"fluke\", \"premium\", \"patented\", \"inflammatory\", \"confess\", \"steer\", \"roughing\", \"tract\", \"trans\", \"oklahoma\", \"trades\", \"padded\", \"tripping\", \"envelope\", \"beleive\", \"mixer\", \"embedded\", \"breaker\", \"grass\", \"dont\", \"derek\", \"doug\", \"cross\", \"austin\", \"texts\", \"circle\", \"wing\", \"thou\", \"robert\", \"texas\", \"forsale\", \"glutamate\", \"joystick\", \"cassette\", \"cage\", \"challenges\", \"doses\", \"lens\", \"sticker\", \"acids\", \"mystical\", \"maker\", \"kawasaki\", \"clement\", \"composite\", \"amino\", \"vnet\", \"reed\", \"rainer\", \"projector\", \"ninja\", \"mathcad\", \"tribes\", \"distributing\", \"escort\", \"wibbled\", \"speedo\", \"thorne\", \"crown\", \"albany\", \"inflammation\", \"lotus\", \"deck\", \"immaculate\", \"leather\", \"saturn\", \"camera\", \"biker\", \"land\"], \"Freq\": [1294.0, 3210.0, 4381.0, 1087.0, 3685.0, 1948.0, 1887.0, 861.0, 1114.0, 1364.0, 1639.0, 1268.0, 1455.0, 2626.0, 1300.0, 2089.0, 789.0, 1575.0, 1709.0, 2017.0, 661.0, 783.0, 1613.0, 6511.0, 621.0, 1318.0, 1691.0, 1556.0, 896.0, 486.0, 361.3419646204201, 293.2877612556325, 162.1007234269723, 122.832065939733, 116.37919896133357, 110.13371083785384, 101.51050725222682, 99.18836420560426, 96.14348316934166, 82.18795046012424, 79.98836215238497, 79.8570667960327, 77.95799754905701, 74.00359216754121, 73.55356376911273, 73.22768935760742, 71.76434250841237, 68.82253446218333, 67.94641404689813, 66.3629956548672, 64.89025685809237, 64.11432497092147, 64.06156723194695, 61.20563589773696, 61.159257704579794, 60.57889349862298, 59.68123848154956, 57.97154927973539, 56.56304209969044, 52.43052701010888, 128.99799874253685, 147.72020363590755, 155.22889998569784, 150.732221578812, 255.05959198949586, 81.75777599918021, 138.67305393352098, 111.83260075381311, 200.2085943478238, 200.43593181828146, 567.4125532272025, 124.69981318691627, 492.6706551172837, 447.971684032911, 358.13951403637145, 1162.143100914275, 277.481631053667, 1547.496605948896, 1128.3466049837878, 2712.0457202924536, 1746.0630575166638, 792.800778757572, 692.2003308717608, 755.8244427025966, 749.0466550460684, 772.7492091080655, 3374.645144666002, 840.3194974623209, 545.9611821224355, 334.04430096472265, 1476.5814583342244, 1689.3588163536685, 896.5334731462037, 1099.4736994551288, 1662.579471895427, 791.635828330833, 1781.623634528664, 344.61389990841167, 1256.4555148632976, 800.1048876672031, 798.7202528988083, 866.9380564303541, 1007.8936153208978, 929.905208797293, 1039.2049146900615, 726.5538536177171, 789.9985705266079, 1092.133209106452, 777.1812778941393, 741.2430689886149, 786.7336387755021, 256.09816655470837, 226.6159389461781, 193.63104142453705, 184.80057198581017, 174.76649684105, 167.1020789363592, 143.0546180991128, 115.982567533743, 202.6955203958514, 89.1630990606769, 85.39901309314415, 82.07945713389826, 78.22527733899142, 77.52460176125074, 76.0362482718169, 73.17553916062218, 71.80246769687308, 555.1261165839235, 69.30658627501349, 69.24662860870376, 66.47234758459182, 65.34257979968378, 64.39293280516235, 62.60702897369252, 87.17110746735779, 61.347469596646285, 60.58386678830409, 59.91407074600014, 59.474673560760664, 59.09383382343637, 441.9516555748345, 123.25938453419887, 423.8802796470821, 147.08822250840672, 379.9705006243118, 226.42267734215062, 409.30485573070484, 555.3460610014018, 376.10385259257725, 476.31213394038116, 233.8551309770775, 245.63199030651177, 137.96889902784133, 345.4366783680802, 220.54504823842055, 228.26871583382837, 268.76666607843214, 205.5946332497546, 924.7743330660657, 335.58826588931873, 537.6908488598538, 258.67312098388174, 604.23482784164, 385.006787266419, 1408.5560185624333, 1070.788100349346, 553.8484251653076, 851.0416643123287, 634.978841017136, 593.2990277835917, 410.1324949314105, 1361.2384540887706, 375.03474651637396, 479.89414431825173, 708.7894814828201, 411.0340467839984, 487.0388452067066, 505.5874281495486, 357.81854217348933, 694.1738445527751, 415.7772629962925, 445.70993614250676, 546.3705666956996, 585.5050031470563, 591.6718796123986, 497.34854311611645, 454.78291082093403, 486.3411588592464, 431.5247483728486, 435.28274575028377, 451.9588748454433, 439.58556967831083, 640.8717802750973, 393.19631982840764, 260.06677808722276, 211.87144640161048, 197.52911779298094, 178.15599258654515, 162.2836314095523, 158.64682421789473, 141.56912438892957, 135.5916499966985, 123.01940036296577, 109.07978869517326, 107.25781987895432, 92.68671707875421, 89.91376396427282, 89.12545608351584, 89.11700780549559, 86.63802064354742, 82.72243204362559, 80.81926327390005, 79.89595944087804, 79.25403150818637, 74.82205073907987, 162.51920658259323, 68.32329523683205, 78.83927165292911, 66.89906028938665, 65.5442941907317, 63.57258023492406, 63.47074789212987, 220.70714503758862, 187.75101256720382, 294.1046784355288, 307.9971774219939, 361.5577539706597, 451.16741522541537, 381.23857063981063, 129.686068332467, 271.870881573329, 169.54995062243216, 297.0907093587409, 348.15551397025536, 276.0109613937916, 166.77707987277827, 724.6563420684885, 914.5597476070152, 359.3450346463984, 277.9828459624562, 206.179707362365, 441.25120771673625, 259.17582598180053, 209.72638389993475, 204.93679858265085, 1175.856562028055, 333.0457804974468, 370.5550994637996, 255.81479976540558, 532.807196910825, 245.33345187606838, 748.7423121057902, 341.4769031007673, 331.76794903087455, 227.85085832153953, 249.40088591868002, 277.9793160412778, 269.62933455944426, 462.66678329773003, 407.3334974469014, 278.0872914501457, 256.31033898469167, 207.35345688025535, 189.81721188962578, 187.80431408043393, 186.809958816857, 178.01362429129014, 150.23991336519418, 145.02437308017798, 139.56486516607234, 124.0567732350941, 119.2285107101522, 114.07291492805386, 104.65292869489335, 104.66427557540038, 102.95895581345654, 101.33659435566405, 595.450422934398, 95.07918738176846, 89.69341479458153, 85.2837454802756, 83.73980357443165, 83.54004998656572, 82.32429477846333, 80.3389592208962, 75.53593138234683, 75.11656231663345, 75.07333749063362, 83.13142651367437, 819.4618568576624, 243.81571666528993, 627.7226191847856, 805.236321256951, 151.36597972634877, 807.9872706048997, 116.26076805720015, 1487.6980764742898, 403.3324128127329, 539.3526870758039, 279.14805990834833, 928.0350163894703, 337.45374354259343, 432.8640561732091, 172.4275259231177, 330.2172268573919, 495.27364463575555, 895.6726269863346, 655.2391729454763, 431.8610307291422, 278.8737951384863, 375.3646605317784, 278.78602653285503, 668.3333566723184, 653.6617044021001, 333.86855602266695, 291.2464530397203, 251.479031228571, 291.16770374936385, 356.857335929894, 522.7603279759662, 318.7499530387336, 302.09040488919277, 322.40727568448165, 335.36618907857843, 317.1996588194434, 305.4051681218903, 307.92499024228056, 335.83103261406154, 317.573540605799, 195.66242130393002, 193.7825537118327, 178.87241691560882, 178.84405612225822, 144.9898345230679, 133.8612219120043, 127.20837476247621, 126.70022527216672, 121.81270192561854, 111.44519698335183, 104.38697232976732, 99.39673282529944, 98.04408408709466, 91.91658155455318, 91.82212798997185, 90.13286630346681, 83.31452802288554, 82.84151050521649, 79.44777789910192, 79.37624585310597, 78.98672359572588, 74.97382287066277, 72.38200046956041, 71.65951005650133, 70.8870453096023, 70.69862468448754, 60.842890098723004, 59.93116157423914, 154.8462789262138, 194.2809412192791, 186.65512585130128, 359.2505718349919, 300.876434564201, 630.5054816735329, 295.4219744923076, 426.64762054080194, 289.89423574513137, 175.21494328719078, 930.0137073454721, 394.22644845534154, 154.42844372834028, 259.6260594095537, 123.57123062288005, 327.06241126205435, 169.2518392454637, 346.050967320286, 255.80583821389368, 289.92945544801, 761.8923280468873, 232.5152783939943, 246.55730055730848, 209.64263352673038, 236.53818834168254, 273.03545085010165, 248.72929389148848, 344.9767982843937, 329.0001648603774, 278.7967115402772, 269.44693318886846, 233.3913844540517, 250.47014893350112, 275.0263211198856, 217.27267589709174, 211.2640797391465, 1293.948394876595, 259.63997597686864, 256.50791311330306, 255.4996115786128, 239.12911886102648, 216.26437819971892, 199.55870272075248, 189.16684258598295, 181.56492844090297, 164.9211938155759, 162.38180819338334, 162.1696185240251, 140.5834932450401, 127.20179239018604, 111.31077315723907, 107.41918461223497, 96.33891715149902, 90.3273621017902, 89.86382542192072, 88.07745382510446, 85.82536771266633, 83.42510864801916, 81.10403831347163, 80.22384305039579, 78.7187181823633, 78.09864682639272, 78.08064144184468, 67.3645095756517, 66.87505009497055, 65.14929371264003, 739.1441105588373, 106.3840352428181, 88.36908715516878, 754.1330979013318, 168.85544317663897, 153.2539085729304, 240.82005172251388, 159.8953170301665, 360.3864539371253, 361.5620482195095, 283.03392344227103, 301.5482951554485, 232.98945753970318, 137.76750063110146, 505.79887186475156, 379.77790347624807, 230.74799110795723, 261.7206467495197, 325.80539395195166, 255.60886755281206, 207.62335233522447, 270.81945514590916, 210.27457237260737, 240.46747541004117, 223.4788269578986, 228.17676101115143, 221.53456591090114, 233.57069932244335, 194.5615675402891, 97.00312891738027, 93.23402080011952, 77.45925904438205, 76.22949242894846, 72.42566702224067, 70.88602439321056, 66.07738934141462, 56.90145759307244, 56.86222774757673, 54.392587082740064, 51.693425023048995, 50.585493963031524, 49.66111846832465, 49.62141834878862, 47.846763183903924, 46.37053839236975, 45.84705422754786, 44.5990817825387, 206.1013050356661, 36.70555967896697, 35.7831482699579, 34.10545600481275, 34.18466951742762, 33.47829024568999, 33.42164642911306, 32.97512468572774, 31.76925214101918, 30.966643043781314, 29.34362359372058, 27.963082279904498, 503.07902953882365, 476.99580549294103, 85.61179840724876, 120.77158806307206, 224.08327033646086, 141.1994624791542, 39.945346700670086, 996.6527695220088, 153.30085837960405, 703.879848202878, 245.4689408251887, 75.32019682460799, 487.9014051615756, 393.8629736996961, 685.9403320500167, 987.8250065425757, 315.34906287774686, 527.0977505477068, 291.28193130588966, 189.52959476066135, 225.2768120192005, 164.02327247794508, 213.6563543145131, 390.3566657814371, 429.79841122707813, 308.8372612309893, 606.0739130881107, 199.6428933240742, 266.1404448573348, 228.18313325154932, 361.85125379612435, 492.5770909758556, 278.24184075778464, 226.14643170928642, 263.2607909293899, 275.2626823755441, 307.6121696927801, 428.73567488549423, 289.04641449728723, 299.76863495337636, 251.49439612472005, 234.32297579559352, 240.41440777666372, 237.39627197543436, 235.98882476229682, 612.7397898378172, 325.1981516187625, 1082.415665988026, 169.06335517436915, 168.2728228152032, 144.30118116707644, 109.7134825021409, 95.41810935103562, 90.23267412211463, 85.57934474837874, 85.50303207343822, 83.40926393966738, 83.03138191552965, 80.23051460454703, 77.98235579489327, 77.79941850585818, 72.86021396164902, 72.7824535041033, 70.60774947881998, 69.25476703276608, 67.52530728844788, 64.31219329929725, 59.49119563002416, 57.17652493399513, 54.91432962978993, 52.11821470557454, 51.32209573546366, 50.846625628808006, 300.274956198897, 768.319735708477, 235.7690614276264, 347.4235844539192, 109.64964013313431, 271.15448292593067, 423.3870477715599, 603.1666422133438, 247.95949860516245, 130.3958051280059, 366.5584911973172, 227.29048050940912, 233.39041381030407, 320.07373316082686, 288.2317945723217, 396.074397494702, 276.30919179465445, 611.6349541010381, 238.1923588757765, 414.808037026529, 246.89304794474108, 196.03316622464465, 574.604184183895, 461.6975068131306, 248.08505203495386, 411.6478451427941, 242.8436484368456, 401.31517677019986, 352.7754931540713, 471.21588627481424, 289.61690810444617, 309.93878130044186, 346.5950652931643, 260.1810873281217, 446.0628005302901, 859.7446498644879, 383.2072125146501, 370.4897277863367, 273.76582385173214, 201.82315724551736, 149.13540992554533, 139.00217491304542, 121.41876864952266, 109.35887685807033, 108.95248191214861, 102.41021426371684, 96.33909742223582, 96.2163822336968, 93.32483480652179, 85.7355800487348, 83.77826335190741, 83.6344222716799, 80.98982500199484, 80.81850515916447, 373.58879603696107, 68.31263805367166, 66.95785765238584, 61.919167291158395, 61.87474439290727, 59.71544321555958, 56.17827230222097, 56.023349096505385, 55.38449382497121, 54.82948606591379, 764.4094476411702, 77.77462570467804, 540.8267918698481, 91.16879502130028, 90.89733958462206, 239.3162910413271, 118.15535644255483, 166.93741913800554, 120.35220374778052, 104.25300937074765, 146.44191537304243, 350.58117076815574, 154.30205918971438, 638.6497896707875, 175.4152073778542, 160.78938819220022, 150.1661231129743, 137.46214649503005, 349.16009112635425, 182.21868846453611, 122.86768575986274, 158.29222850172988, 159.24593318853564, 155.44919133254731, 269.9578016380281, 180.60177426108612, 169.54290802106618, 129.9087717704459, 137.95391345365536, 141.60391626304067, 137.9853002230317, 528.209305831822, 396.0082640172356, 233.342468029328, 194.39060780302054, 177.996688862544, 147.94678392458843, 146.91005550864512, 100.01028798933456, 97.31436343020327, 86.84347428514447, 78.58357494193037, 70.78240964320412, 68.25971167836427, 61.698364940163735, 57.19726389219548, 52.77188456599441, 49.550817126103425, 47.43050851748512, 44.675566575811544, 40.324375288004255, 39.777726219624874, 36.91139316612526, 33.405978059175766, 32.817843374851975, 31.946153830450502, 30.752962014107325, 28.484078261446438, 27.153209800517658, 68.36066474194926, 26.7989116310677, 224.26548588629151, 126.69995843493035, 406.4077589895492, 243.2581637932184, 282.0918853932647, 43.64194360904641, 490.37531037256133, 102.81011526946422, 335.08382409600773, 134.4140603714126, 151.55283012547568, 171.12934632605734, 253.25332028123097, 134.1538396556615, 110.14072712181377, 132.01802457338758, 258.5535361454823, 281.320986196605, 176.38429256549944, 295.47712607577114, 138.1629087659471, 211.2385662628059, 190.97256417980543, 125.93909915200166, 191.90311877702362, 126.41817613893208, 131.87368523432772, 142.1446831590412, 132.9172130952944, 160.6381704036311, 74.29522191879177, 73.04971580365238, 61.370351419751145, 59.125141001277875, 52.07256843356497, 43.200771111399426, 40.828059854273995, 38.58824935685438, 36.35802790843293, 35.714634612081085, 34.601256294975165, 235.39947740019377, 28.045519706809145, 27.372099822416235, 27.012999667022097, 26.88991498002242, 26.7560439642314, 26.0071819395524, 25.692518972328497, 24.711303587877506, 23.659232482573888, 22.94352402724681, 21.734009277808852, 21.409328889471155, 20.861569330098003, 20.848722220624268, 20.61797018879236, 20.084698255449286, 19.51138501561454, 562.6899789296276, 36.000495297689, 34.1501331606242, 47.71670779152291, 119.22377047294648, 93.16402173434828, 79.26629518810338, 81.49786256279346, 124.33378225153041, 164.6029664927307, 170.21143584877552, 61.73218937295677, 146.69276347338794, 66.47299033315271, 79.76218523553376, 96.29926238390462, 83.0173106188728, 119.49686918297114, 64.76640987779672, 155.2318170115884, 76.78875843649003, 254.386313327911, 94.462002757985, 145.52802374501897, 127.81082330940158, 86.52489177079116, 112.77861064653675, 245.1518753615724, 192.70812316549075, 106.02759583223937, 119.64340758113377, 198.31651684696624, 147.81834701745998, 139.26370451797953, 149.07239354827982, 99.91613923522719, 101.49237565025513, 100.23909667578125, 89.11507552416435, 101.21376350732284, 98.18588345032667, 162.5657034402881, 107.34915998234999, 88.24056299823559, 82.42135007787746, 75.35888112295962, 72.30272862314588, 71.62135022733835, 70.22124222432281, 61.80336134164342, 61.49137357752085, 58.88798836305151, 57.08459309274607, 51.63307686150136, 37.6475001850126, 30.79652285008086, 30.414140879303872, 28.543283568028897, 28.191168038343292, 27.296092784976192, 26.42283204401671, 25.23000525779763, 22.297299378640933, 21.29174439046961, 20.76982779064937, 292.87313830348853, 19.538222613067962, 18.889320341968762, 18.667798447858214, 18.663065634557913, 18.08898582943402, 105.11142183094292, 77.45363451557141, 96.87258311980227, 116.71442159709196, 362.9139200683978, 101.59995446286221, 97.06983628549604, 68.48074957738291, 160.9197425701363, 90.78196592034283, 81.0942772313523, 64.43464547904311, 75.65204433892488, 102.67410967913777, 298.63053343509387, 86.19757933607815, 233.45937862090673, 197.6046876766383, 120.76171723508837, 194.67147272550142, 167.3782787608839, 99.20457739330075, 131.0963586051056, 132.8740290677497, 108.67529915974124, 95.22737807704459, 108.7902649524318, 125.12338371652062, 94.56506876178659, 87.25284775958745, 94.12431468596535, 89.40027787552657, 89.32254325106211, 460.75841598241675, 290.13382094590855, 215.69349734230747, 151.260121815288, 99.86960671125802, 95.29979584596822, 92.42244426586511, 91.3226794784246, 61.079099896562106, 59.86913293660709, 63.79938081208813, 54.330490169901914, 53.972456195118085, 52.65232627585192, 48.66787703927964, 48.46266127501943, 43.57569837796181, 43.0170452977563, 42.41552782925371, 42.50489036269271, 40.61446539884516, 39.48905081938343, 39.03252199179989, 38.8641579246546, 38.42303988599226, 37.84434014482366, 35.83814691209552, 35.699637163776366, 35.07185992008915, 33.466364627402506, 188.9373875716547, 184.30869590300583, 166.30999241274236, 92.43448707631978, 193.45610798998663, 162.5990465555736, 483.26121772318083, 139.93209834553696, 349.0588219421956, 73.1580082834435, 64.24684703267249, 76.09330826407019, 262.3919260989203, 120.36064912292784, 162.29055192770355, 176.64394374918078, 108.25260532594861, 137.00666266406705, 74.93010522763544, 106.9443308651655, 88.30054403746445, 90.2598796706865, 78.73613874593403, 105.44752803666394, 82.06422431356832, 80.31564657734826, 128.62633123060237, 94.33101091025483, 93.67980439566233, 93.01380560543008, 82.04586460685724, 73.05796299083094, 69.26011904020501, 264.71544818185515, 53.109366938087256, 311.4598894247063, 52.00241033231015, 50.602068344732075, 47.8671348145696, 43.489298253255946, 40.099733706157544, 37.31717991237357, 36.950100814626026, 35.15004067937898, 34.53587783323926, 32.71158245554573, 32.57519476135223, 32.227271227575095, 31.26182135656347, 30.692306935804694, 29.169920801779583, 27.57095374207353, 27.380626199761565, 26.561426196071533, 25.73541064547618, 23.432411170373165, 68.62401182560028, 86.38635441157966, 265.6771429089178, 118.57747942648851, 163.06474064197064, 103.2639236783069, 215.69379947724042, 98.2526171628139, 62.32846182439034, 185.42908692542207, 69.76060808959112, 133.62762402889805, 231.0881262462117, 158.21744023526034, 79.52941432620499, 49.16275394600204, 77.72522904330748, 120.54479697963973, 128.6906961298203, 107.82462079234003, 103.90829693305093, 147.84277261853236, 117.98137197373876, 161.62141130945867, 98.47695749219424, 87.06709037051739, 98.7837220503921, 93.57808486743397, 102.44305865796024, 106.29899318971744, 93.73089639614233, 88.09819621749253, 63.528514957516414, 62.70293105596764, 50.329711042090985, 45.617878556706245, 42.92094317488758, 34.76582757084043, 34.445159781909105, 34.2427868381822, 32.764850250052575, 31.128982087637592, 30.127071614200343, 29.08370635565954, 28.66995099058257, 28.32367192014301, 27.722995533637274, 25.776918843050098, 25.299772370757466, 25.09760764883144, 25.065224497112492, 24.55182256916216, 23.633906283969438, 23.625734355231916, 22.722785177397974, 22.473330798261642, 22.156476265295687, 22.132724994949044, 19.856641612271673, 19.265821575638935, 18.778114839474807, 18.485825817330582, 28.295036760839903, 35.910136893775004, 119.5953053390683, 74.72677664248418, 35.35490258447027, 67.57714236036996, 40.084778887405896, 134.6362661736074, 54.29210043371142, 34.22092044130172, 68.5671904067332, 63.771071601025085, 30.288319198359417, 37.851252000703894, 69.28839613806772, 73.2231852638133, 39.881712906938745, 32.15525140398972, 41.901588686997506, 32.88037916387216, 49.055645351539376, 45.901908632046904, 38.90092606903256, 54.059327107056035, 46.85382411875645, 44.101119479970755, 41.19937464857609, 43.118365412214466, 37.792719920140115, 34.85486569912717, 79.56429497504762, 60.195227324855985, 58.063977116739636, 55.90360362079421, 51.5921139262149, 45.33134159961543, 44.72854840025961, 46.78766137805396, 41.493476142107795, 41.06702833523169, 36.21321687604919, 34.05817362453747, 33.93169568230092, 33.541436562346455, 32.74572806754075, 31.890758272981948, 30.73177619784159, 30.256777021393017, 29.06524372737433, 28.669430699902588, 27.704018429025087, 27.06668458652129, 27.048720909388233, 26.559016473781984, 26.201115516149507, 26.001504454282006, 25.930678595934204, 24.888253239512878, 24.81451269803392, 24.179422549410567, 78.04132359770517, 37.02594495434046, 90.3355229666739, 30.893390433332893, 36.37267923724172, 77.92717066854746, 60.28116574460839, 39.74034368003042, 33.65001910354915, 32.3247988529582, 32.25207538992243, 29.526265138273892, 106.3253339585943, 88.66383113339417, 68.22562529978441, 43.7585137734782, 37.69647958084107, 33.785938800846715, 32.803564816801114, 32.01542295397584, 30.197081107407495, 30.03276241874376, 27.999631700528525, 27.68333014807664, 27.205125607966146, 26.377010437415997, 26.270360232710296, 25.46242470591005, 25.229734358495133, 25.07088815319196, 23.848425876045393, 23.529752988079753, 23.205334768981622, 23.199223422545327, 23.18381306911776, 23.166652497055626, 23.06387539974657, 22.511183417899467, 21.835252974123204, 21.815053365902187, 21.54261375649381, 21.343605690127433, 37.833147477008104, 27.006889501149615, 97.23007992299205, 38.21117251932929, 287.2712948588954, 36.9552386972182, 59.73955826274056, 58.96906721065707, 50.91618483135542, 60.305981364166854, 66.16841521112781, 64.16012694980552, 96.00938117412747, 159.00654218898893, 45.6573878599824, 38.82505338687468, 63.06206772873659, 157.76585234971276, 48.36623384934075, 41.52295884606105, 47.82837325125883, 50.112455153137105, 67.64824392198959, 80.51843339493749, 47.801572057921874, 47.05253172091605, 61.781222683220925, 41.283345263717756, 39.38362379632838, 42.73004496428707, 35.28778034575091, 34.36929664352557, 33.99804147837542, 33.47070764283684, 31.041123516111327, 30.837913350415924, 29.701325634896737, 29.488519498309895, 29.32401159352725, 26.362364562865103, 25.93397619453165, 24.88786006134177, 24.575821141407395, 23.914596042180428, 23.79483374392758, 22.48686583211134, 22.201327943663728, 21.647941522779586, 21.291436547156678, 41.65973797670143, 20.541832614259306, 20.22811638927735, 20.033118029544077, 19.72092186226149, 19.683382455195385, 19.2615674142822, 19.1645108565809, 19.070298340424397, 18.759402861083807, 59.00627147278473, 33.1609458974636, 23.43499551278766, 23.310315837583968, 42.45456314082381, 78.13599766288114, 94.20523230402519, 60.99755094161307, 30.890342722429907, 55.28636996374833, 40.15154565748051, 34.737368035205776, 35.01278385360929, 27.62349800214321, 37.94360652137152, 30.133419993202224, 31.66709997211032, 26.174828657533347, 24.914372740780248, 49.7799331645275, 40.951151607923954, 38.783730118313585, 35.08212329557413, 29.449951515156528, 27.644273372760956, 26.55905255761559, 26.386489346378866, 24.98126432785123, 24.602659553670968, 24.331135989407734, 24.029443311087462, 21.75586941246176, 21.66988151706231, 20.649682916035303, 20.208660875960987, 19.877764790481464, 18.518715324066825, 18.281731158898108, 18.052035927957963, 18.033447607925265, 17.795373178121935, 17.730609305976238, 17.01986440669811, 16.691870055161484, 16.61788122174211, 16.29298543612754, 15.868215874083143, 15.798807997428943, 15.485557591331883, 26.49486072840935, 27.113743527909726, 35.074582170372246, 20.582510927644467, 57.01316394299659, 80.83656261564084, 26.172456097531132, 24.348374165083328, 28.044961772353993, 28.59567304606932, 22.415190419432346, 27.225267297106576, 21.84968599228266, 27.54622332118697, 21.509325731978944, 18.72435070503222, 18.14711176436973, 19.79591060338998, 16.091378466973172, 14.164260499747675, 13.787903404361304, 12.76010148834064, 11.913017515451639, 11.789079938570076, 10.595111854572592, 10.550489462136426, 10.020751883400406, 10.017551212118315, 9.521661631255375, 9.256670242119153, 9.17673323164939, 8.480002999032449, 8.430757124137516, 13.897419325308688, 8.173475462291824, 7.642802855990249, 7.247166538386828, 6.992049824981382, 6.9692331907855545, 6.6252515883228735, 6.467263969150218, 6.4445251449406165, 6.374462156336197, 14.527134889958004, 17.761913100632707, 23.092180934606663, 10.547960964516845, 14.273050630067251, 18.994680905408128, 15.191403319414436, 8.550934320928516, 8.849856094982057], \"Total\": [1294.0, 3210.0, 4381.0, 1087.0, 3685.0, 1948.0, 1887.0, 861.0, 1114.0, 1364.0, 1639.0, 1268.0, 1455.0, 2626.0, 1300.0, 2089.0, 789.0, 1575.0, 1709.0, 2017.0, 661.0, 783.0, 1613.0, 6511.0, 621.0, 1318.0, 1691.0, 1556.0, 896.0, 486.0, 362.2608572472535, 294.2066540439319, 163.01961606786446, 123.75095856656633, 117.2980915881669, 111.05260346468717, 102.42939988756994, 100.10725684389172, 97.06237580381078, 83.1068430981961, 80.9072547830593, 80.77595944111036, 78.87689721886159, 74.92248480820211, 74.47245639594605, 74.14658200577774, 72.68331699277591, 69.74142708901665, 68.8653082528217, 67.2818882955281, 65.8102834815108, 65.03321765494344, 64.98095588928082, 62.12455577932955, 62.07815830038493, 61.497786184317114, 60.600131144998684, 58.8904419411378, 57.481934726523725, 53.349544962594315, 131.49685363746525, 152.78048370670078, 160.888353391664, 156.8574994825031, 270.6355242824001, 83.91251650509699, 147.4154074162029, 117.4295634804952, 219.91104946401944, 220.81507322504126, 680.327374718579, 132.85438507036778, 593.5533539148283, 537.8968151723066, 424.441460591388, 1559.1719724892248, 322.59968485355546, 2227.524884445316, 1575.5007549758388, 4231.1031759758025, 2626.62748765202, 1094.353947902428, 942.0075769278873, 1065.8414304536354, 1061.3818946720505, 1125.6490276227346, 6511.202852483484, 1255.9171488908244, 759.6755300367622, 421.06307173414586, 2684.4682329821053, 3182.8916073425407, 1455.546582765096, 1883.926672317869, 3210.945397026572, 1269.338999586553, 3685.029931372018, 446.40458463216333, 2655.1601906072196, 1426.1938067682324, 1493.211980769276, 1696.5454832878622, 2156.4165298064704, 1956.913884859956, 2435.217472849674, 1306.131184905399, 1691.63688836422, 3640.7830775769276, 1750.6909754495427, 1741.3264035945942, 4381.5055708367745, 257.0175733793684, 227.53534577384139, 194.55044825494224, 185.71997881047005, 175.6859036657099, 168.02148576676439, 143.97402493934976, 116.90211625022455, 204.5050380199082, 90.08391908164465, 86.31841992214595, 82.99886397119096, 79.1446843704827, 78.44591252336025, 76.95565509951182, 74.09494600271027, 72.72187904274777, 562.3294921695809, 70.2259931824435, 70.16603545079185, 67.39177338605622, 66.26198662434373, 65.32208838170783, 63.526435802246716, 88.45605807752204, 62.26687652960259, 61.503273616520524, 60.833477598368056, 60.39408048289165, 60.01324065731468, 450.6011772270823, 126.11997564371956, 447.0496218812119, 152.32138989757038, 405.264769306935, 238.0936287574896, 440.98857648998205, 618.0449136366586, 414.639152390779, 561.4976008943047, 260.3453512516651, 274.63407863701843, 148.23747880928303, 408.3528200636988, 248.53288561042058, 266.59436034769453, 322.99507976022943, 238.03323015578724, 1423.4104417778144, 435.70110360237004, 843.522854497964, 333.9473373952473, 1041.6834037506064, 602.1568624877222, 4381.5055708367745, 3210.945397026572, 1143.9335139860202, 2297.393438059922, 1431.707277710766, 1379.259372985749, 758.054102809675, 6511.202852483484, 650.3350200769868, 1064.0918663778416, 2435.217472849674, 819.0994012294514, 1192.67303846203, 1316.8131674222411, 650.8103930949376, 3685.029931372018, 993.9074810874522, 1230.0112609043713, 2655.1601906072196, 3640.7830775769276, 4231.1031759758025, 2156.4165298064704, 1434.6932407263116, 2626.62748765202, 1184.2263305583106, 1696.5454832878622, 3182.8916073425407, 2227.524884445316, 642.0334776827425, 394.1147260785741, 260.9851843373892, 212.7914656991505, 198.44752403925298, 179.0743988328172, 163.2020376799454, 159.56523046416677, 142.4875306352016, 136.51005624297053, 123.93780660923788, 109.99819494144538, 108.17625314234502, 93.60909694278844, 90.83217021054493, 90.04386232978796, 90.0354140517677, 87.55642689507548, 83.6408382898977, 81.73766952017216, 80.81436568715016, 80.17243775906768, 75.74045698535198, 164.6082500198276, 69.24170148310417, 79.90165338016793, 67.81746653565877, 66.46270044868663, 64.49098649133076, 64.38915414613724, 225.88264472104956, 192.51554626011904, 303.0554809320516, 324.2621672016064, 384.53204527411623, 484.67932261729135, 410.1910485594645, 136.51076224145874, 306.9555115501736, 183.2562980890059, 341.25799065583476, 407.28925592776295, 316.7626461331421, 181.63967553312096, 972.7261847851906, 1268.0861782213044, 445.84159775312264, 331.5840658083931, 237.53363107084184, 620.5556347005246, 329.45103655838886, 248.46286245499255, 241.6509296629901, 4381.5055708367745, 603.1723954846202, 760.9910611211382, 384.506133012796, 1956.913884859956, 374.32770761261014, 6511.202852483484, 927.9674047268749, 1204.3608723538416, 345.516772889583, 610.4866178591013, 2297.393438059922, 2655.1601906072196, 463.5885935748577, 408.25530772836163, 279.0091051684661, 257.23214926181936, 208.27526715738284, 190.74150394453855, 188.72612436330675, 187.73177059312684, 178.942522790092, 151.16172365654774, 145.94618335730547, 140.48667544319983, 124.97858356625133, 120.15032098727978, 114.99472520518145, 105.57473906657282, 105.59595555781964, 103.88077301672567, 102.25840463804758, 601.0889561559262, 96.00099765889605, 90.61522507170912, 86.20555575740319, 84.66161385155924, 84.46186026369331, 83.24610505559092, 81.2607704435426, 76.45774171728985, 76.03837273558885, 75.99514777827311, 84.1962945017852, 863.4153963532436, 252.1617127073295, 698.2036124794919, 942.0899516025418, 159.36230319512472, 973.6358918542081, 120.65887109740929, 1948.8859729557946, 466.70392669203557, 669.8941237197121, 321.83006142067893, 1300.5461933342724, 412.7413881734578, 560.4815749222929, 195.47298609166128, 439.8545876972258, 736.2829202166247, 1639.576451705697, 1095.4584111456795, 663.3970651378065, 384.68008976074077, 600.0664506150124, 388.1922807324291, 1556.6642924568366, 1558.7988478485001, 522.5408188304857, 475.17602612903863, 349.3475830345971, 524.5165055241105, 1011.0554207169814, 3640.7830775769276, 754.6827307596291, 615.6667450132737, 1336.529966611317, 4231.1031759758025, 2017.9531783657667, 1262.9803984561518, 1741.3264035945942, 336.75180776655026, 318.49580616326335, 196.58319645984568, 194.70332926692927, 179.79319206384247, 179.76483127474677, 145.91060967974093, 134.78199706023796, 128.12914991070997, 127.62100042040045, 122.73347709496683, 112.36597213584047, 105.30774748225595, 100.31750797353317, 98.96485923532839, 92.8373567070418, 92.74290313820558, 91.05364145170054, 84.23530317111927, 83.76228565729123, 80.36855305159055, 80.2970210055946, 79.90749874751612, 75.89459802841667, 73.302775625084, 72.58028520473506, 71.80782045783603, 71.61939985025339, 61.7636652469567, 60.851936722472836, 167.45911349607698, 216.92063059224853, 208.51822677553997, 480.82903834831615, 396.9948396681526, 960.4940981272478, 392.39155016997057, 618.2319098331975, 388.81650080622313, 215.27539266837294, 1887.352035805152, 621.1513644486561, 190.6003416876778, 394.1125977267409, 140.61261462501764, 615.3724043009084, 229.9436228267479, 726.2676978087492, 501.26302147203637, 634.3230822852117, 4381.5055708367745, 504.0854087879771, 583.4183595595536, 414.31900147101965, 586.4679956925559, 1073.6714806590387, 863.7156851999187, 3685.029931372018, 3182.8916073425407, 2295.56621809737, 2684.4682329821053, 1211.0892970902653, 2435.217472849674, 6511.202852483484, 743.7231733089155, 941.071746620091, 1294.8720547195817, 260.55958256081146, 257.427520622947, 256.4192181625555, 240.04877813332274, 217.1839847836616, 200.4783099226523, 190.08645179711718, 182.48453502484566, 165.84080039951857, 163.30141477732602, 163.11756997172117, 141.50309982898278, 128.12139897412882, 112.23037974118182, 108.33879119617772, 97.25855674873652, 91.24696869034214, 90.78343200586347, 88.99706040904721, 86.74497429660909, 84.34471524115858, 82.02364489741439, 81.14344963433854, 79.63832477880507, 79.01825341033548, 79.00024802578743, 68.28411619118309, 67.7946566789133, 66.06890029658278, 751.0647066874286, 108.70989336239816, 91.13773071351687, 896.9520299411715, 183.18903359801345, 164.7757922582827, 272.96106230167845, 177.63605288028063, 479.0508563515724, 527.7117092691149, 422.1551251126306, 500.7997267621418, 389.77813075654797, 175.26726098745195, 1639.576451705697, 1073.8112702744013, 447.6937163385579, 663.8541454421171, 1336.529966611317, 903.2934088163291, 556.8251237974293, 1575.8470526584968, 692.696841235407, 1948.8859729557946, 1211.0892970902653, 1445.1137892582813, 1431.707277710766, 2295.56621809737, 727.0542755114528, 97.91476915224504, 94.14565962093971, 78.37089790255867, 77.14113123414111, 73.3373058092871, 71.80039981138964, 66.98902812846104, 57.81309639389081, 57.773866550390984, 55.319987826950644, 52.605063810095395, 51.497132769010264, 50.57275725792521, 50.5330571744077, 48.771135404784935, 47.282177185161466, 46.75869301797516, 45.51275860979636, 210.4508662174635, 37.61719846601337, 36.694787060560806, 35.01709544483379, 35.10050548387648, 34.39005650870916, 34.333285222750916, 33.88676347277414, 32.68089092806559, 31.878281835169545, 30.25526238510881, 28.874721071205798, 522.0659088968923, 496.19785533262774, 89.74340549812133, 127.99491597851915, 250.2324859900432, 155.66775994916773, 41.54521513849683, 1364.9818594353433, 181.6593142096423, 979.8936112173302, 316.61235243790077, 84.10775211866999, 707.9708904612295, 561.1776362178749, 1101.3949477911935, 1709.4617862232424, 452.04526991703443, 859.4640604692213, 432.9241128858435, 261.6764078200547, 329.5918203738302, 227.6595488470456, 322.37206838660387, 713.6616540338109, 857.5716446711543, 553.5105067143202, 1556.6642924568366, 313.19079232173186, 493.62580133305414, 403.57438296514806, 865.8522290033891, 1613.6642852975795, 652.8781766808862, 440.172800407252, 627.1447163711323, 704.9032425738634, 1211.0892970902653, 3640.7830775769276, 1336.529966611317, 2089.2529138844884, 903.2934088163291, 532.6696364472845, 1095.4584111456795, 878.146820463224, 1224.6557527538585, 613.6609597283935, 326.1193130802492, 1087.0272120368722, 169.98451663585575, 169.19398428142526, 145.22234262856304, 110.63464396362757, 96.37383633981814, 91.15383561674939, 86.5005062098654, 86.42419353492488, 84.33042540115405, 83.95258763447208, 81.15167608497546, 78.90351725637993, 78.72057996734485, 73.78137542881483, 73.70361496558996, 71.52891094030664, 70.1759431883342, 68.44646874993454, 65.2365559853445, 60.412375867544625, 58.09768639548177, 55.83549109127657, 53.03937617956019, 52.2432571969503, 51.76778735565059, 305.9725397434425, 783.225307364629, 243.98943789100437, 369.4628852034727, 113.44878192962427, 291.7599554959309, 480.3579390897808, 701.3287740667198, 278.2308028844853, 139.71265511090456, 432.9363900487805, 263.29550656740554, 274.1955194386869, 420.4043727529474, 384.3791585273588, 570.8882249319771, 370.82349885645624, 1318.8391157522658, 358.9942613969774, 843.2077376230277, 415.24447632909533, 332.1009884363327, 2089.2529138844884, 1691.63688836422, 535.8466555245413, 1613.6642852975795, 527.2397539627308, 1683.241237628708, 1300.5461933342724, 3685.029931372018, 857.5716446711543, 1741.3264035945942, 6511.202852483484, 1750.6909754495427, 446.9853401853187, 861.5394454131217, 384.12975216967874, 371.4122674873487, 274.68836350676077, 202.74569690358086, 150.05794958057388, 139.92471456807397, 122.34139239569375, 110.28141651309892, 109.8750215671772, 103.33275391874542, 97.26163708538861, 97.13892188872539, 94.24742701026653, 86.65811970376339, 84.700803006936, 84.5570610442433, 81.91236466481197, 81.74104481774957, 377.86378848714037, 69.23517771936977, 67.88039735307933, 62.84170694618696, 62.797284057936054, 60.63798287492998, 57.10081195724953, 56.94588875153395, 56.30703348812399, 55.752025720942356, 789.6761191536668, 79.59034277316418, 589.3669770432825, 95.08165292250939, 94.84912450535498, 276.3294365503275, 129.7159321759257, 200.85131257266139, 136.73703390089935, 115.28772990932897, 178.26131519281762, 605.7916698551255, 200.6010134964243, 1575.8470526584968, 263.32504022192927, 230.0143158789229, 219.1737842093997, 195.87969195650518, 1412.6122236178962, 409.0968148425732, 176.58272271897, 356.79359442024383, 364.4448110394103, 357.84258885376715, 2295.56621809737, 1006.6520491228135, 2626.62748765202, 261.35674555398765, 630.4524929672385, 1255.9171488908244, 1008.5436988281484, 529.1299961551997, 396.92895434061325, 234.26316344499972, 195.31129812639813, 178.91744017611532, 148.86747424796602, 147.8307458320227, 100.93097831271216, 98.23505375358087, 87.76416467660054, 79.50426526530796, 71.70309996961667, 69.18040619282317, 62.61905530039316, 58.11795421557307, 53.692574889372004, 50.47150781636645, 48.351198840862715, 45.59625693908678, 41.24506561138185, 40.698416543002466, 37.83208348950285, 34.32666838255336, 33.738533751227884, 32.86684442547392, 31.67365240210776, 29.4047688791871, 28.073900204939704, 70.6799722649652, 27.719602020032166, 233.80740138754194, 131.45292870257813, 441.7100770778319, 286.5088790862213, 343.2199612012894, 46.08707914744169, 677.9190746399943, 119.58460328564031, 508.11102256047815, 181.65946824768685, 215.69224789140756, 268.82074517406505, 488.5336542075083, 207.78227623442532, 172.93697054278528, 261.863184895857, 927.9674047268749, 1268.0861782213044, 532.6696364472845, 2089.2529138844884, 364.6437576532893, 1336.529966611317, 1445.1137892582813, 292.7026394780835, 2017.9531783657667, 372.93430231301016, 563.0548459045893, 1709.4617862232424, 652.8781766808862, 161.56505123244963, 75.22017418532951, 73.97241278473574, 62.29304838779932, 60.04783796932605, 52.995266422101984, 44.1234680794476, 41.75075682232217, 39.51094632490255, 37.2807248764811, 36.63733162516097, 35.523953276727816, 242.93553213326985, 28.96821668011326, 28.29479680792835, 27.935696637624428, 27.812611954824295, 27.678740932279567, 26.929878907600568, 26.615215968801518, 25.634000565512, 24.5819294968054, 23.86622101216151, 22.656706358791006, 22.33202590302972, 21.78428116813201, 21.771419235805745, 21.540667163649598, 21.007395227289106, 20.43408200697333, 621.4263019879762, 39.019741229757294, 37.21052071659804, 54.53980199952558, 152.66618393691144, 122.90773914334741, 104.93919182571682, 110.47277157750639, 190.3968428746688, 280.88904166167305, 331.838475541679, 85.94623743331181, 335.3269911973111, 105.32718717883047, 138.4603583434278, 188.37626323973802, 153.28268401823854, 276.4682138774453, 104.62804613544692, 524.5165055241105, 151.53738939388668, 1455.546582765096, 231.3636972143216, 553.6810467691378, 441.3293400453801, 196.18542788555482, 388.97276411132634, 3210.945397026572, 1887.352035805152, 402.6075867187845, 607.9962565896604, 3685.029931372018, 1750.6909754495427, 1639.576451705697, 4381.5055708367745, 444.4159547545621, 552.1441972435636, 603.1723954846202, 255.9850801658668, 1696.5454832878622, 1249.994995215203, 163.4905385199168, 108.2739925328115, 89.16539553333305, 83.34618261297493, 76.28371365805708, 73.22756116249825, 72.54618276243582, 71.14607475942027, 62.728193876740875, 62.41620640069431, 59.81284430155023, 58.00942564166024, 52.55790943116793, 38.573278500525376, 31.72135544663452, 31.338998937935465, 29.468116103126345, 29.116000580194445, 28.22092532007364, 27.34766459684967, 26.154837792895076, 23.22213191373838, 22.216580747375406, 21.694660331425965, 306.5024418198843, 20.46305516041875, 19.814152884801498, 19.59263116764745, 19.58789816965536, 19.013818364531467, 110.88178870208267, 81.95347692131077, 105.06833988785725, 128.42052442398167, 423.28204223499495, 116.70634158984984, 112.05455980035742, 79.31287058373658, 204.43214937776176, 109.33349249236595, 100.79745147976834, 80.16145673581373, 99.26026891522646, 151.8986641090687, 627.1447163711323, 127.52984367816241, 557.2366140392226, 495.7451223300998, 222.20143464114767, 546.8315972439166, 481.1575894191752, 172.64229412604516, 329.8642521802575, 398.5576296668154, 241.8410465373157, 183.89394683124857, 358.9148333026293, 631.2634836522367, 207.048508976515, 161.52245588912956, 377.466080460343, 268.9441831317812, 1474.8985091154134, 461.6817664557037, 291.1297508889976, 216.61656273515743, 152.18301146337953, 100.79253355057052, 96.22268562257088, 93.34533391785095, 92.24556921219023, 62.00198957580787, 60.79202258859292, 64.87893363494348, 55.253383704480406, 54.89534585908956, 53.575215930705276, 49.5907666873712, 49.385550929872785, 44.498590287990424, 43.93993500426199, 43.33847350039241, 43.434548281050326, 41.53735509768074, 40.41194047526354, 39.95541168380013, 39.78704757612706, 39.34592953408382, 38.76722981420199, 36.76103656018708, 36.62252682819307, 35.99474957832341, 34.38925429581275, 194.45788867698852, 203.37371652133982, 184.29140857584284, 100.94437411401, 226.37882746967344, 193.51646685835675, 661.6839768952344, 169.4824557466469, 586.4679956925559, 89.0276695393719, 75.63768031389303, 99.34104703699913, 610.4866178591013, 195.8085677015399, 335.3269911973111, 469.136398107471, 204.7768309257327, 377.54761704010605, 127.68079623799706, 341.73025205151663, 227.45554800556067, 283.71537813875705, 196.78395945990883, 1192.67303846203, 259.5237708322602, 546.8315972439166, 129.56848194618212, 95.25809730322567, 94.60653201077615, 94.03675995111027, 82.97259215328384, 73.98469062261378, 70.18684658663162, 268.706837583018, 54.03609769951056, 316.9439366760002, 52.92913787873676, 51.52879589791239, 48.79386392485127, 44.41602585157982, 41.026461257840104, 38.24390746931208, 37.87682836105264, 36.076768235432, 35.46362882155837, 33.63831000722829, 33.50192230777884, 33.15399877400171, 32.18854890299008, 31.619034487487248, 30.096648380214774, 28.49768134631557, 28.30735376596927, 27.488153842131542, 26.67711056186363, 24.359138781710644, 74.0333453200734, 94.90881367492771, 357.1649026107858, 145.54433225501387, 211.31238501896348, 128.70053537170364, 317.2301236165481, 124.6282609850139, 74.99764784129714, 313.3180014355284, 95.39219109955799, 254.81394501998685, 601.655416289043, 356.0192272866891, 133.9448629155986, 60.39032085240811, 149.2384034594601, 396.85176557238606, 573.836925254652, 387.02135489952036, 363.27459426064917, 1006.6520491228135, 565.7443534197871, 2017.9531783657667, 345.655683675217, 226.53201373944293, 429.21206286814714, 345.72884789030115, 859.4640604692213, 1613.6642852975795, 1114.6395908004142, 2626.62748765202, 64.45344994936185, 63.62786606504901, 51.254646037492925, 46.54281354855167, 43.845878182832834, 35.69076258983422, 35.37009487475128, 35.16784666675192, 33.68978565244011, 32.05391709890113, 31.05200661422862, 30.00864136103883, 29.594885982427996, 29.24860692272545, 28.64793053366555, 26.701853848723104, 26.22901818304826, 26.02254265924474, 25.990159488957918, 25.476757569500197, 24.558841280424055, 24.55066936550326, 23.647720174988713, 23.398265794448907, 23.081411298002216, 23.057660014908052, 20.783545942492236, 20.1907565773495, 19.703049849671785, 19.410775006870683, 29.862062576525144, 38.65563200265396, 162.7640432391124, 94.80383922764723, 41.270224337723405, 108.06333435204964, 52.334294426707224, 346.8537435566481, 88.91632049989957, 44.265145432150554, 163.0912945127475, 158.74153982823415, 38.71893554720397, 63.03186172801565, 243.2429284015185, 290.4631079997269, 79.92981975483299, 44.63688081115013, 128.49271626674368, 52.864099020123014, 329.8642521802575, 241.10433415974032, 128.53042779436464, 878.9445099551365, 546.8315972439166, 388.97276411132634, 268.82074517406505, 449.26999512627276, 353.17624103621915, 162.83531097809734, 80.49235977726298, 61.123327877935544, 58.99204189597944, 56.83166839265301, 52.52017920181963, 46.2594063715969, 45.65700924424567, 47.76715954719025, 42.42154090635398, 41.99509323276265, 37.14130860108882, 34.986239345196, 34.85976045549814, 34.46950133038429, 33.67379283916373, 32.818823037228135, 31.659840971306167, 31.18484235048986, 29.993308515042216, 29.597495482629718, 28.63208319788047, 27.994749384971, 27.97678567363442, 27.487081248115324, 27.12918030488491, 26.929569218528194, 26.85874336018039, 25.81631801051277, 25.74257753417105, 25.10748731826595, 85.62223953353859, 41.634431618764744, 246.9432410636827, 41.190996085028885, 67.51114084719036, 567.7614865132268, 412.9155898242517, 103.37287805173344, 71.21295221974825, 98.25964205735602, 434.20288558247256, 81.15917795637199, 107.25357015893809, 89.59206734295635, 69.1538615047374, 44.68674997382199, 38.624723799368994, 34.714175001190505, 33.73180102636329, 32.94365915431963, 31.12531730775128, 30.960998619087547, 28.927867905481506, 28.611566348420425, 28.13336180830993, 27.305246637759783, 27.19859643305408, 26.390660906253835, 26.157970605452338, 25.999124353535745, 24.77666207638918, 24.457989193032734, 24.133570988299233, 24.127459622889113, 24.112049269461547, 24.094888697399412, 23.992111600090357, 23.439419618243253, 22.763489179076185, 22.743289812428593, 22.470849956837597, 22.271841945781553, 41.54666843783278, 28.97034623118877, 124.20639084369222, 43.167497661747234, 486.17227793058663, 43.421541739731126, 81.64941877393463, 82.01671736659719, 69.22126508337168, 89.42684766310968, 119.97717893081457, 118.41203359810443, 252.11528740318562, 605.7916698551255, 71.54409609623883, 57.77417789927307, 152.3621148060595, 1114.6395908004142, 111.35134624298747, 84.99697927757485, 131.60244854333158, 159.33837873789668, 458.8324395911037, 1008.5436988281484, 219.1737842093997, 242.60389032524745, 2295.56621809737, 133.53693803598608, 175.37630361770638, 43.750563906199034, 36.217813509701976, 35.29932976698331, 34.92807461668332, 34.400740781626226, 31.971156639569067, 31.767946473873664, 30.631358758354477, 30.418552642643718, 30.254044755999505, 27.292397691578792, 26.864009322598584, 25.81789319007815, 25.505854264865135, 24.84462917588024, 24.72486690356165, 23.416898964510843, 23.13136119911863, 22.57797465857095, 22.221469675870367, 43.51909011828811, 21.47186574681695, 21.15814951273509, 20.963151153001817, 20.650954994937617, 20.613415596076358, 20.19160053773994, 20.094544023410677, 20.000331463882137, 19.68943599401243, 65.3406093655641, 39.36942440369207, 26.708891262314076, 26.62402842103534, 69.35699103082915, 193.52379928436926, 282.20869314558144, 183.54456145245075, 54.792379394265396, 236.05796511768122, 107.05494499905802, 101.12584498817293, 116.88482661414317, 72.8778764356464, 563.6444648335239, 241.59434963070652, 426.615605210071, 97.529590867018, 60.23768740512536, 50.71282353042674, 41.88404203664172, 39.716620484212825, 36.015013670110214, 30.382841951186336, 28.577163755501054, 27.49194292877078, 27.319379730956953, 25.91415505879828, 25.53558707040605, 25.264027390525147, 24.962333676986702, 22.68875978730276, 22.602771896778275, 21.582573281934543, 21.14155126639243, 20.81065518946666, 19.451605722918046, 19.214621524797348, 18.984926293857203, 18.96633799024347, 18.72827884803929, 18.66349968516835, 17.952754786424933, 17.624760478881377, 17.550771592250545, 17.2258758939266, 16.801106243823394, 16.73169836332818, 16.418448002024967, 30.077402389396813, 32.76352648577966, 45.2948653362582, 23.59986053856516, 107.18700529711454, 196.3179500181808, 41.85063939582182, 36.29582193287666, 52.04780243760813, 64.37181168290884, 36.351387837442125, 168.1138019845006, 151.36439615357597, 28.490897609027343, 22.454000019819315, 19.66902499287259, 19.091786056054055, 20.830047092147414, 17.03605281898697, 15.108934791929885, 14.732577692201675, 13.70477577618101, 12.857691807633849, 12.733754243353266, 11.539786195878005, 11.495163749976797, 10.965426178976065, 10.962225513506588, 10.466335919095746, 10.201344543650636, 10.121407620911363, 9.424677303097413, 9.375431411977887, 15.457240434354935, 9.118149755388144, 8.596782301443783, 8.191840903231933, 7.936724119575458, 7.913907478625926, 7.569925876163245, 7.411938270807314, 7.389199469045332, 7.319136521675202, 17.187512828674006, 21.39076777299265, 32.010744080980665, 13.179533268472941, 21.82397382761505, 65.91279792921425, 56.19010699912846, 16.182538207986894, 268.8982239297664], \"Category\": [\"Default\", \"Default\", \"Default\", \"Default\", \"Default\", \"Default\", \"Default\", \"Default\", \"Default\", \"Default\", \"Default\", \"Default\", \"Default\", \"Default\", \"Default\", \"Default\", \"Default\", \"Default\", \"Default\", \"Default\", \"Default\", \"Default\", \"Default\", \"Default\", \"Default\", \"Default\", \"Default\", \"Default\", \"Default\", \"Default\", \"Topic1\", \"Topic1\", \"Topic1\", \"Topic1\", \"Topic1\", \"Topic1\", \"Topic1\", \"Topic1\", \"Topic1\", \"Topic1\", \"Topic1\", \"Topic1\", \"Topic1\", \"Topic1\", \"Topic1\", \"Topic1\", \"Topic1\", \"Topic1\", \"Topic1\", \"Topic1\", \"Topic1\", \"Topic1\", \"Topic1\", \"Topic1\", \"Topic1\", \"Topic1\", \"Topic1\", \"Topic1\", \"Topic1\", \"Topic1\", \"Topic1\", \"Topic1\", \"Topic1\", \"Topic1\", \"Topic1\", \"Topic1\", \"Topic1\", \"Topic1\", \"Topic1\", \"Topic1\", \"Topic1\", \"Topic1\", \"Topic1\", \"Topic1\", \"Topic1\", \"Topic1\", \"Topic1\", \"Topic1\", \"Topic1\", \"Topic1\", \"Topic1\", \"Topic1\", \"Topic1\", \"Topic1\", \"Topic1\", \"Topic1\", \"Topic1\", \"Topic1\", \"Topic1\", \"Topic1\", \"Topic1\", \"Topic1\", \"Topic1\", \"Topic1\", \"Topic1\", \"Topic1\", \"Topic1\", \"Topic1\", \"Topic1\", \"Topic1\", \"Topic1\", \"Topic1\", \"Topic1\", \"Topic1\", \"Topic1\", \"Topic1\", \"Topic1\", \"Topic1\", \"Topic1\", \"Topic1\", \"Topic1\", \"Topic2\", \"Topic2\", \"Topic2\", \"Topic2\", \"Topic2\", \"Topic2\", \"Topic2\", \"Topic2\", \"Topic2\", \"Topic2\", \"Topic2\", \"Topic2\", \"Topic2\", \"Topic2\", \"Topic2\", \"Topic2\", \"Topic2\", \"Topic2\", \"Topic2\", \"Topic2\", \"Topic2\", \"Topic2\", \"Topic2\", \"Topic2\", \"Topic2\", \"Topic2\", \"Topic2\", \"Topic2\", \"Topic2\", \"Topic2\", \"Topic2\", \"Topic2\", \"Topic2\", \"Topic2\", \"Topic2\", \"Topic2\", \"Topic2\", \"Topic2\", \"Topic2\", \"Topic2\", \"Topic2\", \"Topic2\", \"Topic2\", \"Topic2\", \"Topic2\", \"Topic2\", \"Topic2\", \"Topic2\", \"Topic2\", \"Topic2\", \"Topic2\", \"Topic2\", \"Topic2\", \"Topic2\", \"Topic2\", \"Topic2\", \"Topic2\", \"Topic2\", \"Topic2\", \"Topic2\", \"Topic2\", \"Topic2\", \"Topic2\", \"Topic2\", \"Topic2\", \"Topic2\", \"Topic2\", \"Topic2\", \"Topic2\", \"Topic2\", \"Topic2\", \"Topic2\", \"Topic2\", \"Topic2\", \"Topic2\", \"Topic2\", \"Topic2\", \"Topic2\", \"Topic2\", \"Topic2\", \"Topic2\", \"Topic2\", \"Topic3\", \"Topic3\", \"Topic3\", \"Topic3\", \"Topic3\", \"Topic3\", \"Topic3\", \"Topic3\", \"Topic3\", \"Topic3\", \"Topic3\", \"Topic3\", \"Topic3\", \"Topic3\", \"Topic3\", \"Topic3\", \"Topic3\", \"Topic3\", \"Topic3\", \"Topic3\", \"Topic3\", \"Topic3\", \"Topic3\", \"Topic3\", \"Topic3\", \"Topic3\", \"Topic3\", \"Topic3\", \"Topic3\", \"Topic3\", \"Topic3\", \"Topic3\", \"Topic3\", \"Topic3\", \"Topic3\", \"Topic3\", \"Topic3\", \"Topic3\", \"Topic3\", \"Topic3\", \"Topic3\", \"Topic3\", \"Topic3\", \"Topic3\", \"Topic3\", \"Topic3\", \"Topic3\", \"Topic3\", \"Topic3\", \"Topic3\", \"Topic3\", \"Topic3\", \"Topic3\", \"Topic3\", \"Topic3\", \"Topic3\", \"Topic3\", \"Topic3\", \"Topic3\", \"Topic3\", \"Topic3\", \"Topic3\", \"Topic3\", \"Topic3\", \"Topic3\", \"Topic3\", \"Topic4\", \"Topic4\", \"Topic4\", \"Topic4\", \"Topic4\", \"Topic4\", \"Topic4\", \"Topic4\", \"Topic4\", \"Topic4\", \"Topic4\", \"Topic4\", \"Topic4\", \"Topic4\", \"Topic4\", \"Topic4\", \"Topic4\", \"Topic4\", \"Topic4\", \"Topic4\", \"Topic4\", \"Topic4\", \"Topic4\", \"Topic4\", \"Topic4\", \"Topic4\", \"Topic4\", \"Topic4\", \"Topic4\", \"Topic4\", \"Topic4\", \"Topic4\", \"Topic4\", \"Topic4\", \"Topic4\", \"Topic4\", \"Topic4\", \"Topic4\", \"Topic4\", \"Topic4\", \"Topic4\", \"Topic4\", \"Topic4\", \"Topic4\", \"Topic4\", \"Topic4\", \"Topic4\", \"Topic4\", \"Topic4\", \"Topic4\", \"Topic4\", \"Topic4\", \"Topic4\", \"Topic4\", \"Topic4\", \"Topic4\", \"Topic4\", \"Topic4\", \"Topic4\", \"Topic4\", \"Topic4\", \"Topic4\", \"Topic4\", \"Topic4\", \"Topic4\", \"Topic4\", \"Topic4\", \"Topic4\", \"Topic4\", \"Topic5\", \"Topic5\", \"Topic5\", \"Topic5\", \"Topic5\", \"Topic5\", \"Topic5\", \"Topic5\", \"Topic5\", \"Topic5\", \"Topic5\", \"Topic5\", \"Topic5\", \"Topic5\", \"Topic5\", \"Topic5\", \"Topic5\", \"Topic5\", \"Topic5\", \"Topic5\", \"Topic5\", \"Topic5\", \"Topic5\", \"Topic5\", \"Topic5\", \"Topic5\", \"Topic5\", \"Topic5\", \"Topic5\", \"Topic5\", \"Topic5\", \"Topic5\", \"Topic5\", \"Topic5\", \"Topic5\", \"Topic5\", \"Topic5\", \"Topic5\", \"Topic5\", \"Topic5\", \"Topic5\", \"Topic5\", \"Topic5\", \"Topic5\", \"Topic5\", \"Topic5\", \"Topic5\", \"Topic5\", \"Topic5\", \"Topic5\", \"Topic5\", \"Topic5\", \"Topic5\", \"Topic5\", \"Topic5\", \"Topic5\", \"Topic5\", \"Topic5\", \"Topic5\", \"Topic5\", \"Topic5\", \"Topic5\", \"Topic5\", \"Topic5\", \"Topic5\", \"Topic5\", \"Topic6\", \"Topic6\", \"Topic6\", \"Topic6\", \"Topic6\", \"Topic6\", \"Topic6\", \"Topic6\", \"Topic6\", \"Topic6\", \"Topic6\", \"Topic6\", \"Topic6\", \"Topic6\", \"Topic6\", \"Topic6\", \"Topic6\", \"Topic6\", \"Topic6\", \"Topic6\", \"Topic6\", \"Topic6\", \"Topic6\", \"Topic6\", \"Topic6\", \"Topic6\", \"Topic6\", \"Topic6\", \"Topic6\", \"Topic6\", \"Topic6\", \"Topic6\", \"Topic6\", \"Topic6\", \"Topic6\", \"Topic6\", \"Topic6\", \"Topic6\", \"Topic6\", \"Topic6\", \"Topic6\", \"Topic6\", \"Topic6\", \"Topic6\", \"Topic6\", \"Topic6\", \"Topic6\", \"Topic6\", \"Topic6\", \"Topic6\", \"Topic6\", \"Topic6\", \"Topic6\", \"Topic6\", \"Topic6\", \"Topic6\", \"Topic6\", \"Topic6\", \"Topic6\", \"Topic7\", \"Topic7\", \"Topic7\", \"Topic7\", \"Topic7\", \"Topic7\", \"Topic7\", \"Topic7\", \"Topic7\", \"Topic7\", \"Topic7\", \"Topic7\", \"Topic7\", \"Topic7\", \"Topic7\", \"Topic7\", \"Topic7\", \"Topic7\", \"Topic7\", \"Topic7\", \"Topic7\", \"Topic7\", \"Topic7\", \"Topic7\", \"Topic7\", \"Topic7\", \"Topic7\", \"Topic7\", \"Topic7\", \"Topic7\", \"Topic7\", \"Topic7\", \"Topic7\", \"Topic7\", \"Topic7\", \"Topic7\", \"Topic7\", \"Topic7\", \"Topic7\", \"Topic7\", \"Topic7\", \"Topic7\", \"Topic7\", \"Topic7\", \"Topic7\", \"Topic7\", \"Topic7\", \"Topic7\", \"Topic7\", \"Topic7\", \"Topic7\", \"Topic7\", \"Topic7\", \"Topic7\", \"Topic7\", \"Topic7\", \"Topic7\", \"Topic7\", \"Topic7\", \"Topic7\", \"Topic7\", \"Topic7\", \"Topic7\", \"Topic7\", \"Topic7\", \"Topic7\", \"Topic7\", \"Topic7\", \"Topic7\", \"Topic7\", \"Topic7\", \"Topic7\", \"Topic7\", \"Topic7\", \"Topic7\", \"Topic8\", \"Topic8\", \"Topic8\", \"Topic8\", \"Topic8\", \"Topic8\", \"Topic8\", \"Topic8\", \"Topic8\", \"Topic8\", \"Topic8\", \"Topic8\", \"Topic8\", \"Topic8\", \"Topic8\", \"Topic8\", \"Topic8\", \"Topic8\", \"Topic8\", \"Topic8\", \"Topic8\", \"Topic8\", \"Topic8\", \"Topic8\", \"Topic8\", \"Topic8\", \"Topic8\", \"Topic8\", \"Topic8\", \"Topic8\", \"Topic8\", \"Topic8\", \"Topic8\", \"Topic8\", \"Topic8\", \"Topic8\", \"Topic8\", \"Topic8\", \"Topic8\", \"Topic8\", \"Topic8\", \"Topic8\", \"Topic8\", \"Topic8\", \"Topic8\", \"Topic8\", \"Topic8\", \"Topic8\", \"Topic8\", \"Topic8\", \"Topic8\", \"Topic8\", \"Topic8\", \"Topic8\", \"Topic8\", \"Topic8\", \"Topic8\", \"Topic8\", \"Topic8\", \"Topic8\", \"Topic8\", \"Topic8\", \"Topic9\", \"Topic9\", \"Topic9\", \"Topic9\", \"Topic9\", \"Topic9\", \"Topic9\", \"Topic9\", \"Topic9\", \"Topic9\", \"Topic9\", \"Topic9\", \"Topic9\", \"Topic9\", \"Topic9\", \"Topic9\", \"Topic9\", \"Topic9\", \"Topic9\", \"Topic9\", \"Topic9\", \"Topic9\", \"Topic9\", \"Topic9\", \"Topic9\", \"Topic9\", \"Topic9\", \"Topic9\", \"Topic9\", \"Topic9\", \"Topic9\", \"Topic9\", \"Topic9\", \"Topic9\", \"Topic9\", \"Topic9\", \"Topic9\", \"Topic9\", \"Topic9\", \"Topic9\", \"Topic9\", \"Topic9\", \"Topic9\", \"Topic9\", \"Topic9\", \"Topic9\", \"Topic9\", \"Topic9\", \"Topic9\", \"Topic9\", \"Topic9\", \"Topic9\", \"Topic9\", \"Topic9\", \"Topic9\", \"Topic9\", \"Topic9\", \"Topic9\", \"Topic9\", \"Topic9\", \"Topic9\", \"Topic10\", \"Topic10\", \"Topic10\", \"Topic10\", \"Topic10\", \"Topic10\", \"Topic10\", \"Topic10\", \"Topic10\", \"Topic10\", \"Topic10\", \"Topic10\", \"Topic10\", \"Topic10\", \"Topic10\", \"Topic10\", \"Topic10\", \"Topic10\", \"Topic10\", \"Topic10\", \"Topic10\", \"Topic10\", \"Topic10\", \"Topic10\", \"Topic10\", \"Topic10\", \"Topic10\", \"Topic10\", \"Topic10\", \"Topic10\", \"Topic10\", \"Topic10\", \"Topic10\", \"Topic10\", \"Topic10\", \"Topic10\", \"Topic10\", \"Topic10\", \"Topic10\", \"Topic10\", \"Topic10\", \"Topic10\", \"Topic10\", \"Topic10\", \"Topic10\", \"Topic10\", \"Topic10\", \"Topic10\", \"Topic10\", \"Topic10\", \"Topic10\", \"Topic10\", \"Topic10\", \"Topic10\", \"Topic10\", \"Topic10\", \"Topic10\", \"Topic10\", \"Topic10\", \"Topic11\", \"Topic11\", \"Topic11\", \"Topic11\", \"Topic11\", \"Topic11\", \"Topic11\", \"Topic11\", \"Topic11\", \"Topic11\", \"Topic11\", \"Topic11\", \"Topic11\", \"Topic11\", \"Topic11\", \"Topic11\", \"Topic11\", \"Topic11\", \"Topic11\", \"Topic11\", \"Topic11\", \"Topic11\", \"Topic11\", \"Topic11\", \"Topic11\", \"Topic11\", \"Topic11\", \"Topic11\", \"Topic11\", \"Topic11\", \"Topic11\", \"Topic11\", \"Topic11\", \"Topic11\", \"Topic11\", \"Topic11\", \"Topic11\", \"Topic11\", \"Topic11\", \"Topic11\", \"Topic11\", \"Topic11\", \"Topic11\", \"Topic11\", \"Topic11\", \"Topic11\", \"Topic11\", \"Topic11\", \"Topic11\", \"Topic11\", \"Topic11\", \"Topic11\", \"Topic11\", \"Topic11\", \"Topic11\", \"Topic11\", \"Topic11\", \"Topic11\", \"Topic11\", \"Topic11\", \"Topic11\", \"Topic11\", \"Topic11\", \"Topic11\", \"Topic11\", \"Topic11\", \"Topic11\", \"Topic11\", \"Topic11\", \"Topic11\", \"Topic11\", \"Topic12\", \"Topic12\", \"Topic12\", \"Topic12\", \"Topic12\", \"Topic12\", \"Topic12\", \"Topic12\", \"Topic12\", \"Topic12\", \"Topic12\", \"Topic12\", \"Topic12\", \"Topic12\", \"Topic12\", \"Topic12\", \"Topic12\", \"Topic12\", \"Topic12\", \"Topic12\", \"Topic12\", \"Topic12\", \"Topic12\", \"Topic12\", \"Topic12\", \"Topic12\", \"Topic12\", \"Topic12\", \"Topic12\", \"Topic12\", \"Topic12\", \"Topic12\", \"Topic12\", \"Topic12\", \"Topic12\", \"Topic12\", \"Topic12\", \"Topic12\", \"Topic12\", \"Topic12\", \"Topic12\", \"Topic12\", \"Topic12\", \"Topic12\", \"Topic12\", \"Topic12\", \"Topic12\", \"Topic12\", \"Topic12\", \"Topic12\", \"Topic12\", \"Topic12\", \"Topic12\", \"Topic12\", \"Topic12\", \"Topic12\", \"Topic12\", \"Topic12\", \"Topic12\", \"Topic12\", \"Topic12\", \"Topic12\", \"Topic12\", \"Topic13\", \"Topic13\", \"Topic13\", \"Topic13\", \"Topic13\", \"Topic13\", \"Topic13\", \"Topic13\", \"Topic13\", \"Topic13\", \"Topic13\", \"Topic13\", \"Topic13\", \"Topic13\", \"Topic13\", \"Topic13\", \"Topic13\", \"Topic13\", \"Topic13\", \"Topic13\", \"Topic13\", \"Topic13\", \"Topic13\", \"Topic13\", \"Topic13\", \"Topic13\", \"Topic13\", \"Topic13\", \"Topic13\", \"Topic13\", \"Topic13\", \"Topic13\", \"Topic13\", \"Topic13\", \"Topic13\", \"Topic13\", \"Topic13\", \"Topic13\", \"Topic13\", \"Topic13\", \"Topic13\", \"Topic13\", \"Topic13\", \"Topic13\", \"Topic13\", \"Topic13\", \"Topic13\", \"Topic13\", \"Topic13\", \"Topic13\", \"Topic13\", \"Topic13\", \"Topic13\", \"Topic13\", \"Topic13\", \"Topic13\", \"Topic14\", \"Topic14\", \"Topic14\", \"Topic14\", \"Topic14\", \"Topic14\", \"Topic14\", \"Topic14\", \"Topic14\", \"Topic14\", \"Topic14\", \"Topic14\", \"Topic14\", \"Topic14\", \"Topic14\", \"Topic14\", \"Topic14\", \"Topic14\", \"Topic14\", \"Topic14\", \"Topic14\", \"Topic14\", \"Topic14\", \"Topic14\", \"Topic14\", \"Topic14\", \"Topic14\", \"Topic14\", \"Topic14\", \"Topic14\", \"Topic14\", \"Topic14\", \"Topic14\", \"Topic14\", \"Topic14\", \"Topic14\", \"Topic14\", \"Topic14\", \"Topic14\", \"Topic14\", \"Topic14\", \"Topic14\", \"Topic14\", \"Topic14\", \"Topic14\", \"Topic14\", \"Topic14\", \"Topic14\", \"Topic14\", \"Topic14\", \"Topic14\", \"Topic14\", \"Topic14\", \"Topic14\", \"Topic14\", \"Topic14\", \"Topic14\", \"Topic14\", \"Topic14\", \"Topic14\", \"Topic14\", \"Topic14\", \"Topic15\", \"Topic15\", \"Topic15\", \"Topic15\", \"Topic15\", \"Topic15\", \"Topic15\", \"Topic15\", \"Topic15\", \"Topic15\", \"Topic15\", \"Topic15\", \"Topic15\", \"Topic15\", \"Topic15\", \"Topic15\", \"Topic15\", \"Topic15\", \"Topic15\", \"Topic15\", \"Topic15\", \"Topic15\", \"Topic15\", \"Topic15\", \"Topic15\", \"Topic15\", \"Topic15\", \"Topic15\", \"Topic15\", \"Topic15\", \"Topic15\", \"Topic15\", \"Topic15\", \"Topic15\", \"Topic15\", \"Topic15\", \"Topic15\", \"Topic15\", \"Topic15\", \"Topic15\", \"Topic15\", \"Topic15\", \"Topic15\", \"Topic15\", \"Topic15\", \"Topic15\", \"Topic15\", \"Topic15\", \"Topic15\", \"Topic15\", \"Topic15\", \"Topic15\", \"Topic15\", \"Topic15\", \"Topic15\", \"Topic15\", \"Topic15\", \"Topic15\", \"Topic15\", \"Topic15\", \"Topic16\", \"Topic16\", \"Topic16\", \"Topic16\", \"Topic16\", \"Topic16\", \"Topic16\", \"Topic16\", \"Topic16\", \"Topic16\", \"Topic16\", \"Topic16\", \"Topic16\", \"Topic16\", \"Topic16\", \"Topic16\", \"Topic16\", \"Topic16\", \"Topic16\", \"Topic16\", \"Topic16\", \"Topic16\", \"Topic16\", \"Topic16\", \"Topic16\", \"Topic16\", \"Topic16\", \"Topic16\", \"Topic16\", \"Topic16\", \"Topic16\", \"Topic16\", \"Topic16\", \"Topic16\", \"Topic16\", \"Topic16\", \"Topic16\", \"Topic16\", \"Topic16\", \"Topic16\", \"Topic16\", \"Topic16\", \"Topic17\", \"Topic17\", \"Topic17\", \"Topic17\", \"Topic17\", \"Topic17\", \"Topic17\", \"Topic17\", \"Topic17\", \"Topic17\", \"Topic17\", \"Topic17\", \"Topic17\", \"Topic17\", \"Topic17\", \"Topic17\", \"Topic17\", \"Topic17\", \"Topic17\", \"Topic17\", \"Topic17\", \"Topic17\", \"Topic17\", \"Topic17\", \"Topic17\", \"Topic17\", \"Topic17\", \"Topic17\", \"Topic17\", \"Topic17\", \"Topic17\", \"Topic17\", \"Topic17\", \"Topic17\", \"Topic17\", \"Topic17\", \"Topic17\", \"Topic17\", \"Topic17\", \"Topic17\", \"Topic17\", \"Topic17\", \"Topic17\", \"Topic17\", \"Topic17\", \"Topic17\", \"Topic17\", \"Topic17\", \"Topic17\", \"Topic17\", \"Topic17\", \"Topic17\", \"Topic17\", \"Topic17\", \"Topic17\", \"Topic17\", \"Topic17\", \"Topic17\", \"Topic17\", \"Topic18\", \"Topic18\", \"Topic18\", \"Topic18\", \"Topic18\", \"Topic18\", \"Topic18\", \"Topic18\", \"Topic18\", \"Topic18\", \"Topic18\", \"Topic18\", \"Topic18\", \"Topic18\", \"Topic18\", \"Topic18\", \"Topic18\", \"Topic18\", \"Topic18\", \"Topic18\", \"Topic18\", \"Topic18\", \"Topic18\", \"Topic18\", \"Topic18\", \"Topic18\", \"Topic18\", \"Topic18\", \"Topic18\", \"Topic18\", \"Topic18\", \"Topic18\", \"Topic18\", \"Topic18\", \"Topic18\", \"Topic18\", \"Topic18\", \"Topic18\", \"Topic18\", \"Topic18\", \"Topic18\", \"Topic18\", \"Topic18\", \"Topic18\", \"Topic18\", \"Topic18\", \"Topic18\", \"Topic18\", \"Topic18\", \"Topic19\", \"Topic19\", \"Topic19\", \"Topic19\", \"Topic19\", \"Topic19\", \"Topic19\", \"Topic19\", \"Topic19\", \"Topic19\", \"Topic19\", \"Topic19\", \"Topic19\", \"Topic19\", \"Topic19\", \"Topic19\", \"Topic19\", \"Topic19\", \"Topic19\", \"Topic19\", \"Topic19\", \"Topic19\", \"Topic19\", \"Topic19\", \"Topic19\", \"Topic19\", \"Topic19\", \"Topic19\", \"Topic19\", \"Topic19\", \"Topic19\", \"Topic19\", \"Topic19\", \"Topic19\", \"Topic19\", \"Topic19\", \"Topic19\", \"Topic19\", \"Topic19\", \"Topic19\", \"Topic19\", \"Topic19\", \"Topic19\", \"Topic20\", \"Topic20\", \"Topic20\", \"Topic20\", \"Topic20\", \"Topic20\", \"Topic20\", \"Topic20\", \"Topic20\", \"Topic20\", \"Topic20\", \"Topic20\", \"Topic20\", \"Topic20\", \"Topic20\", \"Topic20\", \"Topic20\", \"Topic20\", \"Topic20\", \"Topic20\", \"Topic20\", \"Topic20\", \"Topic20\", \"Topic20\", \"Topic20\", \"Topic20\", \"Topic20\", \"Topic20\", \"Topic20\", \"Topic20\", \"Topic20\", \"Topic20\", \"Topic20\", \"Topic20\", \"Topic20\", \"Topic20\", \"Topic20\", \"Topic20\", \"Topic20\"], \"logprob\": [30.0, 29.0, 28.0, 27.0, 26.0, 25.0, 24.0, 23.0, 22.0, 21.0, 20.0, 19.0, 18.0, 17.0, 16.0, 15.0, 14.0, 13.0, 12.0, 11.0, 10.0, 9.0, 8.0, 7.0, 6.0, 5.0, 4.0, 3.0, 2.0, 1.0, -6.3153, -6.524, -7.1169, -7.3943, -7.4483, -7.5035, -7.585, -7.6081, -7.6393, -7.7961, -7.8233, -7.8249, -7.849, -7.901, -7.9071, -7.9116, -7.9318, -7.9736, -7.9864, -8.01, -8.0325, -8.0445, -8.0453, -8.0909, -8.0917, -8.1012, -8.1161, -8.1452, -8.1698, -8.2457, -7.3454, -7.2098, -7.1603, -7.1897, -6.6637, -7.8014, -7.273, -7.4882, -6.9058, -6.9047, -5.8641, -7.3792, -6.0053, -6.1004, -6.3242, -5.1471, -6.5794, -4.8608, -5.1766, -4.2997, -4.74, -5.5296, -5.6653, -5.5773, -5.5864, -5.5552, -4.0811, -5.4714, -5.9026, -6.3939, -4.9077, -4.7731, -5.4066, -5.2026, -4.789, -5.5311, -4.7199, -6.3627, -5.0691, -5.5204, -5.5221, -5.4402, -5.2895, -5.3701, -5.2589, -5.6168, -5.5331, -5.2093, -5.5495, -5.5968, -5.5373, -6.2685, -6.3908, -6.5481, -6.5948, -6.6506, -6.6955, -6.8509, -7.0607, -6.5024, -7.3236, -7.3668, -7.4064, -7.4545, -7.4635, -7.4829, -7.5212, -7.5402, -5.4949, -7.5756, -7.5764, -7.6173, -7.6344, -7.6491, -7.6772, -7.3462, -7.6975, -7.7101, -7.7212, -7.7285, -7.735, -5.7229, -6.9998, -5.7646, -6.8231, -5.874, -6.3917, -5.7996, -5.4945, -5.8842, -5.648, -6.3594, -6.3103, -6.8871, -5.9693, -6.418, -6.3836, -6.2202, -6.4882, -4.9845, -5.9982, -5.5268, -6.2585, -5.4101, -5.8608, -4.5638, -4.8379, -5.4972, -5.0676, -5.3605, -5.4284, -5.7976, -4.5979, -5.8871, -5.6405, -5.2505, -5.7954, -5.6257, -5.5884, -5.9341, -5.2714, -5.7839, -5.7144, -5.5108, -5.4416, -5.4311, -5.6048, -5.6943, -5.6272, -5.7468, -5.7381, -5.7005, -5.7283, -5.0608, -5.5493, -5.9627, -6.1676, -6.2377, -6.3409, -6.4342, -6.4569, -6.5708, -6.6139, -6.7113, -6.8315, -6.8484, -6.9944, -7.0247, -7.0335, -7.0336, -7.0619, -7.1081, -7.1314, -7.1429, -7.1509, -7.2085, -6.4328, -7.2993, -7.1562, -7.3204, -7.3409, -7.3714, -7.373, -6.1268, -6.2885, -5.8397, -5.7935, -5.6332, -5.4118, -5.5802, -6.6585, -5.9183, -6.3904, -5.8296, -5.6709, -5.9032, -6.4069, -4.9379, -4.7052, -5.6393, -5.896, -6.1948, -5.434, -5.9661, -6.1778, -6.2009, -4.4538, -5.7153, -5.6086, -5.9791, -5.2454, -6.021, -4.9052, -5.6903, -5.7192, -6.0949, -6.0045, -5.896, -5.9265, -5.1933, -5.3207, -5.7024, -5.7839, -5.9959, -6.0842, -6.0949, -6.1002, -6.1484, -6.3181, -6.3534, -6.3918, -6.5095, -6.5492, -6.5934, -6.6796, -6.6795, -6.696, -6.7118, -4.941, -6.7756, -6.8339, -6.8843, -6.9026, -6.905, -6.9196, -6.944, -7.0057, -7.0112, -7.0118, -6.9099, -4.6216, -5.8339, -4.8882, -4.6391, -6.3106, -4.6357, -6.5744, -4.0253, -5.3305, -5.0399, -5.6985, -4.4972, -5.5089, -5.2599, -6.1803, -5.5305, -5.1252, -4.5327, -4.8453, -5.2622, -5.6995, -5.4024, -5.6998, -4.8255, -4.8477, -5.5195, -5.6561, -5.8029, -5.6564, -5.4529, -5.0712, -5.5659, -5.6196, -5.5545, -5.5151, -5.5708, -5.6086, -5.6004, -5.3181, -5.374, -5.8583, -5.868, -5.948, -5.9482, -6.1581, -6.2379, -6.2889, -6.2929, -6.3322, -6.4212, -6.4866, -6.5356, -6.5493, -6.6138, -6.6149, -6.6334, -6.7121, -6.7178, -6.7596, -6.7605, -6.7654, -6.8176, -6.8528, -6.8628, -6.8736, -6.8763, -7.0264, -7.0415, -6.0923, -5.8654, -5.9055, -5.2507, -5.428, -4.6882, -5.4463, -5.0788, -5.4652, -5.9687, -4.2995, -5.1578, -6.095, -5.5755, -6.3179, -5.3446, -6.0033, -5.2881, -5.5903, -5.4651, -4.4989, -5.6858, -5.6271, -5.7893, -5.6686, -5.5251, -5.6184, -5.2912, -5.3387, -5.5042, -5.5383, -5.682, -5.6114, -5.5179, -5.7536, -5.7816, -3.8785, -5.4847, -5.4968, -5.5008, -5.567, -5.6675, -5.7479, -5.8014, -5.8424, -5.9385, -5.954, -5.9553, -6.0982, -6.1982, -6.3317, -6.3673, -6.4761, -6.5405, -6.5457, -6.5658, -6.5917, -6.62, -6.6483, -6.6592, -6.6781, -6.686, -6.6862, -6.8339, -6.8412, -6.8673, -4.4385, -6.3769, -6.5625, -4.4184, -5.9149, -6.0119, -5.5599, -5.9695, -5.1568, -5.1536, -5.3984, -5.3351, -5.593, -6.1184, -4.8179, -5.1044, -5.6027, -5.4767, -5.2577, -5.5003, -5.7083, -5.4425, -5.6956, -5.5614, -5.6347, -5.6139, -5.6434, -5.5905, -5.7732, -6.4174, -6.457, -6.6424, -6.6584, -6.7096, -6.7311, -6.8013, -6.9508, -6.9515, -6.9959, -7.0468, -7.0685, -7.0869, -7.0877, -7.1242, -7.1555, -7.1668, -7.1944, -5.6638, -7.3892, -7.4147, -7.4627, -7.4604, -7.4813, -7.483, -7.4964, -7.5337, -7.5592, -7.6131, -7.6613, -4.7714, -4.8246, -6.5423, -6.1983, -5.5801, -6.042, -7.3046, -4.0878, -5.9598, -4.4355, -5.489, -6.6704, -4.802, -5.0162, -4.4614, -4.0966, -5.2385, -4.7248, -5.3179, -5.7476, -5.5748, -5.8921, -5.6278, -5.0251, -4.9288, -5.2593, -4.5852, -5.6956, -5.4081, -5.562, -5.1009, -4.7925, -5.3637, -5.571, -5.419, -5.3744, -5.2633, -4.9313, -5.3256, -5.2891, -5.4647, -5.5355, -5.5098, -5.5224, -5.5284, -4.3235, -4.957, -3.7545, -5.6111, -5.6158, -5.7695, -6.0436, -6.1832, -6.239, -6.292, -6.2929, -6.3177, -6.3222, -6.3565, -6.3849, -6.3873, -6.4529, -6.4539, -6.4843, -6.5036, -6.5289, -6.5777, -6.6556, -6.6953, -6.7356, -6.7879, -6.8033, -6.8126, -5.0367, -4.0972, -5.2786, -4.8909, -6.0441, -5.1387, -4.6931, -4.3392, -5.2282, -5.8708, -4.8373, -5.3152, -5.2887, -4.9729, -5.0777, -4.7598, -5.1199, -4.3253, -5.2683, -4.7136, -5.2325, -5.4631, -4.3877, -4.6065, -5.2277, -4.7213, -5.249, -4.7467, -4.8756, -4.5861, -5.0729, -5.005, -4.8933, -5.18, -4.5097, -3.8535, -4.6615, -4.6953, -4.9978, -5.3027, -5.6053, -5.6756, -5.8109, -5.9155, -5.9192, -5.9811, -6.0422, -6.0435, -6.074, -6.1588, -6.1819, -6.1837, -6.2158, -6.2179, -4.687, -6.386, -6.4061, -6.4843, -6.485, -6.5205, -6.5816, -6.5843, -6.5958, -6.6059, -3.971, -6.2563, -4.317, -6.0974, -6.1004, -5.1323, -5.8381, -5.4925, -5.8197, -5.9633, -5.6235, -4.7505, -5.5712, -4.1508, -5.443, -5.53, -5.5984, -5.6868, -4.7546, -5.4049, -5.799, -5.5457, -5.5397, -5.5638, -5.0119, -5.4138, -5.477, -5.7433, -5.6832, -5.6571, -5.683, -4.0307, -4.3188, -4.8477, -5.0303, -5.1184, -5.3034, -5.3104, -5.6949, -5.7223, -5.8361, -5.936, -6.0406, -6.0769, -6.1779, -6.2537, -6.3342, -6.3972, -6.4409, -6.5008, -6.6032, -6.6169, -6.6917, -6.7915, -6.8092, -6.8362, -6.8742, -6.9509, -6.9987, -6.0754, -7.0118, -4.8874, -5.4584, -4.2928, -4.8061, -4.658, -6.5242, -4.105, -5.6673, -4.4858, -5.3993, -5.2793, -5.1578, -4.7658, -5.4012, -5.5984, -5.4173, -4.7451, -4.6607, -5.1275, -4.6116, -5.3718, -4.9472, -5.0481, -5.4644, -5.0432, -5.4606, -5.4184, -5.3434, -5.4105, -4.9734, -5.7445, -5.7614, -5.9357, -5.9729, -6.0999, -6.2867, -6.3432, -6.3996, -6.4592, -6.477, -6.5087, -4.5913, -6.7188, -6.7431, -6.7563, -6.7608, -6.7658, -6.7942, -6.8064, -6.8453, -6.8888, -6.9195, -6.9737, -6.9888, -7.0147, -7.0153, -7.0264, -7.0526, -7.0816, -3.7199, -6.4691, -6.5218, -6.1873, -5.2716, -5.5182, -5.6798, -5.652, -5.2296, -4.949, -4.9155, -5.9298, -5.0642, -5.8558, -5.6735, -5.4851, -5.6335, -5.2693, -5.8818, -5.0077, -5.7115, -4.5137, -5.5044, -5.0722, -5.202, -5.5922, -5.3272, -4.5507, -4.7914, -5.3889, -5.2681, -4.7627, -5.0566, -5.1162, -5.0482, -5.4483, -5.4326, -5.445, -5.5627, -5.4353, -5.4657, -4.7661, -5.1811, -5.3771, -5.4454, -5.535, -5.5764, -5.5858, -5.6056, -5.7333, -5.7383, -5.7816, -5.8127, -5.9131, -6.2289, -6.4298, -6.4423, -6.5058, -6.5182, -6.5505, -6.583, -6.6292, -6.7527, -6.7989, -6.8237, -4.1775, -6.8848, -6.9186, -6.9304, -6.9307, -6.9619, -5.2022, -5.5075, -5.2838, -5.0975, -3.963, -5.2362, -5.2818, -5.6307, -4.7763, -5.3488, -5.4616, -5.6916, -5.5311, -5.2257, -4.158, -5.4006, -4.4042, -4.5709, -5.0634, -4.5859, -4.737, -5.26, -4.9813, -4.9678, -5.1688, -5.3009, -5.1678, -5.0279, -5.3079, -5.3884, -5.3126, -5.3641, -5.365, -3.7041, -4.1666, -4.4631, -4.818, -5.2331, -5.28, -5.3106, -5.3226, -5.7248, -5.7448, -5.6812, -5.8419, -5.8485, -5.8733, -5.952, -5.9562, -6.0625, -6.0754, -6.0895, -6.0874, -6.1329, -6.161, -6.1726, -6.1769, -6.1883, -6.2035, -6.258, -6.2618, -6.2796, -6.3264, -4.5956, -4.6204, -4.7231, -5.3105, -4.5719, -4.7457, -3.6564, -4.8958, -3.9817, -5.5444, -5.6743, -5.505, -4.2671, -5.0465, -4.7476, -4.6629, -5.1525, -4.917, -5.5204, -5.1647, -5.3562, -5.3343, -5.4709, -5.1788, -5.4295, -5.451, -4.8785, -5.1886, -5.1955, -5.2027, -5.3281, -5.4442, -5.4975, -4.1568, -5.7631, -3.9941, -5.7841, -5.8114, -5.867, -5.9629, -6.044, -6.116, -6.1258, -6.1758, -6.1934, -6.2477, -6.2519, -6.2626, -6.293, -6.3114, -6.3623, -6.4187, -6.4256, -6.456, -6.4875, -6.5813, -5.5068, -5.2766, -4.1531, -4.9599, -4.6413, -5.0981, -4.3616, -5.1479, -5.603, -4.5127, -5.4903, -4.8404, -4.2926, -4.6714, -5.3593, -5.8403, -5.3822, -4.9434, -4.878, -5.0549, -5.0919, -4.7393, -4.9649, -4.6502, -5.1456, -5.2687, -5.1425, -5.1966, -5.1061, -5.0692, -5.195, -5.257, -5.3476, -5.3607, -5.5805, -5.6788, -5.7398, -5.9505, -5.9597, -5.9656, -6.0098, -6.061, -6.0937, -6.1289, -6.1433, -6.1554, -6.1768, -6.2496, -6.2683, -6.2763, -6.2776, -6.2983, -6.3364, -6.3368, -6.3757, -6.3868, -6.401, -6.4021, -6.5106, -6.5408, -6.5664, -6.5821, -6.1564, -5.9181, -4.715, -5.1853, -5.9337, -5.2858, -5.8081, -4.5965, -5.5047, -5.9663, -5.2713, -5.3438, -6.0883, -5.8654, -5.2608, -5.2056, -5.8132, -6.0285, -5.7638, -6.0062, -5.6062, -5.6726, -5.8381, -5.509, -5.6521, -5.7126, -5.7807, -5.7352, -5.867, -5.9479, -4.8449, -5.1239, -5.1599, -5.1978, -5.2781, -5.4075, -5.4209, -5.3758, -5.4959, -5.5063, -5.632, -5.6934, -5.6971, -5.7087, -5.7327, -5.7591, -5.7962, -5.8117, -5.8519, -5.8656, -5.8999, -5.9232, -5.9238, -5.9421, -5.9557, -5.9633, -5.966, -6.0071, -6.01, -6.036, -4.8642, -5.6098, -4.7179, -5.7909, -5.6276, -4.8657, -5.1224, -5.5391, -5.7054, -5.7456, -5.7479, -5.8362, -4.4954, -4.6771, -4.9391, -5.3832, -5.5324, -5.6419, -5.6714, -5.6957, -5.7542, -5.7596, -5.8297, -5.8411, -5.8585, -5.8894, -5.8935, -5.9247, -5.9339, -5.9402, -5.9902, -6.0037, -6.0175, -6.0178, -6.0185, -6.0192, -6.0237, -6.0479, -6.0784, -6.0793, -6.0919, -6.1012, -5.5287, -5.8658, -4.5848, -5.5188, -3.5015, -5.5522, -5.0719, -5.0849, -5.2317, -5.0625, -4.9697, -5.0005, -4.5975, -4.093, -5.3408, -5.5029, -5.0178, -4.1008, -5.2831, -5.4357, -5.2943, -5.2477, -4.9476, -4.7734, -5.2949, -5.3107, -5.0383, -5.4415, -5.4886, -5.2737, -5.465, -5.4914, -5.5023, -5.5179, -5.5933, -5.5998, -5.6374, -5.6446, -5.6502, -5.7566, -5.773, -5.8142, -5.8268, -5.8541, -5.8591, -5.9156, -5.9284, -5.9537, -5.9703, -5.299, -6.0061, -6.0215, -6.0312, -6.0469, -6.0488, -6.0705, -6.0755, -6.0804, -6.0969, -4.9509, -5.5272, -5.8743, -5.8797, -5.2801, -4.6701, -4.4831, -4.9177, -5.5981, -5.016, -5.3359, -5.4808, -5.4729, -5.7099, -5.3925, -5.6229, -5.5733, -5.7638, -5.8131, -4.8879, -5.0831, -5.1375, -5.2378, -5.4128, -5.4761, -5.5161, -5.5227, -5.5774, -5.5927, -5.6038, -5.6162, -5.7156, -5.7196, -5.7678, -5.7894, -5.8059, -5.8767, -5.8896, -5.9023, -5.9033, -5.9166, -5.9202, -5.9611, -5.9806, -5.985, -6.0048, -6.0312, -6.0356, -6.0556, -5.5186, -5.4955, -5.238, -5.7711, -4.7522, -4.4031, -5.5308, -5.6031, -5.4617, -5.4423, -5.6858, -5.4914, -5.7113, -4.6245, -4.8719, -5.0105, -5.0418, -4.9549, -5.1621, -5.2896, -5.3166, -5.394, -5.4627, -5.4732, -5.58, -5.5842, -5.6357, -5.636, -5.6868, -5.715, -5.7237, -5.8026, -5.8085, -5.3086, -5.8395, -5.9066, -5.9597, -5.9956, -5.9988, -6.0495, -6.0736, -6.0771, -6.088, -5.2643, -5.0633, -4.8009, -5.5844, -5.282, -4.9962, -5.2196, -5.7943, -5.7599], \"loglift\": [30.0, 29.0, 28.0, 27.0, 26.0, 25.0, 24.0, 23.0, 22.0, 21.0, 20.0, 19.0, 18.0, 17.0, 16.0, 15.0, 14.0, 13.0, 12.0, 11.0, 10.0, 9.0, 8.0, 7.0, 6.0, 5.0, 4.0, 3.0, 2.0, 1.0, 1.5618, 1.5612, 1.5587, 1.5569, 1.5564, 1.556, 1.5553, 1.5551, 1.5548, 1.5532, 1.5529, 1.5529, 1.5526, 1.552, 1.5519, 1.5518, 1.5516, 1.551, 1.5509, 1.5506, 1.5502, 1.5501, 1.5501, 1.5494, 1.5494, 1.5493, 1.549, 1.5486, 1.5482, 1.5469, 1.5451, 1.5306, 1.5285, 1.5245, 1.505, 1.5383, 1.5032, 1.5155, 1.4704, 1.4675, 1.3828, 1.501, 1.378, 1.3814, 1.3945, 1.2704, 1.4137, 1.2001, 1.2305, 1.1196, 1.156, 1.242, 1.2562, 1.2206, 1.2158, 1.1882, 0.9071, 1.1625, 1.234, 1.3328, 0.9666, 0.9309, 1.0797, 1.0258, 0.9061, 1.0922, 0.8376, 1.3055, 0.8161, 0.9863, 0.9386, 0.8929, 0.8037, 0.8203, 0.7127, 0.9778, 0.8029, 0.3602, 0.7522, 0.7102, -0.1529, 1.9518, 1.9513, 1.9506, 1.9504, 1.9501, 1.9499, 1.949, 1.9475, 1.9465, 1.9451, 1.9447, 1.9442, 1.9437, 1.9436, 1.9434, 1.9429, 1.9427, 1.9425, 1.9422, 1.9422, 1.9416, 1.9414, 1.9411, 1.9408, 1.9407, 1.9405, 1.9403, 1.9401, 1.94, 1.9399, 1.936, 1.9324, 1.9022, 1.9204, 1.8909, 1.9051, 1.8808, 1.8484, 1.8578, 1.7908, 1.8481, 1.8438, 1.8836, 1.7881, 1.8359, 1.8002, 1.7716, 1.8089, 1.5241, 1.6943, 1.5051, 1.7, 1.4107, 1.5081, 0.8205, 0.8572, 1.23, 0.9623, 1.1423, 1.1118, 1.3411, 0.3902, 1.4049, 1.1591, 0.7211, 1.2658, 1.0598, 0.9981, 1.3572, 0.2861, 1.0839, 0.9403, 0.3744, 0.1279, -0.0119, 0.4885, 0.8065, 0.2688, 0.9459, 0.595, 0.0034, 0.3326, 2.2441, 2.2435, 2.2424, 2.2415, 2.2412, 2.2407, 2.2402, 2.2401, 2.2394, 2.2391, 2.2384, 2.2375, 2.2373, 2.236, 2.2357, 2.2356, 2.2356, 2.2353, 2.2348, 2.2346, 2.2344, 2.2344, 2.2337, 2.2331, 2.2325, 2.2325, 2.2322, 2.232, 2.2315, 2.2315, 2.2227, 2.2208, 2.2159, 2.1944, 2.1843, 2.1742, 2.1727, 2.1946, 2.1245, 2.1681, 2.1073, 2.089, 2.1082, 2.1605, 1.9515, 1.9191, 2.0302, 2.0696, 2.1043, 1.9049, 2.006, 2.0764, 2.0811, 0.9305, 1.652, 1.5263, 1.8384, 0.9449, 1.8234, 0.083, 1.2462, 0.9566, 1.8295, 1.3507, 0.1339, -0.0413, 2.4372, 2.4369, 2.4359, 2.4356, 2.4347, 2.4343, 2.4343, 2.4343, 2.434, 2.4331, 2.4328, 2.4326, 2.4318, 2.4315, 2.4311, 2.4304, 2.4303, 2.4303, 2.4301, 2.4298, 2.4295, 2.429, 2.4284, 2.4282, 2.4282, 2.4281, 2.4278, 2.4271, 2.427, 2.427, 2.4265, 2.3869, 2.4055, 2.3328, 2.2822, 2.3877, 2.2527, 2.4021, 2.1692, 2.2933, 2.2224, 2.2969, 2.1017, 2.2378, 2.1808, 2.3137, 2.1525, 2.0427, 1.8346, 1.9253, 2.0099, 2.1175, 1.97, 2.1081, 1.5937, 1.5701, 1.9912, 1.9497, 2.1105, 1.8506, 1.3978, 0.4984, 1.5773, 1.7272, 1.0172, -0.0958, 0.5889, 1.0196, 0.7066, 2.632, 2.6319, 2.6301, 2.63, 2.6296, 2.6296, 2.6284, 2.6279, 2.6275, 2.6275, 2.6272, 2.6265, 2.626, 2.6255, 2.6254, 2.6248, 2.6248, 2.6246, 2.6238, 2.6237, 2.6232, 2.6232, 2.6232, 2.6225, 2.6221, 2.622, 2.6218, 2.6218, 2.6197, 2.6195, 2.5564, 2.5245, 2.524, 2.3433, 2.3575, 2.2138, 2.3509, 2.2638, 2.3412, 2.4288, 1.927, 2.1801, 2.4243, 2.2174, 2.5056, 2.0027, 2.3283, 1.8934, 1.962, 1.8518, 0.8854, 1.861, 1.7734, 1.9535, 1.7267, 1.2655, 1.3899, 0.2662, 0.3653, 0.5265, 0.3359, 0.9882, 0.3603, -0.5297, 1.4042, 1.1408, 2.7248, 2.7219, 2.7219, 2.7219, 2.7216, 2.7212, 2.7209, 2.7206, 2.7204, 2.7199, 2.7198, 2.7197, 2.719, 2.7183, 2.7173, 2.717, 2.716, 2.7154, 2.7153, 2.7151, 2.7148, 2.7145, 2.7142, 2.7141, 2.7139, 2.7138, 2.7138, 2.7119, 2.7118, 2.7115, 2.7095, 2.7039, 2.6946, 2.552, 2.644, 2.653, 2.6002, 2.6203, 2.4409, 2.3474, 2.3257, 2.2182, 2.2109, 2.4847, 1.5494, 1.6861, 2.0627, 1.7947, 1.3139, 1.4631, 1.739, 0.9644, 1.5333, 0.6331, 1.0355, 0.8797, 0.8594, 0.4402, 1.4072, 2.768, 2.7676, 2.7656, 2.7654, 2.7648, 2.7645, 2.7636, 2.7614, 2.7614, 2.7604, 2.7598, 2.7595, 2.7591, 2.7591, 2.7582, 2.7578, 2.7576, 2.757, 2.7564, 2.7528, 2.7522, 2.7509, 2.7509, 2.7504, 2.7504, 2.75, 2.749, 2.7483, 2.7467, 2.7452, 2.7403, 2.7378, 2.7302, 2.7192, 2.6669, 2.6798, 2.738, 2.4628, 2.6076, 2.4465, 2.5228, 2.667, 2.405, 2.4233, 2.3038, 2.2289, 2.4172, 2.2884, 2.381, 2.4548, 2.3968, 2.4495, 2.366, 2.174, 2.0865, 2.1939, 1.834, 2.327, 2.1596, 2.2071, 1.9048, 1.5907, 1.9244, 2.1113, 1.9093, 1.837, 1.4069, 0.6382, 1.2461, 0.8358, 1.4987, 1.9561, 1.2608, 1.4692, 1.1307, 3.0265, 3.0252, 3.0238, 3.0226, 3.0226, 3.0217, 3.0197, 3.0181, 3.0179, 3.0173, 3.0173, 3.0171, 3.017, 3.0166, 3.0163, 3.0163, 3.0155, 3.0155, 3.0151, 3.0148, 3.0145, 3.0138, 3.0127, 3.0121, 3.0114, 3.0105, 3.0103, 3.0101, 3.0093, 3.0088, 2.9938, 2.9665, 2.994, 2.9548, 2.9018, 2.8773, 2.9129, 2.959, 2.8616, 2.881, 2.8669, 2.7554, 2.7402, 2.6625, 2.7338, 2.2597, 2.6178, 2.3186, 2.5081, 2.5009, 1.7372, 1.7295, 2.258, 1.662, 2.2528, 1.5943, 1.7233, 0.9713, 1.9425, 1.302, 0.0949, 1.1217, 3.1573, 3.1573, 3.157, 3.1569, 3.156, 3.1548, 3.1532, 3.1527, 3.1518, 3.151, 3.1509, 3.1504, 3.1498, 3.1498, 3.1495, 3.1487, 3.1484, 3.1484, 3.148, 3.148, 3.148, 3.1459, 3.1457, 3.1446, 3.1446, 3.144, 3.1431, 3.143, 3.1428, 3.1427, 3.1268, 3.1363, 3.0734, 3.1173, 3.1168, 3.0155, 3.066, 2.9744, 3.0317, 3.0587, 2.9627, 2.6124, 2.8969, 2.2562, 2.7531, 2.8013, 2.7812, 2.8052, 1.7617, 2.3506, 2.7967, 2.3466, 2.3314, 2.3256, 1.0189, 1.4413, 0.419, 2.4603, 1.6398, 0.9768, 1.1702, 3.4675, 3.4669, 3.4653, 3.4645, 3.4641, 3.4631, 3.463, 3.4601, 3.4599, 3.4587, 3.4576, 3.4563, 3.4559, 3.4545, 3.4533, 3.452, 3.4509, 3.45, 3.4489, 3.4467, 3.4464, 3.4446, 3.4421, 3.4416, 3.4409, 3.4398, 3.4375, 3.4359, 3.4359, 3.4355, 3.4276, 3.4324, 3.386, 3.3056, 3.2731, 3.4148, 3.1454, 3.3181, 3.0529, 3.1681, 3.1163, 3.0176, 2.8122, 3.0318, 3.0181, 2.7844, 2.1914, 1.9635, 2.364, 1.5133, 2.4988, 1.6244, 1.4455, 2.6259, 1.1164, 2.3875, 2.0177, 0.9822, 1.8776, 3.7111, 3.7045, 3.7043, 3.702, 3.7014, 3.6993, 3.6958, 3.6945, 3.6933, 3.6918, 3.6914, 3.6906, 3.6854, 3.6845, 3.6837, 3.6833, 3.6831, 3.683, 3.682, 3.6816, 3.6802, 3.6786, 3.6775, 3.6753, 3.6747, 3.6736, 3.6736, 3.6731, 3.672, 3.6707, 3.6176, 3.6364, 3.6311, 3.5832, 3.4696, 3.4398, 3.4363, 3.4127, 3.2907, 3.1825, 3.0493, 3.386, 2.8901, 3.2566, 3.1654, 3.0459, 3.1037, 2.8781, 3.2373, 2.4993, 3.0371, 1.9726, 2.8211, 2.3807, 2.4776, 2.8983, 2.4788, 1.1444, 1.4351, 2.3826, 2.0912, 0.7947, 1.2451, 1.2511, 0.3362, 2.2245, 2.0231, 1.9222, 2.6617, 0.8978, 1.1729, 3.9066, 3.9037, 3.9018, 3.9011, 3.9001, 3.8995, 3.8994, 3.8992, 3.8974, 3.8973, 3.8967, 3.8962, 3.8945, 3.888, 3.8827, 3.8823, 3.8804, 3.88, 3.8789, 3.8779, 3.8763, 3.8716, 3.8697, 3.8687, 3.8668, 3.866, 3.8645, 3.8639, 3.8639, 3.8624, 3.8588, 3.8558, 3.831, 3.8167, 3.7584, 3.7736, 3.7687, 3.7654, 3.6729, 3.7263, 3.6948, 3.6939, 3.6407, 3.5206, 3.1703, 3.5205, 3.0423, 2.9925, 3.3025, 2.8794, 2.8563, 3.3582, 2.9895, 2.8138, 3.1123, 3.2542, 2.7186, 2.2938, 3.1286, 3.2964, 2.5234, 2.8109, 1.1082, 3.9305, 3.9291, 3.9282, 3.9264, 3.9233, 3.9228, 3.9225, 3.9224, 3.9175, 3.9172, 3.9157, 3.9156, 3.9155, 3.9151, 3.9137, 3.9136, 3.9115, 3.9113, 3.911, 3.9108, 3.91, 3.9094, 3.9091, 3.909, 3.9087, 3.9084, 3.9071, 3.907, 3.9065, 3.9053, 3.9037, 3.834, 3.8298, 3.8444, 3.7753, 3.7584, 3.6183, 3.7409, 3.4136, 3.7362, 3.7693, 3.6659, 3.0881, 3.4458, 3.2068, 2.9557, 3.295, 2.9188, 3.3995, 2.7708, 2.9863, 2.7872, 3.0165, 1.5067, 2.7811, 2.0143, 4.0268, 4.0243, 4.0242, 4.0231, 4.0228, 4.0214, 4.0208, 4.0191, 4.0168, 4.0166, 4.0164, 4.0159, 4.0149, 4.013, 4.0112, 4.0095, 4.0093, 4.008, 4.0075, 4.0061, 4.006, 4.0057, 4.0048, 4.0043, 4.0028, 4.001, 4.0008, 3.9998, 3.9981, 3.9953, 3.9582, 3.94, 3.7381, 3.8291, 3.7749, 3.8139, 3.6483, 3.7963, 3.849, 3.5095, 3.7211, 3.3886, 3.0772, 3.223, 3.5128, 3.8284, 3.3817, 2.8425, 2.5391, 2.7561, 2.7824, 2.1158, 2.4664, 1.5095, 2.7784, 3.0778, 2.565, 2.7272, 1.9071, 1.314, 1.5582, 0.639, 4.2559, 4.2557, 4.2521, 4.2503, 4.249, 4.2441, 4.2439, 4.2437, 4.2425, 4.2411, 4.2401, 4.2391, 4.2386, 4.2382, 4.2375, 4.2351, 4.2343, 4.2342, 4.2341, 4.2334, 4.232, 4.232, 4.2305, 4.23, 4.2295, 4.2294, 4.2247, 4.2235, 4.2223, 4.2215, 4.2165, 4.1967, 3.9622, 4.0324, 4.1157, 3.8009, 4.0037, 3.324, 3.777, 4.013, 3.4039, 3.3584, 4.0248, 3.7604, 3.0146, 2.8924, 3.5751, 3.9424, 3.1498, 3.7955, 2.3646, 2.6116, 3.0752, 1.4817, 1.8133, 2.0933, 2.3947, 1.9267, 2.0355, 2.7288, 4.5364, 4.5327, 4.5322, 4.5315, 4.5302, 4.5277, 4.5275, 4.5273, 4.5259, 4.5257, 4.5227, 4.5211, 4.521, 4.5207, 4.5201, 4.5193, 4.5183, 4.5178, 4.5166, 4.5161, 4.5151, 4.5143, 4.5143, 4.5137, 4.5132, 4.5129, 4.5128, 4.5114, 4.5113, 4.5103, 4.4553, 4.4307, 3.5424, 4.2603, 3.9295, 2.5621, 2.6238, 3.592, 3.7983, 3.4362, 1.9481, 3.5369, 4.5988, 4.5971, 4.594, 4.5866, 4.5832, 4.5804, 4.5796, 4.579, 4.5773, 4.5771, 4.5749, 4.5746, 4.574, 4.573, 4.5728, 4.5717, 4.5714, 4.5712, 4.5694, 4.5689, 4.5683, 4.5683, 4.5683, 4.5683, 4.5681, 4.5671, 4.5659, 4.5659, 4.5654, 4.565, 4.5139, 4.5374, 4.3627, 4.4856, 4.0814, 4.4463, 4.2951, 4.2776, 4.3004, 4.2136, 4.0124, 3.9948, 3.6421, 3.27, 4.1584, 4.2101, 3.7254, 2.6524, 3.7737, 3.8912, 3.5954, 3.4508, 2.6932, 2.0798, 3.0847, 2.9674, 0.9924, 3.4336, 3.114, 4.7173, 4.7149, 4.7142, 4.7139, 4.7135, 4.7114, 4.7112, 4.7101, 4.7098, 4.7097, 4.7062, 4.7057, 4.7042, 4.7038, 4.7027, 4.7026, 4.7004, 4.6999, 4.6988, 4.6981, 4.6972, 4.6966, 4.6959, 4.6955, 4.6948, 4.6947, 4.6937, 4.6935, 4.6933, 4.6925, 4.6389, 4.5693, 4.6101, 4.608, 4.2501, 3.834, 3.6437, 3.6393, 4.1678, 3.2893, 3.7602, 3.6724, 3.5354, 3.7708, 2.0426, 2.6593, 2.1403, 3.4255, 3.858, 4.9554, 4.9514, 4.9502, 4.9477, 4.9428, 4.9408, 4.9394, 4.9392, 4.9373, 4.9367, 4.9363, 4.9359, 4.932, 4.9318, 4.9298, 4.9288, 4.9281, 4.9248, 4.9242, 4.9236, 4.9235, 4.9229, 4.9227, 4.9206, 4.9196, 4.9193, 4.9183, 4.9168, 4.9166, 4.9155, 4.8471, 4.7847, 4.7182, 4.8372, 4.3427, 4.0866, 4.5046, 4.5747, 4.3556, 4.1625, 4.4905, 3.1535, 3.0384, 5.7954, 5.7861, 5.7799, 5.7784, 5.7782, 5.7721, 5.7646, 5.7629, 5.7577, 5.7528, 5.752, 5.7437, 5.7434, 5.739, 5.739, 5.7345, 5.732, 5.7311, 5.7235, 5.7229, 5.7228, 5.7198, 5.7115, 5.7066, 5.7024, 5.702, 5.6958, 5.6928, 5.6923, 5.6909, 5.661, 5.6432, 5.5025, 5.6064, 5.4045, 4.585, 4.5211, 5.1912, 2.4152]}, \"token.table\": {\"Topic\": [7, 1, 2, 1, 3, 4, 7, 8, 10, 14, 20, 8, 8, 2, 3, 6, 7, 8, 11, 18, 19, 7, 8, 3, 7, 10, 11, 12, 1, 2, 4, 5, 8, 9, 1, 3, 8, 3, 7, 10, 12, 11, 12, 18, 20, 11, 6, 7, 10, 7, 11, 1, 2, 5, 2, 1, 2, 3, 4, 5, 6, 7, 8, 9, 10, 11, 12, 13, 14, 1, 5, 18, 3, 1, 2, 3, 6, 7, 9, 10, 11, 12, 13, 20, 1, 2, 3, 4, 5, 7, 9, 11, 12, 10, 17, 14, 14, 17, 15, 13, 6, 7, 12, 15, 18, 7, 4, 6, 7, 10, 3, 16, 2, 3, 5, 1, 2, 3, 4, 5, 7, 8, 9, 1, 2, 3, 5, 8, 9, 5, 2, 3, 4, 6, 9, 10, 18, 11, 4, 6, 8, 2, 3, 4, 6, 12, 3, 4, 6, 7, 9, 10, 11, 12, 13, 15, 18, 3, 3, 18, 4, 6, 7, 13, 16, 13, 1, 2, 3, 4, 6, 3, 13, 5, 13, 5, 13, 5, 13, 3, 5, 11, 3, 5, 7, 13, 1, 2, 3, 4, 5, 6, 8, 9, 11, 2, 13, 1, 2, 3, 5, 11, 14, 3, 10, 2, 2, 8, 2, 1, 2, 3, 5, 13, 6, 8, 14, 15, 1, 19, 7, 7, 1, 1, 3, 4, 6, 7, 8, 10, 11, 12, 15, 5, 5, 5, 5, 5, 15, 1, 2, 3, 4, 5, 6, 8, 9, 10, 11, 5, 9, 15, 9, 16, 14, 8, 9, 10, 12, 9, 1, 2, 3, 4, 6, 7, 8, 9, 3, 18, 1, 14, 16, 2, 19, 2, 2, 1, 2, 3, 5, 8, 9, 11, 2, 1, 2, 3, 4, 6, 7, 8, 9, 14, 12, 1, 2, 3, 4, 6, 8, 9, 2, 5, 2, 1, 1, 20, 1, 1, 8, 3, 7, 4, 6, 8, 10, 1, 2, 3, 4, 5, 6, 14, 15, 16, 18, 19, 2, 5, 7, 8, 11, 16, 8, 15, 14, 7, 9, 13, 17, 1, 9, 9, 19, 10, 11, 17, 12, 6, 7, 9, 11, 12, 17, 1, 11, 1, 4, 6, 10, 11, 15, 5, 3, 10, 11, 6, 8, 1, 6, 8, 18, 12, 20, 9, 17, 1, 2, 3, 4, 5, 6, 7, 8, 9, 10, 1, 2, 4, 5, 8, 9, 11, 14, 3, 6, 19, 20, 1, 12, 13, 15, 16, 16, 12, 2, 1, 2, 3, 4, 5, 6, 8, 10, 16, 11, 8, 18, 3, 8, 9, 1, 18, 1, 2, 3, 4, 6, 8, 10, 14, 9, 18, 20, 2, 5, 10, 3, 5, 6, 7, 9, 12, 7, 12, 8, 20, 17, 9, 10, 14, 6, 4, 6, 14, 12, 1, 8, 1, 2, 3, 4, 6, 7, 8, 9, 1, 4, 8, 14, 16, 1, 3, 9, 12, 17, 3, 4, 5, 12, 8, 10, 8, 10, 2, 5, 2, 5, 18, 2, 2, 5, 11, 2, 5, 10, 13, 1, 2, 7, 19, 14, 1, 3, 5, 11, 15, 16, 3, 3, 10, 12, 1, 3, 5, 7, 9, 12, 16, 16, 3, 5, 3, 1, 2, 3, 10, 13, 9, 20, 4, 4, 12, 3, 10, 11, 10, 8, 12, 8, 9, 15, 2, 3, 4, 6, 7, 10, 17, 1, 9, 12, 15, 2, 4, 6, 8, 14, 6, 16, 1, 2, 3, 4, 5, 8, 9, 11, 18, 18, 18, 15, 16, 3, 6, 7, 8, 10, 14, 4, 7, 6, 20, 7, 7, 1, 2, 6, 7, 8, 10, 14, 2, 2, 1, 2, 3, 5, 14, 15, 6, 18, 19, 5, 13, 15, 8, 3, 10, 11, 8, 7, 3, 3, 15, 1, 4, 5, 6, 7, 9, 11, 12, 14, 15, 16, 6, 2, 4, 11, 1, 2, 3, 5, 6, 9, 11, 4, 1, 3, 4, 6, 7, 8, 12, 14, 15, 8, 14, 4, 1, 1, 2, 3, 4, 7, 18, 19, 1, 2, 3, 4, 6, 7, 8, 14, 18, 16, 1, 2, 3, 4, 5, 8, 9, 10, 12, 3, 10, 1, 3, 5, 6, 11, 1, 3, 4, 5, 8, 9, 11, 11, 3, 10, 17, 1, 2, 3, 5, 7, 12, 13, 18, 10, 1, 3, 15, 3, 3, 5, 10, 13, 3, 1, 2, 5, 6, 19, 20, 3, 13, 13, 10, 3, 7, 10, 13, 13, 13, 17, 1, 2, 3, 4, 5, 6, 7, 8, 10, 12, 14, 1, 15, 5, 10, 16, 18, 4, 6, 7, 8, 10, 15, 5, 1, 3, 5, 8, 18, 2, 3, 5, 14, 16, 1, 20, 10, 13, 3, 4, 8, 9, 11, 4, 10, 3, 6, 7, 10, 11, 12, 14, 3, 7, 12, 18, 19, 6, 9, 17, 9, 13, 11, 14, 8, 16, 2, 3, 5, 2, 1, 2, 3, 4, 5, 6, 8, 11, 7, 17, 4, 7, 10, 7, 2, 12, 2, 12, 4, 8, 10, 4, 14, 20, 3, 7, 9, 12, 13, 16, 1, 2, 5, 12, 11, 3, 6, 19, 12, 20, 4, 7, 9, 18, 19, 1, 8, 1, 3, 4, 8, 17, 1, 3, 4, 8, 8, 3, 10, 12, 15, 2, 5, 6, 11, 5, 3, 5, 6, 13, 16, 1, 3, 11, 14, 3, 5, 6, 7, 11, 12, 12, 4, 7, 10, 14, 4, 6, 7, 8, 14, 18, 19, 18, 10, 10, 10, 3, 10, 11, 1, 6, 6, 7, 15, 1, 2, 3, 4, 5, 9, 10, 4, 9, 6, 9, 19, 15, 20, 10, 10, 9, 8, 1, 3, 4, 7, 9, 13, 1, 2, 3, 4, 5, 8, 9, 10, 2, 3, 1, 2, 6, 7, 9, 14, 15, 14, 1, 2, 4, 6, 8, 10, 18, 2, 3, 6, 14, 4, 10, 19, 17, 1, 2, 3, 5, 9, 10, 11, 1, 3, 5, 7, 9, 15, 2, 5, 2, 9, 13, 5, 3, 10, 3, 4, 6, 7, 10, 13, 6, 4, 7, 10, 9, 2, 1, 2, 3, 4, 5, 7, 8, 10, 3, 3, 1, 2, 3, 4, 5, 6, 7, 8, 9, 10, 11, 13, 17, 18, 1, 2, 5, 9, 16, 17, 11, 18, 6, 15, 18, 11, 14, 6, 8, 10, 19, 9, 17, 1, 2, 3, 8, 4, 4, 4, 7, 8, 20, 11, 3, 4, 7, 13, 9, 1, 2, 3, 10, 1, 5, 7, 9, 13, 1, 11, 12, 17, 8, 9, 9, 14, 17, 3, 9, 12, 16, 19, 3, 1, 2, 5, 13, 3, 7, 9, 11, 7, 3, 6, 7, 13, 3, 7, 13, 1, 2, 3, 4, 8, 9, 11, 4, 15, 18, 20, 1, 3, 9, 10, 17, 3, 6, 9, 11, 17, 2, 1, 2, 3, 5, 8, 9, 10, 11, 1, 5, 9, 18, 1, 2, 3, 4, 7, 8, 9, 14, 6, 9, 12, 3, 5, 10, 13, 4, 7, 8, 9, 11, 19, 5, 5, 5, 5, 6, 8, 9, 16, 18, 1, 2, 5, 6, 14, 1, 2, 3, 4, 5, 7, 11, 13, 18, 2, 3, 5, 6, 7, 10, 11, 7, 15, 1, 2, 3, 8, 11, 6, 12, 1, 3, 15, 15, 3, 15, 15, 19, 1, 2, 3, 5, 8, 9, 11, 1, 4, 6, 7, 8, 10, 14, 9, 17, 17, 16, 15, 11, 12, 1, 6, 10, 1, 1, 2, 3, 4, 5, 7, 8, 10, 11, 18, 13, 12, 1, 2, 3, 4, 5, 6, 7, 8, 9, 10, 12, 14, 15, 1, 2, 3, 4, 6, 8, 9, 15, 2, 3, 5, 9, 11, 12, 13, 3, 1, 9, 5, 1, 3, 4, 5, 7, 9, 14, 13, 15, 15, 2, 1, 18, 1, 3, 5, 7, 10, 11, 15, 1, 2, 3, 4, 6, 8, 9, 10, 12, 18, 9, 17, 2, 3, 5, 6, 7, 12, 2, 6, 5, 12, 15, 14, 14, 10, 2, 3, 4, 5, 6, 7, 19, 15, 20, 1, 2, 3, 4, 5, 6, 7, 8, 9, 10, 11, 2, 3, 4, 5, 6, 7, 8, 12, 14, 15, 2, 3, 4, 6, 7, 8, 9, 10, 14, 7, 16, 12, 12, 12, 12, 13, 20, 19, 1, 4, 6, 7, 8, 1, 2, 3, 4, 5, 6, 7, 8, 10, 11, 12, 13, 7, 10, 13, 14, 4, 6, 14, 15, 1, 12, 7, 12, 1, 2, 3, 7, 8, 12, 14, 4, 8, 7, 8, 14, 11, 11, 2, 5, 9, 16, 3, 3, 3, 1, 2, 3, 4, 6, 7, 8, 10, 11, 18, 19, 13, 2, 3, 6, 7, 14, 9, 9, 17, 2, 5, 3, 5, 13, 3, 5, 13, 7, 11, 1, 2, 5, 6, 7, 9, 16, 18, 20, 4, 5, 8, 8, 17, 5, 5, 20, 16, 4, 10, 3, 5, 15, 3, 5, 15, 1, 2, 3, 4, 5, 8, 9, 10, 11, 15, 13, 13, 5, 17, 1, 3, 5, 6, 15, 20, 19, 1, 2, 3, 4, 5, 6, 7, 8, 9, 11, 13, 18, 1, 2, 3, 4, 5, 6, 8, 9, 11, 6, 6, 2, 3, 3, 9, 17, 9, 18, 19, 20, 3, 3, 1, 2, 3, 5, 6, 8, 9, 14, 18, 5, 18, 9, 18, 20, 11, 15, 16, 1, 2, 3, 5, 1, 2, 3, 4, 5, 7, 8, 9, 10, 13, 14, 1, 2, 3, 4, 6, 9, 10, 15, 9, 17, 1, 2, 3, 4, 5, 6, 7, 9, 10, 13, 14, 17, 19, 1, 3, 4, 5, 6, 7, 8, 9, 10, 11, 16, 12, 1, 2, 3, 4, 5, 6, 7, 9, 11, 13, 18, 7, 1, 2, 3, 4, 5, 8, 9, 10, 1, 15, 2, 5, 18, 10, 1, 2, 3, 4, 5, 6, 8, 9, 3, 20, 1, 9, 17, 19, 5, 6, 12, 17, 14, 8, 1, 2, 3, 4, 5, 6, 8, 9, 10, 11, 1, 4, 7, 8, 9, 10, 14, 7, 7, 9, 12, 1, 2, 3, 4, 5, 6, 8, 9, 10, 11, 14, 20, 13, 5, 12, 1, 4, 7, 8, 14, 8, 14, 1, 2, 3, 4, 5, 6, 7, 8, 9, 10, 11, 13, 16, 5, 6, 13, 20, 5, 1, 2, 5, 8, 9, 10, 1, 2, 3, 4, 5, 8, 11, 2, 3, 4, 16, 5, 12, 2, 12, 3, 5, 7, 10, 11, 12, 11, 8, 3, 5, 7, 11, 1, 2, 4, 8, 14, 15, 4, 2, 4, 6, 7, 8, 10, 5, 9, 18, 1, 2, 3, 4, 5, 6, 8, 9, 10, 13, 1, 4, 9, 14, 16, 18, 19, 1, 5, 13, 3, 5, 3, 3, 17, 18, 1, 3, 8, 9, 11, 12, 13, 16, 5, 9, 13, 17, 18, 2, 6, 12, 6, 7, 19, 4, 6, 8, 10, 1, 2, 4, 6, 7, 8, 12, 14, 4, 7, 8, 17, 16, 1, 3, 8, 11, 8, 12, 14, 14, 9, 6, 2, 3, 2, 19, 19, 7, 9, 8, 4, 1, 1, 4, 8, 4, 1, 2, 3, 4, 5, 6, 8, 9, 11, 18, 3, 5, 15, 16, 9, 11, 17, 5, 13, 2, 5, 13, 1, 2, 3, 4, 5, 6, 8, 9, 10, 12, 14, 11, 20, 1, 2, 3, 4, 5, 6, 7, 9, 16, 6, 7, 15, 3, 6, 7, 9, 10, 11, 12, 13, 1, 2, 3, 5, 6, 6, 12, 15, 3, 13, 13, 7, 10, 18, 18, 1, 2, 3, 4, 5, 6, 8, 10, 11, 12, 14, 16, 4, 7, 8, 9, 10, 15, 1, 2, 9, 1, 3, 4, 5, 7, 9, 1, 2, 4, 7, 8, 2, 7, 7, 12, 3, 20, 7, 10, 16, 8, 3, 6, 7, 15, 6, 1, 2, 3, 4, 5, 6, 7, 8, 9, 10, 11, 12, 13, 15, 17, 18, 19, 1, 2, 6, 1, 2, 6, 8, 14, 15, 19, 1, 2, 3, 4, 5, 6, 7, 8, 10, 11, 14, 4, 1, 4, 6, 10, 11, 6, 1, 2, 3, 4, 6, 7, 8, 10, 14, 18, 13, 1, 4, 6, 14, 4, 7, 11, 14, 14, 19, 1, 3, 4, 12, 13, 14, 3, 3, 5, 6, 7, 10, 14, 1, 2, 3, 4, 5, 6, 7, 8, 9, 10, 11, 13, 12, 7, 14, 19, 2, 12, 12, 3, 9, 16, 17, 9, 1, 2, 3, 4, 5, 7, 10, 11, 13, 2, 3, 5, 11, 13, 15, 1, 2, 3, 5, 6, 15, 17, 6, 9, 17, 9, 1, 7, 8, 10, 14, 10, 12, 1, 2, 4, 6, 9, 1, 2, 4, 5, 6, 11, 16, 8, 1, 9, 9, 12, 9, 12, 17, 4, 4, 10, 6, 4, 1, 2, 8, 9, 10, 17, 3, 5, 9, 11, 9, 14, 9, 1, 3, 9, 9, 9, 1, 2, 3, 4, 6, 7, 8, 12, 14, 19, 1, 2, 3, 4, 5, 6, 7, 9, 10, 11, 14, 1, 2, 3, 4, 6, 7, 9, 3, 5, 10, 3, 12, 13, 3, 5, 3, 13, 15, 4, 8, 1, 2, 3, 4, 5, 6, 7, 8, 9, 1, 2, 3, 4, 6, 7, 8, 9, 18, 1, 2, 3, 4, 6, 7, 4, 17, 1, 1, 2, 3, 5, 6, 8, 11, 13, 14, 17, 19, 3, 10, 11, 3, 4, 5, 6, 7, 8, 9, 10, 11, 13, 1, 2, 4, 8, 9, 11, 1, 3, 7, 8, 14, 18, 4, 14, 6, 6, 14, 18, 10, 7, 10, 1, 3, 4, 7, 10, 11, 12, 1, 2, 3, 4, 5, 9, 10, 6, 1, 2, 3, 4, 6, 8, 10, 14, 7, 3, 5, 12, 6, 4, 6, 10, 11, 12, 1, 4, 6, 7, 10, 11, 12, 20, 16, 3, 3, 4, 16, 6, 16, 13, 3, 4, 7, 10, 11, 12, 15, 9, 17, 18, 8, 9, 15, 1, 2, 3, 4, 8, 10, 11, 6, 6, 20, 7, 1, 2, 3, 4, 10, 1, 3, 8, 11, 12, 15, 1, 8, 12, 15, 2, 7, 1, 2, 3, 4, 5, 6, 7, 8, 10, 17, 1, 2, 3, 4, 5, 8, 9, 1, 1, 2, 3, 4, 5, 8, 9, 19, 18, 17, 18, 20, 11, 13, 13, 7, 2, 3, 5, 2, 2, 3, 5, 2, 6, 11, 18, 5, 13, 11, 3, 4, 6, 7, 10, 16, 3, 4, 7, 2, 3, 6, 7, 12, 14, 15, 16, 4, 7, 1, 3, 4, 5, 6, 7, 9, 11, 13, 2, 1, 2, 1, 18, 1, 15, 1, 2, 3, 4, 5, 6, 8, 9, 10, 11, 3, 6, 9, 10, 10, 2, 4, 6, 7, 12, 13, 16, 18, 19, 17, 16, 11, 17, 19, 4, 15, 15, 2, 3, 6, 9, 15, 1, 4, 5, 8, 9, 1, 4, 7, 8, 9, 14, 11, 6, 11, 13, 5, 11, 13, 5, 16, 17, 1, 3, 10, 12, 15, 1, 2, 3, 4, 5, 8, 9, 11, 12, 14, 15, 11, 17, 12, 6, 6, 6, 20, 1, 6, 17, 15, 1, 2, 3, 4, 5, 8, 11, 12, 6, 10, 1, 3, 5, 6, 7, 11, 12, 1, 9, 9, 17, 9, 17, 4, 8, 1, 11, 8, 13, 16, 9, 9, 12, 15, 1, 2, 3, 4, 5, 6, 8, 9, 10, 15, 17, 3, 10, 15, 5, 10, 11, 3, 4, 6, 9, 13, 3, 10, 3, 7, 10, 15, 1, 3, 10, 14, 18, 1, 3, 14, 12, 3, 11, 11, 1, 2, 3, 4, 5, 6, 7, 8, 9, 14, 18, 7, 18, 13, 1, 4, 6, 7, 8, 9, 13, 14, 16, 18, 15, 4, 7, 1, 3, 5, 6, 7, 10, 12, 14, 12, 17, 4, 17, 6, 14, 18, 13, 1, 3, 5, 9, 15, 17, 3, 5, 9, 17, 6, 7, 5, 7, 18, 8, 8, 1, 3, 4, 5, 6, 7, 8, 9, 3, 4, 6, 7, 1, 4, 6, 8, 18, 12, 10, 2, 17, 6, 8, 15, 3, 6, 9, 12, 18, 11, 12, 11, 2, 3, 6, 7, 12, 18, 17, 4, 6, 7, 8, 14, 6, 3, 5, 1, 2, 3, 4, 5, 8, 11, 14, 1, 3, 4, 5, 8, 10, 11, 12, 1, 2, 8, 14, 18, 1, 2, 3, 4, 6, 7, 13, 15, 1, 3, 6, 11, 12, 15, 3, 5, 6, 13, 6, 6, 4, 7, 14, 12, 1, 4, 6, 8, 10, 10, 20, 1, 2, 16, 1, 3, 4, 5, 7, 9, 1, 2, 3, 4, 6, 7, 11, 12, 2, 3, 6, 8, 11, 12, 13, 19, 9, 4, 18, 19, 1, 14, 17, 18, 16, 20, 1, 2, 3, 4, 5, 8, 9, 11, 14, 11, 6, 10, 1, 2, 3, 5, 9, 10, 2, 6, 12, 1, 2, 6, 12, 15, 17, 5, 1, 6, 11, 12, 13, 4, 1, 2, 3, 4, 5, 6, 8, 9, 10, 11, 3, 12, 17, 17, 13, 1, 19, 2, 8, 2, 3, 7, 1, 2, 3, 4, 6, 7, 8, 10, 12, 14, 2, 4, 6, 7, 8, 10, 11, 1, 2, 3, 4, 5, 8, 9, 10, 11, 14, 14, 15, 1, 3, 11, 2, 6, 9, 17, 9, 6, 7, 10, 12, 10, 6, 7, 5, 1, 3, 6, 7, 9, 19, 2, 3, 4, 6, 7, 10, 6, 19, 1, 2, 4, 7, 8, 9, 14, 18, 17, 1, 2, 3, 4, 1, 2, 3, 4, 5, 8, 11, 18, 1, 2, 3, 4, 5, 8, 11, 1, 2, 3, 5, 8, 9, 11, 1, 2, 3, 4, 5, 6, 8, 9, 10, 17, 20, 1, 15, 19, 1, 2, 3, 4, 5, 6, 7, 8, 9, 10, 11, 12, 14, 15, 4, 1, 2, 3, 4, 5, 6, 7, 8, 9, 10, 11, 12, 1, 1, 3, 1, 2, 3, 4, 5, 9, 10, 11, 13, 1, 2, 3, 5, 8, 11, 13, 16, 1, 2, 5, 9, 17, 4, 7, 1, 4, 6, 9, 13, 17, 11, 19, 15, 1, 19, 9, 19, 19, 2, 3, 5, 12, 20, 15, 16, 19, 1, 1, 2, 3, 4, 5, 6, 8, 9, 10, 14, 2, 3, 5, 14, 13, 13, 13, 15, 16, 18, 17, 3, 7, 11, 12, 13, 6, 7, 12, 13, 4, 7, 8, 14, 14, 15, 1, 2, 3, 4, 5, 6, 7, 8, 10, 14, 15, 2, 3, 6, 7, 3, 4, 7, 10, 14, 3, 4, 7, 10, 1, 2, 3, 4, 6, 8, 10, 12, 14, 4, 9, 11, 15, 17, 1, 2, 3, 4, 7, 10, 8, 4, 7, 8, 10, 12, 3, 5, 13, 7, 20, 14, 14, 11, 13, 8, 1, 2, 3, 4, 5, 8, 11, 14, 3, 7, 9, 11, 12, 17, 14, 16, 3, 15, 3, 19, 1, 2, 3, 4, 5, 6, 8, 9, 11, 12, 13, 1, 5, 8, 9, 1, 1, 2, 3, 4, 5, 6, 9, 10, 11, 14, 15, 16, 18, 15, 20, 4, 4, 1, 2, 5, 4, 5, 6, 4, 5, 8, 14, 1, 3, 19, 9, 3, 9, 9, 10, 1, 15, 18, 2, 5, 18, 2, 3, 5, 12, 1, 2, 3, 4, 5, 6, 8, 14, 1, 2, 3, 4, 5, 6, 7, 8, 10, 11, 12, 13, 14, 1, 2, 3, 4, 6, 8, 10, 11, 14, 4, 1, 2, 3, 4, 5, 6, 7, 8, 9, 13, 1, 2, 3, 4, 5, 6, 8, 9, 10, 11, 4, 4, 4, 7, 10, 18, 1, 3, 5, 6, 9, 11, 12, 14, 15, 1, 2, 3, 5, 6, 9, 10, 11, 12, 13, 14, 11, 5, 9, 11], \"Freq\": [0.9810657830112454, 0.060713390920383054, 0.9309386607792068, 0.03729654429358821, 0.024864362862392138, 0.06393693307472265, 0.4049339094732434, 0.23265939535524074, 0.23443542127398304, 0.9822413012916371, 0.9332934852953451, 0.9873418862855029, 0.9942636054956148, 0.0268372616106036, 0.03531218632974158, 0.09322417191051777, 0.6892938771565557, 0.12006143352112136, 0.021187311797844947, 0.004237462359568989, 0.008474924719137978, 0.945350048280878, 0.046876861898225354, 0.04821622921779122, 0.012054057304447805, 0.3676487477856581, 0.5122974354390317, 0.06027028652223903, 0.06128231664314073, 0.02507003862673939, 0.21170254840357705, 0.008356679542246464, 0.662963243684886, 0.027855598474154877, 0.9772082093976907, 0.011917173285337692, 0.9851686271546473, 0.16514415840464733, 0.027524026400774556, 0.7376439075407581, 0.06055285808170403, 0.0488081793508368, 0.9395574525036083, 0.9828444746950408, 0.8197688323248712, 0.9637051457907764, 0.14310202228553467, 0.00698058645295291, 0.8481412540337786, 0.983592652000095, 0.9749001662974494, 0.04180124839944281, 0.02985803457103058, 0.925599071701948, 0.9917131223309069, 0.2999354745207082, 0.16095438467869505, 0.05822923131720708, 0.14365041499480802, 0.056855900389914456, 0.030762612771354683, 0.11783179356170678, 0.06399722121183608, 0.017578635869345532, 0.018127968240262582, 0.016205304942052915, 0.0038453265964193354, 0.004394658967336383, 0.007690653192838671, 0.5214202424456655, 0.08232951196510509, 0.3842043891704904, 0.9977448746643749, 0.003315801609908052, 0.01657900804954026, 0.5520809680496906, 0.034815916904034544, 0.026526412879264417, 0.11771095715173585, 0.0381317185139426, 0.16579008049540261, 0.031500115294126496, 0.009947404829724156, 0.9554442048582714, 0.010391605806396408, 0.08105452528989197, 0.19536218916025247, 0.0914461310962884, 0.22030204309560383, 0.010391605806396408, 0.020783211612792816, 0.020783211612792816, 0.34707963393364, 0.9787314581357555, 0.9713553631095075, 0.9850181042398782, 0.9651927726164171, 0.9586484250895774, 0.9773829899194939, 0.9786086391759382, 0.05604598647967914, 0.2895709301450089, 0.1868199549322638, 0.08406897971951871, 0.3736399098645276, 0.9825075641692512, 0.020153251152801678, 0.004030650230560336, 0.96131007998864, 0.012091950691681006, 0.21849435205261045, 0.7525916570701027, 0.27783142386998794, 0.6545067196937215, 0.06411494396999722, 0.46700329452138784, 0.1430567054103492, 0.010049437983371637, 0.0857157945640522, 0.005911434107865669, 0.01123172480494477, 0.2731082557833939, 0.0035468604647194016, 0.7728415251027931, 0.1657689068336426, 0.01568084253831754, 0.0022401203626167916, 0.020161083263551125, 0.022401203626167918, 0.9955883086854544, 0.3219548214020737, 0.12285118185079127, 0.237229868401528, 0.029653733550191, 0.004236247650027286, 0.04659872415030014, 0.2329936207515007, 0.9520456859886905, 0.06698443620489483, 0.08546290136486581, 0.8476995892136691, 0.006428058193689922, 0.040711035226702844, 0.8635024840190129, 0.07713669832427907, 0.00857074425825323, 0.04206048098888615, 0.007314866258936722, 0.049375347247822866, 0.06034764663622795, 0.11155171044878501, 0.03840304785941779, 0.08046352884830393, 0.35659973012316515, 0.14629732517873442, 0.08594967854250647, 0.021944598776810164, 0.996225133086039, 0.9924332482969085, 0.9744009519316409, 0.15476338690737182, 0.03474280114247122, 0.7738169345368591, 0.03158436467497384, 0.9839396029727838, 0.9872931667344351, 0.05305818293605322, 0.9068125810889096, 0.016882149116016935, 0.021705620292021773, 0.9882784762422071, 0.9523058685296726, 0.04395257854752335, 0.14135597554628576, 0.8525532275135359, 0.2690105945064815, 0.7299557143069134, 0.4041141234316263, 0.595087886403534, 0.8672456151632807, 0.07998867324321521, 0.05051916204834645, 0.5407650025621401, 0.017585853741858216, 0.052757561225574644, 0.38688878232088075, 0.6867149360333955, 0.028428043923762813, 0.007995387353558292, 0.06662822794631909, 0.12970295040216784, 0.023986162060674873, 0.023986162060674873, 0.028428043923762813, 0.00444188186308794, 0.9831163815481911, 0.9650613046872174, 0.1755405043693839, 0.07659949281573115, 0.09574936601966394, 0.03191645533988798, 0.02872480980589918, 0.5904544237879276, 0.9884999245833159, 0.9869231165206536, 0.9961233098609988, 0.9752618439085868, 0.015857916161115235, 0.9960958525903421, 0.046238539003643116, 0.10788992434183393, 0.40073400469824033, 0.12330277067638164, 0.31596334985822794, 0.04661985268881152, 0.015539950896270506, 0.8003074711579311, 0.12431960717016405, 0.35841746306742284, 0.6212569359835329, 0.9837742894634908, 0.9595796968708926, 0.9903936833869974, 0.07901510980628507, 0.003211996333588824, 0.4291227101674669, 0.014132783867790825, 0.38929395563096547, 0.010920787534202002, 0.04817994500383236, 0.003211996333588824, 0.016702380934661885, 0.005139194133742119, 0.9957453787299596, 0.9941980599984102, 0.9853350896285157, 0.9909803904727256, 0.983847208908233, 0.9671204896534389, 0.7159628432023813, 0.011424938987272043, 0.01650268964828184, 0.014598533150403166, 0.11171051454221553, 0.012059657819898269, 0.03427481696181613, 0.06220244559737002, 0.00825134482414092, 0.012694376652524493, 0.9884283436126007, 0.2688359890282128, 0.7168959707419009, 0.44437110117727363, 0.5332453214127284, 0.9808258230401425, 0.06273041485245608, 0.07057171670901308, 0.18819124455736821, 0.6743519596639027, 0.9963220087283259, 0.07813617174811033, 0.20374748582418642, 0.15231608163555682, 0.3530963710642454, 0.04450794593246791, 0.14341449244906326, 0.015825047442655255, 0.007912523721327627, 0.990925351620754, 0.9540550394369551, 0.2620759593823382, 0.7338126862705469, 0.9668823292854121, 0.9833817680691165, 0.9523182442752598, 0.9976471973089689, 0.9971706657071233, 0.20724872555490756, 0.6498476987738627, 0.053392892007366015, 0.014050761054570005, 0.014050761054570005, 0.013348223001841504, 0.04777258758553802, 0.9852223928650921, 0.35066734360457585, 0.17781715157285857, 0.0039735676329130405, 0.0695374335759782, 0.05463655495255431, 0.0019867838164565202, 0.014900878623423902, 0.17980393538931508, 0.1470220024177825, 0.9841144883002316, 0.668833928051587, 0.1305818621434051, 0.0015924617334561596, 0.05334746807078135, 0.0007962308667280798, 0.031053003802395115, 0.11306478307538734, 0.9869658407185754, 0.010669900980741356, 0.9922831486789032, 0.9965194769955702, 0.4325650222500416, 0.5561550286071963, 0.9905215777762304, 0.9937454393989004, 0.9929431044106197, 0.03342864005826925, 0.9582876816703852, 0.19473688416898596, 0.3348107833080811, 0.03758080220804992, 0.43047100711039, 0.21802146082670223, 0.025483027888835327, 0.12175224435776878, 0.0566289508640785, 0.12741513944417662, 0.14440382470340019, 0.08777487383932168, 0.10759500664174916, 0.07078618858009812, 0.036808818061651025, 0.002831447543203925, 0.991817124732929, 0.020812782957977644, 0.1873150466217988, 0.7492601864871952, 0.03902396804620808, 0.9718106500254243, 0.9696005380492877, 0.026443651037707846, 0.986690616473122, 0.1225241869653806, 0.6994089005940476, 0.040841395655126865, 0.1327345358791623, 0.9848796865537566, 0.9882753291205965, 0.09974265600335187, 0.8644363520290496, 0.05374824005372987, 0.9137200809134078, 0.9689609940909629, 0.956736878531577, 0.2963470697671618, 0.13677557066176696, 0.03799321407271305, 0.0759864281454261, 0.0835850709599687, 0.36473485509804526, 0.23594934055517264, 0.7566651266079674, 0.14401802852785026, 0.10422357327673373, 0.6859806095668657, 0.0246346627745007, 0.04358440337027047, 0.9737151640219667, 0.9868666197940168, 0.1524692512076215, 0.07623462560381075, 0.7528169278376312, 0.7873689542616858, 0.21110616889624909, 0.056970208856032614, 0.011394041771206523, 0.8621491606879602, 0.06836425062723914, 0.9924712405031099, 0.9601514538841188, 0.44758964430831666, 0.5404856082213635, 0.24865266738739464, 0.12645157016709385, 0.05738138478170646, 0.1806451002387055, 0.22421244794333448, 0.015939273550474014, 0.0658823306752926, 0.04144211123123244, 0.0010626182366982677, 0.03719163828443937, 0.20800412742819355, 0.037375741647253526, 0.001625032245532762, 0.5313855442892133, 0.07962658003110534, 0.09262683799536744, 0.02112541919192591, 0.027625548174056956, 0.10678036260178439, 0.46271490460773235, 0.14237381680237918, 0.26695090650446096, 0.3969076131707763, 0.11194830115073176, 0.061062709718580965, 0.1017711828643016, 0.3256677851657651, 0.977923953576411, 0.9882336237631079, 0.9879676740011469, 0.02765782506084569, 0.5500834095434866, 0.14136221697765575, 0.16287385869164683, 0.009219275020281897, 0.04148673759126854, 0.05070601261155043, 0.018438550040563793, 0.9798126337081332, 0.970782609121926, 0.9805607566284361, 0.017874805459372534, 0.04672379860614242, 0.8913463118710246, 0.05750621366909836, 0.9958986174264035, 0.9585495173913623, 0.260719197383346, 0.22169434936736745, 0.27566488385755056, 0.060613061812051776, 0.08220127560812501, 0.05230990265971592, 0.009963790982803032, 0.03653390027027778, 0.0751201121172115, 0.8638812893479322, 0.9428138335068004, 0.11378779949913041, 0.8818554461182607, 0.9901942876958653, 0.07866945783892398, 0.010085827928067179, 0.24407703585922572, 0.1290985974792599, 0.13716725982171363, 0.3993987859514603, 0.12608294122253771, 0.8573640003132564, 0.9926056340946106, 0.9391846908438631, 0.9664599230342081, 0.08826248487349679, 0.11233407165717774, 0.7863385016002442, 0.99446524261042, 0.9613880765248655, 0.02486348473771204, 0.008287828245904013, 0.9838912439892754, 0.9408797453978834, 0.05268926574228147, 0.30579006155758054, 0.028620744677803102, 0.006025419932169074, 0.15515456325335367, 0.39466500555707434, 0.05573513437256394, 0.048203359457352594, 0.0045190649491268055, 0.3192326712958983, 0.12575832505595994, 0.08706345580797226, 0.07738973849597534, 0.38694869247987673, 0.004347555482270023, 0.08695110964540045, 0.6999564326454737, 0.04782311030497025, 0.16085955284399084, 0.14881147112710846, 0.02426273985768073, 0.6906793279486447, 0.13425382721250004, 0.27584413390242113, 0.7228001369635634, 0.49262365785134443, 0.5040800219874222, 0.23929782079638706, 0.7581962532601316, 0.8979929900794847, 0.09546231786430559, 0.004854016162591809, 0.9960408412312476, 0.9809117737330106, 0.017754059253086166, 0.9754778971362819, 0.25164869496161063, 0.746627119762134, 0.9912929761319282, 0.9892633950099377, 0.17291796345847024, 0.11527864230564683, 0.17291796345847024, 0.5379669974263518, 0.9956124982121946, 0.9888827115444407, 0.3813445728571785, 0.031130169212830898, 0.07782542303207725, 0.3268667767347244, 0.17899847297377766, 0.9936449337323657, 0.8451967345342813, 0.14489086877730536, 0.008049492709850298, 0.024218024812907347, 0.20585321090971245, 0.402019211894262, 0.03148343225677955, 0.1598389637651885, 0.03148343225677955, 0.1453081488774441, 0.9863792247562795, 0.9765445110909754, 0.020777542789169687, 0.988715460293695, 0.09639635900103223, 0.7711708720082578, 0.13082363007282946, 0.9620830034437688, 0.014148279462408365, 0.9865112395250624, 0.9119572588225463, 0.9961524968217493, 0.9921699899428562, 0.9893848625790835, 0.2171676034036018, 0.19224673088187702, 0.5874205665835132, 0.997659645812041, 0.989409584406993, 0.9697523440023696, 0.9762025328500598, 0.9888616978822989, 0.9798990277313043, 0.027163471338049947, 0.07469954617963735, 0.6722959156167362, 0.04753607484158741, 0.12766831528883474, 0.0502524219753924, 0.9428946223272544, 0.2662168536461307, 0.16096833011161388, 0.5386247969119388, 0.02476435847870983, 0.019625979679216178, 0.7725499273727823, 0.01605761973754051, 0.15879201740456725, 0.030331059504243182, 0.9655715510036118, 0.021944807977354815, 0.409808780363543, 0.20676715736524215, 0.037255343669413, 0.00186276718347065, 0.25426772054374375, 0.03166704211900105, 0.019559055426441825, 0.03818672726114832, 0.000931383591735325, 0.9683206842612369, 0.975826373464044, 0.09607432705283263, 0.8886875252387019, 0.014438190082273055, 0.08181641046621398, 0.1588200909050036, 0.05775276032909222, 0.6449058236748632, 0.03850184021939481, 0.4336251441784715, 0.56495161641538, 0.9913703195775538, 0.9122235250204416, 0.9888524323890648, 0.9585109403735784, 0.03265033326834975, 0.008162583317087437, 0.005830416655062455, 0.5014158323353711, 0.3381641659936224, 0.08395799983289935, 0.029152083275312275, 0.9797604697819482, 0.9855368129952439, 0.11978685872194313, 0.04413200058176852, 0.08195942965185582, 0.0693502866284934, 0.6808937232615715, 0.006304571511681217, 0.02297842159112072, 0.9650937068270703, 0.97678311346883, 0.0242305443221432, 0.0969221772885728, 0.848069051275012, 0.9810450449649383, 0.4702168042277268, 0.09404336084554536, 0.4304292284853807, 0.9842236607389883, 0.9841886927916532, 0.9940002655889397, 0.9879460767643253, 0.9607055055059552, 0.08197047963283535, 0.01425573558831919, 0.01425573558831919, 0.044549173713497474, 0.7020949777247202, 0.008909834742699494, 0.010691801691239393, 0.02851147117663838, 0.09444424827261463, 0.6242421721296785, 0.359412159711027, 0.997614156250435, 0.8654253856286275, 0.09662516441484675, 0.033608752839946694, 0.15625910687482958, 0.10938137481238071, 0.22266922729663216, 0.02343886603122444, 0.12891376317173442, 0.00781295534374148, 0.3476765127964958, 0.9952099717498172, 0.13403573998586452, 0.4875221523015268, 0.09329938763721941, 0.06044749058186046, 0.0013140758822143578, 0.0657037941107179, 0.051248959406359956, 0.08541493234393327, 0.022339289997644084, 0.9804801445631348, 0.016341335742718913, 0.9857916015322997, 0.9905987092905538, 0.010896536427847915, 0.04358614571139166, 0.010896536427847915, 0.23972380141265415, 0.35413743390505725, 0.33234436104936144, 0.9517053555406348, 0.17580228918974738, 0.002344030522529965, 0.02344030522529965, 0.37738891412732434, 0.00937612209011986, 0.2414351438205864, 0.09141719037866863, 0.00468806104505993, 0.07500897672095888, 0.9799905866742731, 0.5502020779583745, 0.13857493094144568, 0.06705238593940921, 0.027938494141420505, 0.10020606565389487, 0.07711024383032059, 0.0044701590626272806, 0.033526192969704605, 0.00037251325521894005, 0.9783841528547742, 0.01770831045890994, 0.013457694459731414, 0.8052187185072629, 0.05158782876230375, 0.024672439842840926, 0.1031756575246075, 0.7932303315615471, 0.002374941112459722, 0.01662458778721805, 0.12349693784790552, 0.03087423446197638, 0.01662458778721805, 0.01424964667475833, 0.9542390490832031, 0.8383997564003668, 0.15983880247920662, 0.9597146684412539, 0.364978126123372, 0.046065200384503256, 0.15236950896412615, 0.017717384763270484, 0.03543476952654097, 0.03543476952654097, 0.010630430857962291, 0.3330868335494851, 0.9617473811226718, 0.9826322440951306, 0.9498487062430087, 0.046258865563782885, 0.9891265124444897, 0.9276625238682523, 0.005456838375695602, 0.027284191878478012, 0.038197868629869215, 0.9784256500250892, 0.14771955390382968, 0.07131288809150399, 0.20375110883286854, 0.1579071093454731, 0.4125959953865588, 0.8119959442338869, 0.2214593127028971, 0.7650412620645536, 0.9719442042503432, 0.9943804258894381, 0.09511608381487327, 0.8917132857644369, 0.9948722708350162, 0.9836899495744537, 0.9802184976248577, 0.9723640367004398, 0.9933915204714505, 0.25032519047078083, 0.013754131344548398, 0.07564772239501619, 0.19943490449595178, 0.0055016525378193595, 0.26820556121869377, 0.07702313552947103, 0.013754131344548398, 0.004126239403364519, 0.044013220302554876, 0.05089028597482907, 0.20661725036957293, 0.7748146888858986, 0.982971535512005, 0.9740399584556758, 0.9856098930893403, 0.9592816680745906, 0.24092239459202672, 0.24391521936956742, 0.2162315901773159, 0.12794325923986513, 0.15787150701527217, 0.012719505304547995, 0.9940238220872755, 0.23191121205485163, 0.0025484748577456226, 0.7518000830349586, 0.01019389943098249, 0.9801671310589287, 0.20515592984683684, 0.28721830178557156, 0.5068558266804204, 0.9538157548466804, 0.972775128987168, 0.24991609004031987, 0.7185087588659196, 0.980764047347119, 0.9830015326055048, 0.01882502913080248, 0.9475264662503915, 0.025100038841069972, 0.9807216058841038, 0.9812197109422041, 0.9921851967915557, 0.9871011049330567, 0.19706691322649014, 0.02602770552047983, 0.26399529885058115, 0.09667433479035366, 0.05205541104095966, 0.33092368447467213, 0.029745949166262664, 0.04029809755418064, 0.19141596338235803, 0.7656638535294321, 0.08474626350997909, 0.8898357668547804, 0.9859082940213741, 0.8190223428009497, 0.1739020042933523, 0.9800183952254519, 0.012564338400326306, 0.9226099114297976, 0.05125610619054431, 0.9858083512191477, 0.9711537225367062, 0.08697784158627914, 0.17395568317255827, 0.7349627614040587, 0.9847260883211824, 0.338059634718089, 0.41855002393668156, 0.015091947978486115, 0.15595012911102318, 0.00402451946092963, 0.009055168787091668, 0.0533248828573176, 0.006036779191394445, 0.9866052491100624, 0.9786252055908785, 0.718715991656484, 0.2601803410656089, 0.020608343846780904, 0.9611663954060704, 0.21033873649952223, 0.7875473622423972, 0.0666233044842178, 0.9232086478527324, 0.07271910391508933, 0.8597964639372326, 0.06558978000184527, 0.9898701247235248, 0.008318236342214494, 0.854508782908404, 0.11392763853644956, 0.04557105541457983, 0.6645778914626225, 0.12152281443887954, 0.007595175902429971, 0.04177346746336484, 0.14489358145246448, 0.1352340093556335, 0.2559786605660206, 0.4588296745994709, 0.9656464599139525, 0.11038778817159961, 0.0883102305372797, 0.7727145172011973, 0.9452399646368117, 0.9266040387888762, 0.14927182596107774, 0.05597693473540415, 0.2239077389416166, 0.027988467367702077, 0.5317808799863395, 0.003679760686491737, 0.9953752656960149, 0.16174903118802839, 0.03567993335030038, 0.007135986670060076, 0.7611719114730748, 0.03330127112694702, 0.16989214597855612, 0.02427030656836516, 0.05932741605600372, 0.7442894014298649, 0.9965677804553276, 0.2655248382859643, 0.1890176814917034, 0.5445509395356217, 0.9643177145144615, 0.27964626899008976, 0.10518804613388698, 0.5977759694925773, 0.015393372604959071, 0.9882126257776382, 0.03369738886260827, 0.06739477772521654, 0.06739477772521654, 0.8199697956568012, 0.9558901572177538, 0.09052004269653105, 0.16293607685375588, 0.7332123458419014, 0.9804220939215516, 0.15127697396527198, 0.04322199256150628, 0.11669937991606696, 0.08212178586686193, 0.4062867300781591, 0.19882116578292888, 0.9558461114521312, 0.9869051142426014, 0.720373912847312, 0.1932710497883032, 0.08345795331767639, 0.06748391546277702, 0.09657181005880158, 0.613172818084198, 0.09424477849111962, 0.11867860995178026, 0.008144610486886882, 0.9136064503873921, 0.9455302881152464, 0.9698129802213659, 0.994172842305895, 0.9978644262026145, 0.2549929380294201, 0.7047077560085792, 0.03708988189518837, 0.9422266373793379, 0.05542509631643164, 0.052740480140195334, 0.14767334439254692, 0.79110720210293, 0.7346013099563148, 0.17091157644937383, 0.025477502079409763, 0.03715469053247257, 0.021231251732841468, 0.002123125173284147, 0.007430938106494514, 0.9676330216046622, 0.02775996373455998, 0.9839365282644688, 0.014645875251568546, 0.9288352069017975, 0.9410246677588436, 0.881975975797737, 0.9932861122783102, 0.9780058772144091, 0.9917261350299287, 0.983242930056839, 0.045963259451027694, 0.19917412428778666, 0.0051070288278919655, 0.11746166304151522, 0.015321086483675897, 0.6128434593470359, 0.42665594000693896, 0.29114442874390734, 0.08828780279258121, 0.018889483388180167, 0.10266023580532699, 0.0205320471610654, 0.029976788855155482, 0.021353329047508016, 0.8477329186124187, 0.14959992681395626, 0.07848864000920852, 0.11773296001381278, 0.023546592002762556, 0.05886648000690639, 0.14127955201657533, 0.5258738880616971, 0.05101761600598554, 0.9442041529509608, 0.9818983690873534, 0.8448576403762403, 0.041630666337379954, 0.04897725451456465, 0.02693748998301056, 0.024488627257282326, 0.007346588177184698, 0.8892183400888893, 0.108637534761991, 0.9870596810110194, 0.9869266390111625, 0.8669171511461331, 0.12739642722936007, 0.003107229932423416, 0.9783053082226072, 0.20111045555535909, 0.4510888722737026, 0.199230918587552, 0.10149499626158308, 0.0037590739356141885, 0.03947027632394898, 0.0028193054517106414, 0.4544468859702893, 0.26407048779354647, 0.006141174134733639, 0.036847044808401834, 0.018423522404200917, 0.21494109471567738, 0.9376586093330006, 0.05922054374734741, 0.980954591182147, 0.9933913421161629, 0.9887953689147544, 0.9984432882516224, 0.8713148578888665, 0.1262775156360676, 0.007183591135794764, 0.763513115004472, 0.12314727661362453, 0.08979488919743454, 0.011801614008805684, 0.004104909220454151, 0.9920305970459559, 0.8544831612211287, 0.11782314396962147, 0.026536744137302132, 0.9833896919993461, 0.9796540857641977, 0.3087768084665484, 0.3171409658065001, 0.011152209786602202, 0.1394026223325275, 0.06064014071464947, 0.0724893636129143, 0.05994312760298683, 0.029971563801493416, 0.9908383757801229, 0.9962805571334825, 0.29448072317438434, 0.10237125731653894, 0.08494636245414933, 0.049225327986250636, 0.12153864166516751, 0.10193563494497919, 0.004356223715597402, 0.013504293518351945, 0.11761804032112984, 0.03877039106881687, 0.017424894862389607, 0.022652363321106487, 0.02700858703670389, 0.0047918460871571415, 0.1425506153584819, 0.07412631998641059, 0.03991417230037493, 0.48467209221883845, 0.03421214768603566, 0.22237895995923176, 0.9852507047105293, 0.9533655443995369, 0.9285344521977816, 0.018206557886231014, 0.042481968401205696, 0.9645673427418525, 0.9837302508759314, 0.01229561421154701, 0.9672549846416981, 0.02049269035257835, 0.9733319479782835, 0.3131050767380515, 0.6709394501529675, 0.9057352701469441, 0.022643381753673603, 0.04528676350734721, 0.022643381753673603, 0.996102041807762, 0.9947328182513799, 0.8164918994224372, 0.10175863434938387, 0.07753038807572105, 0.9827700195422484, 0.9768848026811927, 0.05288369478545848, 0.01322092369636462, 0.07932554217818771, 0.8461391165673356, 0.9870301679511398, 0.004138200508454962, 0.10345501271137406, 0.8483311042332673, 0.03724380457609466, 0.8586493199016747, 0.08989469414133057, 0.006199634078712453, 0.0030998170393562265, 0.040297621511630945, 0.16289252930778975, 0.7213812012202118, 0.11635180664842125, 0.961570846004286, 0.001160712960183134, 0.9982131457574952, 0.9179340225576798, 0.08144331438589394, 0.9673182807518723, 0.04212716797279558, 0.3510597331066298, 0.11233911459412153, 0.47744123702501656, 0.014042389324265192, 0.9820671436936431, 0.9936559579365268, 0.9862990308745654, 0.02571250790604559, 0.9719327988485232, 0.1370017763878749, 0.15657345872899986, 0.15657345872899986, 0.5414832114377912, 0.9728824419370466, 0.021704755695943632, 0.021704755695943632, 0.04883570031587317, 0.9007473613816608, 0.06201022680299, 0.093015340204485, 0.8423055807406142, 0.8334222920759914, 0.04115665639881439, 0.004409641757015827, 0.02351808937075108, 0.07643379045494102, 0.01763856702806331, 0.0014698805856719426, 0.07620126647619109, 0.05080084431746072, 0.838213931238102, 0.9797808845008201, 0.11502674153044465, 0.20228840751905783, 0.28161719478143343, 0.019832196815593905, 0.38077817885940296, 0.05020761516068632, 0.06903547084594369, 0.4330406807609195, 0.1255190379017158, 0.3137975947542895, 0.9875817430405075, 0.6162633409478195, 0.025420004030177617, 0.004122162815704478, 0.14290164427775526, 0.00961837990331045, 0.017862705534719407, 0.008931352767359704, 0.1745048925314896, 0.19481266999168056, 0.2973456541978282, 0.23582586367413963, 0.2665857589359839, 0.6647307272188697, 0.18502814056607714, 0.0015228653544533098, 0.030838023427679523, 0.007614326772266549, 0.012182922835626478, 0.06472177756426566, 0.03350303779797281, 0.0428425733502288, 0.0856851467004576, 0.8739884963446676, 0.7215597927921864, 0.002365769812433398, 0.22159377243126163, 0.05362411574849036, 0.6511937159539005, 0.28489725072983146, 0.06331050016218477, 0.09156523493593063, 0.06104348995728709, 0.8240871144233757, 0.9878435427569734, 0.9977674722177841, 0.9920049197506157, 0.06844344327437274, 0.17110860818593182, 0.3079954947346773, 0.03422172163718637, 0.11977602573015228, 0.29944006432538073, 0.5149633245066247, 0.008679157154606034, 0.09547072870066638, 0.0925776763157977, 0.28351913371713044, 0.05774657421342077, 0.20557780419977792, 0.14898616147062557, 0.06467616311903125, 0.06698602608756808, 0.41808519730516636, 0.01732397226402623, 0.01732397226402623, 0.0034647944528052458, 0.1327585100597569, 0.15976024091936847, 0.06525418291072797, 0.02475158662131061, 0.3555227896515524, 0.038252452051116395, 0.22501442383009643, 0.9628064234751069, 0.02407016058687767, 0.8434614269331441, 0.12486998778619172, 0.01178018752699922, 0.014136225032399063, 0.002356037505399844, 0.9750722470735539, 0.009198794783712773, 0.02080450796837269, 0.9414039855688643, 0.03640788894465221, 0.966388302992338, 0.4879280363651996, 0.500439011656615, 0.9929646908005993, 0.9614485692948693, 0.31664794817071223, 0.15061531617108784, 0.0011859473714258884, 0.005929736857129443, 0.4921681591417437, 0.028462736914221326, 0.0035578421142776658, 0.9849039479974372, 0.26553384669452723, 0.015173362668258698, 0.157423637683184, 0.46089089104835795, 0.09483351667661685, 0.005690011000597011, 0.26823799715934377, 0.719365537836422, 0.9790461883844174, 0.9853661098437764, 0.9573105506862511, 0.13938696687549237, 0.8575842199288768, 0.9537632320212359, 0.04257871571523374, 0.9828392207282927, 0.9890547104888703, 0.34204806387183073, 0.06650934575285597, 0.019794448140730943, 0.2414922673169175, 0.06175867819908055, 0.05225734309152969, 0.18131714496909546, 0.019002670215101707, 0.01425200266132628, 0.9706826772257677, 0.9922263894504137, 0.9883912825838449, 0.4482649308772754, 0.004550913003830208, 0.05347322779500494, 0.010239554258617967, 0.018203652015320832, 0.1490424008754393, 0.01251501076053307, 0.09443144482947681, 0.03982048878351432, 0.04095821703447187, 0.034131847528726555, 0.031856391026811454, 0.061437325551707805, 0.4819889209480318, 0.03787055807448821, 0.044756114088031526, 0.020656668040629936, 0.044756114088031526, 0.10328334020314968, 0.013771112027086623, 0.25132279449433087, 0.41139421451538505, 0.10871038829163024, 0.02771049113316065, 0.03623679609721008, 0.025578914892148294, 0.010657881205061788, 0.3772889946591873, 0.9934931864243846, 0.9809474982346281, 0.9961975744718857, 0.9970333351458918, 0.3299217662238806, 0.05392951947890356, 0.05234335714128875, 0.3235771168734214, 0.011103136363303675, 0.21889040259084386, 0.009516974025688863, 0.9773157113565377, 0.990132215586059, 0.9883373284258927, 0.9943156691149783, 0.9889392949242592, 0.9663752890721647, 0.21752462682433193, 0.23791756058911306, 0.17900464082418982, 0.009063526117680498, 0.0657105643531836, 0.29003283576577593, 0.0022658815294201245, 0.24910778656721852, 0.3647951315153844, 0.15115353828993938, 0.13426487479385676, 0.0008444331748041306, 0.05657702271187675, 0.011822064447257828, 0.009288764922845437, 0.021955262544907397, 0.9631910924212895, 0.03451805484200338, 0.9319874807340913, 0.6393682842198781, 0.2574080105300808, 0.06144578315879348, 0.004982090526388661, 0.013285574737036428, 0.021589058947684196, 0.9650647233382732, 0.026260264580633283, 0.9859998421026719, 0.950721035352872, 0.966121139052361, 0.9830901850652787, 0.9810243140309032, 0.9906579407518007, 0.9769169350415631, 0.008593481747670327, 0.8994510895894943, 0.012890222621505491, 0.040102914822461526, 0.030077186116846146, 0.008593481747670327, 0.15175044208767582, 0.8346274314822171, 0.18835659329427526, 0.44191354580579967, 0.05614475377040897, 0.018111210893680313, 0.0036222421787360628, 0.0018111210893680314, 0.041655785055464724, 0.0018111210893680314, 0.01267784762557622, 0.04527802723420078, 0.18292323002617117, 0.06941856355479811, 0.0954505248878474, 0.10412784533219717, 0.04049416207363223, 0.13594468696147963, 0.23428765199744364, 0.01446220074058294, 0.008677320444349764, 0.27188937392295925, 0.026031961333049292, 0.06290596731968909, 0.05358656475380922, 0.44966117380370346, 0.01164925320734983, 0.14212088912966792, 0.01863880513175973, 0.009319402565879865, 0.01863880513175973, 0.23065521350552665, 0.987830988432685, 0.9753365931301878, 0.9466799174634669, 0.9864102048474367, 0.9773102775326865, 0.9851379368617171, 0.11636354951039751, 0.8727266213279813, 0.9610461476543528, 0.02324825997293425, 0.23691083972418714, 0.28340735967005565, 0.27787205967649986, 0.17823665979249592, 0.005264814968390683, 0.014039506582375154, 0.05323312912483913, 0.11056111433620434, 0.0011699588818645961, 0.09769156663569378, 0.5779596876411105, 0.02749403372381801, 0.08306708061238632, 0.0023399177637291923, 0.024569136519156518, 0.0023399177637291923, 0.04339611094904938, 0.9547144408790865, 0.9657924072446199, 0.9768505337169612, 0.2997250630526997, 0.41858155357359783, 0.2790543690490652, 0.962299698778048, 0.4228396081594184, 0.5734400165449647, 0.9886745890677049, 0.983171851546041, 0.2262506010466938, 0.058330233082350746, 0.0017675828206772954, 0.3853330549076504, 0.08661155821318747, 0.030048907951514024, 0.20857477283992087, 0.7184821426835021, 0.2776604296426283, 0.9634798814249758, 0.021070136571917957, 0.013408268727584155, 0.9837786312176942, 0.9639978403657713, 0.992640582185747, 0.004889855084658852, 0.9867643388277257, 0.9620058252283822, 0.998390305616971, 0.9971715695841523, 0.9909751584000066, 0.060321713635637535, 0.29273772793765274, 0.3637044498619322, 0.07983756216481439, 0.008870840240534932, 0.01951584852917685, 0.010645008288641919, 0.030160856817818767, 0.049676705346995614, 0.06741838582806547, 0.015967512432962877, 0.986971603265236, 0.08212334359497851, 0.037328792543172055, 0.08958910210361293, 0.19410972122449469, 0.5972606806907529, 0.9767873850360157, 0.5059003315820765, 0.49413520759179563, 0.34253203704372326, 0.6569535421720042, 0.30459734033438174, 0.3310840655808497, 0.36286813587661126, 0.4078713483896031, 0.1605276792858679, 0.42916583645813655, 0.02881422877308838, 0.9673348230965384, 0.04579387756586461, 0.2113563579962982, 0.2465824176623479, 0.008806514916512425, 0.236014599762533, 0.10743948198145159, 0.13738163269759382, 0.00704521193320994, 0.9659858588254872, 0.9963832536294586, 0.993759126346332, 0.9904534537970971, 0.9811061943498125, 0.9557316344253797, 0.9875816593411012, 0.995134026387861, 0.9569241673501349, 0.9938831489271103, 0.07697356651885712, 0.9191549413722351, 0.2943321291151138, 0.6597099445683585, 0.043134880991008054, 0.19037990741540137, 0.19037990741540137, 0.6028697068154376, 0.48357816169393286, 0.1883295422085238, 0.004070523246581926, 0.045589860361717575, 0.0936220346713843, 0.1278144299426725, 0.0005427364328775902, 0.002713682164387951, 0.05373090685488143, 0.9807079201537346, 0.9792977393621349, 0.9838393964022273, 0.09266230883576533, 0.8802919339397707, 0.033469912402064476, 0.7326191936896336, 0.15247404538718262, 0.03718879155784942, 0.011156637467354827, 0.033469912402064476, 0.971816929478147, 0.3843942385046772, 0.012742350447668858, 0.056632668656306034, 0.028316334328153017, 0.12954722955130005, 0.03327169283557979, 0.0417665931340257, 0.009202808656649731, 0.24706001701313507, 0.037519142984802745, 0.012742350447668858, 0.004955358507426778, 0.34280717554207274, 0.04456493282046946, 0.05999125571986273, 0.07198950686383528, 0.42336686179445987, 0.023996502287945094, 0.010284215266262184, 0.02228246641023473, 0.9820181266290059, 0.9983392582816615, 0.9863341357171669, 0.12600437550886925, 0.8703092913054458, 0.9923867424264512, 0.959418449823038, 0.03162917966449576, 0.989774652652984, 0.007939368871548001, 0.3207481852430799, 0.6414963704861598, 0.9902237586776749, 0.9884071795369597, 0.47194979610270577, 0.020168794705243836, 0.03764841678312183, 0.29177523006919415, 0.0026891726273658447, 0.017479622077877992, 0.11563442297673134, 0.012101276823146302, 0.030925485214707216, 0.07488143106943476, 0.8611364572984999, 0.37487208734939226, 0.605562602641326, 0.9502749819137593, 0.03348730508608972, 0.9376445424105122, 0.9831834623095653, 0.14107501576922268, 0.63780133179699, 0.11025190308014882, 0.11025190308014882, 0.6409675886418303, 0.13991622878907212, 0.01323531893950682, 0.0791755686559783, 0.046796306250399114, 0.0014180698863757307, 0.056959140436091855, 0.004017864678064571, 0.011108214109943225, 0.0007090349431878654, 0.005435934564440302, 0.4273599440933866, 0.20032497379377498, 0.14467914773994858, 0.03783916171660194, 0.006677499126459166, 0.031161662590142775, 0.05564582605382638, 0.09571082081258138, 0.3115578733354245, 0.6750420588934197, 0.21884665071539824, 0.028869132647563172, 0.013968935152046696, 0.27192860429317567, 0.0027937870304093394, 0.3538796905185163, 0.018625246869395595, 0.054944478264717, 0.014900197495516476, 0.0027937870304093394, 0.0009312623434697797, 0.009312623434697798, 0.008381361091228019, 0.16582109974560338, 0.046061416596000944, 0.26024700376740534, 0.020727637468200423, 0.32473298700180664, 0.006909212489400142, 0.036849133276800755, 0.041455274936400846, 0.01612149580860033, 0.006909212489400142, 0.07369826655360151, 0.9699866639818403, 0.04358109695006519, 0.017250850876067474, 0.0018158790395860498, 0.16615293212212356, 0.07081928254385594, 0.020882608955239572, 0.6228465105780151, 0.03722552031151402, 0.0027238185593790746, 0.0045396975989651246, 0.012711153277102349, 0.9817649994838268, 0.7092987553300841, 0.11821645922168068, 0.02533209840464586, 0.00844403280154862, 0.0975754901512285, 0.017826291469935977, 0.014073388002581034, 0.007505806934709884, 0.9626571920257055, 0.03187606596111608, 0.1007106204802207, 0.8968040966572034, 0.968478213472588, 0.9736255658057011, 0.20179734481218267, 0.005605481800338407, 0.08408222700507612, 0.05605481800338408, 0.16816445401015223, 0.01401370450084602, 0.025224668101522834, 0.4428330622267342, 0.1402474203748643, 0.8414845222491858, 0.037442823487929454, 0.6515051286899726, 0.30703115260102154, 0.9647237173381075, 0.9913515073911752, 0.9949300751232927, 0.9772596272612604, 0.9812529650733653, 0.9635624416924876, 0.9886532665482614, 0.31920127802696274, 0.2744010986547574, 0.08080032351058455, 0.015200060858426798, 0.11360045483666344, 0.04000016015375473, 0.020000080076877366, 0.05520022101218153, 0.0024000096092252838, 0.07840031390135926, 0.03736313391087655, 0.010256546563770032, 0.7304126374341945, 0.14285904142393974, 0.013186988439132899, 0.011721767501451466, 0.05494578516305375, 0.9709543172580909, 0.9788508059032444, 0.014255108823833655, 0.9825989374917149, 0.4674421597438153, 0.2304749537625756, 0.09552885407462892, 0.07558836511730346, 0.0004637323013331501, 0.015303165943993953, 0.025969008874656405, 0.016230630546660255, 0.012057039834661902, 0.028751402682655306, 0.031997528791987355, 0.953223899757275, 0.9870633289862324, 0.9919896497406545, 0.9473721052710342, 0.119188451796731, 0.24720567780062727, 0.00441438710358263, 0.24279129069704464, 0.3840516780116888, 0.08429143395892408, 0.9061329150584339, 0.24680143618709646, 0.37041979223142696, 0.12100670063494323, 0.0800907658878761, 0.0692088683487625, 0.000435275901564544, 0.07007942015189159, 0.005658586720339072, 0.010011345735984513, 0.010011345735984513, 0.014364104751629952, 0.001305827704693632, 0.9822796300662617, 0.9887502440168009, 0.9914119025032876, 0.9691158134496756, 0.8773709814617378, 0.996387687516298, 0.7187279021262907, 0.09082825136760816, 0.12242068662590665, 0.04607230141835197, 0.017112569098245014, 0.0026327029381915407, 0.3125383800986172, 0.5017706024239518, 0.03296303227602603, 0.00732511828356134, 0.030521326181505583, 0.024417060945204468, 0.0891222724499963, 0.8988061391340223, 0.046092622519693455, 0.03456946688977009, 0.019205259383205605, 0.04241401772465953, 0.9559467071788648, 0.085656090016292, 0.9110693210823786, 0.006599031460154889, 0.13857966066325267, 0.19137191234449177, 0.06599031460154889, 0.5081254224319265, 0.09238644044216844, 0.9665765866499492, 0.9766210838878231, 0.7861562759238647, 0.006070704833388917, 0.16390903050150074, 0.03945958141702796, 0.0543013477002328, 0.021019876529122374, 0.22771532906549238, 0.6936559254610384, 0.0017516563774268646, 0.0017516563774268646, 0.9876938757014466, 0.17154808354812473, 0.12253434539151765, 0.004595037952181912, 0.42580685023552384, 0.07045724860012265, 0.2037133492133981, 0.9876356876829889, 0.9894788242503735, 0.945032003117385, 0.5566056521747128, 0.26490447820144514, 0.07273388852351817, 0.031390415046992054, 0.0007656198791949282, 0.014546777704703634, 0.0244998361342377, 0.01224991806711885, 0.018374877100678276, 0.0030624795167797127, 0.343551081086421, 0.0620875447746544, 0.40977779551271903, 0.016556678606574508, 0.03725252686479264, 0.1241750895493088, 0.9544860894379783, 0.9094586219630716, 0.031831051768707506, 0.050020224207968936, 0.9288354812666452, 0.06826087526369046, 0.9964576840297692, 0.23725927115624748, 0.1825071316586519, 0.5657721081418209, 0.29555475230438194, 0.07900968625958725, 0.049746839496777155, 0.023410277410248072, 0.21069249669223267, 0.026336562086529083, 0.31311246036206797, 0.9900956316272126, 0.9822274720980935, 0.87759692145268, 0.021939923036316998, 0.09507299982404033, 0.9660035507110637, 0.06004726256779209, 0.9225443067233512, 0.016376526154852387, 0.9875201242435075, 0.9791654722766185, 0.9562687333085154, 0.2191480084322167, 0.15412607186441615, 0.5948303086017311, 0.03130685834745953, 0.13488419166698606, 0.06606572653076868, 0.0027527386054486953, 0.2972957693884591, 0.02477464744903826, 0.1679170549323704, 0.019269170238140867, 0.2862848149666643, 0.006854950319005973, 0.06169455287105376, 0.9288457682253093, 0.9545592963242207, 0.9650858506395553, 0.8305908756953007, 0.010108611063228811, 0.0016847685105381353, 0.15668347148004658, 0.9392012402244361, 0.010826527264834998, 0.04601274087554874, 0.9824456260582695, 0.9929497265321101, 0.9931486842777579, 0.8957373433802297, 0.10195384396197738, 0.9939205050943167, 0.9859439194901254, 0.9819566600713755, 0.031551828431558404, 0.9570721290906049, 0.9942081981621608, 0.9987303536303193, 0.9889333955003762, 0.9893689142886292, 0.4065028551575086, 0.5901819230434939, 0.9863440957738585, 0.6944928026629988, 0.1975286575124237, 0.015263578080505468, 0.041750375337853196, 0.0017957150682947612, 0.0017957150682947612, 0.041750375337853196, 0.0053871452048842835, 0.0004489287670736903, 0.9678376629406631, 0.9902298334400986, 0.00607502965300674, 0.9313002565196287, 0.05173890313997937, 0.23114284289270406, 0.028892855361588008, 0.7367678117204942, 0.08850701215420467, 0.9047383464652033, 0.38621034056123676, 0.20835031530277248, 0.40145548558339084, 0.08870528352909343, 0.44352641764546713, 0.11175468791066888, 0.046098808763150916, 0.03771720716985075, 0.1550596294760531, 0.05587734395533444, 0.006984667994416805, 0.03771720716985075, 0.005587734395533444, 0.010477001991625209, 0.9965026394746926, 0.942377225967254, 0.07844177983262239, 0.10238716525521238, 0.018165464803344133, 0.1411952036987203, 0.1923887863263265, 0.18413175687026098, 0.25431650724681787, 0.0272481972050162, 0.0008257029456065515, 0.7514859752923566, 0.22753325363018573, 0.016699688339830147, 0.3168249157117095, 0.09821572387062995, 0.14890771038450346, 0.066533232299459, 0.08871097639927866, 0.0633649831423419, 0.19801557231981845, 0.020593619521261118, 0.026257119583739667, 0.8552318950132349, 0.09377542708478452, 0.015004068333565525, 0.007502034166782762, 0.0787257048047541, 0.3036562899611944, 0.6073125799223889, 0.17110915623827774, 0.8260442025296167, 0.9921369815535702, 0.9887337391654833, 0.9936573809766657, 0.9510897266537978, 0.9734289786405798, 0.42553768120116064, 0.11313215006292664, 0.020673895442971366, 0.17687666101208835, 0.005168473860742841, 0.00459419898732697, 0.1780252107589201, 0.04823908936693319, 0.008039848227822197, 0.007465573354406327, 0.012634047215149168, 0.9644665729529612, 0.08065214871165441, 0.6638292240113094, 0.1799163317413829, 0.031020057196790157, 0.03412206291646917, 0.0062040114393580315, 0.9429136508611791, 0.02035065433513336, 0.033917757225222264, 0.11349916244226636, 0.21718975529075663, 0.01681469073218761, 0.04764162374119822, 0.5464774487960973, 0.056048969107292027, 0.1021741404425687, 0.22031299032928878, 0.03192941888830272, 0.6385883777660544, 0.006385883777660544, 0.08993512853638805, 0.9057752231164796, 0.12493913701453266, 0.865649735029262, 0.06469460084074394, 0.9057244117704152, 0.0304291432642805, 0.9661252986409058, 0.9791584243299203, 0.9942138349034503, 0.17817203003120818, 0.07372635725429304, 0.00614386310452442, 0.7372635725429304, 0.9956309790806757, 0.1017220935075633, 0.0498230662077861, 0.13078554879543852, 0.1480852245620309, 0.024219546073229355, 0.15777304299132267, 0.11071792490619134, 0.04013524777849436, 0.02352755904256566, 0.13216952285676592, 0.026295507165220444, 0.04913107917712241, 0.004151922183982176, 0.0006919870306636959, 0.9532706865740842, 0.9394924594132552, 0.9788931059741481, 0.008400056777819541, 0.9492064158936081, 0.03780025550018793, 0.1539904945809731, 0.07279550652918729, 0.013999135870997555, 0.013999135870997555, 0.7447540283370699, 0.9755213208071879, 0.9644493424941291, 0.15446872806460074, 0.0649634837654863, 0.043308989176990866, 0.2439739723637152, 0.099610675107079, 0.30316292423893604, 0.015879962698229985, 0.023098127561061794, 0.02742902647876088, 0.018767228643362707, 0.0043308989176990866, 0.9895730494129579, 0.13252768200076082, 0.3873886089253008, 0.0050972185384908, 0.0305833112309448, 0.4434580128486996, 0.9973447885609612, 0.09584604541715856, 0.37641356018375, 0.01045593222732639, 0.09758870078837963, 0.07144887022006366, 0.03659576279564236, 0.07841949170494791, 0.0034853107424421296, 0.22480254288751736, 0.005227966113663195, 0.9855875611411394, 0.9874347726776312, 0.08807605910115547, 0.8406246653452054, 0.07023786991611133, 0.5547966497436058, 0.04956946011454897, 0.29551024299058043, 0.09913892022909794, 0.9749805070588693, 0.9645521152114386, 0.02894463160917521, 0.04548442110013247, 0.30185115820997, 0.4507092636285854, 0.1364532633003974, 0.03307957898191452, 0.9962635994958298, 0.992338212971078, 0.020612276366376008, 0.07557834667671204, 0.034353793943960015, 0.054966070310336027, 0.8176202958662484, 0.21067144740049656, 0.2114880033981729, 0.11758406366539342, 0.07920593177460529, 0.05960858783037305, 0.035111907900082756, 0.192707215451617, 0.013881451960497835, 0.005715891983734403, 0.04817680386290425, 0.02286356793493761, 0.0008165559976763432, 0.9589105378597338, 0.9852359683952358, 0.9681190330645161, 0.9460043753644941, 0.18712234795626476, 0.7983886846133963, 0.9969995907753583, 0.061607326810133596, 0.46821568375701533, 0.3696439608608016, 0.09857172289621376, 0.9924055621560548, 0.17961862361610548, 0.32157895892642013, 0.26840089119763666, 0.0025105525537193903, 0.17391282235765232, 0.015291547372654469, 0.003423480755071896, 0.03400657550038084, 0.0013693923020287584, 0.015560517725808807, 0.12448414180647045, 0.015560517725808807, 0.3112103545161761, 0.2256275070242277, 0.3034300956532717, 0.07199094146004996, 0.037023912750882834, 0.19540398396299274, 0.008227536166862852, 0.05759275316803997, 0.037023912750882834, 0.5903257199724097, 0.006563311366955571, 0.5775714002920902, 0.4134886161182009, 0.9866059184721424, 0.12014951786412505, 0.4392966746907072, 0.0244053708161504, 0.3304111741263439, 0.08260279353158598, 0.9874275657579528, 0.9572737169879851, 0.4400116008340975, 0.007652375666679956, 0.022957127000039868, 0.030609502666719825, 0.4974044183341972, 0.16603005542243918, 0.12958443350044033, 0.14578248768799537, 0.00809902709377752, 0.17007956896932794, 0.00809902709377752, 0.36445621921998844, 0.9934771105348664, 0.9876874771230074, 0.9883804855467493, 0.04509306765815265, 0.9469544208212056, 0.6843884205452658, 0.09125178940603544, 0.2190042945744851, 0.9943562653070238, 0.9850310707659081, 0.9829372757723758, 0.9871136937810082, 0.9915213086007373, 0.03136391757341898, 0.0495219751159247, 0.0495219751159247, 0.5794071088563191, 0.02641172006182651, 0.26246646811440094, 0.049788073933459256, 0.10455495526026444, 0.8314608346887696, 0.014936422180037778, 0.8649096635655437, 0.13027927986761326, 0.9970589308344444, 0.2944795458996155, 0.005663068190377221, 0.6965573874163982, 0.9934120103352241, 0.9920362102805849, 0.13013859320885535, 0.1394342070094879, 0.01487298208101204, 0.053914560043668645, 0.03160508692215058, 0.30551584024745565, 0.25531952572404004, 0.003098537933544175, 0.0656890041911365, 0.9790258563889939, 0.3552631286016012, 0.4299408882872439, 0.044226634376934026, 0.0558270630659659, 0.021750803791934767, 0.0036251339653224613, 0.027551018136450705, 0.036976366446289106, 0.010875401895967383, 0.012325455482096369, 0.9897378564994993, 0.12073158587307183, 0.1838412784885412, 0.016463398073600703, 0.03567069582613486, 0.16737788041494048, 0.03841459550506831, 0.43628004895041866, 0.8544296097555824, 0.12030761746558487, 0.024552574992976504, 0.8861218963828251, 0.006515602179285479, 0.10424963486856767, 0.9965784329826742, 0.9902504864576824, 0.6626359178459992, 0.3172193223730847, 0.017623295687393594, 0.145881304267426, 0.8497585973577563, 0.3621262328687297, 0.26760900856651404, 0.005693808692904555, 0.004555046954323644, 0.003416285215742733, 0.002277523477161822, 0.2698865320436759, 0.03757913737317006, 0.044411707804655524, 0.13403826848322442, 0.11813542306996051, 0.04543670118075404, 0.07269872188920647, 0.07269872188920647, 0.5134347233425207, 0.02499018564941472, 0.01135917529518851, 0.006815505177113107, 0.08852587151573268, 0.30171062332912973, 0.018066504390965854, 0.01625985395186927, 0.01625985395186927, 0.5582549856808449, 0.9961125191465715, 0.9538799354200896, 0.9900968672235586, 0.35437463666291763, 0.007177207831147699, 0.16597293109529054, 0.034988888176845034, 0.07715498418483777, 0.11483532529836318, 0.0017943019577869247, 0.017045868598975784, 0.08433219201598546, 0.14174985466516707, 0.9730072371665626, 0.0112644089534135, 0.08206926523201263, 0.9059803201102571, 0.22105892421288423, 0.04967616274446837, 0.0024838081372234185, 0.06209520343058546, 0.11425517431227725, 0.01490284882334051, 0.019870465097787348, 0.06457901156780887, 0.26328366254568236, 0.1887694184289798, 0.8328734942527787, 0.07250461222289814, 0.04647731552749881, 0.011154555726599714, 0.03532275980089909, 0.9787569607078411, 0.3939131828344451, 0.019944971282756716, 0.033241618804594524, 0.14127687991952673, 0.3839406971930668, 0.026593295043675618, 0.22241952356830458, 0.771369837056035, 0.9978523815731057, 0.0270148537980185, 0.9320124560316383, 0.040522280697027756, 0.9781100815858363, 0.17481500723325236, 0.8216305339962862, 0.0219392210399679, 0.3263459129695225, 0.016454415779975924, 0.01919681840997191, 0.37845156293944626, 0.14534733938978733, 0.09049928678986759, 0.7246284454128944, 0.11879154842834334, 0.018275622835129745, 0.0721887101987625, 0.021016966260399207, 0.03380990224499003, 0.010965373701077847, 0.9919847035886552, 0.3594256048837676, 0.16218709112936952, 0.051091904165295896, 0.17882166457853563, 0.0005940919088987895, 0.23823085546841458, 0.003564551453392737, 0.005346827180089105, 0.9906574956958465, 0.10975593778674803, 0.045731640744478344, 0.8323158615495059, 0.9887967040207336, 0.5464825986417811, 0.30861628896511295, 0.018907322051222336, 0.08477799242322273, 0.040864212175222465, 0.004999446306197053, 0.6249307882746317, 0.04332853465370779, 0.10832133663426947, 0.019997785224788213, 0.1499833891859116, 0.04832798095990484, 0.8532940670633397, 0.9750502010294733, 0.9899230083633553, 0.9194026553386377, 0.0770756717050355, 0.981621945058704, 0.9838214304796281, 0.9680274185331572, 0.9596020813983773, 0.3674698036407488, 0.05280357882227769, 0.21013669123151327, 0.2791046309177535, 0.011853864633572542, 0.07758893214702028, 0.9612640316741329, 0.20932900330965862, 0.7809582046552649, 0.940985335188623, 0.9950917270086708, 0.9870284202158659, 0.9812865680336436, 0.26225300363362397, 0.4842938800434256, 0.08129843112642343, 0.05245060072672479, 0.0507022473691673, 0.019231886933132426, 0.04807971733283106, 0.9964446020646133, 0.9811945110691951, 0.848835428813123, 0.9724488967218872, 0.05782453554386719, 0.17925606018598828, 0.011564907108773437, 0.10986661753334766, 0.6360698909825391, 0.17874969249070297, 0.046128952900826574, 0.22487864539152955, 0.02883059556301661, 0.12973768003357475, 0.3892130401007242, 0.2575244750216708, 0.1287622375108354, 0.1900775887064713, 0.42307592324988774, 0.9825421738179133, 0.9738315677893936, 0.19268116279337533, 0.36259830635377804, 0.04471503777905334, 0.17235614562107834, 0.007317006182026911, 0.12032410165999809, 0.050406042587296494, 0.03902403297081019, 0.009756008242702547, 0.0008130006868918789, 0.7452673730049559, 0.20908533872600313, 0.005130928557693328, 0.001282732139423332, 0.029502839206736638, 0.005130928557693328, 0.005130928557693328, 0.9958078453252556, 0.31660009372742215, 0.5408584934510128, 0.08310752460344831, 0.04089417877312536, 0.0013191670571975921, 0.009234169400383145, 0.006595835285987961, 0.9696431275327703, 0.978023998828006, 0.9846319104829889, 0.9649844721696401, 0.8892043811579651, 0.8800912038591107, 0.11001140048238883, 0.9899953309462663, 0.9761390434307439, 0.9274616663665238, 0.056690810902599253, 0.011338162180519851, 0.9932347175835358, 0.832830023911473, 0.15170509729242446, 0.012384089574891791, 0.07881282978875591, 0.9007180547286389, 0.016888463526161978, 0.9702419236046879, 0.079251568700248, 0.911393040052852, 0.9825499467630906, 0.028758181680312547, 0.16370041879562527, 0.07963804157625012, 0.6968328637921887, 0.022121678215625037, 0.008848671286250014, 0.038533669635688, 0.11560100890706401, 0.8422359220371807, 0.06819365246757686, 0.07537193167469021, 0.12023617671914866, 0.3158442851129875, 0.41813476381435283, 0.05732378802204775, 0.7643171736273033, 0.15286343472546068, 0.8799169820803049, 0.11254752096375992, 0.0022336699477903178, 0.14742221655416096, 0.14742221655416096, 0.08487945801603207, 0.5159777579395634, 0.022336699477903177, 0.042439729008016035, 0.006701009843370953, 0.031271379269064446, 0.9835391932540565, 0.9687101153843832, 0.026181354469848196, 0.6526521484959553, 0.34610341208118844, 0.9939316949519839, 0.9726096143646954, 0.47523808134590156, 0.09811366840689581, 0.27236763156705973, 0.026061443170581698, 0.06183205144392913, 0.000511008689619249, 0.011242191171623478, 0.042413721238397664, 0.01022017379238498, 0.002555043448096245, 0.9305121529934032, 0.03301151762282583, 0.014442538959986302, 0.020632198514266144, 0.994607929704252, 0.08922527373084417, 0.08922527373084417, 0.0059483515820562775, 0.41638461074393945, 0.1606054927155195, 0.017845054746168834, 0.017845054746168834, 0.02974175791028139, 0.1606054927155195, 0.967924773837007, 0.9692711796090201, 0.9868543860051514, 0.9473048094098967, 0.9481206153444015, 0.9904259849010177, 0.9795253772298742, 0.9775700875073892, 0.22740455886775574, 0.07580151962258525, 0.6703696891622383, 0.02368797488205789, 0.9806458999553299, 0.3232268132262196, 0.49052511353928807, 0.01624255342845325, 0.16567404497022312, 0.0016242553428453246, 0.11488723034445117, 0.300662326220585, 0.0659990472191528, 0.05622141059409313, 0.4448824664402152, 0.01466645493758951, 0.9752672017037799, 0.052521879297035556, 0.6512713032832409, 0.2941225240633991, 0.07753625769033676, 0.4383780723261348, 0.48311052868594445, 0.9886431341020504, 0.1381802616766586, 0.8521116136727279, 0.33595414318157624, 0.2571500849044164, 0.04562340216046097, 0.1700508625980818, 0.1907887726710186, 0.17696751515544065, 0.15259474360708655, 0.045566485938227236, 0.001589528579240485, 0.4927538595645503, 0.0005298428597468283, 0.02543245726784776, 0.10225967193113787, 0.002119371438987313, 0.9812460943776424, 0.01577566068131258, 0.9710149238644213, 0.9559316806657918, 0.9773711619898074, 0.9945484710355555, 0.9890370170356793, 0.6978917819480337, 0.2882596490654922, 0.2935252682730308, 0.055909574909148725, 0.6429601114552104, 0.9541297766458428, 0.1886356785705162, 0.21204302554641966, 0.038553277372076304, 0.004130708289865318, 0.4764083560978, 0.07022204092771041, 0.0013769027632884393, 0.006884513816442197, 0.1337964885143477, 0.8613148948111133, 0.16425316925003489, 0.023843201987908288, 0.22253655188714402, 0.013246223326615715, 0.16955165858068116, 0.15630543525406546, 0.24902899854037547, 0.08673949957957156, 0.9020907956275442, 0.9871023091110741, 0.9883120892192173, 0.5567961420484806, 0.43106798094075915, 0.7502479438208242, 0.24780916932263583, 0.9747037212118578, 0.9403535573165797, 0.998922923614554, 0.9880871636630364, 0.9654814671937408, 0.99779558724474, 0.23134581354444228, 0.13880748812666538, 0.629260612840883, 0.23598382526859077, 0.07238159346473583, 0.20227185023022065, 0.04660184784715868, 0.09419522437191648, 0.028754331650374505, 0.0664324213991411, 0.13683095750867869, 0.03470350371596923, 0.000991528677599121, 0.08031382288552878, 0.20831725603520385, 0.6361116211074975, 0.15251799102577424, 0.12445454199504756, 0.08515310768082202, 0.77947844723214, 0.16174130230400763, 0.1956870077258364, 0.6030354727877816, 0.009984031006420225, 0.029952093019260672, 0.03849322111528138, 0.95805350331367, 0.2715941868463885, 0.06691450980273339, 0.6593047289386966, 0.9531428063959111, 0.45222276680678447, 0.044941392974587276, 0.044941392974587276, 0.44379625562404934, 0.011235348243646819, 0.4422454171987211, 0.02680275255749825, 0.5226536748712158, 0.9616705399795334, 0.3607805450598566, 0.626618841419751, 0.9792424930025968, 0.002041037901569113, 0.00306155685235367, 0.009184670557061009, 0.02959504957275214, 0.019389860064906575, 0.09388774347217921, 0.7184453413523278, 0.05510802334236605, 0.016328303212552905, 0.04898490963765872, 0.00306155685235367, 0.9894513175292773, 0.9499842557265313, 0.9864972461785663, 0.0978083690711918, 0.03073977313666028, 0.14531529119148495, 0.06427407110392604, 0.06706859593453152, 0.43315134874384936, 0.02515072347544932, 0.08104122008755892, 0.00838357449181644, 0.04471239728968768, 0.9531479559876039, 0.8046047590432679, 0.19406051702342267, 0.2836156449316972, 0.0465939988102074, 0.03241321656362254, 0.004051652070452817, 0.5388697253702247, 0.014180782246584861, 0.07698138933860353, 0.9825360758207821, 0.983236350589716, 0.9521979546614023, 0.9945560929474767, 0.9833145759379126, 0.0037215279261029084, 0.9862049004172707, 0.007443055852205817, 0.9864527114473088, 0.21846310843962738, 0.024731672653542723, 0.3215117444960554, 0.17724365401705616, 0.06595112707611392, 0.19373143578608465, 0.04167459215625727, 0.2500475529375436, 0.15002853176252617, 0.550104616462596, 0.9942844332836683, 0.9884979930396116, 0.48142618432480727, 0.08300451453875987, 0.41502257269379933, 0.9850365587380477, 0.9915829575088908, 0.009102167634492066, 0.009102167634492066, 0.11832817924839685, 0.039442726416132286, 0.09405573222308468, 0.6826625725869049, 0.027306502903476196, 0.015170279390820109, 0.04585816543404999, 0.21782628581173744, 0.007643027572341665, 0.7260876193724581, 0.22807878914278673, 0.341220235725429, 0.3735463633204696, 0.04848919139256096, 0.00718358391000903, 0.9838482990969599, 0.9613516707252708, 0.2571971768487829, 0.7348490767108083, 0.984056911718609, 0.9885490876985351, 0.977244802633685, 0.10851378526907698, 0.01033464621610257, 0.45989175661656434, 0.01033464621610257, 0.40305120242800024, 0.9826043110431307, 0.986929957228784, 0.9763269398001884, 0.19970086957848024, 0.659881134259326, 0.07814381853070966, 0.014471077505686974, 0.034730586013648736, 0.01157686200454958, 0.9838258053930938, 0.5979232012240169, 0.0009128598491969724, 0.21908636380727337, 0.16705335240304595, 0.013692897737954585, 0.991247371765311, 0.18116329747022528, 0.8129122322381903, 0.5110384652463168, 0.2564033822170102, 0.0005894330625678395, 0.06306933769475882, 0.08075232957179401, 0.027113920878120618, 0.05953273931935179, 0.9935888992241354, 0.4095679151718223, 0.005572352587371731, 0.04736499699265972, 0.12537793321586396, 0.07244058363583251, 0.03343411552423039, 0.0027861762936858656, 0.30369321601175936, 0.2419039256674027, 0.1511899535421267, 0.3023799070842534, 0.3048997396432888, 0.9526462384806312, 0.02650120267078182, 0.15105685522345638, 0.010600481068312729, 0.42269418259897007, 0.20140914029794185, 0.09275420934773637, 0.08347878841296273, 0.01192554120185182, 0.04522228075565024, 0.47277838971816166, 0.07400009578197313, 0.053444513620313924, 0.06577786291730944, 0.283667033830897, 0.09278393416924599, 0.24416824781380525, 0.12696748886317874, 0.5274034152778193, 0.9993265321338868, 0.9876425499915956, 0.9945317299163035, 0.16558944974708215, 0.8113883037607026, 0.967980124103639, 0.49641067506451464, 0.005598616636065954, 0.016795849908197862, 0.4628189752481189, 0.014929644362842545, 0.9522264947920946, 0.9247118286907048, 0.9634009966070727, 0.031077451503453958, 0.9683797662323359, 0.3371483487924271, 0.003989921287484345, 0.023939527724906068, 0.5107099247979962, 0.039899212874843444, 0.08378834703717124, 0.10485993036419071, 0.03803742572034369, 0.7453279364121399, 0.04626173398420179, 0.011308423862804881, 0.028785078923503335, 0.0020560770659645237, 0.023644886258592023, 0.004834377181101219, 0.7106534456218793, 0.02094896778477195, 0.012891672482936585, 0.11119067516532805, 0.11441359328606218, 0.017726049664037805, 0.006445836241468292, 0.9890356618522436, 0.0765220901449858, 0.9029606637108325, 0.9367866016392868, 0.9916158923874678, 0.9882781515191538, 0.9146341073499134, 0.0722079558434142, 0.9763045356930813, 0.9485744394734341, 0.5350881256580661, 0.14666370402893175, 0.033484863933546063, 0.03549395576955883, 0.13193036389817148, 0.02812728570417869, 0.0535757822936737, 0.013393945573418425, 0.0221000101961404, 0.9745380830576439, 0.882909811266946, 0.11356931182271919, 0.08044312312901827, 0.3378611171418767, 0.12334612213116135, 0.010725749750535769, 0.10457606006772376, 0.3378611171418767, 0.4078437669774102, 0.07069291960941776, 0.5166021048380529, 0.015157750398693406, 0.35772290940916435, 0.0788203020732057, 0.39713306044576724, 0.14854595390719538, 0.9794269919660769, 0.9911874080839774, 0.34505408952335687, 0.0530852445420549, 0.509618347603727, 0.05839376899626039, 0.02654262227102745, 0.9932105772377406, 0.6239467945584032, 0.1276254807051279, 0.02520997149730922, 0.08587146541270953, 0.023634348278727395, 0.03466371080880018, 0.03466371080880018, 0.007878116092909131, 0.013392797357945524, 0.023634348278727395, 0.18849682924586247, 0.803591745732361, 0.9686534822973876, 0.9812744543544405, 0.9760880530687286, 0.9845362796940741, 0.9499673044607607, 0.9879653296033345, 0.9804036877047446, 0.9900734269761727, 0.9930381936700892, 0.969706336935733, 0.06078727910632539, 0.08232607878966904, 0.048342639289282396, 0.144549277874884, 0.07753967886003711, 0.1435919978889576, 0.27521799595383545, 0.14119879792414164, 0.00717959989444788, 0.018188319732601297, 0.070931720809556, 0.16739886111055213, 0.13760753837053863, 0.39012446445255794, 0.13902617278672974, 0.08795533380384943, 0.004255903248573359, 0.5609335815395293, 0.1991314214465329, 0.054691024200104105, 0.02594317814620323, 0.09746220979249322, 0.009816337676941763, 0.023839677215429997, 0.0028046679076976465, 0.015425673492337056, 0.009115170700017352, 0.8266925934957118, 0.16000501809594422, 0.10513433449535967, 0.2676146696245519, 0.6212483401998525, 0.9793480225237079, 0.030392206903409887, 0.9674852530918814, 0.0012663419543087451, 0.9974940201398672, 0.20060030492469158, 0.17808394416783846, 0.5178762974076222, 0.10234709434933244, 0.972054491444775, 0.9873386723360549, 0.9852072271188568, 0.9908994167087312, 0.14534461576868157, 0.330328672201549, 0.0990986016604647, 0.12552489543658862, 0.15195118921271253, 0.14534461576868157, 0.23991109342928466, 0.012626899654172878, 0.6124046332273846, 0.025253799308345756, 0.06944794809795082, 0.03788069896251863, 0.30306518530818083, 0.6612331315814854, 0.1865276795795381, 0.0037912129995841077, 0.19941780377812407, 0.11525287518735688, 0.4640444711490948, 0.006065940799334572, 0.020472550197754184, 0.00454945559950093, 0.953029288999592, 0.05988968247508069, 0.7755713880522949, 0.12876281732142347, 0.032939325361294375, 0.7056837918188049, 0.23177331480297197, 0.007537343570828357, 0.0037686717854141785, 0.0028265038390606336, 0.038628885800495324, 0.0018843358927070892, 0.006595175624474812, 0.463999005414016, 0.3842610421268283, 0.0007594091741636923, 0.04632395962398523, 0.09188851007380677, 0.0007594091741636923, 0.012150546786619077, 0.517916001168997, 0.3335466249260348, 0.009654477472182147, 0.011523086015185143, 0.012145955529519475, 0.03861790988872859, 0.07630151550595568, 0.1024339082081573, 0.002179444855492709, 0.11333113248562085, 0.006538334566478126, 0.2506361583816615, 0.05230667653182501, 0.06320390080928855, 0.21576504069377817, 0.04140945225436146, 0.1482022501735042, 0.8095048529521113, 0.1375463303453293, 0.22007412855252687, 0.6052038535194489, 0.26513354327586963, 0.018524614377353334, 0.012735672384430418, 0.005788941992922917, 0.2882893112475613, 0.1192522050542121, 0.053258266334890836, 0.02315576797169167, 0.12040999345279668, 0.025471344768860836, 0.004631153594338334, 0.025471344768860836, 0.02431355637027625, 0.013893460783015002, 0.9844848819835084, 0.5306495502717353, 0.14200923429415296, 0.0298470735795233, 0.06220758493416435, 0.10336512850171754, 0.04964039605857559, 0.0015708986094485947, 0.02136422108850089, 0.0298470735795233, 0.00911121193480185, 0.01885078331338314, 0.0015708986094485947, 0.9841124629504642, 0.9887864841602652, 0.992634665001532, 0.15789570899412766, 0.1924353953365931, 0.11513228780821809, 0.009868481812132979, 0.13486925143248404, 0.031250192405087765, 0.09210583024657447, 0.19736963624265957, 0.07072411965361969, 0.38466202289370555, 0.0646358317157456, 0.015764837003840394, 0.4571802731113714, 0.04256505991036906, 0.034682641408448865, 0.08175446050156246, 0.9109782741602673, 0.4562718856572579, 0.009918954036027347, 0.4622232580788743, 0.02380548968646563, 0.04761097937293126, 0.9913498188425026, 0.9903463990657471, 0.029910118076781053, 0.04486517711517158, 0.024925098397317543, 0.7676930306373804, 0.029910118076781053, 0.10468541326873368, 0.9870682336813453, 0.9821059235411131, 0.9667922043161086, 0.9919056243288956, 0.9490498381532287, 0.9873038449051318, 0.9469298835883748, 0.9611134128262119, 0.1909167547331223, 0.019750009110323, 0.11191671829183032, 0.6780836461210896, 0.9305807358476954, 0.7680986850504099, 0.20332024016040262, 0.9686183829949827, 0.9876875856075222, 0.1055983032886406, 0.579830683512172, 0.1411177325766379, 0.054719120795022856, 0.007679876602810226, 0.040319352164753686, 0.045119275041510074, 0.023039629808430676, 0.0019199691507025564, 0.9630754121109302, 0.9484405740369095, 0.004473776292626932, 0.046974651072582786, 0.988974950310397, 0.9961194248078468, 0.998523297853113, 0.9971536676264628, 0.9273200062145215, 0.9664901162008224, 0.9452622493267665, 0.9638455956408503, 0.6657891201737491, 0.036410342509501904, 0.1378391537859715, 0.1430406312873289, 0.013003693753393537, 0.033485094351927217, 0.4193609435503266, 0.4767639624393447, 0.06856471700632716, 0.7252779840348105, 0.27295408001310073, 0.9304812072807963, 0.057260381986510546, 0.9674743625423154, 0.961902523554017, 0.31913525393168013, 0.1342944935023064, 0.08771263966755806, 0.15708986878314068, 0.000495551636539876, 0.03221085637509194, 0.003964413092319008, 0.08919929457717768, 0.0951459142156562, 0.08027936511945992, 0.000991103273079752, 0.06793682256218497, 0.007992567360257056, 0.027973985760899694, 0.8951675443487902, 0.01722353484296819, 0.6391845152834862, 0.2698353792065017, 0.051670604528904575, 0.021050987030294458, 0.006929620944424182, 0.21481824927714965, 0.6721732316091457, 0.10394431416636273, 0.18155004437590194, 0.03849117548605695, 0.06607651791773109, 0.41955381279802073, 0.059661322003388265, 0.14498342766414782, 0.07569931178924533, 0.008981274280079955, 0.0044906371400399775, 0.9923146969454565, 0.314977415830175, 0.075594579799242, 0.40317109226262404, 0.20158554613131202, 0.02054155990686793, 0.05135389976716982, 0.0030812339860301894, 0.8298790202374643, 0.0842203956181585, 0.01129785794877736, 0.9857447166991056, 0.05828986620488995, 0.03955383778188961, 0.8805933358810161, 0.01873602842300034, 0.0020817809358889268, 0.3916015679194229, 0.015664062716776915, 0.5874023518791344, 0.9859357750300893, 0.8822366465018223, 0.9867927521245685, 0.9746182945752905, 0.9665053408274697, 0.9802093206587352, 0.9908463585044246, 0.5833560382941323, 0.12686268712674942, 0.03078676089268396, 0.1295167182381877, 0.06104271556308027, 0.040341272893861746, 0.019639830224643218, 0.006900480889739509, 0.1781423681673195, 0.19068760536220114, 0.11290713475393488, 0.13297951426574553, 0.333703309383852, 0.05018094877952661, 0.970153417611989, 0.9583776475295279, 0.9701193956162703, 0.026397806683435925, 0.985376049527257, 0.9798033226656389, 0.4730411387016013, 0.20563731029544133, 0.10168877981642703, 0.047454763914332614, 0.05762364189597532, 0.009415627760780282, 0.021467631294579043, 0.048208014135195036, 0.03050663394492811, 0.003389625993880901, 0.0011298753312936338, 0.24470686003389472, 0.6343059398247007, 0.003219827105709141, 0.11591377580552907, 0.9866816852026459, 0.18510293430054442, 0.0025708740875075614, 0.06427185218768904, 0.03856311131261342, 0.07198447445021172, 0.06684272627519659, 0.046275733575136105, 0.046275733575136105, 0.29050877188835444, 0.005141748175015123, 0.1131184598503327, 0.05141748175015123, 0.015425244525045368, 0.9402406226712479, 0.884518806784862, 0.9969251894473914, 0.9965357893076728, 0.13116450777913918, 0.05246580311165567, 0.8079733679194974, 0.948558484663537, 0.047485833786575116, 0.0023163821359304935, 0.7135463582580194, 0.008457984850041178, 0.2714244229149578, 0.0061512617091208565, 0.1708822497366588, 0.3572992494493775, 0.4505077493057369, 0.982159680092448, 0.08480068574060262, 0.9096800833991918, 0.9909342384917906, 0.9907760894794091, 0.9810120655483587, 0.015209489388346648, 0.9696239754314326, 0.08758964026669647, 0.8943363269336375, 0.013829943200004705, 0.1054481996391234, 0.02314716577444172, 0.7458531193986777, 0.12345155079702251, 0.03536638700046824, 0.5766258750076344, 0.04459240100059039, 0.11686284400154724, 0.1291641960017101, 0.03997939400052932, 0.0369040560004886, 0.0184520280002443, 0.44382475885013445, 0.09367729787827807, 0.0034272182150589534, 0.17136091075294768, 0.029131354828001103, 0.0011424060716863178, 0.0005712030358431589, 0.14851278931922132, 0.0028560151792157945, 0.08453804930478752, 0.01542248196776529, 0.0005712030358431589, 0.004569624286745271, 0.3539944181649475, 0.010836563821375943, 0.014448751761834591, 0.14629361158857523, 0.016254845732063917, 0.10836563821375944, 0.057795007047338365, 0.2636897196534813, 0.028897503523669182, 0.9940131410239346, 0.07797610661168707, 0.40832649376227526, 0.17859043772354133, 0.020961318981636307, 0.06707622074123619, 0.029345846574290832, 0.06288395694490892, 0.008384527592654524, 0.058691693148581664, 0.0880375397228725, 0.5183374065381356, 0.2090243586069341, 0.11503250888801884, 0.02703033586687759, 0.04223489979199624, 0.002918047621992467, 0.053292764464809794, 0.013515167933438795, 0.015358145378907721, 0.0033787919833596987, 0.9935169023571584, 0.9938770110595072, 0.9860153357076449, 0.9686470189330464, 0.9901139469858903, 0.9793884834383235, 0.21639155870154006, 0.0755149427726782, 0.024114015339174552, 0.1719710041293764, 0.405496205308751, 0.03997849911494729, 0.03997849911494729, 0.00888411091443273, 0.01776822182886546, 0.4902032211244333, 0.03118858668288234, 0.14373870384284904, 0.12475434673152937, 0.029832561174930935, 0.05966512234986187, 0.004746089277829922, 0.02034038261927109, 0.06034313510383757, 0.01966236986529539, 0.014916280587465467, 0.9654703643194578, 0.13000110800922532, 0.28166906735332153, 0.5777827022632237], \"Term\": [\"abort\", \"absolute\", \"absolute\", \"access\", \"access\", \"access\", \"access\", \"access\", \"access\", \"accessories\", \"acids\", \"adaptec\", \"adapter\", \"address\", \"address\", \"address\", \"address\", \"address\", \"address\", \"address\", \"address\", \"addresses\", \"addresses\", \"administration\", \"administration\", \"administration\", \"administration\", \"administration\", \"advance\", \"advance\", \"advance\", \"advance\", \"advance\", \"advance\", \"afford\", \"afford\", \"aged\", \"agencies\", \"agencies\", \"agencies\", \"agencies\", \"aids\", \"aids\", \"alan\", \"albany\", \"albicans\", \"algorithm\", \"algorithm\", \"algorithm\", \"alias\", \"alice\", \"alive\", \"alive\", \"alive\", \"allah\", \"also\", \"also\", \"also\", \"also\", \"also\", \"also\", \"also\", \"also\", \"also\", \"also\", \"also\", \"also\", \"also\", \"also\", \"amazing\", \"amazing\", \"amazing\", \"amendment\", \"american\", \"american\", \"american\", \"american\", \"american\", \"american\", \"american\", \"american\", \"american\", \"american\", \"amino\", \"among\", \"among\", \"among\", \"among\", \"among\", \"among\", \"among\", \"among\", \"among\", \"amongst\", \"amour\", \"amplifier\", \"amps\", \"andersson\", \"anecdotal\", \"ankara\", \"annual\", \"annual\", \"annual\", \"annual\", \"annual\", \"anon\", \"anonymous\", \"anonymous\", \"anonymous\", \"anonymous\", \"answering\", \"answering\", \"anti\", \"anti\", \"anti\", \"anyone\", \"anyone\", \"anyone\", \"anyone\", \"anyone\", \"anyone\", \"anyone\", \"anyone\", \"anyway\", \"anyway\", \"anyway\", \"anyway\", \"anyway\", \"anyway\", \"apartment\", \"appears\", \"appears\", \"appears\", \"appears\", \"appears\", \"appears\", \"appears\", \"applause\", \"apple\", \"apple\", \"apple\", \"application\", \"application\", \"application\", \"application\", \"application\", \"april\", \"april\", \"april\", \"april\", \"april\", \"april\", \"april\", \"april\", \"april\", \"april\", \"april\", \"arab\", \"arabs\", \"archer\", \"archive\", \"archive\", \"archive\", \"archive\", \"arena\", \"argic\", \"argument\", \"argument\", \"argument\", \"argument\", \"argv\", \"armed\", \"armed\", \"armenia\", \"armenia\", \"armenian\", \"armenian\", \"armenians\", \"armenians\", \"arms\", \"arms\", \"arms\", \"army\", \"army\", \"army\", \"army\", \"around\", \"around\", \"around\", \"around\", \"around\", \"around\", \"around\", \"around\", \"around\", \"arrogant\", \"asala\", \"asking\", \"asking\", \"asking\", \"asking\", \"asking\", \"asking\", \"assault\", \"astros\", \"atheism\", \"atheist\", \"atheist\", \"atheists\", \"attack\", \"attack\", \"attack\", \"attack\", \"attack\", \"audio\", \"audio\", \"audio\", \"audio\", \"austin\", \"austin\", \"authentication\", \"automated\", \"autos\", \"available\", \"available\", \"available\", \"available\", \"available\", \"available\", \"available\", \"available\", \"available\", \"available\", \"azerbaijan\", \"azerbaijani\", \"azerbaijanis\", \"azeri\", \"azeris\", \"babies\", \"back\", \"back\", \"back\", \"back\", \"back\", \"back\", \"back\", \"back\", \"back\", \"back\", \"baku\", \"balls\", \"balls\", \"baltimore\", \"baltimore\", \"bandwidth\", \"banks\", \"banks\", \"banks\", \"banks\", \"baseball\", \"based\", \"based\", \"based\", \"based\", \"based\", \"based\", \"based\", \"based\", \"batf\", \"batman\", \"battery\", \"battery\", \"bears\", \"beings\", \"beleive\", \"belief\", \"beliefs\", \"believe\", \"believe\", \"believe\", \"believe\", \"believe\", \"believe\", \"believe\", \"believing\", \"best\", \"best\", \"best\", \"best\", \"best\", \"best\", \"best\", \"best\", \"best\", \"bethesda\", \"better\", \"better\", \"better\", \"better\", \"better\", \"better\", \"better\", \"bible\", \"bible\", \"biblical\", \"bike\", \"biker\", \"biker\", \"bikes\", \"billion\", \"bios\", \"bitnet\", \"bitnet\", \"bits\", \"bits\", \"bits\", \"bits\", \"black\", \"black\", \"black\", \"black\", \"black\", \"black\", \"black\", \"black\", \"black\", \"black\", \"black\", \"blind\", \"board\", \"board\", \"board\", \"board\", \"bolt\", \"boot\", \"boot\", \"borland\", \"boston\", \"boston\", \"boston\", \"boston\", \"brake\", \"braves\", \"breaker\", \"breaker\", \"briefing\", \"briefing\", \"brind\", \"bronx\", \"brown\", \"brown\", \"brown\", \"brown\", \"brown\", \"brown\", \"budget\", \"budget\", \"build\", \"build\", \"build\", \"build\", \"build\", \"bullpen\", \"burned\", \"bush\", \"bush\", \"bush\", \"bytes\", \"bytes\", \"cable\", \"cable\", \"cable\", \"cable\", \"cadre\", \"cage\", \"calgary\", \"calgary\", \"called\", \"called\", \"called\", \"called\", \"called\", \"called\", \"called\", \"called\", \"called\", \"called\", \"came\", \"came\", \"came\", \"came\", \"came\", \"came\", \"came\", \"came\", \"camera\", \"camera\", \"camera\", \"camera\", \"canadian\", \"canadian\", \"canadian\", \"canadian\", \"canadian\", \"canadiens\", \"cancer\", \"candida\", \"cannot\", \"cannot\", \"cannot\", \"cannot\", \"cannot\", \"cannot\", \"cannot\", \"cannot\", \"cape\", \"carbs\", \"card\", \"card\", \"cards\", \"cards\", \"cards\", \"cars\", \"carson\", \"case\", \"case\", \"case\", \"case\", \"case\", \"case\", \"case\", \"case\", \"cassels\", \"cassels\", \"cassette\", \"catholic\", \"catholic\", \"cellular\", \"center\", \"center\", \"center\", \"center\", \"center\", \"center\", \"centers\", \"centers\", \"centris\", \"challenges\", \"champs\", \"channel\", \"channel\", \"channel\", \"char\", \"characters\", \"characters\", \"characters\", \"chastity\", \"cheaper\", \"cheaper\", \"check\", \"check\", \"check\", \"check\", \"check\", \"check\", \"check\", \"check\", \"cheers\", \"cheers\", \"cheers\", \"cheers\", \"cheers\", \"chicago\", \"chicago\", \"chicago\", \"chicago\", \"chicago\", \"children\", \"children\", \"children\", \"children\", \"chip\", \"chip\", \"chips\", \"chips\", \"christ\", \"christ\", \"christian\", \"christian\", \"christian\", \"christianity\", \"christians\", \"christians\", \"chrysler\", \"church\", \"church\", \"cipher\", \"ciphertext\", \"circle\", \"circle\", \"circle\", \"circle\", \"circuit\", \"circuits\", \"cities\", \"cities\", \"cities\", \"cities\", \"cities\", \"citizen\", \"citizens\", \"citizens\", \"citizens\", \"city\", \"city\", \"city\", \"city\", \"city\", \"city\", \"city\", \"civic\", \"civil\", \"civil\", \"civilian\", \"claim\", \"claim\", \"claim\", \"classified\", \"classified\", \"clemens\", \"clement\", \"client\", \"clients\", \"clinical\", \"clinton\", \"clinton\", \"clinton\", \"clipper\", \"clone\", \"clubs\", \"cmos\", \"coach\", \"cobra\", \"code\", \"code\", \"code\", \"code\", \"code\", \"code\", \"coffey\", \"college\", \"college\", \"college\", \"college\", \"color\", \"color\", \"color\", \"color\", \"color\", \"colormap\", \"colormap\", \"come\", \"come\", \"come\", \"come\", \"come\", \"come\", \"come\", \"come\", \"come\", \"comic\", \"comics\", \"commentary\", \"commentary\", \"communications\", \"communications\", \"communications\", \"communications\", \"communications\", \"communications\", \"comp\", \"comp\", \"compass\", \"composite\", \"compuserve\", \"computational\", \"computer\", \"computer\", \"computer\", \"computer\", \"computer\", \"computer\", \"computer\", \"conclude\", \"conclusions\", \"condition\", \"condition\", \"condition\", \"condition\", \"condition\", \"condition\", \"conductor\", \"conductor\", \"confess\", \"confidence\", \"confidence\", \"confidence\", \"config\", \"congress\", \"congress\", \"congress\", \"connector\", \"consortium\", \"constitution\", \"constitutional\", \"consumption\", \"contact\", \"contact\", \"contact\", \"contact\", \"contact\", \"contact\", \"contact\", \"contact\", \"contact\", \"contacts\", \"contacts\", \"contest\", \"context\", \"context\", \"context\", \"continue\", \"continue\", \"continue\", \"continue\", \"continue\", \"continue\", \"continue\", \"contrib\", \"control\", \"control\", \"control\", \"control\", \"control\", \"control\", \"control\", \"control\", \"control\", \"controller\", \"controller\", \"converter\", \"cool\", \"copies\", \"copies\", \"copies\", \"copies\", \"copies\", \"copies\", \"copper\", \"copy\", \"copy\", \"copy\", \"copy\", \"copy\", \"copy\", \"copy\", \"copy\", \"copy\", \"corn\", \"could\", \"could\", \"could\", \"could\", \"could\", \"could\", \"could\", \"could\", \"could\", \"countries\", \"countries\", \"country\", \"country\", \"country\", \"country\", \"country\", \"couple\", \"couple\", \"couple\", \"couple\", \"couple\", \"couple\", \"couple\", \"couples\", \"court\", \"court\", \"courtnall\", \"cover\", \"cover\", \"cover\", \"cover\", \"cover\", \"cover\", \"cover\", \"cover\", \"cpsr\", \"crack\", \"crime\", \"crime\", \"crimes\", \"criminal\", \"criminal\", \"criminal\", \"criminal\", \"criticism\", \"cross\", \"cross\", \"cross\", \"cross\", \"cross\", \"crown\", \"crypt\", \"crypt\", \"cryptanalysis\", \"crypto\", \"cryptographic\", \"cryptographic\", \"cryptography\", \"cryptology\", \"cryptosystem\", \"cryptosystems\", \"cubs\", \"current\", \"current\", \"current\", \"current\", \"current\", \"current\", \"current\", \"current\", \"current\", \"current\", \"current\", \"cycles\", \"cycles\", \"cyprus\", \"czech\", \"dallas\", \"darren\", \"data\", \"data\", \"data\", \"data\", \"data\", \"data\", \"daughter\", \"dead\", \"dead\", \"dead\", \"dead\", \"dealership\", \"death\", \"death\", \"death\", \"debugger\", \"decenso\", \"deck\", \"deck\", \"decrypt\", \"decryption\", \"default\", \"default\", \"default\", \"defenseman\", \"deficit\", \"demo\", \"denning\", \"department\", \"department\", \"department\", \"department\", \"department\", \"department\", \"department\", \"dept\", \"dept\", \"dept\", \"derek\", \"derek\", \"detector\", \"detroit\", \"detroit\", \"devils\", \"devils\", \"diagnosed\", \"diagnosed\", \"diamond\", \"diarrhea\", \"died\", \"died\", \"died\", \"diet\", \"different\", \"different\", \"different\", \"different\", \"different\", \"different\", \"different\", \"different\", \"digest\", \"dineen\", \"directory\", \"directory\", \"directory\", \"discharge\", \"disease\", \"disease\", \"diseases\", \"diseases\", \"disk\", \"disk\", \"disk\", \"display\", \"display\", \"distributing\", \"division\", \"division\", \"division\", \"division\", \"division\", \"division\", \"doctor\", \"doctor\", \"doctor\", \"doctor\", \"dole\", \"dont\", \"dont\", \"dont\", \"dose\", \"doses\", \"doug\", \"doug\", \"doug\", \"doug\", \"doug\", \"drive\", \"drive\", \"driver\", \"driver\", \"driver\", \"driver\", \"driver\", \"drivers\", \"drivers\", \"drivers\", \"drivers\", \"drives\", \"drug\", \"drug\", \"drug\", \"dryden\", \"earth\", \"earth\", \"earth\", \"earth\", \"easter\", \"eastern\", \"eastern\", \"eastern\", \"eastern\", \"echl\", \"economy\", \"economy\", \"economy\", \"editing\", \"education\", \"education\", \"education\", \"education\", \"education\", \"education\", \"eggs\", \"eisa\", \"electronic\", \"electronic\", \"electronic\", \"email\", \"email\", \"email\", \"email\", \"email\", \"email\", \"embedded\", \"emulator\", \"encrypt\", \"encrypted\", \"encryption\", \"enforcement\", \"enforcement\", \"enforcement\", \"engine\", \"engine\", \"england\", \"england\", \"england\", \"enough\", \"enough\", \"enough\", \"enough\", \"enough\", \"enough\", \"enough\", \"entries\", \"entries\", \"entry\", \"entry\", \"envelope\", \"erase\", \"escort\", \"escrow\", \"escrowed\", \"espn\", \"ethernet\", \"europe\", \"europe\", \"europe\", \"europe\", \"europe\", \"europe\", \"even\", \"even\", \"even\", \"even\", \"even\", \"even\", \"even\", \"even\", \"evidence\", \"evidence\", \"excellent\", \"excellent\", \"excellent\", \"excellent\", \"excellent\", \"excellent\", \"excellent\", \"execution\", \"exhaust\", \"exist\", \"exist\", \"exist\", \"exist\", \"exist\", \"exist\", \"existence\", \"existence\", \"exit\", \"expo\", \"export\", \"export\", \"export\", \"expos\", \"fact\", \"fact\", \"fact\", \"fact\", \"fact\", \"fact\", \"fact\", \"fair\", \"fair\", \"fair\", \"fair\", \"fair\", \"fair\", \"faith\", \"faith\", \"fallacy\", \"fans\", \"fascist\", \"father\", \"federal\", \"federal\", \"file\", \"file\", \"file\", \"file\", \"file\", \"file\", \"filename\", \"files\", \"files\", \"files\", \"finals\", \"financial\", \"find\", \"find\", \"find\", \"find\", \"find\", \"find\", \"find\", \"find\", \"firearm\", \"firearms\", \"first\", \"first\", \"first\", \"first\", \"first\", \"first\", \"first\", \"first\", \"first\", \"first\", \"first\", \"first\", \"first\", \"first\", \"flames\", \"flames\", \"flames\", \"flames\", \"flames\", \"flames\", \"fleet\", \"fleury\", \"flight\", \"flight\", \"flight\", \"flood\", \"floppies\", \"floppy\", \"floppy\", \"floppy\", \"fluke\", \"flyers\", \"flyers\", \"folks\", \"folks\", \"folks\", \"folks\", \"font\", \"fonts\", \"format\", \"format\", \"format\", \"forsale\", \"forty\", \"france\", \"france\", \"france\", \"france\", \"francis\", \"freedom\", \"freedom\", \"freedom\", \"freedom\", \"front\", \"front\", \"front\", \"front\", \"front\", \"funding\", \"funding\", \"funding\", \"galley\", \"game\", \"game\", \"games\", \"games\", \"gangs\", \"gary\", \"gary\", \"gary\", \"gary\", \"gary\", \"gaza\", \"gear\", \"genetic\", \"genocide\", \"genocide\", \"george\", \"george\", \"george\", \"george\", \"gerard\", \"german\", \"german\", \"german\", \"german\", \"germany\", \"germany\", \"germany\", \"getting\", \"getting\", \"getting\", \"getting\", \"getting\", \"getting\", \"getting\", \"ghost\", \"ghost\", \"ghost\", \"glutamate\", \"goal\", \"goal\", \"goal\", \"goal\", \"goal\", \"goals\", \"goals\", \"goals\", \"goals\", \"goals\", \"gods\", \"going\", \"going\", \"going\", \"going\", \"going\", \"going\", \"going\", \"going\", \"gold\", \"gold\", \"gold\", \"gold\", \"good\", \"good\", \"good\", \"good\", \"good\", \"good\", \"good\", \"good\", \"gordon\", \"gordon\", \"gordon\", \"government\", \"government\", \"government\", \"government\", \"graphics\", \"graphics\", \"graphics\", \"grass\", \"grass\", \"grass\", \"greece\", \"greek\", \"greeks\", \"green\", \"green\", \"green\", \"green\", \"green\", \"green\", \"ground\", \"ground\", \"ground\", \"ground\", \"ground\", \"group\", \"group\", \"group\", \"group\", \"group\", \"group\", \"group\", \"group\", \"group\", \"groups\", \"groups\", \"groups\", \"groups\", \"groups\", \"groups\", \"groups\", \"gsfc\", \"gsfc\", \"guess\", \"guess\", \"guess\", \"guess\", \"guess\", \"guidelines\", \"guidelines\", \"guns\", \"guns\", \"guns\", \"hammer\", \"handgun\", \"handgun\", \"handguns\", \"handheld\", \"hard\", \"hard\", \"hard\", \"hard\", \"hard\", \"hard\", \"hard\", \"harder\", \"hardware\", \"hardware\", \"hardware\", \"hardware\", \"hardware\", \"hardware\", \"hartford\", \"hartford\", \"hawgood\", \"hawks\", \"headache\", \"health\", \"health\", \"heat\", \"heat\", \"hellman\", \"helmet\", \"help\", \"help\", \"help\", \"help\", \"help\", \"help\", \"help\", \"help\", \"help\", \"hemisphere\", \"henrik\", \"hicnet\", \"high\", \"high\", \"high\", \"high\", \"high\", \"high\", \"high\", \"high\", \"high\", \"high\", \"high\", \"high\", \"high\", \"higher\", \"higher\", \"higher\", \"higher\", \"higher\", \"higher\", \"higher\", \"higher\", \"history\", \"history\", \"history\", \"history\", \"history\", \"history\", \"history\", \"hitler\", \"hitter\", \"hockey\", \"holy\", \"home\", \"home\", \"home\", \"home\", \"home\", \"home\", \"home\", \"homeland\", \"homicide\", \"homicides\", \"homosexuality\", \"honda\", \"horse\", \"house\", \"house\", \"house\", \"house\", \"house\", \"house\", \"house\", \"however\", \"however\", \"however\", \"however\", \"however\", \"however\", \"however\", \"however\", \"however\", \"hulk\", \"hull\", \"hull\", \"human\", \"human\", \"human\", \"human\", \"human\", \"human\", \"humans\", \"humans\", \"husband\", \"hussein\", \"hypothesis\", \"icon\", \"icons\", \"ieee\", \"illness\", \"image\", \"image\", \"image\", \"image\", \"image\", \"image\", \"immaculate\", \"immaculate\", \"important\", \"important\", \"important\", \"important\", \"important\", \"important\", \"important\", \"important\", \"important\", \"important\", \"important\", \"included\", \"included\", \"included\", \"included\", \"included\", \"included\", \"included\", \"included\", \"included\", \"included\", \"includes\", \"includes\", \"includes\", \"includes\", \"includes\", \"includes\", \"includes\", \"includes\", \"includes\", \"indiana\", \"indians\", \"infected\", \"infection\", \"infections\", \"infectious\", \"inflammation\", \"inflammation\", \"inflammatory\", \"info\", \"info\", \"info\", \"info\", \"info\", \"information\", \"information\", \"information\", \"information\", \"information\", \"information\", \"information\", \"information\", \"information\", \"information\", \"information\", \"information\", \"infrastructure\", \"infrastructure\", \"ingr\", \"init\", \"input\", \"input\", \"input\", \"insisting\", \"insurance\", \"insurance\", \"intake\", \"intellect\", \"interested\", \"interested\", \"interested\", \"interested\", \"interested\", \"interested\", \"interested\", \"interface\", \"interface\", \"internet\", \"internet\", \"internet\", \"investment\", \"iraqi\", \"islam\", \"islam\", \"islanders\", \"isles\", \"israel\", \"israeli\", \"israelis\", \"issue\", \"issue\", \"issue\", \"issue\", \"issue\", \"issue\", \"issue\", \"issue\", \"issue\", \"issue\", \"issue\", \"istanbul\", \"items\", \"items\", \"items\", \"items\", \"items\", \"jagr\", \"jersey\", \"jersey\", \"jesus\", \"jesus\", \"jewish\", \"jewish\", \"jewish\", \"jews\", \"jews\", \"jews\", \"jobs\", \"jobs\", \"john\", \"john\", \"john\", \"john\", \"john\", \"john\", \"john\", \"john\", \"joystick\", \"jpeg\", \"judas\", \"jumper\", \"jumpers\", \"juneau\", \"karabakh\", \"karina\", \"kawasaki\", \"kent\", \"keys\", \"keys\", \"killed\", \"killed\", \"killed\", \"knife\", \"knife\", \"knife\", \"know\", \"know\", \"know\", \"know\", \"know\", \"know\", \"know\", \"know\", \"know\", \"kong\", \"kurdish\", \"kurds\", \"label\", \"label\", \"land\", \"land\", \"land\", \"land\", \"land\", \"land\", \"laptop\", \"last\", \"last\", \"last\", \"last\", \"last\", \"last\", \"last\", \"last\", \"last\", \"last\", \"last\", \"last\", \"later\", \"later\", \"later\", \"later\", \"later\", \"later\", \"later\", \"later\", \"laughter\", \"launch\", \"launched\", \"laws\", \"laws\", \"lawyer\", \"leafs\", \"leafs\", \"league\", \"league\", \"leather\", \"leather\", \"lebanese\", \"lebanon\", \"left\", \"left\", \"left\", \"left\", \"left\", \"left\", \"left\", \"left\", \"left\", \"legend\", \"legend\", \"lemieux\", \"lemieux\", \"lens\", \"lethal\", \"lethal\", \"liar\", \"life\", \"life\", \"life\", \"life\", \"like\", \"like\", \"like\", \"like\", \"like\", \"like\", \"like\", \"like\", \"like\", \"like\", \"like\", \"likely\", \"likely\", \"likely\", \"likely\", \"likely\", \"likely\", \"likely\", \"likely\", \"lindros\", \"lindros\", \"line\", \"line\", \"line\", \"line\", \"line\", \"line\", \"line\", \"line\", \"line\", \"line\", \"line\", \"line\", \"line\", \"lines\", \"lines\", \"lines\", \"lines\", \"lines\", \"lines\", \"lines\", \"lines\", \"lines\", \"lines\", \"lines\", \"lipman\", \"list\", \"list\", \"list\", \"list\", \"list\", \"list\", \"list\", \"list\", \"list\", \"list\", \"list\", \"listserv\", \"little\", \"little\", \"little\", \"little\", \"little\", \"little\", \"little\", \"little\", \"lock\", \"lock\", \"lord\", \"lord\", \"loser\", \"losses\", \"lost\", \"lost\", \"lost\", \"lost\", \"lost\", \"lost\", \"lost\", \"lost\", \"lotus\", \"lotus\", \"louis\", \"louis\", \"louis\", \"lucifer\", \"luke\", \"lunar\", \"lyme\", \"macinnis\", \"macro\", \"macs\", \"made\", \"made\", \"made\", \"made\", \"made\", \"made\", \"made\", \"made\", \"made\", \"made\", \"mail\", \"mail\", \"mail\", \"mail\", \"mail\", \"mail\", \"mail\", \"mailbox\", \"mailing\", \"mailing\", \"maine\", \"make\", \"make\", \"make\", \"make\", \"make\", \"make\", \"make\", \"make\", \"make\", \"make\", \"make\", \"maker\", \"males\", \"mamma\", \"manhattan\", \"manual\", \"manual\", \"manual\", \"manual\", \"manual\", \"manuals\", \"manuals\", \"many\", \"many\", \"many\", \"many\", \"many\", \"many\", \"many\", \"many\", \"many\", \"many\", \"many\", \"many\", \"marijuana\", \"married\", \"mars\", \"massacres\", \"mathcad\", \"matthew\", \"maybe\", \"maybe\", \"maybe\", \"maybe\", \"maybe\", \"maybe\", \"mean\", \"mean\", \"mean\", \"mean\", \"mean\", \"mean\", \"mean\", \"meaning\", \"meaning\", \"meaning\", \"meaning\", \"medical\", \"medical\", \"medicine\", \"medicine\", \"meeting\", \"meeting\", \"meeting\", \"meeting\", \"meeting\", \"meeting\", \"meets\", \"megs\", \"members\", \"members\", \"members\", \"members\", \"memory\", \"memory\", \"memory\", \"memory\", \"memory\", \"memory\", \"menu\", \"message\", \"message\", \"message\", \"message\", \"message\", \"message\", \"messiah\", \"mets\", \"midi\", \"might\", \"might\", \"might\", \"might\", \"might\", \"might\", \"might\", \"might\", \"might\", \"might\", \"mike\", \"mike\", \"mike\", \"mike\", \"mike\", \"mike\", \"mild\", \"miles\", \"miles\", \"miles\", \"military\", \"military\", \"militia\", \"miller\", \"miller\", \"miller\", \"million\", \"million\", \"million\", \"million\", \"million\", \"million\", \"million\", \"milwaukee\", \"ministry\", \"minnesota\", \"minnesota\", \"minnesota\", \"mint\", \"mission\", \"mission\", \"mission\", \"missions\", \"mitre\", \"mixer\", \"mode\", \"mode\", \"mode\", \"mode\", \"model\", \"model\", \"model\", \"model\", \"model\", \"model\", \"model\", \"model\", \"modem\", \"modem\", \"modem\", \"mogilny\", \"moncton\", \"money\", \"money\", \"money\", \"money\", \"monitor\", \"monitor\", \"monitor\", \"mono\", \"montreal\", \"moon\", \"moral\", \"moral\", \"morality\", \"mormon\", \"mormons\", \"morris\", \"morris\", \"motherboard\", \"motif\", \"motorcycle\", \"motorcycles\", \"mouse\", \"mouse\", \"msdos\", \"much\", \"much\", \"much\", \"much\", \"much\", \"much\", \"much\", \"much\", \"much\", \"mullen\", \"murder\", \"murder\", \"murders\", \"murders\", \"murphy\", \"murphy\", \"murphy\", \"muslim\", \"muslim\", \"muslims\", \"muslims\", \"muslims\", \"must\", \"must\", \"must\", \"must\", \"must\", \"must\", \"must\", \"must\", \"must\", \"must\", \"must\", \"myers\", \"mystical\", \"name\", \"name\", \"name\", \"name\", \"name\", \"name\", \"name\", \"name\", \"name\", \"nasa\", \"nasa\", \"nasa\", \"national\", \"national\", \"national\", \"national\", \"national\", \"national\", \"national\", \"national\", \"nature\", \"nature\", \"nature\", \"nature\", \"nature\", \"naval\", \"naval\", \"naval\", \"nazi\", \"nazi\", \"nazis\", \"ncsa\", \"ncsl\", \"ncsu\", \"neck\", \"need\", \"need\", \"need\", \"need\", \"need\", \"need\", \"need\", \"need\", \"need\", \"need\", \"need\", \"nerve\", \"network\", \"network\", \"network\", \"network\", \"network\", \"network\", \"neutral\", \"neutral\", \"neutral\", \"news\", \"news\", \"news\", \"news\", \"news\", \"news\", \"newsgroup\", \"newsgroup\", \"newsgroup\", \"newsgroup\", \"newsgroup\", \"newsgroups\", \"newsgroups\", \"newsletter\", \"newsletter\", \"ninja\", \"ninja\", \"nist\", \"nist\", \"nords\", \"nubus\", \"nuclear\", \"nuclear\", \"nuclear\", \"nuclear\", \"null\", \"number\", \"number\", \"number\", \"number\", \"number\", \"number\", \"number\", \"number\", \"number\", \"number\", \"number\", \"number\", \"number\", \"number\", \"nylander\", \"oates\", \"obfuscate\", \"objective\", \"objective\", \"objective\", \"offer\", \"offer\", \"offer\", \"offer\", \"offer\", \"offset\", \"oklahoma\", \"open\", \"open\", \"open\", \"open\", \"open\", \"open\", \"open\", \"open\", \"open\", \"open\", \"open\", \"openwindows\", \"options\", \"options\", \"options\", \"options\", \"options\", \"orbit\", \"original\", \"original\", \"original\", \"original\", \"original\", \"original\", \"original\", \"original\", \"original\", \"original\", \"ottoman\", \"outlets\", \"output\", \"output\", \"output\", \"package\", \"package\", \"package\", \"package\", \"packaging\", \"padded\", \"page\", \"page\", \"page\", \"page\", \"page\", \"page\", \"palestinian\", \"palestinians\", \"panel\", \"panel\", \"panel\", \"panel\", \"panel\", \"part\", \"part\", \"part\", \"part\", \"part\", \"part\", \"part\", \"part\", \"part\", \"part\", \"part\", \"part\", \"passover\", \"password\", \"patent\", \"patented\", \"patient\", \"patient\", \"patients\", \"patrick\", \"patrick\", \"patrick\", \"patrick\", \"pens\", \"people\", \"people\", \"people\", \"people\", \"people\", \"people\", \"people\", \"people\", \"people\", \"percent\", \"percent\", \"percent\", \"percent\", \"percent\", \"percent\", \"period\", \"period\", \"period\", \"period\", \"period\", \"period\", \"period\", \"philadelphia\", \"philadelphia\", \"philadelphia\", \"phillies\", \"phone\", \"phone\", \"phone\", \"phone\", \"phone\", \"phones\", \"physician\", \"pick\", \"pick\", \"pick\", \"pick\", \"pick\", \"picture\", \"picture\", \"picture\", \"picture\", \"picture\", \"picture\", \"picture\", \"pins\", \"pitcher\", \"pitching\", \"pitt\", \"pitt\", \"pittsburgh\", \"pittsburgh\", \"pittsburgh\", \"pixel\", \"pixmap\", \"plaintext\", \"planetary\", \"platforms\", \"play\", \"play\", \"play\", \"play\", \"play\", \"play\", \"played\", \"played\", \"played\", \"played\", \"player\", \"player\", \"players\", \"playing\", \"playing\", \"playing\", \"playoff\", \"playoffs\", \"please\", \"please\", \"please\", \"please\", \"please\", \"please\", \"please\", \"please\", \"please\", \"pocket\", \"point\", \"point\", \"point\", \"point\", \"point\", \"point\", \"point\", \"point\", \"point\", \"point\", \"pointer\", \"points\", \"points\", \"points\", \"points\", \"points\", \"points\", \"points\", \"police\", \"police\", \"police\", \"political\", \"political\", \"political\", \"politics\", \"pope\", \"population\", \"population\", \"population\", \"port\", \"port\", \"post\", \"post\", \"post\", \"post\", \"post\", \"post\", \"post\", \"post\", \"post\", \"posted\", \"posted\", \"posted\", \"posted\", \"posted\", \"posted\", \"posted\", \"posted\", \"posted\", \"posting\", \"posting\", \"posting\", \"posting\", \"posting\", \"posting\", \"postscript\", \"poulin\", \"pounds\", \"power\", \"power\", \"power\", \"power\", \"power\", \"power\", \"power\", \"power\", \"power\", \"power\", \"premium\", \"president\", \"president\", \"president\", \"press\", \"press\", \"press\", \"press\", \"press\", \"press\", \"press\", \"press\", \"press\", \"press\", \"pretty\", \"pretty\", \"pretty\", \"pretty\", \"pretty\", \"prey\", \"price\", \"price\", \"price\", \"price\", \"price\", \"price\", \"printer\", \"printer\", \"printf\", \"printing\", \"printing\", \"printing\", \"prisoners\", \"privacy\", \"privacy\", \"private\", \"private\", \"private\", \"private\", \"private\", \"private\", \"private\", \"probably\", \"probably\", \"probably\", \"probably\", \"probably\", \"probably\", \"probably\", \"probe\", \"problem\", \"problem\", \"problem\", \"problem\", \"problem\", \"problem\", \"problem\", \"problem\", \"proceedings\", \"professor\", \"professor\", \"professor\", \"prog\", \"program\", \"program\", \"program\", \"program\", \"program\", \"programs\", \"programs\", \"programs\", \"programs\", \"programs\", \"programs\", \"programs\", \"projector\", \"promo\", \"propaganda\", \"property\", \"property\", \"prophecy\", \"propulsion\", \"providence\", \"province\", \"public\", \"public\", \"public\", \"public\", \"public\", \"public\", \"publisher\", \"puck\", \"puck\", \"punisher\", \"quadra\", \"quebec\", \"queen\", \"question\", \"question\", \"question\", \"question\", \"question\", \"question\", \"question\", \"radar\", \"radius\", \"rainer\", \"rand\", \"random\", \"random\", \"random\", \"random\", \"random\", \"rate\", \"rate\", \"rate\", \"rate\", \"rate\", \"rate\", \"rates\", \"rates\", \"rates\", \"rates\", \"rational\", \"rayshade\", \"read\", \"read\", \"read\", \"read\", \"read\", \"read\", \"read\", \"read\", \"read\", \"read\", \"really\", \"really\", \"really\", \"really\", \"really\", \"really\", \"really\", \"rear\", \"reason\", \"reason\", \"reason\", \"reason\", \"reason\", \"reason\", \"reason\", \"rebound\", \"rebuilt\", \"recchi\", \"redraw\", \"reed\", \"reform\", \"reform\", \"refugees\", \"reilly\", \"religion\", \"religion\", \"religion\", \"religions\", \"religious\", \"religious\", \"religious\", \"remark\", \"remark\", \"remark\", \"repairs\", \"republic\", \"republic\", \"republicans\", \"request\", \"request\", \"request\", \"request\", \"request\", \"request\", \"requests\", \"requests\", \"requests\", \"research\", \"research\", \"research\", \"research\", \"research\", \"reserve\", \"reserve\", \"reserve\", \"resource\", \"resource\", \"return\", \"return\", \"return\", \"return\", \"return\", \"return\", \"return\", \"return\", \"return\", \"revelation\", \"ride\", \"ride\", \"rider\", \"rider\", \"riding\", \"rifles\", \"right\", \"right\", \"right\", \"right\", \"right\", \"right\", \"right\", \"right\", \"right\", \"right\", \"rights\", \"rights\", \"rights\", \"rights\", \"ripem\", \"robert\", \"robert\", \"robert\", \"robert\", \"robert\", \"robert\", \"robert\", \"robert\", \"robert\", \"roberts\", \"rochester\", \"rockefeller\", \"roenick\", \"roughing\", \"routines\", \"royal\", \"royals\", \"rules\", \"rules\", \"rules\", \"rules\", \"runner\", \"running\", \"running\", \"running\", \"running\", \"running\", \"runs\", \"runs\", \"runs\", \"runs\", \"runs\", \"runs\", \"rushdie\", \"russia\", \"russia\", \"russia\", \"russian\", \"russian\", \"russian\", \"sabbath\", \"sabres\", \"sabres\", \"safety\", \"safety\", \"safety\", \"safety\", \"safety\", \"said\", \"said\", \"said\", \"said\", \"said\", \"said\", \"said\", \"said\", \"said\", \"sale\", \"sale\", \"sanctions\", \"sandstrom\", \"sank\", \"satellite\", \"satellites\", \"saturn\", \"saturn\", \"saves\", \"saves\", \"saves\", \"savior\", \"says\", \"says\", \"says\", \"says\", \"says\", \"says\", \"says\", \"says\", \"scheme\", \"scheme\", \"school\", \"school\", \"school\", \"school\", \"school\", \"school\", \"school\", \"score\", \"score\", \"scored\", \"scorer\", \"scoring\", \"scoring\", \"screen\", \"screen\", \"screw\", \"screws\", \"scsi\", \"sdpa\", \"seal\", \"season\", \"seattle\", \"seattle\", \"seattle\", \"second\", \"second\", \"second\", \"second\", \"second\", \"second\", \"second\", \"second\", \"second\", \"second\", \"second\", \"secret\", \"secret\", \"secret\", \"secretary\", \"secretary\", \"secretary\", \"section\", \"section\", \"section\", \"section\", \"section\", \"secure\", \"secure\", \"security\", \"security\", \"security\", \"seizures\", \"sell\", \"sell\", \"sell\", \"sell\", \"sell\", \"selling\", \"selling\", \"selling\", \"seminar\", \"senate\", \"senate\", \"senator\", \"send\", \"send\", \"send\", \"send\", \"send\", \"send\", \"send\", \"send\", \"send\", \"send\", \"send\", \"sender\", \"sentra\", \"serdar\", \"series\", \"series\", \"series\", \"series\", \"series\", \"series\", \"series\", \"series\", \"series\", \"series\", \"servant\", \"server\", \"server\", \"service\", \"service\", \"service\", \"service\", \"service\", \"service\", \"service\", \"shack\", \"shameful\", \"shanahan\", \"shareware\", \"sharks\", \"shipping\", \"shipping\", \"shipping\", \"ships\", \"shot\", \"shot\", \"shot\", \"shot\", \"shot\", \"shot\", \"shots\", \"shots\", \"shots\", \"shots\", \"shuttle\", \"siggraph\", \"silver\", \"silver\", \"silver\", \"simm\", \"simms\", \"site\", \"site\", \"site\", \"site\", \"site\", \"site\", \"site\", \"site\", \"sites\", \"sites\", \"sites\", \"sites\", \"size\", \"size\", \"size\", \"size\", \"size\", \"skepticism\", \"skipjack\", \"slave\", \"slave\", \"sleeve\", \"slots\", \"smiley\", \"smith\", \"smith\", \"smith\", \"smith\", \"smith\", \"smoked\", \"smokeless\", \"smokers\", \"society\", \"society\", \"society\", \"society\", \"society\", \"society\", \"soderstrom\", \"software\", \"software\", \"software\", \"software\", \"software\", \"solar\", \"soldiers\", \"soldiers\", \"something\", \"something\", \"something\", \"something\", \"something\", \"something\", \"something\", \"sony\", \"soon\", \"soon\", \"soon\", \"soon\", \"soon\", \"soon\", \"soon\", \"soon\", \"sound\", \"sound\", \"sound\", \"sound\", \"soundblaster\", \"source\", \"source\", \"source\", \"source\", \"source\", \"source\", \"source\", \"source\", \"south\", \"south\", \"south\", \"south\", \"south\", \"south\", \"soviet\", \"soviet\", \"soviet\", \"soviet\", \"space\", \"spacecraft\", \"sparc\", \"speakers\", \"speakers\", \"specialist\", \"speed\", \"speed\", \"speed\", \"speed\", \"speed\", \"speeding\", \"speedo\", \"spend\", \"spend\", \"springfield\", \"started\", \"started\", \"started\", \"started\", \"started\", \"started\", \"state\", \"state\", \"state\", \"state\", \"state\", \"state\", \"state\", \"state\", \"states\", \"states\", \"states\", \"states\", \"states\", \"states\", \"states\", \"states\", \"stats\", \"stealth\", \"stealth\", \"steer\", \"steering\", \"stereo\", \"stevens\", \"stevens\", \"stewart\", \"sticker\", \"still\", \"still\", \"still\", \"still\", \"still\", \"still\", \"still\", \"still\", \"still\", \"stimulus\", \"stream\", \"stream\", \"strong\", \"strong\", \"strong\", \"strong\", \"strong\", \"strong\", \"studies\", \"studies\", \"studies\", \"study\", \"study\", \"study\", \"study\", \"study\", \"suck\", \"sumgait\", \"summer\", \"summer\", \"summer\", \"summer\", \"summer\", \"sunos\", \"sure\", \"sure\", \"sure\", \"sure\", \"sure\", \"sure\", \"sure\", \"sure\", \"sure\", \"sure\", \"surrender\", \"surrender\", \"suter\", \"sutter\", \"sword\", \"symbol\", \"symmetric\", \"symptoms\", \"sync\", \"syndrome\", \"syria\", \"sysadmin\", \"system\", \"system\", \"system\", \"system\", \"system\", \"system\", \"system\", \"system\", \"system\", \"system\", \"systems\", \"systems\", \"systems\", \"systems\", \"systems\", \"systems\", \"systems\", \"take\", \"take\", \"take\", \"take\", \"take\", \"take\", \"take\", \"take\", \"take\", \"take\", \"tapes\", \"tapes\", \"taxes\", \"taxes\", \"taxes\", \"teachings\", \"team\", \"team\", \"team\", \"teams\", \"technology\", \"technology\", \"technology\", \"technology\", \"telecommunications\", \"telescope\", \"terminals\", \"testament\", \"texas\", \"texas\", \"texas\", \"texas\", \"texas\", \"texas\", \"text\", \"text\", \"text\", \"text\", \"text\", \"text\", \"texts\", \"texts\", \"thanks\", \"thanks\", \"thanks\", \"thanks\", \"thanks\", \"thanks\", \"thanks\", \"thanks\", \"theist\", \"therefore\", \"therefore\", \"therefore\", \"therefore\", \"thing\", \"thing\", \"thing\", \"thing\", \"thing\", \"thing\", \"thing\", \"thing\", \"things\", \"things\", \"things\", \"things\", \"things\", \"things\", \"things\", \"think\", \"think\", \"think\", \"think\", \"think\", \"think\", \"think\", \"third\", \"third\", \"third\", \"third\", \"third\", \"third\", \"third\", \"third\", \"third\", \"third\", \"thorne\", \"thou\", \"thou\", \"thou\", \"three\", \"three\", \"three\", \"three\", \"three\", \"three\", \"three\", \"three\", \"three\", \"three\", \"three\", \"three\", \"three\", \"three\", \"tiff\", \"time\", \"time\", \"time\", \"time\", \"time\", \"time\", \"time\", \"time\", \"time\", \"time\", \"time\", \"time\", \"tire\", \"tires\", \"tobacco\", \"today\", \"today\", \"today\", \"today\", \"today\", \"today\", \"today\", \"today\", \"today\", \"told\", \"told\", \"told\", \"told\", \"told\", \"told\", \"tony\", \"tony\", \"took\", \"took\", \"took\", \"took\", \"took\", \"toolkit\", \"toolkits\", \"toronto\", \"toronto\", \"toronto\", \"toronto\", \"toronto\", \"toronto\", \"torque\", \"toshiba\", \"toxic\", \"toyota\", \"tract\", \"traded\", \"trades\", \"trans\", \"treatment\", \"treatment\", \"treatment\", \"treatment\", \"tribes\", \"trigger\", \"trigger\", \"tripping\", \"truck\", \"true\", \"true\", \"true\", \"true\", \"true\", \"true\", \"true\", \"true\", \"true\", \"truetype\", \"truth\", \"truth\", \"truth\", \"turbo\", \"turkey\", \"turkish\", \"turks\", \"turner\", \"tyre\", \"udel\", \"unassisted\", \"united\", \"united\", \"united\", \"united\", \"united\", \"university\", \"university\", \"university\", \"university\", \"unix\", \"unix\", \"upgrade\", \"upgrade\", \"upgraded\", \"uranium\", \"used\", \"used\", \"used\", \"used\", \"used\", \"used\", \"used\", \"used\", \"used\", \"used\", \"used\", \"usenet\", \"usenet\", \"usenet\", \"usenet\", \"user\", \"user\", \"user\", \"user\", \"user\", \"users\", \"users\", \"users\", \"users\", \"using\", \"using\", \"using\", \"using\", \"using\", \"using\", \"using\", \"using\", \"using\", \"uuencode\", \"vancouver\", \"vancouver\", \"vancouver\", \"vancouver\", \"version\", \"version\", \"version\", \"version\", \"version\", \"version\", \"vesa\", \"video\", \"video\", \"video\", \"video\", \"video\", \"villages\", \"villages\", \"villages\", \"vitamin\", \"vnet\", \"voltage\", \"volts\", \"volvo\", \"vpic\", \"vram\", \"want\", \"want\", \"want\", \"want\", \"want\", \"want\", \"want\", \"want\", \"washington\", \"washington\", \"washington\", \"washington\", \"washington\", \"washington\", \"watts\", \"wealth\", \"weapons\", \"weapons\", \"weaver\", \"weiss\", \"well\", \"well\", \"well\", \"well\", \"well\", \"well\", \"well\", \"well\", \"well\", \"well\", \"well\", \"went\", \"went\", \"went\", \"went\", \"wheel\", \"white\", \"white\", \"white\", \"white\", \"white\", \"white\", \"white\", \"white\", \"white\", \"white\", \"white\", \"white\", \"white\", \"whites\", \"wibbled\", \"widget\", \"widgets\", \"wife\", \"wife\", \"wife\", \"window\", \"window\", \"window\", \"windows\", \"windows\", \"windows\", \"windows\", \"wing\", \"wing\", \"wing\", \"winner\", \"winning\", \"winning\", \"wins\", \"wiretap\", \"wiring\", \"wiring\", \"wolverine\", \"woman\", \"woman\", \"woman\", \"women\", \"women\", \"women\", \"women\", \"word\", \"word\", \"word\", \"word\", \"word\", \"word\", \"word\", \"word\", \"work\", \"work\", \"work\", \"work\", \"work\", \"work\", \"work\", \"work\", \"work\", \"work\", \"work\", \"work\", \"work\", \"working\", \"working\", \"working\", \"working\", \"working\", \"working\", \"working\", \"working\", \"working\", \"workstation\", \"world\", \"world\", \"world\", \"world\", \"world\", \"world\", \"world\", \"world\", \"world\", \"world\", \"would\", \"would\", \"would\", \"would\", \"would\", \"would\", \"would\", \"would\", \"would\", \"would\", \"xlib\", \"xterm\", \"xview\", \"yale\", \"yankees\", \"yassin\", \"year\", \"year\", \"year\", \"year\", \"year\", \"year\", \"year\", \"year\", \"year\", \"years\", \"years\", \"years\", \"years\", \"years\", \"years\", \"years\", \"years\", \"years\", \"years\", \"years\", \"yeltsin\", \"yesterday\", \"yesterday\", \"yesterday\"]}, \"R\": 30, \"lambda.step\": 0.01, \"plot.opts\": {\"xlab\": \"PC1\", \"ylab\": \"PC2\"}, \"topic.order\": [1, 4, 20, 5, 16, 14, 2, 10, 15, 12, 8, 13, 11, 17, 3, 19, 18, 9, 6, 7]};\n",
       "\n",
       "function LDAvis_load_lib(url, callback){\n",
       "  var s = document.createElement('script');\n",
       "  s.src = url;\n",
       "  s.async = true;\n",
       "  s.onreadystatechange = s.onload = callback;\n",
       "  s.onerror = function(){console.warn(\"failed to load library \" + url);};\n",
       "  document.getElementsByTagName(\"head\")[0].appendChild(s);\n",
       "}\n",
       "\n",
       "if(typeof(LDAvis) !== \"undefined\"){\n",
       "   // already loaded: just create the visualization\n",
       "   !function(LDAvis){\n",
       "       new LDAvis(\"#\" + \"ldavis_el62158109783188647690075339\", ldavis_el62158109783188647690075339_data);\n",
       "   }(LDAvis);\n",
       "}else if(typeof define === \"function\" && define.amd){\n",
       "   // require.js is available: use it to load d3/LDAvis\n",
       "   require.config({paths: {d3: \"https://d3js.org/d3.v5\"}});\n",
       "   require([\"d3\"], function(d3){\n",
       "      window.d3 = d3;\n",
       "      LDAvis_load_lib(\"https://cdn.jsdelivr.net/gh/bmabey/pyLDAvis@3.3.1/pyLDAvis/js/ldavis.v3.0.0.js\", function(){\n",
       "        new LDAvis(\"#\" + \"ldavis_el62158109783188647690075339\", ldavis_el62158109783188647690075339_data);\n",
       "      });\n",
       "    });\n",
       "}else{\n",
       "    // require.js not available: dynamically load d3 & LDAvis\n",
       "    LDAvis_load_lib(\"https://d3js.org/d3.v5.js\", function(){\n",
       "         LDAvis_load_lib(\"https://cdn.jsdelivr.net/gh/bmabey/pyLDAvis@3.3.1/pyLDAvis/js/ldavis.v3.0.0.js\", function(){\n",
       "                 new LDAvis(\"#\" + \"ldavis_el62158109783188647690075339\", ldavis_el62158109783188647690075339_data);\n",
       "            })\n",
       "         });\n",
       "}\n",
       "</script>"
      ],
      "text/plain": [
       "<IPython.core.display.HTML object>"
      ]
     },
     "execution_count": 54,
     "metadata": {},
     "output_type": "execute_result"
    }
   ],
   "source": [
    "import pyLDAvis.gensim_models\n",
    "\n",
    "pyLDAvis.enable_notebook()\n",
    "vis = pyLDAvis.gensim_models.prepare(ldamodel, corpus, dictionary)\n",
    "pyLDAvis.display(vis)"
   ]
  },
  {
   "cell_type": "code",
   "execution_count": 55,
   "metadata": {},
   "outputs": [
    {
     "name": "stdout",
     "output_type": "stream",
     "text": [
      "0 번째 문서의 topic 비율은  [(3, 0.33416307), (5, 0.049896874), (9, 0.093624905), (10, 0.08019736), (18, 0.018481364), (19, 0.41213846)]\n",
      "1 번째 문서의 topic 비율은  [(0, 0.19197705), (1, 0.03299983), (3, 0.59646493), (14, 0.1050771), (18, 0.053721104)]\n",
      "2 번째 문서의 topic 비율은  [(0, 0.40085116), (12, 0.038168553), (15, 0.13701789), (18, 0.017604368), (19, 0.39421558)]\n",
      "3 번째 문서의 topic 비율은  [(0, 0.37411016), (4, 0.0418939), (9, 0.024365764), (10, 0.05638259), (11, 0.34325534), (17, 0.014471024), (19, 0.1273974)]\n",
      "4 번째 문서의 topic 비율은  [(0, 0.33540004), (7, 0.054452136), (13, 0.07035627), (14, 0.20985492), (17, 0.3021497)]\n",
      "5 번째 문서의 topic 비율은  [(0, 0.2834286), (2, 0.082663275), (8, 0.107136376), (9, 0.06456005), (15, 0.37089792), (18, 0.05944978)]\n",
      "6 번째 문서의 topic 비율은  [(0, 0.42753822), (3, 0.07935495), (4, 0.05927052), (8, 0.014754539), (9, 0.37514374), (14, 0.03405689)]\n",
      "7 번째 문서의 topic 비율은  [(0, 0.3825802), (2, 0.13174698), (3, 0.16981938), (19, 0.30272928)]\n",
      "8 번째 문서의 topic 비율은  [(3, 0.4155194), (4, 0.073379174), (5, 0.25469854), (7, 0.12979302), (16, 0.033265315), (19, 0.072663814)]\n",
      "9 번째 문서의 topic 비율은  [(0, 0.9141037), (11, 0.058556583), (15, 0.015485472)]\n"
     ]
    }
   ],
   "source": [
    "### 문서별 토픽 분포보기\n",
    "for i, topic_list in enumerate(ldamodel[corpus]):\n",
    "    if i == 10:\n",
    "        break\n",
    "    print(i,'번째 문서의 topic 비율은 ',topic_list)"
   ]
  },
  {
   "cell_type": "code",
   "execution_count": 56,
   "metadata": {},
   "outputs": [],
   "source": [
    "def make_topictable_per_doc(ldamodel, corpus):\n",
    "    topic_table = pd.DataFrame()\n",
    "\n",
    "    # 몇 번째 문서인지를 의미하는 문서 번호와 해당 문서의 토픽 비중을 한 줄씩 꺼내온다.\n",
    "    for i, topic_list in enumerate(ldamodel[corpus]):\n",
    "        doc = topic_list[0] if ldamodel.per_word_topics else topic_list            \n",
    "        doc = sorted(doc, key=lambda x: (x[1]), reverse=True)\n",
    "        # 각 문서에 대해서 비중이 높은 토픽순으로 토픽을 정렬한다.\n",
    "        # EX) 정렬 전 0번 문서 : (2번 토픽, 48.5%), (8번 토픽, 25%), (10번 토픽, 5%), (12번 토픽, 21.5%), \n",
    "        # Ex) 정렬 후 0번 문서 : (2번 토픽, 48.5%), (8번 토픽, 25%), (12번 토픽, 21.5%), (10번 토픽, 5%)\n",
    "        # 48 > 25 > 21 > 5 순으로 정렬이 된 것.\n",
    "\n",
    "        # 모든 문서에 대해서 각각 아래를 수행\n",
    "        for j, (topic_num, prop_topic) in enumerate(doc): #  몇 번 토픽인지와 비중을 나눠서 저장한다.\n",
    "            if j == 0:  # 정렬을 한 상태이므로 가장 앞에 있는 것이 가장 비중이 높은 토픽\n",
    "                topic_table = topic_table.append(pd.Series([int(topic_num), round(prop_topic,4), topic_list]), ignore_index=True)\n",
    "                # 가장 비중이 높은 토픽과, 가장 비중이 높은 토픽의 비중과, 전체 토픽의 비중을 저장한다.\n",
    "            else:\n",
    "                break\n",
    "    return(topic_table)\n"
   ]
  },
  {
   "cell_type": "code",
   "execution_count": 57,
   "metadata": {},
   "outputs": [
    {
     "name": "stderr",
     "output_type": "stream",
     "text": [
      "/var/folders/bh/fc9kz9jd629610b3rs258vlw0000gn/T/ipykernel_62158/2753814633.py:16: FutureWarning: The frame.append method is deprecated and will be removed from pandas in a future version. Use pandas.concat instead.\n",
      "  topic_table = topic_table.append(pd.Series([int(topic_num), round(prop_topic,4), topic_list]), ignore_index=True)\n",
      "/var/folders/bh/fc9kz9jd629610b3rs258vlw0000gn/T/ipykernel_62158/2753814633.py:16: FutureWarning: The frame.append method is deprecated and will be removed from pandas in a future version. Use pandas.concat instead.\n",
      "  topic_table = topic_table.append(pd.Series([int(topic_num), round(prop_topic,4), topic_list]), ignore_index=True)\n"
     ]
    },
    {
     "data": {
      "text/html": [
       "<div>\n",
       "<style scoped>\n",
       "    .dataframe tbody tr th:only-of-type {\n",
       "        vertical-align: middle;\n",
       "    }\n",
       "\n",
       "    .dataframe tbody tr th {\n",
       "        vertical-align: top;\n",
       "    }\n",
       "\n",
       "    .dataframe thead th {\n",
       "        text-align: right;\n",
       "    }\n",
       "</style>\n",
       "<table border=\"1\" class=\"dataframe\">\n",
       "  <thead>\n",
       "    <tr style=\"text-align: right;\">\n",
       "      <th></th>\n",
       "      <th>문서 번호</th>\n",
       "      <th>가장 비중이 높은 토픽</th>\n",
       "      <th>가장 높은 토픽의 비중</th>\n",
       "      <th>각 토픽의 비중</th>\n",
       "    </tr>\n",
       "  </thead>\n",
       "  <tbody>\n",
       "    <tr>\n",
       "      <th>0</th>\n",
       "      <td>0</td>\n",
       "      <td>19</td>\n",
       "      <td>0.4122</td>\n",
       "      <td>[(3, 0.33413407), (5, 0.049896885), (9, 0.0936...</td>\n",
       "    </tr>\n",
       "    <tr>\n",
       "      <th>1</th>\n",
       "      <td>1</td>\n",
       "      <td>3</td>\n",
       "      <td>0.5964</td>\n",
       "      <td>[(0, 0.19207807), (1, 0.03300056), (3, 0.59637...</td>\n",
       "    </tr>\n",
       "    <tr>\n",
       "      <th>2</th>\n",
       "      <td>2</td>\n",
       "      <td>0</td>\n",
       "      <td>0.4009</td>\n",
       "      <td>[(0, 0.4008574), (12, 0.038169056), (15, 0.137...</td>\n",
       "    </tr>\n",
       "    <tr>\n",
       "      <th>3</th>\n",
       "      <td>3</td>\n",
       "      <td>0</td>\n",
       "      <td>0.3742</td>\n",
       "      <td>[(0, 0.37424076), (4, 0.042299047), (9, 0.0243...</td>\n",
       "    </tr>\n",
       "    <tr>\n",
       "      <th>4</th>\n",
       "      <td>4</td>\n",
       "      <td>0</td>\n",
       "      <td>0.3354</td>\n",
       "      <td>[(0, 0.33536094), (7, 0.05445339), (13, 0.0703...</td>\n",
       "    </tr>\n",
       "    <tr>\n",
       "      <th>5</th>\n",
       "      <td>5</td>\n",
       "      <td>15</td>\n",
       "      <td>0.3710</td>\n",
       "      <td>[(0, 0.28329155), (2, 0.08266327), (8, 0.10714...</td>\n",
       "    </tr>\n",
       "    <tr>\n",
       "      <th>6</th>\n",
       "      <td>6</td>\n",
       "      <td>0</td>\n",
       "      <td>0.4275</td>\n",
       "      <td>[(0, 0.4274774), (3, 0.079413086), (4, 0.05926...</td>\n",
       "    </tr>\n",
       "    <tr>\n",
       "      <th>7</th>\n",
       "      <td>7</td>\n",
       "      <td>0</td>\n",
       "      <td>0.3826</td>\n",
       "      <td>[(0, 0.38256726), (2, 0.13174745), (3, 0.16983...</td>\n",
       "    </tr>\n",
       "    <tr>\n",
       "      <th>8</th>\n",
       "      <td>8</td>\n",
       "      <td>3</td>\n",
       "      <td>0.4156</td>\n",
       "      <td>[(3, 0.41556475), (4, 0.07330833), (5, 0.25469...</td>\n",
       "    </tr>\n",
       "    <tr>\n",
       "      <th>9</th>\n",
       "      <td>9</td>\n",
       "      <td>0</td>\n",
       "      <td>0.9141</td>\n",
       "      <td>[(0, 0.9141123), (11, 0.05853882), (15, 0.0154...</td>\n",
       "    </tr>\n",
       "  </tbody>\n",
       "</table>\n",
       "</div>"
      ],
      "text/plain": [
       "   문서 번호  가장 비중이 높은 토픽  가장 높은 토픽의 비중  \\\n",
       "0      0            19        0.4122   \n",
       "1      1             3        0.5964   \n",
       "2      2             0        0.4009   \n",
       "3      3             0        0.3742   \n",
       "4      4             0        0.3354   \n",
       "5      5            15        0.3710   \n",
       "6      6             0        0.4275   \n",
       "7      7             0        0.3826   \n",
       "8      8             3        0.4156   \n",
       "9      9             0        0.9141   \n",
       "\n",
       "                                            각 토픽의 비중  \n",
       "0  [(3, 0.33413407), (5, 0.049896885), (9, 0.0936...  \n",
       "1  [(0, 0.19207807), (1, 0.03300056), (3, 0.59637...  \n",
       "2  [(0, 0.4008574), (12, 0.038169056), (15, 0.137...  \n",
       "3  [(0, 0.37424076), (4, 0.042299047), (9, 0.0243...  \n",
       "4  [(0, 0.33536094), (7, 0.05445339), (13, 0.0703...  \n",
       "5  [(0, 0.28329155), (2, 0.08266327), (8, 0.10714...  \n",
       "6  [(0, 0.4274774), (3, 0.079413086), (4, 0.05926...  \n",
       "7  [(0, 0.38256726), (2, 0.13174745), (3, 0.16983...  \n",
       "8  [(3, 0.41556475), (4, 0.07330833), (5, 0.25469...  \n",
       "9  [(0, 0.9141123), (11, 0.05853882), (15, 0.0154...  "
      ]
     },
     "execution_count": 57,
     "metadata": {},
     "output_type": "execute_result"
    }
   ],
   "source": [
    "topictable = make_topictable_per_doc(ldamodel, corpus)\n",
    "topictable = topictable.reset_index()\n",
    "topictable.columns = ['문서 번호','가장 비중이 높은 토픽','가장 높은 토픽의 비중','각 토픽의 비중']\n",
    "topictable[:10]"
   ]
  },
  {
   "cell_type": "code",
   "execution_count": 58,
   "metadata": {},
   "outputs": [
    {
     "name": "stderr",
     "output_type": "stream",
     "text": [
      "/var/folders/bh/fc9kz9jd629610b3rs258vlw0000gn/T/ipykernel_62158/1556855523.py:11: FutureWarning: The error_bad_lines argument has been deprecated and will be removed in a future version. Use on_bad_lines in the future.\n",
      "\n",
      "\n",
      "  data = pd.read_csv('abcnews-date-text.csv', error_bad_lines=False)\n"
     ]
    },
    {
     "name": "stdout",
     "output_type": "stream",
     "text": [
      "뉴스 제목 개수 : 1226258\n"
     ]
    }
   ],
   "source": [
    "\n",
    "import pandas as pd\n",
    "import urllib.request\n",
    "import nltk\n",
    "from nltk.corpus import stopwords\n",
    "from nltk.stem import WordNetLemmatizer\n",
    "from sklearn.feature_extraction.text import TfidfVectorizer\n",
    "from sklearn.decomposition import LatentDirichletAllocation\n",
    "\n",
    "#urllib.request.urlretrieve(\"https://www.kaggle.com/datasets/therohk/million-headlines?select=abcnews-date-text.csv\", filename=\"abcnews-date-text.csv\")\n",
    "\n",
    "data = pd.read_csv('abcnews-date-text.csv', error_bad_lines=False)\n",
    "print('뉴스 제목 개수 :',len(data))"
   ]
  },
  {
   "cell_type": "code",
   "execution_count": 59,
   "metadata": {},
   "outputs": [
    {
     "name": "stdout",
     "output_type": "stream",
     "text": [
      "   publish_date                                      headline_text\n",
      "0      20030219  aba decides against community broadcasting lic...\n",
      "1      20030219     act fire witnesses must be aware of defamation\n",
      "2      20030219     a g calls for infrastructure protection summit\n",
      "3      20030219           air nz staff in aust strike for pay rise\n",
      "4      20030219      air nz strike to affect australian travellers\n"
     ]
    }
   ],
   "source": [
    "print(data.head(5))"
   ]
  },
  {
   "cell_type": "code",
   "execution_count": 60,
   "metadata": {},
   "outputs": [
    {
     "data": {
      "text/html": [
       "<div>\n",
       "<style scoped>\n",
       "    .dataframe tbody tr th:only-of-type {\n",
       "        vertical-align: middle;\n",
       "    }\n",
       "\n",
       "    .dataframe tbody tr th {\n",
       "        vertical-align: top;\n",
       "    }\n",
       "\n",
       "    .dataframe thead th {\n",
       "        text-align: right;\n",
       "    }\n",
       "</style>\n",
       "<table border=\"1\" class=\"dataframe\">\n",
       "  <thead>\n",
       "    <tr style=\"text-align: right;\">\n",
       "      <th></th>\n",
       "      <th>headline_text</th>\n",
       "    </tr>\n",
       "  </thead>\n",
       "  <tbody>\n",
       "    <tr>\n",
       "      <th>0</th>\n",
       "      <td>aba decides against community broadcasting lic...</td>\n",
       "    </tr>\n",
       "    <tr>\n",
       "      <th>1</th>\n",
       "      <td>act fire witnesses must be aware of defamation</td>\n",
       "    </tr>\n",
       "    <tr>\n",
       "      <th>2</th>\n",
       "      <td>a g calls for infrastructure protection summit</td>\n",
       "    </tr>\n",
       "    <tr>\n",
       "      <th>3</th>\n",
       "      <td>air nz staff in aust strike for pay rise</td>\n",
       "    </tr>\n",
       "    <tr>\n",
       "      <th>4</th>\n",
       "      <td>air nz strike to affect australian travellers</td>\n",
       "    </tr>\n",
       "  </tbody>\n",
       "</table>\n",
       "</div>"
      ],
      "text/plain": [
       "                                       headline_text\n",
       "0  aba decides against community broadcasting lic...\n",
       "1     act fire witnesses must be aware of defamation\n",
       "2     a g calls for infrastructure protection summit\n",
       "3           air nz staff in aust strike for pay rise\n",
       "4      air nz strike to affect australian travellers"
      ]
     },
     "execution_count": 60,
     "metadata": {},
     "output_type": "execute_result"
    }
   ],
   "source": [
    "text = data[['headline_text']]\n",
    "text.head(5)"
   ]
  },
  {
   "cell_type": "code",
   "execution_count": 61,
   "metadata": {},
   "outputs": [
    {
     "name": "stderr",
     "output_type": "stream",
     "text": [
      "[nltk_data] Downloading package punkt to /Users/yunbeen/nltk_data...\n",
      "[nltk_data]   Unzipping tokenizers/punkt.zip.\n",
      "[nltk_data] Downloading package stopwords to\n",
      "[nltk_data]     /Users/yunbeen/nltk_data...\n",
      "[nltk_data]   Package stopwords is already up-to-date!\n"
     ]
    },
    {
     "data": {
      "text/plain": [
       "True"
      ]
     },
     "execution_count": 61,
     "metadata": {},
     "output_type": "execute_result"
    }
   ],
   "source": [
    "nltk.download('punkt')\n",
    "nltk.download('stopwords')"
   ]
  },
  {
   "cell_type": "code",
   "execution_count": 62,
   "metadata": {},
   "outputs": [
    {
     "name": "stderr",
     "output_type": "stream",
     "text": [
      "/var/folders/bh/fc9kz9jd629610b3rs258vlw0000gn/T/ipykernel_62158/443543600.py:1: SettingWithCopyWarning: \n",
      "A value is trying to be set on a copy of a slice from a DataFrame.\n",
      "Try using .loc[row_indexer,col_indexer] = value instead\n",
      "\n",
      "See the caveats in the documentation: https://pandas.pydata.org/pandas-docs/stable/user_guide/indexing.html#returning-a-view-versus-a-copy\n",
      "  text['headline_text'] = text.apply(lambda row: nltk.word_tokenize(row['headline_text']), axis=1)\n"
     ]
    }
   ],
   "source": [
    "text['headline_text'] = text.apply(lambda row: nltk.word_tokenize(row['headline_text']), axis=1)"
   ]
  },
  {
   "cell_type": "code",
   "execution_count": 63,
   "metadata": {},
   "outputs": [
    {
     "name": "stdout",
     "output_type": "stream",
     "text": [
      "                                       headline_text\n",
      "0  [aba, decides, against, community, broadcastin...\n",
      "1  [act, fire, witnesses, must, be, aware, of, de...\n",
      "2  [a, g, calls, for, infrastructure, protection,...\n",
      "3  [air, nz, staff, in, aust, strike, for, pay, r...\n",
      "4  [air, nz, strike, to, affect, australian, trav...\n"
     ]
    }
   ],
   "source": [
    "print(text.head(5))"
   ]
  },
  {
   "cell_type": "code",
   "execution_count": 64,
   "metadata": {},
   "outputs": [
    {
     "name": "stderr",
     "output_type": "stream",
     "text": [
      "/var/folders/bh/fc9kz9jd629610b3rs258vlw0000gn/T/ipykernel_62158/105725454.py:2: SettingWithCopyWarning: \n",
      "A value is trying to be set on a copy of a slice from a DataFrame.\n",
      "Try using .loc[row_indexer,col_indexer] = value instead\n",
      "\n",
      "See the caveats in the documentation: https://pandas.pydata.org/pandas-docs/stable/user_guide/indexing.html#returning-a-view-versus-a-copy\n",
      "  text['headline_text'] = text['headline_text'].apply(lambda x: [word for word in x if word not in (stop_words)])\n"
     ]
    }
   ],
   "source": [
    "stop_words = stopwords.words('english')\n",
    "text['headline_text'] = text['headline_text'].apply(lambda x: [word for word in x if word not in (stop_words)])"
   ]
  },
  {
   "cell_type": "code",
   "execution_count": 65,
   "metadata": {},
   "outputs": [
    {
     "name": "stdout",
     "output_type": "stream",
     "text": [
      "                                       headline_text\n",
      "0   [aba, decides, community, broadcasting, licence]\n",
      "1    [act, fire, witnesses, must, aware, defamation]\n",
      "2     [g, calls, infrastructure, protection, summit]\n",
      "3          [air, nz, staff, aust, strike, pay, rise]\n",
      "4  [air, nz, strike, affect, australian, travellers]\n"
     ]
    }
   ],
   "source": [
    "print(text.head(5))"
   ]
  },
  {
   "cell_type": "code",
   "execution_count": 66,
   "metadata": {},
   "outputs": [
    {
     "name": "stderr",
     "output_type": "stream",
     "text": [
      "[nltk_data] Downloading package wordnet to /Users/yunbeen/nltk_data...\n",
      "[nltk_data]   Unzipping corpora/wordnet.zip.\n",
      "[nltk_data] Downloading package omw-1.4 to /Users/yunbeen/nltk_data...\n",
      "[nltk_data]   Unzipping corpora/omw-1.4.zip.\n"
     ]
    },
    {
     "data": {
      "text/plain": [
       "True"
      ]
     },
     "execution_count": 66,
     "metadata": {},
     "output_type": "execute_result"
    }
   ],
   "source": [
    "nltk.download('wordnet')\n",
    "nltk.download('omw-1.4')"
   ]
  },
  {
   "cell_type": "code",
   "execution_count": 67,
   "metadata": {},
   "outputs": [
    {
     "name": "stdout",
     "output_type": "stream",
     "text": [
      "                                       headline_text\n",
      "0       [aba, decide, community, broadcast, licence]\n",
      "1      [act, fire, witness, must, aware, defamation]\n",
      "2      [g, call, infrastructure, protection, summit]\n",
      "3          [air, nz, staff, aust, strike, pay, rise]\n",
      "4  [air, nz, strike, affect, australian, travellers]\n"
     ]
    },
    {
     "name": "stderr",
     "output_type": "stream",
     "text": [
      "/var/folders/bh/fc9kz9jd629610b3rs258vlw0000gn/T/ipykernel_62158/306918692.py:1: SettingWithCopyWarning: \n",
      "A value is trying to be set on a copy of a slice from a DataFrame.\n",
      "Try using .loc[row_indexer,col_indexer] = value instead\n",
      "\n",
      "See the caveats in the documentation: https://pandas.pydata.org/pandas-docs/stable/user_guide/indexing.html#returning-a-view-versus-a-copy\n",
      "  text['headline_text'] = text['headline_text'].apply(lambda x: [WordNetLemmatizer().lemmatize(word, pos='v') for word in x])\n"
     ]
    }
   ],
   "source": [
    "text['headline_text'] = text['headline_text'].apply(lambda x: [WordNetLemmatizer().lemmatize(word, pos='v') for word in x])\n",
    "print(text.head(5))"
   ]
  },
  {
   "cell_type": "code",
   "execution_count": 68,
   "metadata": {},
   "outputs": [
    {
     "name": "stdout",
     "output_type": "stream",
     "text": [
      "0       [decide, community, broadcast, licence]\n",
      "1      [fire, witness, must, aware, defamation]\n",
      "2    [call, infrastructure, protection, summit]\n",
      "3                   [staff, aust, strike, rise]\n",
      "4      [strike, affect, australian, travellers]\n",
      "Name: headline_text, dtype: object\n"
     ]
    }
   ],
   "source": [
    "tokenized_doc = text['headline_text'].apply(lambda x: [word for word in x if len(word) > 3])\n",
    "print(tokenized_doc[:5])"
   ]
  },
  {
   "cell_type": "code",
   "execution_count": 69,
   "metadata": {},
   "outputs": [
    {
     "name": "stderr",
     "output_type": "stream",
     "text": [
      "/var/folders/bh/fc9kz9jd629610b3rs258vlw0000gn/T/ipykernel_62158/371581730.py:7: SettingWithCopyWarning: \n",
      "A value is trying to be set on a copy of a slice from a DataFrame.\n",
      "Try using .loc[row_indexer,col_indexer] = value instead\n",
      "\n",
      "See the caveats in the documentation: https://pandas.pydata.org/pandas-docs/stable/user_guide/indexing.html#returning-a-view-versus-a-copy\n",
      "  text['headline_text'] = detokenized_doc\n"
     ]
    }
   ],
   "source": [
    "# 역토큰화 (토큰화 작업을 역으로 되돌림)\n",
    "detokenized_doc = []\n",
    "for i in range(len(text)):\n",
    "    t = ' '.join(tokenized_doc[i])\n",
    "    detokenized_doc.append(t)\n",
    "\n",
    "text['headline_text'] = detokenized_doc"
   ]
  },
  {
   "cell_type": "code",
   "execution_count": 70,
   "metadata": {},
   "outputs": [
    {
     "data": {
      "text/plain": [
       "0       decide community broadcast licence\n",
       "1       fire witness must aware defamation\n",
       "2    call infrastructure protection summit\n",
       "3                   staff aust strike rise\n",
       "4      strike affect australian travellers\n",
       "Name: headline_text, dtype: object"
      ]
     },
     "execution_count": 70,
     "metadata": {},
     "output_type": "execute_result"
    }
   ],
   "source": [
    "text['headline_text'][:5]"
   ]
  },
  {
   "cell_type": "code",
   "execution_count": 71,
   "metadata": {},
   "outputs": [
    {
     "name": "stdout",
     "output_type": "stream",
     "text": [
      "TF-IDF 행렬의 크기 : (1226258, 1000)\n"
     ]
    }
   ],
   "source": [
    "# 상위 1,000개의 단어를 보존 \n",
    "vectorizer = TfidfVectorizer(stop_words='english', max_features= 1000)\n",
    "X = vectorizer.fit_transform(text['headline_text'])\n",
    "\n",
    "# TF-IDF 행렬의 크기 확인\n",
    "print('TF-IDF 행렬의 크기 :',X.shape)"
   ]
  },
  {
   "cell_type": "code",
   "execution_count": 72,
   "metadata": {},
   "outputs": [],
   "source": [
    "lda_model = LatentDirichletAllocation(n_components=10,learning_method='online',random_state=777,max_iter=1)"
   ]
  },
  {
   "cell_type": "code",
   "execution_count": 73,
   "metadata": {},
   "outputs": [],
   "source": [
    "lda_top = lda_model.fit_transform(X)"
   ]
  },
  {
   "cell_type": "code",
   "execution_count": 74,
   "metadata": {},
   "outputs": [
    {
     "name": "stdout",
     "output_type": "stream",
     "text": [
      "[[1.00000865e-01 1.00000439e-01 1.00001997e-01 ... 1.00006873e-01\n",
      "  1.00003405e-01 1.00005209e-01]\n",
      " [1.00001642e-01 1.00000829e-01 6.40533260e+02 ... 1.00009111e-01\n",
      "  1.00004890e-01 5.79474578e+02]\n",
      " [1.00001468e-01 1.00000275e-01 1.00001496e-01 ... 1.00004592e-01\n",
      "  1.00001786e-01 1.00005396e-01]\n",
      " ...\n",
      " [1.00002822e-01 1.00000923e-01 1.00001462e-01 ... 1.00009141e-01\n",
      "  1.00005015e-01 1.00008595e-01]\n",
      " [1.00004695e-01 1.00002038e-01 1.00001419e-01 ... 1.00004812e-01\n",
      "  1.00002548e-01 1.00007925e-01]\n",
      " [1.07423402e+02 2.03964360e+02 1.00002187e-01 ... 1.00006822e-01\n",
      "  1.00003052e-01 1.00006310e-01]]\n",
      "(10, 1000)\n"
     ]
    }
   ],
   "source": [
    "print(lda_model.components_)\n",
    "print(lda_model.components_.shape) "
   ]
  },
  {
   "cell_type": "code",
   "execution_count": 75,
   "metadata": {},
   "outputs": [
    {
     "name": "stdout",
     "output_type": "stream",
     "text": [
      "Topic 1: [('queensland', 12908.75), ('sydney', 10948.96), ('melbourne', 8900.08), ('change', 7262.83), ('crash', 6153.23)]\n",
      "Topic 2: [('australia', 19355.9), ('australian', 13286.11), ('leave', 4930.96), ('speak', 4845.83), ('perth', 4709.2)]\n",
      "Topic 3: [('donald', 9114.15), ('live', 7908.02), ('federal', 4711.88), ('rise', 4630.85), ('victorian', 4567.89)]\n",
      "Topic 4: [('health', 6349.63), ('tasmania', 6141.91), ('report', 5567.09), ('plan', 4834.44), ('time', 4744.41)]\n",
      "Topic 5: [('state', 6086.17), ('open', 6074.01), ('coast', 6015.08), ('restrictions', 5961.35), ('woman', 5921.79)]\n",
      "Topic 6: [('trump', 15903.94), ('police', 13931.38), ('home', 7318.39), ('test', 7241.0), ('market', 6529.05)]\n",
      "Topic 7: [('government', 9187.9), ('record', 6384.64), ('border', 6378.89), ('help', 5807.23), ('people', 5620.56)]\n",
      "Topic 8: [('coronavirus', 48038.98), ('covid', 19540.99), ('victoria', 10827.28), ('china', 8358.46), ('death', 7181.89)]\n",
      "Topic 9: [('case', 10138.89), ('charge', 8386.79), ('court', 8195.91), ('murder', 7177.55), ('years', 5828.17)]\n",
      "Topic 10: [('election', 9987.75), ('news', 8582.48), ('kill', 6939.16), ('world', 6872.76), ('school', 6214.29)]\n"
     ]
    },
    {
     "name": "stderr",
     "output_type": "stream",
     "text": [
      "/Library/Frameworks/Python.framework/Versions/3.10/lib/python3.10/site-packages/sklearn/utils/deprecation.py:87: FutureWarning: Function get_feature_names is deprecated; get_feature_names is deprecated in 1.0 and will be removed in 1.2. Please use get_feature_names_out instead.\n",
      "  warnings.warn(msg, category=FutureWarning)\n"
     ]
    }
   ],
   "source": [
    "# 단어 집합. 1,000개의 단어가 저장됨.\n",
    "terms = vectorizer.get_feature_names()\n",
    "\n",
    "def get_topics(components, feature_names, n=5):\n",
    "    for idx, topic in enumerate(components):\n",
    "        print(\"Topic %d:\" % (idx+1), [(feature_names[i], topic[i].round(2)) for i in topic.argsort()[:-n - 1:-1]])\n",
    "\n",
    "get_topics(lda_model.components_,terms)"
   ]
  },
  {
   "cell_type": "code",
   "execution_count": 76,
   "metadata": {},
   "outputs": [
    {
     "name": "stderr",
     "output_type": "stream",
     "text": [
      "/Library/Frameworks/Python.framework/Versions/3.10/lib/python3.10/site-packages/pyLDAvis/_prepare.py:247: FutureWarning: In a future version of pandas all arguments of DataFrame.drop except for the argument 'labels' will be keyword-only.\n",
      "  by='saliency', ascending=False).head(R).drop('saliency', 1)\n",
      "/Library/Frameworks/Python.framework/Versions/3.10/lib/python3.10/site-packages/past/builtins/misc.py:45: DeprecationWarning: the imp module is deprecated in favour of importlib and slated for removal in Python 3.12; see the module's documentation for alternative uses\n",
      "  from imp import reload\n",
      "/Library/Frameworks/Python.framework/Versions/3.10/lib/python3.10/site-packages/past/builtins/misc.py:45: DeprecationWarning: the imp module is deprecated in favour of importlib and slated for removal in Python 3.12; see the module's documentation for alternative uses\n",
      "  from imp import reload\n",
      "/Library/Frameworks/Python.framework/Versions/3.10/lib/python3.10/site-packages/past/builtins/misc.py:45: DeprecationWarning: the imp module is deprecated in favour of importlib and slated for removal in Python 3.12; see the module's documentation for alternative uses\n",
      "  from imp import reload\n",
      "/Library/Frameworks/Python.framework/Versions/3.10/lib/python3.10/site-packages/past/builtins/misc.py:45: DeprecationWarning: the imp module is deprecated in favour of importlib and slated for removal in Python 3.12; see the module's documentation for alternative uses\n",
      "  from imp import reload\n",
      "/Library/Frameworks/Python.framework/Versions/3.10/lib/python3.10/site-packages/past/builtins/misc.py:45: DeprecationWarning: the imp module is deprecated in favour of importlib and slated for removal in Python 3.12; see the module's documentation for alternative uses\n",
      "  from imp import reload\n",
      "/Library/Frameworks/Python.framework/Versions/3.10/lib/python3.10/site-packages/past/builtins/misc.py:45: DeprecationWarning: the imp module is deprecated in favour of importlib and slated for removal in Python 3.12; see the module's documentation for alternative uses\n",
      "  from imp import reload\n",
      "/Library/Frameworks/Python.framework/Versions/3.10/lib/python3.10/site-packages/past/builtins/misc.py:45: DeprecationWarning: the imp module is deprecated in favour of importlib and slated for removal in Python 3.12; see the module's documentation for alternative uses\n",
      "  from imp import reload\n",
      "/Library/Frameworks/Python.framework/Versions/3.10/lib/python3.10/site-packages/past/builtins/misc.py:45: DeprecationWarning: the imp module is deprecated in favour of importlib and slated for removal in Python 3.12; see the module's documentation for alternative uses\n",
      "  from imp import reload\n"
     ]
    },
    {
     "data": {
      "text/html": [
       "\n",
       "<link rel=\"stylesheet\" type=\"text/css\" href=\"https://cdn.jsdelivr.net/gh/bmabey/pyLDAvis@3.3.1/pyLDAvis/js/ldavis.v1.0.0.css\">\n",
       "\n",
       "\n",
       "<div id=\"ldavis_el6215811217822304551270964\"></div>\n",
       "<script type=\"text/javascript\">\n",
       "\n",
       "var ldavis_el6215811217822304551270964_data = {\"mdsDat\": {\"x\": [0.03579989776772527, 0.24902547816151502, 0.26598493034831855, -0.10472015832268117, -0.1831150252642353, 0.018535431064193458, 0.027655434494617374, -0.20076015849908543, 0.04110688547105019, -0.1495127152214173], \"y\": [-0.1827187632339168, 0.17992378894224215, 0.16320922203582705, 0.005611516524477146, 0.14402795679088054, -0.18995728430431918, -0.09927724208570596, 0.10444996964005311, -0.24240744964164126, 0.11713828533210358], \"topics\": [1, 2, 3, 4, 5, 6, 7, 8, 9, 10], \"cluster\": [1, 1, 1, 1, 1, 1, 1, 1, 1, 1], \"Freq\": [10.980874793996731, 10.943603364371896, 10.562281017403368, 10.08809938722435, 9.8600760120006, 9.756543675580913, 9.717016009165489, 9.427268032402871, 9.332936011883003, 9.331301695970769]}, \"tinfo\": {\"Term\": [\"coronavirus\", \"australia\", \"covid\", \"trump\", \"australian\", \"police\", \"queensland\", \"case\", \"donald\", \"government\", \"sydney\", \"election\", \"charge\", \"court\", \"live\", \"victoria\", \"news\", \"melbourne\", \"murder\", \"health\", \"tasmania\", \"record\", \"border\", \"state\", \"open\", \"kill\", \"coast\", \"world\", \"restrictions\", \"report\", \"queensland\", \"sydney\", \"melbourne\", \"change\", \"crash\", \"year\", \"brisbane\", \"morrison\", \"protest\", \"island\", \"dead\", \"child\", \"game\", \"rule\", \"beach\", \"drug\", \"monday\", \"students\", \"turn\", \"wednesday\", \"hong\", \"lead\", \"history\", \"star\", \"weather\", \"launch\", \"investigation\", \"head\", \"free\", \"india\", \"trump\", \"police\", \"home\", \"test\", \"market\", \"house\", \"family\", \"indigenous\", \"life\", \"jail\", \"finance\", \"royal\", \"talk\", \"high\", \"bank\", \"australians\", \"beat\", \"price\", \"power\", \"christmas\", \"want\", \"baby\", \"officer\", \"race\", \"young\", \"trade\", \"residents\", \"share\", \"centre\", \"campaign\", \"election\", \"news\", \"kill\", \"world\", \"school\", \"make\", \"adelaide\", \"labor\", \"australias\", \"tell\", \"budget\", \"premier\", \"allege\", \"workers\", \"meet\", \"vote\", \"season\", \"country\", \"service\", \"extend\", \"black\", \"support\", \"build\", \"force\", \"bushfires\", \"party\", \"mark\", \"league\", \"emergency\", \"river\", \"care\", \"case\", \"charge\", \"court\", \"murder\", \"years\", \"attack\", \"face\", \"bushfire\", \"trial\", \"sentence\", \"break\", \"regional\", \"climate\", \"abuse\", \"need\", \"aboriginal\", \"inquiry\", \"body\", \"issue\", \"green\", \"cost\", \"stab\", \"drop\", \"cancer\", \"delay\", \"ease\", \"like\", \"energy\", \"light\", \"start\", \"government\", \"record\", \"border\", \"help\", \"people\", \"north\", \"fight\", \"national\", \"final\", \"business\", \"close\", \"guilty\", \"commission\", \"west\", \"president\", \"train\", \"deal\", \"risk\", \"flood\", \"road\", \"mother\", \"continue\", \"fish\", \"group\", \"despite\", \"plead\", \"catch\", \"tree\", \"university\", \"study\", \"fund\", \"state\", \"open\", \"coast\", \"restrictions\", \"woman\", \"warn\", \"miss\", \"women\", \"water\", \"tasmanian\", \"gold\", \"claim\", \"hear\", \"travel\", \"storm\", \"friday\", \"search\", \"public\", \"question\", \"northern\", \"play\", \"grow\", \"join\", \"russia\", \"east\", \"urge\", \"super\", \"protesters\", \"economy\", \"challenge\", \"australia\", \"australian\", \"leave\", \"speak\", \"perth\", \"work\", \"interview\", \"announce\", \"community\", \"assault\", \"children\", \"michael\", \"hotel\", \"wall\", \"video\", \"david\", \"cricket\", \"port\", \"city\", \"doctor\", \"sexual\", \"social\", \"crisis\", \"george\", \"investigate\", \"film\", \"hold\", \"battle\", \"steal\", \"international\", \"donald\", \"live\", \"federal\", \"rise\", \"victorian\", \"drum\", \"release\", \"farm\", \"street\", \"save\", \"park\", \"review\", \"program\", \"look\", \"peter\", \"violence\", \"bring\", \"media\", \"land\", \"future\", \"food\", \"grand\", \"award\", \"debate\", \"turnbull\", \"tourism\", \"mount\", \"victims\", \"domestic\", \"send\", \"council\", \"victoria\", \"china\", \"death\", \"south\", \"canberra\", \"shoot\", \"scott\", \"return\", \"lose\", \"amid\", \"fall\", \"chinese\", \"john\", \"fear\", \"tuesday\", \"drought\", \"million\", \"rain\", \"outback\", \"number\", \"johnson\", \"company\", \"appeal\", \"club\", \"post\", \"increase\", \"inquest\", \"long\", \"facebook\", \"track\", \"coronavirus\", \"covid\", \"health\", \"tasmania\", \"report\", \"plan\", \"time\", \"arrest\", \"minister\", \"accuse\", \"hospital\", \"darwin\", \"update\", \"farmers\", \"concern\", \"reveal\", \"rescue\", \"industry\", \"thursday\", \"second\", \"rural\", \"parliament\", \"sport\", \"zealand\", \"near\", \"deaths\", \"mental\", \"drive\", \"town\", \"latest\", \"result\", \"ahead\"], \"Freq\": [34211.0, 18264.0, 13897.0, 13839.0, 12537.0, 12122.0, 11029.0, 10325.0, 9164.0, 9285.0, 9354.0, 9192.0, 8541.0, 8347.0, 7951.0, 7684.0, 7899.0, 7604.0, 7309.0, 6795.0, 6573.0, 6453.0, 6447.0, 6201.0, 6189.0, 6387.0, 6129.0, 6325.0, 6074.0, 5958.0, 11028.233974868806, 9353.945553213567, 7603.536651413101, 6204.802906595072, 5256.8418527635295, 5220.142551081964, 4251.184860642179, 3964.29570519903, 3944.477058747461, 3647.258172458403, 3642.2607432949276, 3203.0261480043478, 3031.9371314549403, 2911.0084050367395, 2898.0061041462213, 2829.253081492244, 2597.0247713467274, 2596.214949783487, 2563.1340869474266, 2459.432061576925, 2407.7428784807503, 2314.5628261991806, 2314.3663414654957, 2299.473642739552, 2296.5518728082043, 2232.422510371604, 2199.233238831885, 2167.238287319746, 2149.5779306671716, 2127.6269949134858, 13838.185127823614, 12121.839542778314, 6367.804399535735, 6300.4703130122125, 5680.995980064234, 5516.984738210399, 4607.883542240829, 4200.30490401815, 4140.961493840941, 4057.433113468588, 3707.014821660783, 3627.532226821066, 3270.889504452977, 3245.768740260325, 3031.4199614997015, 2980.097681059035, 2968.0971250956536, 2890.8434354011697, 2885.136227940823, 2772.170868538137, 2649.188051486001, 2635.45374478754, 2632.0281464036125, 2508.1338057626995, 2503.7173199851914, 2459.068562518627, 2346.6147335760866, 2305.3161737498745, 2300.504115927008, 2269.5428242064613, 9191.871986120872, 7898.585845874208, 6386.209590458396, 6325.105832052329, 5719.099608912685, 5621.583801844482, 5613.614526604799, 3620.8479584346715, 3474.0481865794527, 3352.058579150572, 3277.248997571334, 3197.878280943978, 3118.677901772498, 3094.4370208618, 3044.728520331696, 3024.139000191198, 3011.069616534031, 2965.2490290422975, 2859.657299521473, 2782.9520276835483, 2775.686978749876, 2725.8453645754075, 2665.6306639154955, 2663.506268388538, 2613.8492340449025, 2552.336372790334, 2551.5225788181665, 2534.768983792621, 2304.326772551781, 2270.1933323171297, 2481.082931636238, 10324.775340215892, 8540.55428305487, 8346.177713944659, 7309.1461537068635, 5935.029295864981, 5934.565730047391, 5800.197163348658, 5462.463548514794, 4664.906144346036, 4529.2801724537, 3939.919208040466, 3653.2044084884574, 3584.010616718714, 3452.8442222184967, 3406.955011348796, 2866.5399751438854, 2832.6996560493644, 2699.5701657142836, 2435.1887438224335, 2376.19702456945, 2344.4501856849624, 2299.7985782196483, 2244.793972760166, 2217.8893720258684, 2191.6273204221116, 2185.6361453740656, 2180.517948121197, 2114.1485124937094, 2036.4044676868505, 2026.5232063540257, 9285.10648132187, 6452.194177769609, 6446.383118600755, 5868.67185743647, 5680.024732109102, 4975.90800617284, 4495.150224804437, 4423.273633533469, 3851.9060861695266, 3791.486453809306, 3776.5797325731783, 3695.91131684221, 3590.8722513017606, 3562.379134531305, 3473.461340843889, 3281.0913300464076, 3116.0767558001803, 3087.8454983913734, 3040.7462469453008, 2611.610320384263, 2525.34962270586, 2461.919031235586, 2052.3357569019986, 1972.3182328125715, 1941.3344805502002, 1927.6879758333191, 1915.3064000699978, 1913.0005429501157, 1898.6777387492027, 1886.6404393264822, 2354.402750667026, 6201.149221293287, 6188.764195411262, 6128.719470805893, 6073.975234389141, 6033.668446102156, 5446.083779308816, 4818.797289159746, 4725.672373180947, 4332.20874220407, 4080.141961657938, 4011.645774039348, 3655.4290435489074, 3568.3453080225127, 3376.302493067053, 3247.53189619394, 3242.2239491474065, 3218.30260433074, 2975.2803743705986, 2881.0134535977327, 2764.857685360257, 2401.0688848218288, 2326.8026877696248, 2247.032939547855, 2214.273969084195, 2196.560530624071, 2166.0429986472054, 2094.001494114189, 2090.6414097879046, 2071.11221982234, 2065.4863447613743, 18263.877848747266, 12536.534721450906, 4652.766363809455, 4572.437871425557, 4443.518995583808, 4293.166051059264, 4125.502898539253, 3483.26982172409, 3262.8376704240236, 3226.7889056134636, 3133.29569104635, 2962.0782172235718, 2923.734663619408, 2868.6220537648423, 2855.900403431046, 2621.6784500564354, 2559.155542864399, 2479.6859761741434, 2476.0501300652886, 2438.5910980803565, 2412.3150698660593, 2397.5885257026544, 2373.8499227440984, 2358.1752371756525, 2319.705406432126, 2145.202601567468, 2094.858705747322, 2034.722098600723, 2028.0402564801327, 2008.871118065028, 9163.256836623948, 7950.628870735622, 4737.266856663614, 4655.799678846053, 4592.4959377193545, 4309.773802618386, 3738.1387399921023, 3643.036825690489, 3371.478067323523, 3356.8418597306027, 3270.005201252721, 3247.9308655464915, 3243.906576285875, 2977.891688704768, 2688.5086808224137, 2630.428746034703, 2591.4672663912243, 2582.7190357198833, 2550.923298231857, 2498.6857205721735, 2494.5336993588153, 2305.4065146274897, 2195.772031952709, 2159.823181722927, 2119.628127466339, 2091.7789180034565, 1967.5220612651099, 1963.4009789192407, 1925.1096041048045, 1871.4065379419349, 2489.356949854337, 7683.272551089531, 5931.342960185454, 5096.422064522715, 4971.578355908201, 4368.426530727184, 3770.4990837832297, 3145.282814099213, 3066.522166753466, 2809.086376468718, 2652.096062093813, 2481.6952297839885, 2363.610155473943, 2329.219945539374, 2204.2280362904526, 2156.4723591140673, 2118.086964619548, 2108.460856208978, 1704.980672849253, 1631.4864451654207, 1607.4041759166698, 1587.0706713521954, 1586.0232436244148, 1583.4922269953427, 1570.826629938964, 1563.909452737154, 1562.5748157393682, 1523.3440320853495, 1484.3209095602415, 1454.4696742289875, 1414.7773082957372, 34089.50709224725, 13866.712402863492, 6794.702292591302, 6572.41847819024, 5957.310412864804, 5173.302515748959, 5076.967805668007, 5046.521860974185, 4884.527605130614, 4413.012185391714, 4311.790618907929, 3777.5824838437165, 3760.07865898491, 3715.614960344558, 3708.749798599154, 3503.7358255440477, 3421.2214678902574, 3245.9261457871676, 3158.247208338324, 3143.354604171027, 3102.568598963579, 3096.2793534736124, 2914.153171629006, 2856.806016176829, 2823.805945760637, 2750.1904010153844, 2712.371803966833, 2444.817129796837, 2437.0409188598187, 2414.46772184023, 2336.199260514686, 2320.8731953496913], \"Total\": [34211.0, 18264.0, 13897.0, 13839.0, 12537.0, 12122.0, 11029.0, 10325.0, 9164.0, 9285.0, 9354.0, 9192.0, 8541.0, 8347.0, 7951.0, 7684.0, 7899.0, 7604.0, 7309.0, 6795.0, 6573.0, 6453.0, 6447.0, 6201.0, 6189.0, 6387.0, 6129.0, 6325.0, 6074.0, 5958.0, 11029.090797913765, 9354.802347476767, 7604.393448965721, 6205.659712480811, 5257.698613361072, 5220.999316929338, 4252.041630926373, 3965.152529223287, 3945.333844367899, 3648.114940111019, 3643.117495653195, 3203.88293695943, 3032.7938804128175, 2911.865186537578, 2898.862872582106, 2830.109854460801, 2597.8815022646663, 2597.0717173707217, 2563.9908301496193, 2460.2887876436357, 2408.599639344941, 2315.419591997274, 2315.2230832220357, 2300.330380158758, 2297.4086516436396, 2233.2792691933882, 2200.0899944214684, 2168.095038839527, 2150.434689098912, 2128.483780517496, 13839.040361337959, 12122.694827038142, 6368.659600460325, 6301.325531883629, 5681.851148431757, 5517.839927724414, 4608.738737479755, 4201.160096183928, 4141.8166677403415, 4058.2883083596257, 3707.8699957437, 3628.387418208967, 3271.7446610224943, 3246.6239523651534, 3032.275133966513, 2980.952864395845, 2968.952323084482, 2891.698601482933, 2885.9914072469983, 2773.0260670397515, 2650.043234704147, 2636.3089223013994, 2632.8833170601106, 2508.988981324556, 2504.572493016509, 2459.923756342259, 2347.4699308841505, 2306.171334915361, 2301.359302461137, 2270.3980013994915, 9192.7221730847, 7899.43602590193, 6387.059785922596, 6325.955982311123, 5719.949804174382, 5622.433955986427, 5614.464697260791, 3621.698108073962, 3474.898328932814, 3352.9087621675826, 3278.0991706501745, 3198.7284511015587, 3119.528090171568, 3095.2871917761604, 3045.5786659591104, 3024.9891458687284, 3011.9197857924646, 2966.0991604686687, 2860.5074737484997, 2783.8021639568365, 2776.5371520149433, 2726.6955376157325, 2666.4808187567082, 2664.3564320561704, 2614.6994234136996, 2553.1865254387344, 2552.3727191257667, 2535.6191201035954, 2305.17694360431, 2271.043482137498, 3766.728052550395, 10325.615764567023, 8541.3946356272, 8347.018083238354, 7309.98649098707, 5935.869636308348, 5935.406084772623, 5801.037528634217, 5463.303937707112, 4665.746490097865, 4530.120504963866, 3940.7595536692256, 3654.044782333899, 3584.8509771659647, 3453.684575816771, 3407.79535873997, 2867.380322497457, 2833.5400229124125, 2700.4104988456797, 2436.0290979000133, 2377.037367707556, 2345.2905377273332, 2300.6389110839887, 2245.6343144145712, 2218.729703024411, 2192.4676810588376, 2186.476564131687, 2181.3582822028316, 2114.9888455725036, 2037.2448071198048, 2027.363549328609, 9285.94763351348, 6453.035346373782, 6447.224333721817, 5869.51299715908, 5680.865858940995, 4976.749138904909, 4495.9913491705, 4424.114770667701, 3852.747222481061, 3792.3275748399346, 3777.420862729888, 3696.7524255455482, 3591.713395600449, 3563.220259443698, 3474.3024616604594, 3281.932448971641, 3116.9178829944176, 3088.6866292101618, 3041.5873814619385, 2612.4514394757657, 2526.1907379696113, 2462.760163366932, 2053.176874108589, 1973.1593543644785, 1942.1756144575927, 1928.529062124225, 1916.1475059583138, 1913.8416580354585, 1899.5188516489586, 1887.4815483298762, 3593.6256532305024, 6201.989543676028, 6189.604499185389, 6129.559758700051, 6074.81562717486, 6034.508757031527, 5446.924095242252, 4819.637577235246, 4726.512657932706, 4333.049043356207, 4080.9822413776133, 4012.486042197221, 3656.2693423172514, 3569.185617332533, 3377.142807653425, 3248.372182233513, 3243.0642249057, 3219.1428805403575, 2976.1206818733467, 2881.8537458605856, 2765.697987001711, 2401.9091646744487, 2327.642968034908, 2247.873211745112, 2215.1142473310265, 2197.400827716337, 2166.8833044220146, 2094.8417758343703, 2091.4817051719015, 2071.952519457084, 2066.326629613418, 18264.725736871173, 12537.382568728026, 4653.614201111129, 4573.285681902796, 4444.366823163946, 4294.013885142883, 4126.350691520475, 3484.1176606263407, 3263.685513193268, 3227.6367319179603, 3134.143515946508, 2962.9260311727935, 2924.5825258627633, 2869.46991880102, 2856.748215481035, 2622.5262552485406, 2560.003348685297, 2480.5338036626026, 2476.897952815918, 2439.4389321147237, 2413.1628837613857, 2398.43636419605, 2374.6977641139138, 2359.0230572297673, 2320.5532415318353, 2146.050411906807, 2095.706523326415, 2035.5699099936064, 2028.8880755899459, 2009.718939996793, 9164.098508130453, 7951.4705503540545, 4738.10852363507, 4656.641343633501, 4593.337606482358, 4310.61544120895, 3738.980384738765, 3643.878461912639, 3372.3197203459645, 3357.6834985855494, 3270.8468503347376, 3248.7725006578444, 3244.7482035199314, 2978.733324405814, 2689.3503112494773, 2631.2703643431314, 2592.3089038451194, 2583.5606814359794, 2551.7649430658134, 2499.52735178255, 2495.3753267424454, 2306.2481599920225, 2196.6136507303736, 2160.6648037537275, 2120.469735420685, 2092.6205884639185, 1968.363688149908, 1964.24262329298, 1925.951212881821, 1872.2481767015963, 3098.2579424487467, 7684.143812520759, 5932.214205293744, 5097.293302239112, 4972.449604892069, 4369.297755119184, 3771.3703038258077, 3146.1540619085335, 3067.39339411821, 2809.957598602692, 2652.967303079599, 2482.566448942314, 2364.4813761629002, 2330.0911527693415, 2205.09926240852, 2157.3435547886543, 2118.958181875091, 2109.332070728532, 1705.8519170892146, 1632.357654837965, 1608.275385131219, 1587.9418804565298, 1586.894454046871, 1584.3634482839043, 1571.697845533726, 1564.780666508614, 1563.4460301759266, 1524.2152449031255, 1485.1921240892557, 1455.3408760361203, 1415.6485213444103, 34211.88359866734, 13897.251958517736, 6795.537476043882, 6573.2536485284245, 5958.1456063355445, 5174.137718858127, 5077.802976269485, 5047.3570417817655, 4885.362781149234, 4413.84737476603, 4312.62579787331, 3778.4176529232527, 3760.913866695667, 3716.4501403045515, 3709.584973781958, 3504.5709863633983, 3422.0566350649915, 3246.7613174276435, 3159.0823564829943, 3144.1897826850586, 3103.4037370469186, 3097.114511676912, 2914.9883361171483, 2857.6411842351667, 2824.6411160021357, 2751.0255960038817, 2713.206942707371, 2445.6522983549858, 2437.8760825655204, 2415.302907292568, 2337.034424234046, 2321.7083685195166], \"Category\": [\"Default\", \"Default\", \"Default\", \"Default\", \"Default\", \"Default\", \"Default\", \"Default\", \"Default\", \"Default\", \"Default\", \"Default\", \"Default\", \"Default\", \"Default\", \"Default\", \"Default\", \"Default\", \"Default\", \"Default\", \"Default\", \"Default\", \"Default\", \"Default\", \"Default\", \"Default\", \"Default\", \"Default\", \"Default\", \"Default\", \"Topic1\", \"Topic1\", \"Topic1\", \"Topic1\", \"Topic1\", \"Topic1\", \"Topic1\", \"Topic1\", \"Topic1\", \"Topic1\", \"Topic1\", \"Topic1\", \"Topic1\", \"Topic1\", \"Topic1\", \"Topic1\", \"Topic1\", \"Topic1\", \"Topic1\", \"Topic1\", \"Topic1\", \"Topic1\", \"Topic1\", \"Topic1\", \"Topic1\", \"Topic1\", \"Topic1\", \"Topic1\", \"Topic1\", \"Topic1\", \"Topic2\", \"Topic2\", \"Topic2\", \"Topic2\", \"Topic2\", \"Topic2\", \"Topic2\", \"Topic2\", \"Topic2\", \"Topic2\", \"Topic2\", \"Topic2\", \"Topic2\", \"Topic2\", \"Topic2\", \"Topic2\", \"Topic2\", \"Topic2\", \"Topic2\", \"Topic2\", \"Topic2\", \"Topic2\", \"Topic2\", \"Topic2\", \"Topic2\", \"Topic2\", \"Topic2\", \"Topic2\", \"Topic2\", \"Topic2\", \"Topic3\", \"Topic3\", \"Topic3\", \"Topic3\", \"Topic3\", \"Topic3\", \"Topic3\", \"Topic3\", \"Topic3\", \"Topic3\", \"Topic3\", \"Topic3\", \"Topic3\", \"Topic3\", \"Topic3\", \"Topic3\", \"Topic3\", \"Topic3\", \"Topic3\", \"Topic3\", \"Topic3\", \"Topic3\", \"Topic3\", \"Topic3\", \"Topic3\", \"Topic3\", \"Topic3\", \"Topic3\", \"Topic3\", \"Topic3\", \"Topic3\", \"Topic4\", \"Topic4\", \"Topic4\", \"Topic4\", \"Topic4\", \"Topic4\", \"Topic4\", \"Topic4\", \"Topic4\", \"Topic4\", \"Topic4\", \"Topic4\", \"Topic4\", \"Topic4\", \"Topic4\", \"Topic4\", \"Topic4\", \"Topic4\", \"Topic4\", \"Topic4\", \"Topic4\", \"Topic4\", \"Topic4\", \"Topic4\", \"Topic4\", \"Topic4\", \"Topic4\", \"Topic4\", \"Topic4\", \"Topic4\", \"Topic5\", \"Topic5\", \"Topic5\", \"Topic5\", \"Topic5\", \"Topic5\", \"Topic5\", \"Topic5\", \"Topic5\", \"Topic5\", \"Topic5\", \"Topic5\", \"Topic5\", \"Topic5\", \"Topic5\", \"Topic5\", \"Topic5\", \"Topic5\", \"Topic5\", \"Topic5\", \"Topic5\", \"Topic5\", \"Topic5\", \"Topic5\", \"Topic5\", \"Topic5\", \"Topic5\", \"Topic5\", \"Topic5\", \"Topic5\", \"Topic5\", \"Topic6\", \"Topic6\", \"Topic6\", \"Topic6\", \"Topic6\", \"Topic6\", \"Topic6\", \"Topic6\", \"Topic6\", \"Topic6\", \"Topic6\", \"Topic6\", \"Topic6\", \"Topic6\", \"Topic6\", \"Topic6\", \"Topic6\", \"Topic6\", \"Topic6\", \"Topic6\", \"Topic6\", \"Topic6\", \"Topic6\", \"Topic6\", \"Topic6\", \"Topic6\", \"Topic6\", \"Topic6\", \"Topic6\", \"Topic6\", \"Topic7\", \"Topic7\", \"Topic7\", \"Topic7\", \"Topic7\", \"Topic7\", \"Topic7\", \"Topic7\", \"Topic7\", \"Topic7\", \"Topic7\", \"Topic7\", \"Topic7\", \"Topic7\", \"Topic7\", \"Topic7\", \"Topic7\", \"Topic7\", \"Topic7\", \"Topic7\", \"Topic7\", \"Topic7\", \"Topic7\", \"Topic7\", \"Topic7\", \"Topic7\", \"Topic7\", \"Topic7\", \"Topic7\", \"Topic7\", \"Topic8\", \"Topic8\", \"Topic8\", \"Topic8\", \"Topic8\", \"Topic8\", \"Topic8\", \"Topic8\", \"Topic8\", \"Topic8\", \"Topic8\", \"Topic8\", \"Topic8\", \"Topic8\", \"Topic8\", \"Topic8\", \"Topic8\", \"Topic8\", \"Topic8\", \"Topic8\", \"Topic8\", \"Topic8\", \"Topic8\", \"Topic8\", \"Topic8\", \"Topic8\", \"Topic8\", \"Topic8\", \"Topic8\", \"Topic8\", \"Topic8\", \"Topic9\", \"Topic9\", \"Topic9\", \"Topic9\", \"Topic9\", \"Topic9\", \"Topic9\", \"Topic9\", \"Topic9\", \"Topic9\", \"Topic9\", \"Topic9\", \"Topic9\", \"Topic9\", \"Topic9\", \"Topic9\", \"Topic9\", \"Topic9\", \"Topic9\", \"Topic9\", \"Topic9\", \"Topic9\", \"Topic9\", \"Topic9\", \"Topic9\", \"Topic9\", \"Topic9\", \"Topic9\", \"Topic9\", \"Topic9\", \"Topic9\", \"Topic9\", \"Topic10\", \"Topic10\", \"Topic10\", \"Topic10\", \"Topic10\", \"Topic10\", \"Topic10\", \"Topic10\", \"Topic10\", \"Topic10\", \"Topic10\", \"Topic10\", \"Topic10\", \"Topic10\", \"Topic10\", \"Topic10\", \"Topic10\", \"Topic10\", \"Topic10\", \"Topic10\", \"Topic10\", \"Topic10\", \"Topic10\", \"Topic10\", \"Topic10\", \"Topic10\", \"Topic10\", \"Topic10\", \"Topic10\", \"Topic10\"], \"logprob\": [30.0, 29.0, 28.0, 27.0, 26.0, 25.0, 24.0, 23.0, 22.0, 21.0, 20.0, 19.0, 18.0, 17.0, 16.0, 15.0, 14.0, 13.0, 12.0, 11.0, 10.0, 9.0, 8.0, 7.0, 6.0, 5.0, 4.0, 3.0, 2.0, 1.0, -2.9238, -3.0885, -3.2957, -3.499, -3.6648, -3.6718, -3.8771, -3.947, -3.952, -4.0303, -4.0317, -4.1602, -4.2151, -4.2558, -4.2603, -4.2843, -4.3699, -4.3702, -4.3831, -4.4244, -4.4456, -4.4851, -4.4852, -4.4916, -4.4929, -4.5212, -4.5362, -4.5508, -4.559, -4.5693, -2.6935, -2.8259, -3.4696, -3.4803, -3.5838, -3.6131, -3.7931, -3.8857, -3.9, -3.9203, -4.0107, -4.0323, -4.1358, -4.1435, -4.2119, -4.2289, -4.233, -4.2593, -4.2613, -4.3013, -4.3466, -4.3518, -4.3531, -4.4013, -4.4031, -4.4211, -4.4679, -4.4857, -4.4878, -4.5013, -3.0671, -3.2187, -3.4313, -3.4409, -3.5416, -3.5588, -3.5602, -3.9987, -4.0401, -4.0758, -4.0984, -4.1229, -4.148, -4.1558, -4.172, -4.1788, -4.1831, -4.1985, -4.2347, -4.2619, -4.2645, -4.2826, -4.305, -4.3058, -4.3246, -4.3484, -4.3487, -4.3553, -4.4506, -4.4656, -4.3767, -2.9049, -3.0947, -3.1177, -3.2504, -3.4586, -3.4587, -3.4816, -3.5416, -3.6994, -3.7289, -3.8683, -3.9439, -3.963, -4.0003, -4.0137, -4.1864, -4.1983, -4.2464, -4.3495, -4.374, -4.3874, -4.4067, -4.4309, -4.4429, -4.4548, -4.4576, -4.4599, -4.4908, -4.5283, -4.5332, -2.9882, -3.3522, -3.3531, -3.447, -3.4797, -3.612, -3.7136, -3.7297, -3.8681, -3.8839, -3.8878, -3.9094, -3.9382, -3.9462, -3.9715, -4.0285, -4.0801, -4.0892, -4.1045, -4.2567, -4.2902, -4.3157, -4.4976, -4.5374, -4.5533, -4.5603, -4.5667, -4.568, -4.5755, -4.5818, -4.3603, -3.3813, -3.3833, -3.3931, -3.4021, -3.4087, -3.5112, -3.6335, -3.6531, -3.74, -3.7999, -3.8169, -3.9099, -3.934, -3.9893, -4.0282, -4.0298, -4.0372, -4.1157, -4.1479, -4.1891, -4.3302, -4.3616, -4.3965, -4.4111, -4.4192, -4.4332, -4.467, -4.4686, -4.478, -4.4807, -2.2971, -2.6734, -3.6645, -3.682, -3.7106, -3.745, -3.7848, -3.954, -4.0194, -4.0305, -4.0599, -4.1161, -4.1291, -4.1482, -4.1526, -4.2382, -4.2623, -4.2939, -4.2953, -4.3106, -4.3214, -4.3275, -4.3375, -4.3441, -4.3606, -4.4388, -4.4625, -4.4917, -4.4949, -4.5044, -2.9565, -3.0985, -3.6163, -3.6336, -3.6473, -3.7109, -3.8532, -3.8789, -3.9564, -3.9607, -3.9869, -3.9937, -3.995, -4.0805, -4.1828, -4.2046, -4.2195, -4.2229, -4.2353, -4.256, -4.2576, -4.3365, -4.3852, -4.4017, -4.4205, -4.4337, -4.495, -4.4971, -4.5168, -4.545, -4.2597, -3.1226, -3.3814, -3.5331, -3.5579, -3.6873, -3.8345, -4.0158, -4.0411, -4.1288, -4.1863, -4.2527, -4.3015, -4.3161, -4.3713, -4.3932, -4.4112, -4.4157, -4.6281, -4.6722, -4.6871, -4.6998, -4.7005, -4.7021, -4.7101, -4.7145, -4.7153, -4.7408, -4.7667, -4.787, -4.8147, -1.6327, -2.5322, -3.2454, -3.2786, -3.3769, -3.518, -3.5368, -3.5428, -3.5754, -3.677, -3.7002, -3.8324, -3.8371, -3.849, -3.8508, -3.9077, -3.9315, -3.9841, -4.0115, -4.0162, -4.0293, -4.0313, -4.0919, -4.1118, -4.1234, -4.1498, -4.1637, -4.2675, -4.2707, -4.28, -4.313, -4.3196], \"loglift\": [30.0, 29.0, 28.0, 27.0, 26.0, 25.0, 24.0, 23.0, 22.0, 21.0, 20.0, 19.0, 18.0, 17.0, 16.0, 15.0, 14.0, 13.0, 12.0, 11.0, 10.0, 9.0, 8.0, 7.0, 6.0, 5.0, 4.0, 3.0, 2.0, 1.0, 2.2089, 2.2089, 2.2089, 2.2089, 2.2089, 2.2089, 2.2088, 2.2088, 2.2088, 2.2088, 2.2088, 2.2087, 2.2087, 2.2087, 2.2087, 2.2087, 2.2087, 2.2087, 2.2087, 2.2087, 2.2087, 2.2086, 2.2086, 2.2086, 2.2086, 2.2086, 2.2086, 2.2086, 2.2086, 2.2086, 2.2124, 2.2123, 2.2123, 2.2123, 2.2123, 2.2123, 2.2122, 2.2122, 2.2122, 2.2122, 2.2122, 2.2122, 2.2122, 2.2122, 2.2121, 2.2121, 2.2121, 2.2121, 2.2121, 2.2121, 2.2121, 2.2121, 2.2121, 2.2121, 2.2121, 2.2121, 2.2121, 2.212, 2.212, 2.212, 2.2478, 2.2478, 2.2477, 2.2477, 2.2477, 2.2477, 2.2477, 2.2476, 2.2476, 2.2476, 2.2476, 2.2476, 2.2476, 2.2476, 2.2476, 2.2476, 2.2476, 2.2476, 2.2476, 2.2476, 2.2476, 2.2476, 2.2476, 2.2476, 2.2476, 2.2475, 2.2475, 2.2475, 2.2475, 2.2475, 1.8304, 2.2937, 2.2937, 2.2937, 2.2937, 2.2937, 2.2937, 2.2937, 2.2937, 2.2936, 2.2936, 2.2936, 2.2936, 2.2936, 2.2936, 2.2936, 2.2935, 2.2935, 2.2935, 2.2935, 2.2935, 2.2935, 2.2934, 2.2934, 2.2934, 2.2934, 2.2934, 2.2934, 2.2934, 2.2934, 2.2934, 2.3166, 2.3165, 2.3165, 2.3165, 2.3165, 2.3165, 2.3165, 2.3165, 2.3165, 2.3165, 2.3165, 2.3164, 2.3164, 2.3164, 2.3164, 2.3164, 2.3164, 2.3164, 2.3164, 2.3164, 2.3163, 2.3163, 2.3163, 2.3162, 2.3162, 2.3162, 2.3162, 2.3162, 2.3162, 2.3162, 1.8938, 2.3271, 2.3271, 2.3271, 2.3271, 2.3271, 2.3271, 2.3271, 2.3271, 2.327, 2.327, 2.327, 2.327, 2.327, 2.327, 2.327, 2.327, 2.327, 2.3269, 2.3269, 2.3269, 2.3269, 2.3269, 2.3269, 2.3269, 2.3268, 2.3268, 2.3268, 2.3268, 2.3268, 2.3268, 2.3312, 2.3312, 2.3311, 2.3311, 2.3311, 2.3311, 2.3311, 2.331, 2.331, 2.331, 2.331, 2.331, 2.331, 2.331, 2.331, 2.331, 2.331, 2.3309, 2.3309, 2.3309, 2.3309, 2.3309, 2.3309, 2.3309, 2.3309, 2.3309, 2.3309, 2.3309, 2.3309, 2.3309, 2.3615, 2.3615, 2.3614, 2.3614, 2.3614, 2.3614, 2.3613, 2.3613, 2.3613, 2.3613, 2.3613, 2.3613, 2.3613, 2.3613, 2.3613, 2.3612, 2.3612, 2.3612, 2.3612, 2.3612, 2.3612, 2.3612, 2.3612, 2.3612, 2.3612, 2.3612, 2.3611, 2.3611, 2.3611, 2.3611, 2.1427, 2.3715, 2.3715, 2.3714, 2.3714, 2.3714, 2.3714, 2.3713, 2.3713, 2.3713, 2.3713, 2.3713, 2.3713, 2.3712, 2.3712, 2.3712, 2.3712, 2.3712, 2.3711, 2.3711, 2.3711, 2.3711, 2.3711, 2.3711, 2.3711, 2.3711, 2.3711, 2.371, 2.371, 2.371, 2.371, 2.368, 2.3694, 2.3717, 2.3717, 2.3717, 2.3716, 2.3716, 2.3716, 2.3716, 2.3716, 2.3716, 2.3716, 2.3716, 2.3716, 2.3716, 2.3716, 2.3716, 2.3715, 2.3715, 2.3715, 2.3715, 2.3715, 2.3715, 2.3715, 2.3715, 2.3715, 2.3715, 2.3715, 2.3715, 2.3714, 2.3714, 2.3714]}, \"token.table\": {\"Topic\": [4, 4, 10, 3, 10, 3, 9, 7, 9, 10, 7, 4, 7, 7, 2, 3, 8, 2, 2, 7, 1, 2, 3, 4, 5, 4, 8, 1, 3, 3, 4, 3, 5, 2, 9, 4, 2, 3, 4, 5, 2, 6, 1, 4, 1, 7, 9, 9, 2, 7, 6, 4, 5, 9, 6, 5, 7, 9, 10, 5, 1, 6, 9, 4, 4, 8, 3, 4, 6, 9, 1, 7, 7, 10, 7, 1, 5, 9, 10, 8, 4, 5, 7, 8, 8, 10, 4, 9, 1, 8, 4, 6, 6, 3, 3, 4, 3, 4, 9, 9, 2, 8, 10, 9, 8, 5, 7, 5, 2, 5, 5, 8, 3, 1, 6, 2, 5, 8, 10, 8, 1, 7, 6, 5, 8, 4, 5, 6, 5, 1, 10, 6, 5, 2, 1, 7, 2, 1, 10, 7, 2, 9, 1, 2, 10, 9, 4, 7, 7, 7, 1, 1, 4, 2, 9, 9, 6, 3, 3, 8, 10, 1, 1, 3, 7, 2, 4, 4, 8, 9, 8, 9, 3, 3, 2, 8, 3, 1, 10, 7, 9, 10, 6, 1, 1, 5, 8, 4, 5, 10, 4, 3, 5, 6, 9, 2, 6, 9, 8, 10, 3, 5, 7, 8, 10, 6, 5, 2, 7, 9, 2, 3, 5, 2, 8, 1, 6, 6, 1, 6, 2, 9, 5, 4, 8, 10, 10, 2, 6, 10, 9, 10, 8, 8, 5, 3, 5, 2, 1, 10, 6, 8, 3, 9, 6, 3, 10, 8, 4, 3, 7, 2, 9, 7, 9, 7, 10, 4, 1, 4, 6, 7, 6, 8, 1, 5, 6, 3, 1, 2, 10, 6, 3, 2, 10, 10, 8, 10, 9, 2, 5, 6, 5, 4, 2, 9, 1, 8, 5, 10, 6, 8, 9, 8, 7, 8, 3, 7, 2, 6, 6, 1, 1, 5, 6, 6, 7, 3, 3, 1, 4, 2, 10], \"Freq\": [0.9998673623814486, 0.9998017839204065, 0.9998080190151398, 0.9999172321341664, 0.9996948934116268, 0.9998307147246945, 0.9996353882392459, 0.9996792127203478, 0.9991394346509438, 0.9999292616355827, 0.9998027250366611, 0.999931582647114, 0.9999602656573316, 0.9999694857578184, 0.9996803490564289, 0.9997414805131608, 0.9997206378417208, 0.9995035019263764, 0.9995794794633808, 0.9997200243574006, 0.9997023410143795, 0.9996792393474704, 0.99980653886999, 0.9998479865021058, 0.9998100990971551, 0.9998072570379184, 0.9994950818387508, 0.9997550280508082, 0.9996646926792161, 0.9998196803992265, 0.9997613279945653, 0.9997325033204825, 0.9996499313907526, 0.9998246997225834, 0.9997029831355247, 0.999671116755044, 0.34114488279289124, 0.6586618320693877, 0.9999403653417808, 0.9994011390277912, 0.9998438738093819, 0.9993579768104396, 0.9998936918053234, 0.9999537972843973, 0.9997244165979835, 0.9996351424430023, 0.9997953200522225, 0.9997964136373612, 0.9996299829085823, 0.9996374687883701, 0.9996528312882861, 0.9997626185380132, 0.9998885846334888, 0.999555992561987, 0.9999086788085789, 0.9998013773589722, 0.9997899573379553, 0.9994363493774964, 0.9998423074855833, 0.9996913368267689, 0.0019291542311505735, 0.0016368581355216986, 0.9964373899988341, 0.99944973225851, 0.19623930973270085, 0.803354674218244, 0.9996294255824896, 0.9998780303063679, 0.0021587001580994406, 0.9978231697454982, 0.9998671256356733, 0.999608067432485, 0.9997061671912703, 0.9998894635369572, 0.9997993327054449, 0.9996932584099941, 0.999705515824005, 0.9997462766683362, 0.9996271950339642, 0.9996923151834692, 0.9997866873647088, 0.9993946919893127, 0.9998200684145254, 0.9995061074883628, 0.9998801291660627, 0.9997332824639772, 0.9997175344131056, 0.9995478051981925, 0.9996078405016499, 0.9998572266031744, 0.9997820401373126, 0.9998175900767483, 0.9995402793026679, 0.9999214407798798, 0.999489434593047, 0.9995324582564236, 0.9997118459180676, 0.9998211477465719, 0.999078651566654, 0.999771829292805, 0.9998397094038446, 0.9997589211819711, 0.9998788789604172, 0.9995014907368299, 0.9997660408938418, 0.9997795037637955, 0.9995105371705255, 0.9998060546311731, 0.9997653650897419, 0.9994268033487861, 0.9998068832526337, 0.9998495910661522, 0.999866222082045, 0.9997978598926462, 0.9996718458741807, 0.011130819918330074, 0.6550487521937248, 0.1722494382361579, 0.16139688881578607, 0.9997890193991381, 0.9997382346298096, 0.9995663216488572, 0.9998788675668626, 0.9998979497245859, 0.9994587919835882, 0.9995635879680947, 0.9994124375398702, 0.9997237686175511, 0.9997964630954594, 0.9994949304251379, 0.9999209075005802, 0.9996678185279085, 0.9999125997064273, 0.9998078150182134, 0.9994717212216399, 0.9996628710563472, 0.9998964302535062, 0.9997510423338335, 0.9998548916825525, 0.9998008174303129, 0.9998477796138677, 0.9997147134168255, 0.9997727112031934, 0.9997238628956365, 0.9997655148151615, 0.9992027078149303, 0.9998094175808191, 0.9996422683876411, 0.9999150117024237, 0.9997615906750452, 0.9995045682566476, 0.9996943791165238, 0.9995775510641887, 0.9996825488329718, 0.9995317124104588, 0.9994068545781669, 0.9996115387022055, 0.9998340729603108, 0.999807242886312, 0.9997002298084343, 0.9994605615351043, 0.9994271790317337, 0.9998187836024519, 0.9997558307954508, 0.9998680163235315, 0.9998028237834131, 0.9993889751906818, 0.999835752702454, 0.9999408222226223, 0.9991973266825753, 0.9997538133407896, 0.999659212436811, 0.9999228170593334, 0.9998539715132615, 0.9998501987451762, 0.999782981123684, 0.9998099980258011, 0.9999482603092066, 0.9995551600991531, 0.9996874605835412, 0.9993684869504346, 0.9999257412058252, 0.9998677126184223, 0.9996606841906, 0.9997093354631902, 0.9995286428883955, 0.9998152332558777, 0.9998650488631837, 0.9997480240171227, 0.9997730274481584, 0.9997666060733575, 0.9999448029073847, 0.9998494722390058, 0.999747627179471, 0.999206985853909, 0.999664505808371, 0.9999023363794135, 0.9991682859243861, 0.9997410914134818, 0.9996401451503617, 0.999535276632979, 0.9998475832799973, 0.999917463346627, 0.9998697413096346, 0.9997801143069732, 0.9996214824907536, 0.9997256654646198, 0.9999426837804585, 0.9997848029074168, 0.999501101639787, 0.9996564760225867, 0.9997722685396105, 0.9996251156383671, 0.9997584113771142, 0.999769410914807, 0.9996619185041076, 0.9997696823401753, 0.9996234420599365, 0.9999010981110092, 0.9997037511491303, 0.9996058247637127, 0.9995005914167109, 0.999839556686395, 0.9997140751150752, 0.999737793559237, 0.9998077243472656, 0.9996912280602944, 0.9997998138855932, 0.9998657363079116, 0.9995573774081719, 0.9998717497015661, 0.9998370738199853, 0.9997622176813895, 0.9998622733454924, 0.9997776954114839, 0.999540527451057, 0.9998271969886429, 0.9998932257875709, 0.9997028754828423, 0.9998699050845048, 0.9994969797461377, 0.9997964374587904, 0.9998339488619833, 0.9996331832816117, 0.9996449736520655, 0.9996946180981302, 0.9996215932347307, 0.9993333273242678, 0.9997526544906172, 0.9998225931051896, 0.9995181080526263, 0.9994920867770634, 0.9996366562508016, 0.9998180630503423, 0.9999095808046748, 0.9997188712903103, 0.9996609468021184, 0.9997222897166042, 0.9994216569192699, 0.9998206787683791, 0.9998404473807866, 0.9995622845830529, 0.9998854250028527, 0.9996086609647352, 0.9995873362435264, 0.9997448725629651, 0.9995981673441494, 0.9997449155557937, 0.9999142314880674, 0.9997723963512906, 0.9998092803662453, 0.9997593125087254, 0.9997289630490884, 0.9997896423733511, 0.9996573826317718, 0.9998418654143854, 0.9997034395688642, 0.9996406369578069, 0.9995418909887361, 0.9996244776530666, 0.9997158841669843, 0.999661605173807, 0.9995602258776609, 0.9998400062885009, 0.9999248241705498, 0.9993772179745447, 0.9996135594020196, 0.9997784757722129, 0.9997268510136089, 0.9997570094056768, 0.9995923617943744, 0.9993673779001411, 0.9998511463933177, 0.9997087942152412, 0.9997380884052083, 0.9995172049363128, 0.9996730084568801, 0.9998362349791713, 0.9996063329494081, 0.9998303454892901, 0.9997578971883977, 0.9998221249652963, 0.9994761640787422, 0.9996575402712016, 0.999915692055143, 0.9998915356903053, 0.9997638840558036, 0.9995841446378286, 0.9998488793924908, 0.9998085966174908, 0.9998534947090096, 0.9997714208639977, 0.9997756246520018], \"Term\": [\"aboriginal\", \"abuse\", \"accuse\", \"adelaide\", \"ahead\", \"allege\", \"amid\", \"announce\", \"appeal\", \"arrest\", \"assault\", \"attack\", \"australia\", \"australian\", \"australians\", \"australias\", \"award\", \"baby\", \"bank\", \"battle\", \"beach\", \"beat\", \"black\", \"body\", \"border\", \"break\", \"bring\", \"brisbane\", \"budget\", \"build\", \"bushfire\", \"bushfires\", \"business\", \"campaign\", \"canberra\", \"cancer\", \"care\", \"care\", \"case\", \"catch\", \"centre\", \"challenge\", \"change\", \"charge\", \"child\", \"children\", \"china\", \"chinese\", \"christmas\", \"city\", \"claim\", \"climate\", \"close\", \"club\", \"coast\", \"commission\", \"community\", \"company\", \"concern\", \"continue\", \"coronavirus\", \"coronavirus\", \"coronavirus\", \"cost\", \"council\", \"council\", \"country\", \"court\", \"covid\", \"covid\", \"crash\", \"cricket\", \"crisis\", \"darwin\", \"david\", \"dead\", \"deal\", \"death\", \"deaths\", \"debate\", \"delay\", \"despite\", \"doctor\", \"domestic\", \"donald\", \"drive\", \"drop\", \"drought\", \"drug\", \"drum\", \"ease\", \"east\", \"economy\", \"election\", \"emergency\", \"energy\", \"extend\", \"face\", \"facebook\", \"fall\", \"family\", \"farm\", \"farmers\", \"fear\", \"federal\", \"fight\", \"film\", \"final\", \"finance\", \"fish\", \"flood\", \"food\", \"force\", \"free\", \"friday\", \"fund\", \"fund\", \"fund\", \"fund\", \"future\", \"game\", \"george\", \"gold\", \"government\", \"grand\", \"green\", \"group\", \"grow\", \"guilty\", \"head\", \"health\", \"hear\", \"help\", \"high\", \"history\", \"hold\", \"home\", \"hong\", \"hospital\", \"hotel\", \"house\", \"increase\", \"india\", \"indigenous\", \"industry\", \"inquest\", \"inquiry\", \"international\", \"interview\", \"investigate\", \"investigation\", \"island\", \"issue\", \"jail\", \"john\", \"johnson\", \"join\", \"kill\", \"labor\", \"land\", \"latest\", \"launch\", \"lead\", \"league\", \"leave\", \"life\", \"light\", \"like\", \"live\", \"long\", \"look\", \"lose\", \"make\", \"mark\", \"market\", \"media\", \"meet\", \"melbourne\", \"mental\", \"michael\", \"million\", \"minister\", \"miss\", \"monday\", \"morrison\", \"mother\", \"mount\", \"murder\", \"national\", \"near\", \"need\", \"news\", \"north\", \"northern\", \"number\", \"officer\", \"open\", \"outback\", \"park\", \"parliament\", \"party\", \"people\", \"perth\", \"peter\", \"plan\", \"play\", \"plead\", \"police\", \"port\", \"post\", \"power\", \"premier\", \"president\", \"price\", \"program\", \"protest\", \"protesters\", \"public\", \"queensland\", \"question\", \"race\", \"rain\", \"record\", \"regional\", \"release\", \"report\", \"rescue\", \"residents\", \"restrictions\", \"result\", \"return\", \"reveal\", \"review\", \"rise\", \"risk\", \"river\", \"road\", \"royal\", \"rule\", \"rural\", \"russia\", \"save\", \"school\", \"scott\", \"search\", \"season\", \"second\", \"send\", \"sentence\", \"service\", \"sexual\", \"share\", \"shoot\", \"social\", \"south\", \"speak\", \"sport\", \"stab\", \"star\", \"start\", \"state\", \"steal\", \"storm\", \"street\", \"students\", \"study\", \"super\", \"support\", \"sydney\", \"talk\", \"tasmania\", \"tasmanian\", \"tell\", \"test\", \"thursday\", \"time\", \"tourism\", \"town\", \"track\", \"trade\", \"train\", \"travel\", \"tree\", \"trial\", \"trump\", \"tuesday\", \"turn\", \"turnbull\", \"university\", \"update\", \"urge\", \"victims\", \"victoria\", \"victorian\", \"video\", \"violence\", \"vote\", \"wall\", \"want\", \"warn\", \"water\", \"weather\", \"wednesday\", \"west\", \"woman\", \"women\", \"work\", \"workers\", \"world\", \"year\", \"years\", \"young\", \"zealand\"]}, \"R\": 30, \"lambda.step\": 0.01, \"plot.opts\": {\"xlab\": \"PC1\", \"ylab\": \"PC2\"}, \"topic.order\": [1, 6, 10, 9, 7, 5, 2, 3, 8, 4]};\n",
       "\n",
       "function LDAvis_load_lib(url, callback){\n",
       "  var s = document.createElement('script');\n",
       "  s.src = url;\n",
       "  s.async = true;\n",
       "  s.onreadystatechange = s.onload = callback;\n",
       "  s.onerror = function(){console.warn(\"failed to load library \" + url);};\n",
       "  document.getElementsByTagName(\"head\")[0].appendChild(s);\n",
       "}\n",
       "\n",
       "if(typeof(LDAvis) !== \"undefined\"){\n",
       "   // already loaded: just create the visualization\n",
       "   !function(LDAvis){\n",
       "       new LDAvis(\"#\" + \"ldavis_el6215811217822304551270964\", ldavis_el6215811217822304551270964_data);\n",
       "   }(LDAvis);\n",
       "}else if(typeof define === \"function\" && define.amd){\n",
       "   // require.js is available: use it to load d3/LDAvis\n",
       "   require.config({paths: {d3: \"https://d3js.org/d3.v5\"}});\n",
       "   require([\"d3\"], function(d3){\n",
       "      window.d3 = d3;\n",
       "      LDAvis_load_lib(\"https://cdn.jsdelivr.net/gh/bmabey/pyLDAvis@3.3.1/pyLDAvis/js/ldavis.v3.0.0.js\", function(){\n",
       "        new LDAvis(\"#\" + \"ldavis_el6215811217822304551270964\", ldavis_el6215811217822304551270964_data);\n",
       "      });\n",
       "    });\n",
       "}else{\n",
       "    // require.js not available: dynamically load d3 & LDAvis\n",
       "    LDAvis_load_lib(\"https://d3js.org/d3.v5.js\", function(){\n",
       "         LDAvis_load_lib(\"https://cdn.jsdelivr.net/gh/bmabey/pyLDAvis@3.3.1/pyLDAvis/js/ldavis.v3.0.0.js\", function(){\n",
       "                 new LDAvis(\"#\" + \"ldavis_el6215811217822304551270964\", ldavis_el6215811217822304551270964_data);\n",
       "            })\n",
       "         });\n",
       "}\n",
       "</script>"
      ],
      "text/plain": [
       "<IPython.core.display.HTML object>"
      ]
     },
     "execution_count": 76,
     "metadata": {},
     "output_type": "execute_result"
    }
   ],
   "source": [
    "import pyLDAvis.sklearn\n",
    "\n",
    "pyLDAvis.enable_notebook()\n",
    "vis = pyLDAvis.sklearn.prepare(lda_model, X, vectorizer)\n",
    "pyLDAvis.display(vis)"
   ]
  }
 ],
 "metadata": {
  "interpreter": {
   "hash": "26de051ba29f2982a8de78e945f0abaf191376122a1563185a90213a26c5da77"
  },
  "kernelspec": {
   "display_name": "Python 3.10.2 64-bit",
   "language": "python",
   "name": "python3"
  },
  "language_info": {
   "codemirror_mode": {
    "name": "ipython",
    "version": 3
   },
   "file_extension": ".py",
   "mimetype": "text/x-python",
   "name": "python",
   "nbconvert_exporter": "python",
   "pygments_lexer": "ipython3",
   "version": "3.10.3"
  },
  "orig_nbformat": 4
 },
 "nbformat": 4,
 "nbformat_minor": 2
}
