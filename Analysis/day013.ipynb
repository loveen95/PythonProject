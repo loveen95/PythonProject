{
 "cells": [
  {
   "cell_type": "code",
   "execution_count": null,
   "metadata": {},
   "outputs": [],
   "source": [
    "import tensorflow as tf\n",
    "tf.disable_v2_behavior() \n",
    "# TensorFlow 추출하기\n",
    "# 상수 정의 (X2) \n",
    "a = tf.constant(1234) \n",
    "b = tf.constant(5000)\n",
    "#계산정의 (※3) \n",
    "add_op =a +b\n",
    "#세션시작하기 (X4)\n",
    "sess = tf.Session()\n",
    "res = sess.run(add_op) \n",
    "# 식 평가하기 \n",
    "print(res)\n",
    "\n"
   ]
  },
  {
   "cell_type": "code",
   "execution_count": null,
   "metadata": {},
   "outputs": [],
   "source": [
    "# TensorFlow 2104 0121 \n",
    "import tensorflow as tf\n",
    "# 상수 정의하기 (*2) \n",
    "a = tf.constant(2)\n",
    "b = tf.constant(3) \n",
    "c = tf.constant(4)\n",
    "#연산정의하기 (*3) \n",
    "calc1_op = a + b + c\n",
    "calc2_op = (a + b) * c\n",
    "# 세션 시작하기 (X4) \n",
    "Sess = tf.Session()\n",
    "\n",
    "res1 = sess.run(calc1_op) \n",
    "# 식 평가하기 \n",
    "print(res1)\n",
    "res2 = sess.run(calc2_op) \n",
    "# 식 평가하기 \n",
    "print(res2)"
   ]
  },
  {
   "cell_type": "code",
   "execution_count": null,
   "metadata": {},
   "outputs": [],
   "source": [
    "### tensorflow 플레이스 홀더 기능\n",
    "## 템플릿 처럼 값을 넣을 공간을 만들어 두는 기능\n",
    "import tensorflow.compat.v1 as tf \n",
    "tf.disable_v2_behavior() \n",
    "\n",
    "## 플레이스 홀더 정의 \n",
    "a = tf.placeholder(tf.int32,[3]) \n",
    "\n",
    "# 배열의 모든 값을 2배하는 연산 정의\n",
    "b = tf.constant(2) \n",
    "x2_op = a * b\n",
    "\n",
    "# 세셔 시작하기 \n",
    "sess = tf.Session() \n",
    "\n",
    "# 플레이스 홀더에 값을 넣고 실행하기\n",
    "r1 = sess.run(x2_op, feed_dict = {a:[1,2,3]})\n",
    "print(r1) \n"
   ]
  },
  {
   "cell_type": "code",
   "execution_count": null,
   "metadata": {},
   "outputs": [],
   "source": [
    "### 플레이스 홀더 \n",
    "# 정의 \n",
    "a = tf.placeholeder(tf.int32,[None]) \n",
    "b = tf.constant(10)\n",
    "x10_op = a * b\n",
    "# session 시작하기 \n",
    "sess = tf.Session() \n",
    "\n",
    "# 플레이스 홀더에값을 집어넣기\n",
    "r1 = sess.run(x10_op, feed_dict = {a:[1,2,3,4,5]})\n",
    "r2 = sess.run()"
   ]
  },
  {
   "cell_type": "code",
   "execution_count": null,
   "metadata": {},
   "outputs": [],
   "source": [
    "import pandas as pd\n",
    "import numpy as np\n",
    "import tensorflow as tf \n",
    "\n",
    "## 키, 몸무게, 레이블이 적힌 CSV 파일을 읽기 \n",
    "csv = pd.read_csv(\"/content/bmi.csv\") \n",
    "\n",
    "csv['height'] = csv['height']/200 \n",
    "csv['weight'] = csv['weight']/100 \n",
    "\n",
    "## 레이블은 배열로... \n",
    "# - thin:[1,0,0], normal:[0,1,0], fat:[0,0,1]\n",
    "bclas = {'thin':[1,0,0], 'normal':[0,1,0], 'fat':[0,0,1]}\n",
    "\n",
    "csv['label_pat'] = csv['label']\\\n",
    ".apply(lambda x: np.array(bclas[x])) \n",
    "\n",
    "## 테스트를 위한 데이터 분류 \n",
    "test_csv = csv[15000:20000] \n",
    "test_pat = test_csv[[\"weight\",\"height\"]] \n",
    "test_ans = list(test_csv[\"label_pat\"]) \n",
    "test_pat"
   ]
  },
  {
   "cell_type": "code",
   "execution_count": null,
   "metadata": {},
   "outputs": [],
   "source": []
  },
  {
   "cell_type": "code",
   "execution_count": null,
   "metadata": {},
   "outputs": [],
   "source": []
  }
 ],
 "metadata": {
  "interpreter": {
   "hash": "aee8b7b246df8f9039afb4144a1f6fd8d2ca17a180786b69acc140d282b71a49"
  },
  "kernelspec": {
   "display_name": "Python 3 (ipykernel)",
   "language": "python",
   "name": "python3"
  },
  "language_info": {
   "codemirror_mode": {
    "name": "ipython",
    "version": 3
   },
   "file_extension": ".py",
   "mimetype": "text/x-python",
   "name": "python",
   "nbconvert_exporter": "python",
   "pygments_lexer": "ipython3",
   "version": "3.10.3"
  }
 },
 "nbformat": 4,
 "nbformat_minor": 2
}
